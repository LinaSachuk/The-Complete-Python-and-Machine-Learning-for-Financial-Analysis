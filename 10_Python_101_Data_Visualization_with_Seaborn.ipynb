{
  "nbformat": 4,
  "nbformat_minor": 0,
  "metadata": {
    "colab": {
      "name": "10. Python 101 - Data Visualization with Seaborn.ipynb",
      "provenance": [],
      "collapsed_sections": [],
      "include_colab_link": true
    },
    "kernelspec": {
      "name": "python3",
      "display_name": "Python 3"
    }
  },
  "cells": [
    {
      "cell_type": "markdown",
      "metadata": {
        "id": "view-in-github",
        "colab_type": "text"
      },
      "source": [
        "<a href=\"https://colab.research.google.com/github/LinaSachuk/The-Complete-Python-and-Machine-Learning-for-Financial-Analysis/blob/master/10_Python_101_Data_Visualization_with_Seaborn.ipynb\" target=\"_parent\"><img src=\"https://colab.research.google.com/assets/colab-badge.svg\" alt=\"Open In Colab\"/></a>"
      ]
    },
    {
      "cell_type": "markdown",
      "metadata": {
        "id": "WnhpHVK2bH3s"
      },
      "source": [
        "# 1. SEABRON SCATTERPLOT & COUNTPLOT"
      ]
    },
    {
      "cell_type": "code",
      "metadata": {
        "id": "uTkfgtjBn6ek"
      },
      "source": [
        "# Seaborn is a visualization library that sits on top of matplotlib\n",
        "# Seaborn offers enhanced features compared to matplotlib\n",
        "# https://seaborn.pydata.org/examples/index.html\n",
        "# import libraries \n",
        "\n",
        "import pandas as pd\n",
        "import numpy as np\n",
        "import matplotlib.pyplot as plt\n",
        "import seaborn as sns"
      ],
      "execution_count": 2,
      "outputs": []
    },
    {
      "cell_type": "code",
      "metadata": {
        "id": "8bbCI59uHICY"
      },
      "source": [
        "# np.C_ class object translates slice objects to concatenation along the second axis.\n"
      ],
      "execution_count": null,
      "outputs": []
    },
    {
      "cell_type": "code",
      "metadata": {
        "id": "B8cfhCibHS7A"
      },
      "source": [
        ""
      ],
      "execution_count": null,
      "outputs": []
    },
    {
      "cell_type": "code",
      "metadata": {
        "id": "AnTgR6-OHRFK"
      },
      "source": [
        ""
      ],
      "execution_count": null,
      "outputs": []
    },
    {
      "cell_type": "code",
      "metadata": {
        "id": "bUQkwM8IHtlp"
      },
      "source": [
        "# Import Cancer data drom the Sklearn library\n"
      ],
      "execution_count": null,
      "outputs": []
    },
    {
      "cell_type": "code",
      "metadata": {
        "id": "Y5w4VqKCHvox"
      },
      "source": [
        ""
      ],
      "execution_count": null,
      "outputs": []
    },
    {
      "cell_type": "code",
      "metadata": {
        "id": "tZEMoIXPoiqI"
      },
      "source": [
        "# Create a dataFrame named df_cancer with input/output data\n"
      ],
      "execution_count": null,
      "outputs": []
    },
    {
      "cell_type": "code",
      "metadata": {
        "id": "BCBZU_VQoqIz"
      },
      "source": [
        "# Check out the head of the dataframe\n"
      ],
      "execution_count": null,
      "outputs": []
    },
    {
      "cell_type": "code",
      "metadata": {
        "id": "8XkZE6jCdfBS"
      },
      "source": [
        "# Check out the tail of the dataframe\n"
      ],
      "execution_count": null,
      "outputs": []
    },
    {
      "cell_type": "code",
      "metadata": {
        "id": "atb9g7nGo1Zf"
      },
      "source": [
        "# Plot scatter plot between mean area and mean smoothness\n"
      ],
      "execution_count": null,
      "outputs": []
    },
    {
      "cell_type": "code",
      "metadata": {
        "id": "rc3p4fBso1XA"
      },
      "source": [
        "# Let's print out countplot to know how many samples belong to class #0 and #1\n"
      ],
      "execution_count": null,
      "outputs": []
    },
    {
      "cell_type": "markdown",
      "metadata": {
        "id": "RIpzECOpcFa5"
      },
      "source": [
        "**MINI CHALLENGE #1:**\n",
        "- **Plot the scatterplot between the mean radius and mean area. Comment on the plot** \n"
      ]
    },
    {
      "cell_type": "code",
      "metadata": {
        "id": "14dehTx3dNAw"
      },
      "source": [
        ""
      ],
      "execution_count": null,
      "outputs": []
    },
    {
      "cell_type": "markdown",
      "metadata": {
        "id": "Al9AW2YLbezU"
      },
      "source": [
        "# 2. SEABORN PAIRPLOT, DISPLOT, AND HEATMAPS/CORRELATIONS"
      ]
    },
    {
      "cell_type": "code",
      "metadata": {
        "id": "DYsVoE4ko1Up"
      },
      "source": [
        "# Plot the pairplot\n"
      ],
      "execution_count": null,
      "outputs": []
    },
    {
      "cell_type": "code",
      "metadata": {
        "id": "u_UzA1GFo1cK"
      },
      "source": [
        "# Strong correlation between the mean radius and mean perimeter, mean area and mean primeter\n"
      ],
      "execution_count": null,
      "outputs": []
    },
    {
      "cell_type": "code",
      "metadata": {
        "id": "m01UPXL9pGsM"
      },
      "source": [
        "# plot the distplot \n",
        "# Displot combines matplotlib histogram function with kdeplot() (Kernel density estimate)\n",
        "# KDE is used to plot the Probability Density of a continuous variable. \n",
        "\n"
      ],
      "execution_count": null,
      "outputs": []
    },
    {
      "cell_type": "markdown",
      "metadata": {
        "id": "BlEUElj_gGrm"
      },
      "source": [
        "**MINI CHALLENGE #2:**\n",
        "- **Plot two separate distplot for each target class #0 and target class #1**\n"
      ]
    },
    {
      "cell_type": "code",
      "metadata": {
        "id": "JPrD3KlngIcb"
      },
      "source": [
        ""
      ],
      "execution_count": null,
      "outputs": []
    },
    {
      "cell_type": "code",
      "metadata": {
        "id": "gOSi69b9ROSn"
      },
      "source": [
        ""
      ],
      "execution_count": null,
      "outputs": []
    },
    {
      "cell_type": "code",
      "metadata": {
        "id": "2CPA2hTOROV0"
      },
      "source": [
        ""
      ],
      "execution_count": null,
      "outputs": []
    },
    {
      "cell_type": "code",
      "metadata": {
        "id": "t5ntc3muROYh"
      },
      "source": [
        ""
      ],
      "execution_count": null,
      "outputs": []
    },
    {
      "cell_type": "code",
      "metadata": {
        "id": "9QwPrO3qRObJ"
      },
      "source": [
        ""
      ],
      "execution_count": null,
      "outputs": []
    },
    {
      "cell_type": "markdown",
      "metadata": {
        "id": "_o555HjYbtlP"
      },
      "source": [
        "# EXCELLENT JOB!"
      ]
    },
    {
      "cell_type": "markdown",
      "metadata": {
        "id": "-iXHoC8PbwSg"
      },
      "source": [
        "# MINI CHALLENGE SOLUTIONS:"
      ]
    },
    {
      "cell_type": "markdown",
      "metadata": {
        "id": "GTN9KMR7dIWt"
      },
      "source": [
        "**MINI CHALLENGE #1 SOLUTION:**\n",
        "- **Plot the scatterplot between the mean radius and mean area. Comment on the plot** \n"
      ]
    },
    {
      "cell_type": "code",
      "metadata": {
        "id": "jo00_TzudIWw"
      },
      "source": [
        "sns.scatterplot(x = 'mean radius', y = 'mean area', hue = 'target', data = df_cancer)\n",
        "# As mean radius increases, mean area increases \n",
        "# class #0 generally has larger mean radius and mean area compared to class #1"
      ],
      "execution_count": null,
      "outputs": []
    },
    {
      "cell_type": "markdown",
      "metadata": {
        "id": "f5qD9kzIeQZE"
      },
      "source": [
        "**MINI CHALLENGE #2 SOLUTION:**\n",
        "- **Plot two separate distplot for each target class #0 and target class #1**\n"
      ]
    },
    {
      "cell_type": "code",
      "metadata": {
        "id": "YX0FkgQGfLbC"
      },
      "source": [
        "class_0_df = df_cancer[ df_cancer['target']==0 ]\n",
        "class_1_df = df_cancer[ df_cancer['target']==1 ]"
      ],
      "execution_count": null,
      "outputs": []
    },
    {
      "cell_type": "code",
      "metadata": {
        "id": "D1DTuyaIfX-e"
      },
      "source": [
        "class_0_df"
      ],
      "execution_count": null,
      "outputs": []
    },
    {
      "cell_type": "code",
      "metadata": {
        "id": "cftPJApPfaUm"
      },
      "source": [
        "class_1_df"
      ],
      "execution_count": null,
      "outputs": []
    },
    {
      "cell_type": "code",
      "metadata": {
        "id": "hN10mhlzefSO"
      },
      "source": [
        "# Plot the distplot for both classes\n",
        "plt.figure(figsize=(10, 7))\n",
        "sns.distplot(class_0_df['mean radius'], bins = 25, color = 'blue')\n",
        "sns.distplot(class_1_df['mean radius'], bins = 25, color = 'red')\n",
        "plt.grid()"
      ],
      "execution_count": null,
      "outputs": []
    }
  ]
}
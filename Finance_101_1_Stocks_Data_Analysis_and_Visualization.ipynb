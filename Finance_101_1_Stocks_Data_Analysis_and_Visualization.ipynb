{
  "nbformat": 4,
  "nbformat_minor": 0,
  "metadata": {
    "colab": {
      "name": "Finance 101 - 1 - Stocks Data Analysis and Visualization.ipynb",
      "provenance": [],
      "collapsed_sections": [],
      "include_colab_link": true
    },
    "kernelspec": {
      "name": "python3",
      "display_name": "Python 3"
    }
  },
  "cells": [
    {
      "cell_type": "markdown",
      "metadata": {
        "id": "view-in-github",
        "colab_type": "text"
      },
      "source": [
        "<a href=\"https://colab.research.google.com/github/LinaSachuk/The-Complete-Python-and-Machine-Learning-for-Financial-Analysis/blob/master/Finance_101_1_Stocks_Data_Analysis_and_Visualization.ipynb\" target=\"_parent\"><img src=\"https://colab.research.google.com/assets/colab-badge.svg\" alt=\"Open In Colab\"/></a>"
      ]
    },
    {
      "cell_type": "markdown",
      "metadata": {
        "id": "dveNg7H5t2a9"
      },
      "source": [
        "#TASK #1: PROBLEM STATEMENT AND PROJECT OVERVIEW"
      ]
    },
    {
      "cell_type": "markdown",
      "metadata": {
        "id": "UGwEFRke2fb7"
      },
      "source": [
        "![alt text](https://drive.google.com/uc?id=1qOZKOEs_N-SbkO2vqlsxpXfHAqjZLw1p)"
      ]
    },
    {
      "cell_type": "markdown",
      "metadata": {
        "id": "zAlupUSit5fK"
      },
      "source": [
        "#TASK #2: IMPORT DATASETS AND LIBRARIES"
      ]
    },
    {
      "cell_type": "code",
      "metadata": {
        "id": "cqAHbvFOuAlQ",
        "outputId": "378789f3-2dac-4bef-933c-0615bcba18c2",
        "colab": {
          "base_uri": "https://localhost:8080/"
        }
      },
      "source": [
        "# Mount the drive\n",
        "from google.colab import drive\n",
        "drive.mount('/content/drive')"
      ],
      "execution_count": 1,
      "outputs": [
        {
          "output_type": "stream",
          "text": [
            "Mounted at /content/drive\n"
          ],
          "name": "stdout"
        }
      ]
    },
    {
      "cell_type": "code",
      "metadata": {
        "id": "_CUspuoRt25m"
      },
      "source": [
        "import pandas as pd\n",
        "import matplotlib.pyplot as plt\n",
        "import numpy as np\n",
        "import seaborn as sns\n",
        "from copy import copy\n",
        "from scipy import stats\n",
        "import plotly.express as px\n",
        "import plotly.figure_factory as ff\n",
        "import plotly.graph_objects as go"
      ],
      "execution_count": 2,
      "outputs": []
    },
    {
      "cell_type": "code",
      "metadata": {
        "id": "G7-KNz6Dt9JS",
        "outputId": "dd97cdc1-cfd8-44ce-8319-709a6497c62b",
        "colab": {
          "base_uri": "https://localhost:8080/",
          "height": 419
        }
      },
      "source": [
        "# Read the stock data csv file, here's the list of the stocks considered:\n",
        "\n",
        "stocks_df = pd.read_csv('/content/drive/My Drive/Python+for+Financial+Analysis+-+Course+Package/Part 2. Financial Analysis in Python/stock.csv')\n",
        "stocks_df\n",
        "\n",
        "# AAPL = Apple Stock \n",
        "# BA = Boeing \n",
        "# T = AT&T\n",
        "# MGM = MGM Resorts International (Hotel Industry)\n",
        "# AMZN = Amazon\n",
        "# IBM = IBM\n",
        "# TSLA = Tesla Motors\n",
        "# GOOG = Google \n",
        "# sp500 = US Stock Market (S&P 500 is a stock market index that measures the stock performance of 500 large companies listed on U.S. stock exchange)\n",
        "# Check the list of S&P 500 companies here: https://en.wikipedia.org/wiki/List_of_S%26P_500_companies\n",
        "\n"
      ],
      "execution_count": 3,
      "outputs": [
        {
          "output_type": "execute_result",
          "data": {
            "text/html": [
              "<div>\n",
              "<style scoped>\n",
              "    .dataframe tbody tr th:only-of-type {\n",
              "        vertical-align: middle;\n",
              "    }\n",
              "\n",
              "    .dataframe tbody tr th {\n",
              "        vertical-align: top;\n",
              "    }\n",
              "\n",
              "    .dataframe thead th {\n",
              "        text-align: right;\n",
              "    }\n",
              "</style>\n",
              "<table border=\"1\" class=\"dataframe\">\n",
              "  <thead>\n",
              "    <tr style=\"text-align: right;\">\n",
              "      <th></th>\n",
              "      <th>Date</th>\n",
              "      <th>AAPL</th>\n",
              "      <th>BA</th>\n",
              "      <th>T</th>\n",
              "      <th>MGM</th>\n",
              "      <th>AMZN</th>\n",
              "      <th>IBM</th>\n",
              "      <th>TSLA</th>\n",
              "      <th>GOOG</th>\n",
              "      <th>sp500</th>\n",
              "    </tr>\n",
              "  </thead>\n",
              "  <tbody>\n",
              "    <tr>\n",
              "      <th>0</th>\n",
              "      <td>2012-01-12</td>\n",
              "      <td>60.198570</td>\n",
              "      <td>75.510002</td>\n",
              "      <td>30.120001</td>\n",
              "      <td>12.130000</td>\n",
              "      <td>175.929993</td>\n",
              "      <td>180.550003</td>\n",
              "      <td>28.250000</td>\n",
              "      <td>313.644379</td>\n",
              "      <td>1295.500000</td>\n",
              "    </tr>\n",
              "    <tr>\n",
              "      <th>1</th>\n",
              "      <td>2012-01-13</td>\n",
              "      <td>59.972858</td>\n",
              "      <td>74.599998</td>\n",
              "      <td>30.070000</td>\n",
              "      <td>12.350000</td>\n",
              "      <td>178.419998</td>\n",
              "      <td>179.160004</td>\n",
              "      <td>22.790001</td>\n",
              "      <td>311.328064</td>\n",
              "      <td>1289.089966</td>\n",
              "    </tr>\n",
              "    <tr>\n",
              "      <th>2</th>\n",
              "      <td>2012-01-17</td>\n",
              "      <td>60.671429</td>\n",
              "      <td>75.239998</td>\n",
              "      <td>30.250000</td>\n",
              "      <td>12.250000</td>\n",
              "      <td>181.660004</td>\n",
              "      <td>180.000000</td>\n",
              "      <td>26.600000</td>\n",
              "      <td>313.116364</td>\n",
              "      <td>1293.670044</td>\n",
              "    </tr>\n",
              "    <tr>\n",
              "      <th>3</th>\n",
              "      <td>2012-01-18</td>\n",
              "      <td>61.301430</td>\n",
              "      <td>75.059998</td>\n",
              "      <td>30.330000</td>\n",
              "      <td>12.730000</td>\n",
              "      <td>189.440002</td>\n",
              "      <td>181.070007</td>\n",
              "      <td>26.809999</td>\n",
              "      <td>315.273285</td>\n",
              "      <td>1308.040039</td>\n",
              "    </tr>\n",
              "    <tr>\n",
              "      <th>4</th>\n",
              "      <td>2012-01-19</td>\n",
              "      <td>61.107143</td>\n",
              "      <td>75.559998</td>\n",
              "      <td>30.420000</td>\n",
              "      <td>12.800000</td>\n",
              "      <td>194.449997</td>\n",
              "      <td>180.520004</td>\n",
              "      <td>26.760000</td>\n",
              "      <td>318.590851</td>\n",
              "      <td>1314.500000</td>\n",
              "    </tr>\n",
              "    <tr>\n",
              "      <th>...</th>\n",
              "      <td>...</td>\n",
              "      <td>...</td>\n",
              "      <td>...</td>\n",
              "      <td>...</td>\n",
              "      <td>...</td>\n",
              "      <td>...</td>\n",
              "      <td>...</td>\n",
              "      <td>...</td>\n",
              "      <td>...</td>\n",
              "      <td>...</td>\n",
              "    </tr>\n",
              "    <tr>\n",
              "      <th>2154</th>\n",
              "      <td>2020-08-05</td>\n",
              "      <td>440.250000</td>\n",
              "      <td>174.279999</td>\n",
              "      <td>29.850000</td>\n",
              "      <td>16.719999</td>\n",
              "      <td>3205.030029</td>\n",
              "      <td>125.449997</td>\n",
              "      <td>1485.020020</td>\n",
              "      <td>1473.609985</td>\n",
              "      <td>3327.770020</td>\n",
              "    </tr>\n",
              "    <tr>\n",
              "      <th>2155</th>\n",
              "      <td>2020-08-06</td>\n",
              "      <td>455.609985</td>\n",
              "      <td>172.199997</td>\n",
              "      <td>29.840000</td>\n",
              "      <td>18.459999</td>\n",
              "      <td>3225.000000</td>\n",
              "      <td>126.120003</td>\n",
              "      <td>1489.579956</td>\n",
              "      <td>1500.099976</td>\n",
              "      <td>3349.159912</td>\n",
              "    </tr>\n",
              "    <tr>\n",
              "      <th>2156</th>\n",
              "      <td>2020-08-07</td>\n",
              "      <td>444.450012</td>\n",
              "      <td>170.020004</td>\n",
              "      <td>30.020000</td>\n",
              "      <td>19.030001</td>\n",
              "      <td>3167.459961</td>\n",
              "      <td>124.959999</td>\n",
              "      <td>1452.709961</td>\n",
              "      <td>1494.489990</td>\n",
              "      <td>3351.280029</td>\n",
              "    </tr>\n",
              "    <tr>\n",
              "      <th>2157</th>\n",
              "      <td>2020-08-10</td>\n",
              "      <td>450.910004</td>\n",
              "      <td>179.410004</td>\n",
              "      <td>30.200001</td>\n",
              "      <td>21.650000</td>\n",
              "      <td>3148.159912</td>\n",
              "      <td>127.110001</td>\n",
              "      <td>1418.569946</td>\n",
              "      <td>1496.099976</td>\n",
              "      <td>3360.469971</td>\n",
              "    </tr>\n",
              "    <tr>\n",
              "      <th>2158</th>\n",
              "      <td>2020-08-11</td>\n",
              "      <td>437.500000</td>\n",
              "      <td>180.130005</td>\n",
              "      <td>30.200001</td>\n",
              "      <td>21.500000</td>\n",
              "      <td>3080.669922</td>\n",
              "      <td>126.750000</td>\n",
              "      <td>1374.390015</td>\n",
              "      <td>1480.319946</td>\n",
              "      <td>3333.689941</td>\n",
              "    </tr>\n",
              "  </tbody>\n",
              "</table>\n",
              "<p>2159 rows × 10 columns</p>\n",
              "</div>"
            ],
            "text/plain": [
              "            Date        AAPL          BA  ...         TSLA         GOOG        sp500\n",
              "0     2012-01-12   60.198570   75.510002  ...    28.250000   313.644379  1295.500000\n",
              "1     2012-01-13   59.972858   74.599998  ...    22.790001   311.328064  1289.089966\n",
              "2     2012-01-17   60.671429   75.239998  ...    26.600000   313.116364  1293.670044\n",
              "3     2012-01-18   61.301430   75.059998  ...    26.809999   315.273285  1308.040039\n",
              "4     2012-01-19   61.107143   75.559998  ...    26.760000   318.590851  1314.500000\n",
              "...          ...         ...         ...  ...          ...          ...          ...\n",
              "2154  2020-08-05  440.250000  174.279999  ...  1485.020020  1473.609985  3327.770020\n",
              "2155  2020-08-06  455.609985  172.199997  ...  1489.579956  1500.099976  3349.159912\n",
              "2156  2020-08-07  444.450012  170.020004  ...  1452.709961  1494.489990  3351.280029\n",
              "2157  2020-08-10  450.910004  179.410004  ...  1418.569946  1496.099976  3360.469971\n",
              "2158  2020-08-11  437.500000  180.130005  ...  1374.390015  1480.319946  3333.689941\n",
              "\n",
              "[2159 rows x 10 columns]"
            ]
          },
          "metadata": {
            "tags": []
          },
          "execution_count": 3
        }
      ]
    },
    {
      "cell_type": "code",
      "metadata": {
        "id": "QTg_POeCuUeE",
        "outputId": "f9a02722-fd2c-48e3-d6d0-248ad66aed6e",
        "colab": {
          "base_uri": "https://localhost:8080/",
          "height": 419
        }
      },
      "source": [
        "# Sort the stock data by date\n",
        "\n",
        "stocks_df = stocks_df.sort_values(by= ['Date'])\n",
        "stocks_df"
      ],
      "execution_count": 4,
      "outputs": [
        {
          "output_type": "execute_result",
          "data": {
            "text/html": [
              "<div>\n",
              "<style scoped>\n",
              "    .dataframe tbody tr th:only-of-type {\n",
              "        vertical-align: middle;\n",
              "    }\n",
              "\n",
              "    .dataframe tbody tr th {\n",
              "        vertical-align: top;\n",
              "    }\n",
              "\n",
              "    .dataframe thead th {\n",
              "        text-align: right;\n",
              "    }\n",
              "</style>\n",
              "<table border=\"1\" class=\"dataframe\">\n",
              "  <thead>\n",
              "    <tr style=\"text-align: right;\">\n",
              "      <th></th>\n",
              "      <th>Date</th>\n",
              "      <th>AAPL</th>\n",
              "      <th>BA</th>\n",
              "      <th>T</th>\n",
              "      <th>MGM</th>\n",
              "      <th>AMZN</th>\n",
              "      <th>IBM</th>\n",
              "      <th>TSLA</th>\n",
              "      <th>GOOG</th>\n",
              "      <th>sp500</th>\n",
              "    </tr>\n",
              "  </thead>\n",
              "  <tbody>\n",
              "    <tr>\n",
              "      <th>0</th>\n",
              "      <td>2012-01-12</td>\n",
              "      <td>60.198570</td>\n",
              "      <td>75.510002</td>\n",
              "      <td>30.120001</td>\n",
              "      <td>12.130000</td>\n",
              "      <td>175.929993</td>\n",
              "      <td>180.550003</td>\n",
              "      <td>28.250000</td>\n",
              "      <td>313.644379</td>\n",
              "      <td>1295.500000</td>\n",
              "    </tr>\n",
              "    <tr>\n",
              "      <th>1</th>\n",
              "      <td>2012-01-13</td>\n",
              "      <td>59.972858</td>\n",
              "      <td>74.599998</td>\n",
              "      <td>30.070000</td>\n",
              "      <td>12.350000</td>\n",
              "      <td>178.419998</td>\n",
              "      <td>179.160004</td>\n",
              "      <td>22.790001</td>\n",
              "      <td>311.328064</td>\n",
              "      <td>1289.089966</td>\n",
              "    </tr>\n",
              "    <tr>\n",
              "      <th>2</th>\n",
              "      <td>2012-01-17</td>\n",
              "      <td>60.671429</td>\n",
              "      <td>75.239998</td>\n",
              "      <td>30.250000</td>\n",
              "      <td>12.250000</td>\n",
              "      <td>181.660004</td>\n",
              "      <td>180.000000</td>\n",
              "      <td>26.600000</td>\n",
              "      <td>313.116364</td>\n",
              "      <td>1293.670044</td>\n",
              "    </tr>\n",
              "    <tr>\n",
              "      <th>3</th>\n",
              "      <td>2012-01-18</td>\n",
              "      <td>61.301430</td>\n",
              "      <td>75.059998</td>\n",
              "      <td>30.330000</td>\n",
              "      <td>12.730000</td>\n",
              "      <td>189.440002</td>\n",
              "      <td>181.070007</td>\n",
              "      <td>26.809999</td>\n",
              "      <td>315.273285</td>\n",
              "      <td>1308.040039</td>\n",
              "    </tr>\n",
              "    <tr>\n",
              "      <th>4</th>\n",
              "      <td>2012-01-19</td>\n",
              "      <td>61.107143</td>\n",
              "      <td>75.559998</td>\n",
              "      <td>30.420000</td>\n",
              "      <td>12.800000</td>\n",
              "      <td>194.449997</td>\n",
              "      <td>180.520004</td>\n",
              "      <td>26.760000</td>\n",
              "      <td>318.590851</td>\n",
              "      <td>1314.500000</td>\n",
              "    </tr>\n",
              "    <tr>\n",
              "      <th>...</th>\n",
              "      <td>...</td>\n",
              "      <td>...</td>\n",
              "      <td>...</td>\n",
              "      <td>...</td>\n",
              "      <td>...</td>\n",
              "      <td>...</td>\n",
              "      <td>...</td>\n",
              "      <td>...</td>\n",
              "      <td>...</td>\n",
              "      <td>...</td>\n",
              "    </tr>\n",
              "    <tr>\n",
              "      <th>2154</th>\n",
              "      <td>2020-08-05</td>\n",
              "      <td>440.250000</td>\n",
              "      <td>174.279999</td>\n",
              "      <td>29.850000</td>\n",
              "      <td>16.719999</td>\n",
              "      <td>3205.030029</td>\n",
              "      <td>125.449997</td>\n",
              "      <td>1485.020020</td>\n",
              "      <td>1473.609985</td>\n",
              "      <td>3327.770020</td>\n",
              "    </tr>\n",
              "    <tr>\n",
              "      <th>2155</th>\n",
              "      <td>2020-08-06</td>\n",
              "      <td>455.609985</td>\n",
              "      <td>172.199997</td>\n",
              "      <td>29.840000</td>\n",
              "      <td>18.459999</td>\n",
              "      <td>3225.000000</td>\n",
              "      <td>126.120003</td>\n",
              "      <td>1489.579956</td>\n",
              "      <td>1500.099976</td>\n",
              "      <td>3349.159912</td>\n",
              "    </tr>\n",
              "    <tr>\n",
              "      <th>2156</th>\n",
              "      <td>2020-08-07</td>\n",
              "      <td>444.450012</td>\n",
              "      <td>170.020004</td>\n",
              "      <td>30.020000</td>\n",
              "      <td>19.030001</td>\n",
              "      <td>3167.459961</td>\n",
              "      <td>124.959999</td>\n",
              "      <td>1452.709961</td>\n",
              "      <td>1494.489990</td>\n",
              "      <td>3351.280029</td>\n",
              "    </tr>\n",
              "    <tr>\n",
              "      <th>2157</th>\n",
              "      <td>2020-08-10</td>\n",
              "      <td>450.910004</td>\n",
              "      <td>179.410004</td>\n",
              "      <td>30.200001</td>\n",
              "      <td>21.650000</td>\n",
              "      <td>3148.159912</td>\n",
              "      <td>127.110001</td>\n",
              "      <td>1418.569946</td>\n",
              "      <td>1496.099976</td>\n",
              "      <td>3360.469971</td>\n",
              "    </tr>\n",
              "    <tr>\n",
              "      <th>2158</th>\n",
              "      <td>2020-08-11</td>\n",
              "      <td>437.500000</td>\n",
              "      <td>180.130005</td>\n",
              "      <td>30.200001</td>\n",
              "      <td>21.500000</td>\n",
              "      <td>3080.669922</td>\n",
              "      <td>126.750000</td>\n",
              "      <td>1374.390015</td>\n",
              "      <td>1480.319946</td>\n",
              "      <td>3333.689941</td>\n",
              "    </tr>\n",
              "  </tbody>\n",
              "</table>\n",
              "<p>2159 rows × 10 columns</p>\n",
              "</div>"
            ],
            "text/plain": [
              "            Date        AAPL          BA  ...         TSLA         GOOG        sp500\n",
              "0     2012-01-12   60.198570   75.510002  ...    28.250000   313.644379  1295.500000\n",
              "1     2012-01-13   59.972858   74.599998  ...    22.790001   311.328064  1289.089966\n",
              "2     2012-01-17   60.671429   75.239998  ...    26.600000   313.116364  1293.670044\n",
              "3     2012-01-18   61.301430   75.059998  ...    26.809999   315.273285  1308.040039\n",
              "4     2012-01-19   61.107143   75.559998  ...    26.760000   318.590851  1314.500000\n",
              "...          ...         ...         ...  ...          ...          ...          ...\n",
              "2154  2020-08-05  440.250000  174.279999  ...  1485.020020  1473.609985  3327.770020\n",
              "2155  2020-08-06  455.609985  172.199997  ...  1489.579956  1500.099976  3349.159912\n",
              "2156  2020-08-07  444.450012  170.020004  ...  1452.709961  1494.489990  3351.280029\n",
              "2157  2020-08-10  450.910004  179.410004  ...  1418.569946  1496.099976  3360.469971\n",
              "2158  2020-08-11  437.500000  180.130005  ...  1374.390015  1480.319946  3333.689941\n",
              "\n",
              "[2159 rows x 10 columns]"
            ]
          },
          "metadata": {
            "tags": []
          },
          "execution_count": 4
        }
      ]
    },
    {
      "cell_type": "code",
      "metadata": {
        "id": "77rPtCs85NgU",
        "outputId": "291d4b68-ed67-49c6-9bbc-41786009eb16",
        "colab": {
          "base_uri": "https://localhost:8080/"
        }
      },
      "source": [
        "# Print out the number of stocks\n",
        "\n",
        "print('Total Number of stocks:{}'.format(len(stocks_df.columns[1:])))\n"
      ],
      "execution_count": 5,
      "outputs": [
        {
          "output_type": "stream",
          "text": [
            "Total Number of stocks:9\n"
          ],
          "name": "stdout"
        }
      ]
    },
    {
      "cell_type": "code",
      "metadata": {
        "id": "8wBR2CHA5O87",
        "outputId": "887768cb-a573-4c5d-f289-e467d2726adb",
        "colab": {
          "base_uri": "https://localhost:8080/"
        }
      },
      "source": [
        "# Print the name of stocks\n",
        "\n",
        "for i in stocks_df.columns[1:]:\n",
        "  print(i)"
      ],
      "execution_count": 6,
      "outputs": [
        {
          "output_type": "stream",
          "text": [
            "AAPL\n",
            "BA\n",
            "T\n",
            "MGM\n",
            "AMZN\n",
            "IBM\n",
            "TSLA\n",
            "GOOG\n",
            "sp500\n"
          ],
          "name": "stdout"
        }
      ]
    },
    {
      "cell_type": "markdown",
      "metadata": {
        "id": "ubohn_-54V0Y"
      },
      "source": [
        "**MINI CHALLENGE #1:** \n",
        "- **What is the average return of the S&P500?**\n",
        "- **Which stock or index has the minimum dispertion from the mean in dollar value?**\n",
        "- **What is the maximum price for AMZN stock over the specified time period?** "
      ]
    },
    {
      "cell_type": "code",
      "metadata": {
        "id": "VLVdsAIA5aQp",
        "outputId": "c0c7e73f-5091-4a02-d5ad-df5c438392db",
        "colab": {
          "base_uri": "https://localhost:8080/"
        }
      },
      "source": [
        "# What is the average return of the S&P500\n",
        "stocks_df.mean()"
      ],
      "execution_count": 7,
      "outputs": [
        {
          "output_type": "execute_result",
          "data": {
            "text/plain": [
              "AAPL      140.819823\n",
              "BA        189.942700\n",
              "T          35.162899\n",
              "MGM        23.105743\n",
              "AMZN      915.665665\n",
              "IBM       161.853001\n",
              "TSLA      259.600815\n",
              "GOOG      783.712512\n",
              "sp500    2218.749554\n",
              "dtype: float64"
            ]
          },
          "metadata": {
            "tags": []
          },
          "execution_count": 7
        }
      ]
    },
    {
      "cell_type": "code",
      "metadata": {
        "id": "fozKoTWgk9aO",
        "outputId": "7e1b6632-09a1-4be1-ed18-69a8bd47b4f9",
        "colab": {
          "base_uri": "https://localhost:8080/"
        }
      },
      "source": [
        "# Which stock or index has the minimum dispertion from the mean in dollar value?\n",
        "\n",
        "stocks_df.std()"
      ],
      "execution_count": 8,
      "outputs": [
        {
          "output_type": "execute_result",
          "data": {
            "text/plain": [
              "AAPL      70.827601\n",
              "BA       103.678586\n",
              "T          3.207490\n",
              "MGM        6.963847\n",
              "AMZN     697.838905\n",
              "IBM       25.561938\n",
              "TSLA     210.988003\n",
              "GOOG     334.448057\n",
              "sp500    537.321727\n",
              "dtype: float64"
            ]
          },
          "metadata": {
            "tags": []
          },
          "execution_count": 8
        }
      ]
    },
    {
      "cell_type": "code",
      "metadata": {
        "id": "-Yn-vwWAlTV6",
        "outputId": "8db222c0-798b-4fb0-dcd2-0a9158058b16",
        "colab": {
          "base_uri": "https://localhost:8080/",
          "height": 297
        }
      },
      "source": [
        "# What is the maximum price for AMZN stock over the specified time period?\n",
        "\n",
        "stocks_df.describe()"
      ],
      "execution_count": 9,
      "outputs": [
        {
          "output_type": "execute_result",
          "data": {
            "text/html": [
              "<div>\n",
              "<style scoped>\n",
              "    .dataframe tbody tr th:only-of-type {\n",
              "        vertical-align: middle;\n",
              "    }\n",
              "\n",
              "    .dataframe tbody tr th {\n",
              "        vertical-align: top;\n",
              "    }\n",
              "\n",
              "    .dataframe thead th {\n",
              "        text-align: right;\n",
              "    }\n",
              "</style>\n",
              "<table border=\"1\" class=\"dataframe\">\n",
              "  <thead>\n",
              "    <tr style=\"text-align: right;\">\n",
              "      <th></th>\n",
              "      <th>AAPL</th>\n",
              "      <th>BA</th>\n",
              "      <th>T</th>\n",
              "      <th>MGM</th>\n",
              "      <th>AMZN</th>\n",
              "      <th>IBM</th>\n",
              "      <th>TSLA</th>\n",
              "      <th>GOOG</th>\n",
              "      <th>sp500</th>\n",
              "    </tr>\n",
              "  </thead>\n",
              "  <tbody>\n",
              "    <tr>\n",
              "      <th>count</th>\n",
              "      <td>2159.000000</td>\n",
              "      <td>2159.000000</td>\n",
              "      <td>2159.000000</td>\n",
              "      <td>2159.000000</td>\n",
              "      <td>2159.000000</td>\n",
              "      <td>2159.000000</td>\n",
              "      <td>2159.000000</td>\n",
              "      <td>2159.000000</td>\n",
              "      <td>2159.000000</td>\n",
              "    </tr>\n",
              "    <tr>\n",
              "      <th>mean</th>\n",
              "      <td>140.819823</td>\n",
              "      <td>189.942700</td>\n",
              "      <td>35.162899</td>\n",
              "      <td>23.105743</td>\n",
              "      <td>915.665665</td>\n",
              "      <td>161.853001</td>\n",
              "      <td>259.600815</td>\n",
              "      <td>783.712512</td>\n",
              "      <td>2218.749554</td>\n",
              "    </tr>\n",
              "    <tr>\n",
              "      <th>std</th>\n",
              "      <td>70.827601</td>\n",
              "      <td>103.678586</td>\n",
              "      <td>3.207490</td>\n",
              "      <td>6.963847</td>\n",
              "      <td>697.838905</td>\n",
              "      <td>25.561938</td>\n",
              "      <td>210.988003</td>\n",
              "      <td>334.448057</td>\n",
              "      <td>537.321727</td>\n",
              "    </tr>\n",
              "    <tr>\n",
              "      <th>min</th>\n",
              "      <td>55.790001</td>\n",
              "      <td>67.239998</td>\n",
              "      <td>26.770000</td>\n",
              "      <td>7.140000</td>\n",
              "      <td>175.929993</td>\n",
              "      <td>94.769997</td>\n",
              "      <td>22.790001</td>\n",
              "      <td>278.481171</td>\n",
              "      <td>1278.040039</td>\n",
              "    </tr>\n",
              "    <tr>\n",
              "      <th>25%</th>\n",
              "      <td>89.165714</td>\n",
              "      <td>124.015000</td>\n",
              "      <td>33.040001</td>\n",
              "      <td>18.545000</td>\n",
              "      <td>316.490005</td>\n",
              "      <td>142.769997</td>\n",
              "      <td>184.595001</td>\n",
              "      <td>527.214416</td>\n",
              "      <td>1847.984985</td>\n",
              "    </tr>\n",
              "    <tr>\n",
              "      <th>50%</th>\n",
              "      <td>116.599998</td>\n",
              "      <td>142.419998</td>\n",
              "      <td>34.930000</td>\n",
              "      <td>23.780001</td>\n",
              "      <td>676.010010</td>\n",
              "      <td>156.949997</td>\n",
              "      <td>231.960007</td>\n",
              "      <td>737.599976</td>\n",
              "      <td>2106.629883</td>\n",
              "    </tr>\n",
              "    <tr>\n",
              "      <th>75%</th>\n",
              "      <td>175.019997</td>\n",
              "      <td>297.044998</td>\n",
              "      <td>37.419998</td>\n",
              "      <td>28.430000</td>\n",
              "      <td>1593.645019</td>\n",
              "      <td>185.974998</td>\n",
              "      <td>307.350006</td>\n",
              "      <td>1079.744995</td>\n",
              "      <td>2705.810059</td>\n",
              "    </tr>\n",
              "    <tr>\n",
              "      <th>max</th>\n",
              "      <td>455.609985</td>\n",
              "      <td>440.619995</td>\n",
              "      <td>43.470001</td>\n",
              "      <td>38.029999</td>\n",
              "      <td>3225.000000</td>\n",
              "      <td>215.800003</td>\n",
              "      <td>1643.000000</td>\n",
              "      <td>1568.489990</td>\n",
              "      <td>3386.149902</td>\n",
              "    </tr>\n",
              "  </tbody>\n",
              "</table>\n",
              "</div>"
            ],
            "text/plain": [
              "              AAPL           BA  ...         GOOG        sp500\n",
              "count  2159.000000  2159.000000  ...  2159.000000  2159.000000\n",
              "mean    140.819823   189.942700  ...   783.712512  2218.749554\n",
              "std      70.827601   103.678586  ...   334.448057   537.321727\n",
              "min      55.790001    67.239998  ...   278.481171  1278.040039\n",
              "25%      89.165714   124.015000  ...   527.214416  1847.984985\n",
              "50%     116.599998   142.419998  ...   737.599976  2106.629883\n",
              "75%     175.019997   297.044998  ...  1079.744995  2705.810059\n",
              "max     455.609985   440.619995  ...  1568.489990  3386.149902\n",
              "\n",
              "[8 rows x 9 columns]"
            ]
          },
          "metadata": {
            "tags": []
          },
          "execution_count": 9
        }
      ]
    },
    {
      "cell_type": "markdown",
      "metadata": {
        "id": "qmba17fwuk83"
      },
      "source": [
        "# TASK #3: PERFORM EXPLORATORY DATA ANALYSIS AND VISUALIZATION"
      ]
    },
    {
      "cell_type": "code",
      "metadata": {
        "id": "igiwssGruHHH",
        "outputId": "f2bf7775-6bd0-4441-b7c5-69f410b14958",
        "colab": {
          "base_uri": "https://localhost:8080/"
        }
      },
      "source": [
        "# Check if data contains any null values\n",
        "\n",
        "stocks_df.isnull().sum()\n"
      ],
      "execution_count": 28,
      "outputs": [
        {
          "output_type": "execute_result",
          "data": {
            "text/plain": [
              "Date     0\n",
              "AAPL     0\n",
              "BA       0\n",
              "T        0\n",
              "MGM      0\n",
              "AMZN     0\n",
              "IBM      0\n",
              "TSLA     0\n",
              "GOOG     0\n",
              "sp500    0\n",
              "dtype: int64"
            ]
          },
          "metadata": {
            "tags": []
          },
          "execution_count": 28
        }
      ]
    },
    {
      "cell_type": "code",
      "metadata": {
        "id": "0NCbEVYJuqND",
        "outputId": "d7fb142b-33f1-4616-fd19-3a5d24e34d53",
        "colab": {
          "base_uri": "https://localhost:8080/"
        }
      },
      "source": [
        "# Getting dataframe info\n",
        "\n",
        "stocks_df.info()"
      ],
      "execution_count": 29,
      "outputs": [
        {
          "output_type": "stream",
          "text": [
            "<class 'pandas.core.frame.DataFrame'>\n",
            "Int64Index: 2159 entries, 0 to 2158\n",
            "Data columns (total 10 columns):\n",
            " #   Column  Non-Null Count  Dtype  \n",
            "---  ------  --------------  -----  \n",
            " 0   Date    2159 non-null   object \n",
            " 1   AAPL    2159 non-null   float64\n",
            " 2   BA      2159 non-null   float64\n",
            " 3   T       2159 non-null   float64\n",
            " 4   MGM     2159 non-null   float64\n",
            " 5   AMZN    2159 non-null   float64\n",
            " 6   IBM     2159 non-null   float64\n",
            " 7   TSLA    2159 non-null   float64\n",
            " 8   GOOG    2159 non-null   float64\n",
            " 9   sp500   2159 non-null   float64\n",
            "dtypes: float64(9), object(1)\n",
            "memory usage: 185.5+ KB\n"
          ],
          "name": "stdout"
        }
      ]
    },
    {
      "cell_type": "code",
      "metadata": {
        "id": "_sYkHjZJuqTg"
      },
      "source": [
        "# Define a function to plot the entire dataframe\n",
        "# The function takes in a dataframe df as an input argument and does not return anything back!\n",
        "# The function performs data visualization\n",
        "# Pandas works great with matplotlib, you can simply plot data directly from a Pandas DataFrame using plot() method\n",
        "\n"
      ],
      "execution_count": 12,
      "outputs": []
    },
    {
      "cell_type": "code",
      "metadata": {
        "id": "HBLjDdvS81xD"
      },
      "source": [
        "# Plot the data\n"
      ],
      "execution_count": 13,
      "outputs": []
    },
    {
      "cell_type": "markdown",
      "metadata": {
        "id": "yt7FZfV19_M5"
      },
      "source": [
        "**MINI CHALLENGE #2:**\n",
        "- **Print out normalized (scaled) stock prices**  \n"
      ]
    },
    {
      "cell_type": "code",
      "metadata": {
        "id": "65qtrq5Q-d7A"
      },
      "source": [
        ""
      ],
      "execution_count": 13,
      "outputs": []
    },
    {
      "cell_type": "markdown",
      "metadata": {
        "id": "8L9gXztQ92TC"
      },
      "source": [
        "# TASK #4: PERFORM INTERACTIVE DATA VISUALIZATION"
      ]
    },
    {
      "cell_type": "code",
      "metadata": {
        "id": "yUcMVHQQuqQZ"
      },
      "source": [
        "# Function to perform an interactive data plotting using plotly express\n",
        "# Plotly.express module which is imported as px includes functions that can plot interactive plots easily and effectively. \n",
        "# Every Plotly Express function uses graph objects internally and returns a plotly.graph_objects.Figure instance. \n"
      ],
      "execution_count": 14,
      "outputs": []
    },
    {
      "cell_type": "code",
      "metadata": {
        "id": "x3tsVq0Juz_b"
      },
      "source": [
        "# Plot interactive chart\n"
      ],
      "execution_count": 15,
      "outputs": []
    },
    {
      "cell_type": "markdown",
      "metadata": {
        "id": "eEst3QL0AGNc"
      },
      "source": [
        "**MINI CHALLENGE #3:**\n",
        "- **Plot normalized stock data in an interactive way**\n",
        "- **It seems that most stocks experienced massive drops in 2020, let's assume that you own 100 shares of the S&P500 and you bought them on Feb 19th, 2020. How much did you lose (in $) by March 23rd, 2020?**\n"
      ]
    },
    {
      "cell_type": "code",
      "metadata": {
        "id": "o2qqc2MVEJbU"
      },
      "source": [
        ""
      ],
      "execution_count": 15,
      "outputs": []
    },
    {
      "cell_type": "markdown",
      "metadata": {
        "id": "sy2lCzGi0Q9K"
      },
      "source": [
        "# TASK #5: CALCULATE INDIVIDUAL STOCKS DAILY RETURNS"
      ]
    },
    {
      "cell_type": "code",
      "metadata": {
        "id": "eAqHOkFREV-0"
      },
      "source": [
        "# Let's calculate daily return for a single security\n",
        "# Let's take the S&P500 as an example first\n"
      ],
      "execution_count": 16,
      "outputs": []
    },
    {
      "cell_type": "markdown",
      "metadata": {
        "id": "ZmweQxu1F9b9"
      },
      "source": [
        "**MINI CHALLENGE #4:**\n",
        "- **Calculate the daily return for Amazon stock.**\n"
      ]
    },
    {
      "cell_type": "code",
      "metadata": {
        "id": "jJizU5-3F68A"
      },
      "source": [
        ""
      ],
      "execution_count": 16,
      "outputs": []
    },
    {
      "cell_type": "markdown",
      "metadata": {
        "id": "E_Ldvu42F0yI"
      },
      "source": [
        "# TASK #6: CALCULATE MULTIPLE STOCKS DAILY RETURNS"
      ]
    },
    {
      "cell_type": "code",
      "metadata": {
        "id": "BAYcdk5_J1X6"
      },
      "source": [
        "# Let's define a function to calculate stocks daily returns (for all stocks) \n"
      ],
      "execution_count": 17,
      "outputs": []
    },
    {
      "cell_type": "code",
      "metadata": {
        "id": "gFxXpwVfWPaC"
      },
      "source": [
        "# Get the daily returns \n"
      ],
      "execution_count": 18,
      "outputs": []
    },
    {
      "cell_type": "code",
      "metadata": {
        "id": "fUebOVEs1L8U"
      },
      "source": [
        ""
      ],
      "execution_count": 18,
      "outputs": []
    },
    {
      "cell_type": "markdown",
      "metadata": {
        "id": "k-OTQRikGnXK"
      },
      "source": [
        "**MINI CHALLENGE #5:**\n",
        "- **Plot the returns vs. time using both static and interactive plots**\n",
        "- **What is the maximum daily return in % values**"
      ]
    },
    {
      "cell_type": "code",
      "metadata": {
        "id": "RY4Mz10LIMkN"
      },
      "source": [
        ""
      ],
      "execution_count": 18,
      "outputs": []
    },
    {
      "cell_type": "markdown",
      "metadata": {
        "id": "O0fakkYYINwa"
      },
      "source": [
        "# TASK #7: CALCULATE THE CORRELATIONS BETWEEN DAILY RETURNS "
      ]
    },
    {
      "cell_type": "code",
      "metadata": {
        "id": "yO74euRqT5l7"
      },
      "source": [
        "# Daily Return Correlation\n"
      ],
      "execution_count": 19,
      "outputs": []
    },
    {
      "cell_type": "code",
      "metadata": {
        "id": "u5rLOxb-VaT_"
      },
      "source": [
        ""
      ],
      "execution_count": 19,
      "outputs": []
    },
    {
      "cell_type": "markdown",
      "metadata": {
        "id": "5BODhJ55Jxde"
      },
      "source": [
        "**MINI CHALLENGE #6:**\n",
        "- **What are the top 2 stocks that are positively correlated with the S&P500?**\n",
        "- **What is the correlation between Amazon and Boeing? Comment on your answer**\n",
        "- **What is the correlation between MGM and Boeing? Comment on your answer**"
      ]
    },
    {
      "cell_type": "code",
      "metadata": {
        "id": "E9GPUJL5i1s4"
      },
      "source": [
        ""
      ],
      "execution_count": 19,
      "outputs": []
    },
    {
      "cell_type": "markdown",
      "metadata": {
        "id": "6o_TJSknK0nT"
      },
      "source": [
        "# TASK #8: PLOT THE HISTOGRAM FOR DAILY RETURNS"
      ]
    },
    {
      "cell_type": "code",
      "metadata": {
        "id": "2XX_aVAXPOod"
      },
      "source": [
        "# Histogram of daily returns\n",
        "# Stock returns are normally distributed with zero mean \n",
        "# Notice how Tesla Standard deviation is high indicating a more volatile stock\n"
      ],
      "execution_count": 20,
      "outputs": []
    },
    {
      "cell_type": "code",
      "metadata": {
        "id": "wm5hv0V4LFud"
      },
      "source": [
        ""
      ],
      "execution_count": 20,
      "outputs": []
    },
    {
      "cell_type": "markdown",
      "metadata": {
        "id": "BdLC2x_aLGOU"
      },
      "source": [
        "**MINI CHALLENGE #7:**\n",
        "- **Based on the histogram, which of the following stocks are more risky? T or TSLA**"
      ]
    },
    {
      "cell_type": "code",
      "metadata": {
        "id": "pNmqCgEVLlKs"
      },
      "source": [
        ""
      ],
      "execution_count": 20,
      "outputs": []
    },
    {
      "cell_type": "code",
      "metadata": {
        "id": "C_HRCdtiQNR6"
      },
      "source": [
        "# Group all data returns together in a list\n",
        "# Make a copy of the daily returns dataframe\n"
      ],
      "execution_count": 21,
      "outputs": []
    },
    {
      "cell_type": "code",
      "metadata": {
        "id": "uhW6OMmg5mGa"
      },
      "source": [
        "# Plotly's Python API contains a super pwerful module known as figure factory module \n",
        "# Figure factory module includes wrapper functions that create unique chart types such as interactive subplots \n",
        "# Check this out for more information: https://plotly.com/python/figure-factory-subplots/\n",
        "# Notice how Boeing, Tesla and MGM gains are losses are sometimes extreme! This will indicate a more risky investment and will be quantified later using Sharpe Ratio\n"
      ],
      "execution_count": 22,
      "outputs": []
    },
    {
      "cell_type": "markdown",
      "metadata": {
        "id": "KPq0NpLQ8HxL"
      },
      "source": [
        "# EXCELLENT JOB!"
      ]
    },
    {
      "cell_type": "markdown",
      "metadata": {
        "id": "nyxrAPiR8LM7"
      },
      "source": [
        "# **MINI CHALLENGE SOLUTIONS**"
      ]
    },
    {
      "cell_type": "markdown",
      "metadata": {
        "id": "yLI7dnWd4r_w"
      },
      "source": [
        "**MINI CHALLENGE #1 SOLUTION:** \n",
        "- **What is the average return of the S&P500?**\n",
        "- **What is the maximum price for AMZN stock over the specified time period?** "
      ]
    },
    {
      "cell_type": "code",
      "metadata": {
        "id": "m8G66miB4r_x",
        "outputId": "e900e233-2d4f-4d5b-e0e5-583a25477315",
        "colab": {
          "base_uri": "https://localhost:8080/"
        }
      },
      "source": [
        "# Get the mean values\n",
        "stocks_df.mean()"
      ],
      "execution_count": 23,
      "outputs": [
        {
          "output_type": "execute_result",
          "data": {
            "text/plain": [
              "AAPL      140.819823\n",
              "BA        189.942700\n",
              "T          35.162899\n",
              "MGM        23.105743\n",
              "AMZN      915.665665\n",
              "IBM       161.853001\n",
              "TSLA      259.600815\n",
              "GOOG      783.712512\n",
              "sp500    2218.749554\n",
              "dtype: float64"
            ]
          },
          "metadata": {
            "tags": []
          },
          "execution_count": 23
        }
      ]
    },
    {
      "cell_type": "code",
      "metadata": {
        "id": "Mz1MZSQ94r_2",
        "outputId": "67a71a6d-4029-46bc-de3e-55ed0de76190",
        "colab": {
          "base_uri": "https://localhost:8080/"
        }
      },
      "source": [
        "# Get the standard deviation of stocks (Volatility)\n",
        "stocks_df.std()"
      ],
      "execution_count": 24,
      "outputs": [
        {
          "output_type": "execute_result",
          "data": {
            "text/plain": [
              "AAPL      70.827601\n",
              "BA       103.678586\n",
              "T          3.207490\n",
              "MGM        6.963847\n",
              "AMZN     697.838905\n",
              "IBM       25.561938\n",
              "TSLA     210.988003\n",
              "GOOG     334.448057\n",
              "sp500    537.321727\n",
              "dtype: float64"
            ]
          },
          "metadata": {
            "tags": []
          },
          "execution_count": 24
        }
      ]
    },
    {
      "cell_type": "code",
      "metadata": {
        "id": "e1q_jYuF4r_5",
        "outputId": "e346b81c-6d04-4b6f-a76b-a7a8215a0e18",
        "colab": {
          "base_uri": "https://localhost:8080/",
          "height": 297
        }
      },
      "source": [
        "# Statistical data of the dataframe\n",
        "stocks_df.describe()"
      ],
      "execution_count": 25,
      "outputs": [
        {
          "output_type": "execute_result",
          "data": {
            "text/html": [
              "<div>\n",
              "<style scoped>\n",
              "    .dataframe tbody tr th:only-of-type {\n",
              "        vertical-align: middle;\n",
              "    }\n",
              "\n",
              "    .dataframe tbody tr th {\n",
              "        vertical-align: top;\n",
              "    }\n",
              "\n",
              "    .dataframe thead th {\n",
              "        text-align: right;\n",
              "    }\n",
              "</style>\n",
              "<table border=\"1\" class=\"dataframe\">\n",
              "  <thead>\n",
              "    <tr style=\"text-align: right;\">\n",
              "      <th></th>\n",
              "      <th>AAPL</th>\n",
              "      <th>BA</th>\n",
              "      <th>T</th>\n",
              "      <th>MGM</th>\n",
              "      <th>AMZN</th>\n",
              "      <th>IBM</th>\n",
              "      <th>TSLA</th>\n",
              "      <th>GOOG</th>\n",
              "      <th>sp500</th>\n",
              "    </tr>\n",
              "  </thead>\n",
              "  <tbody>\n",
              "    <tr>\n",
              "      <th>count</th>\n",
              "      <td>2159.000000</td>\n",
              "      <td>2159.000000</td>\n",
              "      <td>2159.000000</td>\n",
              "      <td>2159.000000</td>\n",
              "      <td>2159.000000</td>\n",
              "      <td>2159.000000</td>\n",
              "      <td>2159.000000</td>\n",
              "      <td>2159.000000</td>\n",
              "      <td>2159.000000</td>\n",
              "    </tr>\n",
              "    <tr>\n",
              "      <th>mean</th>\n",
              "      <td>140.819823</td>\n",
              "      <td>189.942700</td>\n",
              "      <td>35.162899</td>\n",
              "      <td>23.105743</td>\n",
              "      <td>915.665665</td>\n",
              "      <td>161.853001</td>\n",
              "      <td>259.600815</td>\n",
              "      <td>783.712512</td>\n",
              "      <td>2218.749554</td>\n",
              "    </tr>\n",
              "    <tr>\n",
              "      <th>std</th>\n",
              "      <td>70.827601</td>\n",
              "      <td>103.678586</td>\n",
              "      <td>3.207490</td>\n",
              "      <td>6.963847</td>\n",
              "      <td>697.838905</td>\n",
              "      <td>25.561938</td>\n",
              "      <td>210.988003</td>\n",
              "      <td>334.448057</td>\n",
              "      <td>537.321727</td>\n",
              "    </tr>\n",
              "    <tr>\n",
              "      <th>min</th>\n",
              "      <td>55.790001</td>\n",
              "      <td>67.239998</td>\n",
              "      <td>26.770000</td>\n",
              "      <td>7.140000</td>\n",
              "      <td>175.929993</td>\n",
              "      <td>94.769997</td>\n",
              "      <td>22.790001</td>\n",
              "      <td>278.481171</td>\n",
              "      <td>1278.040039</td>\n",
              "    </tr>\n",
              "    <tr>\n",
              "      <th>25%</th>\n",
              "      <td>89.165714</td>\n",
              "      <td>124.015000</td>\n",
              "      <td>33.040001</td>\n",
              "      <td>18.545000</td>\n",
              "      <td>316.490005</td>\n",
              "      <td>142.769997</td>\n",
              "      <td>184.595001</td>\n",
              "      <td>527.214416</td>\n",
              "      <td>1847.984985</td>\n",
              "    </tr>\n",
              "    <tr>\n",
              "      <th>50%</th>\n",
              "      <td>116.599998</td>\n",
              "      <td>142.419998</td>\n",
              "      <td>34.930000</td>\n",
              "      <td>23.780001</td>\n",
              "      <td>676.010010</td>\n",
              "      <td>156.949997</td>\n",
              "      <td>231.960007</td>\n",
              "      <td>737.599976</td>\n",
              "      <td>2106.629883</td>\n",
              "    </tr>\n",
              "    <tr>\n",
              "      <th>75%</th>\n",
              "      <td>175.019997</td>\n",
              "      <td>297.044998</td>\n",
              "      <td>37.419998</td>\n",
              "      <td>28.430000</td>\n",
              "      <td>1593.645019</td>\n",
              "      <td>185.974998</td>\n",
              "      <td>307.350006</td>\n",
              "      <td>1079.744995</td>\n",
              "      <td>2705.810059</td>\n",
              "    </tr>\n",
              "    <tr>\n",
              "      <th>max</th>\n",
              "      <td>455.609985</td>\n",
              "      <td>440.619995</td>\n",
              "      <td>43.470001</td>\n",
              "      <td>38.029999</td>\n",
              "      <td>3225.000000</td>\n",
              "      <td>215.800003</td>\n",
              "      <td>1643.000000</td>\n",
              "      <td>1568.489990</td>\n",
              "      <td>3386.149902</td>\n",
              "    </tr>\n",
              "  </tbody>\n",
              "</table>\n",
              "</div>"
            ],
            "text/plain": [
              "              AAPL           BA  ...         GOOG        sp500\n",
              "count  2159.000000  2159.000000  ...  2159.000000  2159.000000\n",
              "mean    140.819823   189.942700  ...   783.712512  2218.749554\n",
              "std      70.827601   103.678586  ...   334.448057   537.321727\n",
              "min      55.790001    67.239998  ...   278.481171  1278.040039\n",
              "25%      89.165714   124.015000  ...   527.214416  1847.984985\n",
              "50%     116.599998   142.419998  ...   737.599976  2106.629883\n",
              "75%     175.019997   297.044998  ...  1079.744995  2705.810059\n",
              "max     455.609985   440.619995  ...  1568.489990  3386.149902\n",
              "\n",
              "[8 rows x 9 columns]"
            ]
          },
          "metadata": {
            "tags": []
          },
          "execution_count": 25
        }
      ]
    },
    {
      "cell_type": "markdown",
      "metadata": {
        "id": "1wac0-nS-UBV"
      },
      "source": [
        "**MINI CHALLENGE #2 SOLUTION:**\n",
        "- **Print out normalized (scaled) stock prices**  \n"
      ]
    },
    {
      "cell_type": "code",
      "metadata": {
        "id": "EEte8SuW-UBY"
      },
      "source": [
        "# Function to normalize the prices based on the initial price\n",
        "# The function simply divides every stock by it's price at the start date (i.e.: Date = 2012-01-12)\t\n",
        "def normalize(df):\n",
        "  x = df.copy()\n",
        "\n",
        "  # Loop through each stock (while ignoring time columns with index 0)\n",
        "  for i in x.columns[1:]:\n",
        "    x[i] = x[i]/x[i][0]\n",
        "  return x"
      ],
      "execution_count": 26,
      "outputs": []
    },
    {
      "cell_type": "code",
      "metadata": {
        "id": "2eAllnw8-UBh",
        "outputId": "25ddfb3d-961f-432d-cb40-56475b30a687",
        "colab": {
          "base_uri": "https://localhost:8080/",
          "height": 198
        }
      },
      "source": [
        "# Plot normalized data\n",
        "# Notice the massive gains in Tesla Stock compared to Amazon (second place)\n",
        "show_plot(normalize(stocks_df), 'NORMALIZED STOCK PRICES')"
      ],
      "execution_count": 27,
      "outputs": [
        {
          "output_type": "error",
          "ename": "NameError",
          "evalue": "ignored",
          "traceback": [
            "\u001b[0;31m---------------------------------------------------------------------------\u001b[0m",
            "\u001b[0;31mNameError\u001b[0m                                 Traceback (most recent call last)",
            "\u001b[0;32m<ipython-input-27-40f6ec559424>\u001b[0m in \u001b[0;36m<module>\u001b[0;34m()\u001b[0m\n\u001b[1;32m      1\u001b[0m \u001b[0;31m# Plot normalized data\u001b[0m\u001b[0;34m\u001b[0m\u001b[0;34m\u001b[0m\u001b[0;34m\u001b[0m\u001b[0m\n\u001b[1;32m      2\u001b[0m \u001b[0;31m# Notice the massive gains in Tesla Stock compared to Amazon (second place)\u001b[0m\u001b[0;34m\u001b[0m\u001b[0;34m\u001b[0m\u001b[0;34m\u001b[0m\u001b[0m\n\u001b[0;32m----> 3\u001b[0;31m \u001b[0mshow_plot\u001b[0m\u001b[0;34m(\u001b[0m\u001b[0mnormalize\u001b[0m\u001b[0;34m(\u001b[0m\u001b[0mstocks_df\u001b[0m\u001b[0;34m)\u001b[0m\u001b[0;34m,\u001b[0m \u001b[0;34m'NORMALIZED STOCK PRICES'\u001b[0m\u001b[0;34m)\u001b[0m\u001b[0;34m\u001b[0m\u001b[0;34m\u001b[0m\u001b[0m\n\u001b[0m",
            "\u001b[0;31mNameError\u001b[0m: name 'show_plot' is not defined"
          ]
        }
      ]
    },
    {
      "cell_type": "markdown",
      "metadata": {
        "id": "WYfb-2x-EA75"
      },
      "source": [
        "**MINI CHALLENGE #3 SOLUTION:**\n",
        "- **Plot normalized stock data in an interactive way**\n",
        "- **It seems that most stocks experienced massive drops in 2020, let's assume that you own 100 shares of the S&P500 and you bought them on Feb 19th, 2020. How much did you lose (in $) by March 23rd, 2020?**\n"
      ]
    },
    {
      "cell_type": "code",
      "metadata": {
        "id": "44-2ihh7EA78"
      },
      "source": [
        "# Plot normalized interactive chart\n",
        "interactive_plot(normalize(stocks_df), 'Normalized Prices')\n"
      ],
      "execution_count": null,
      "outputs": []
    },
    {
      "cell_type": "code",
      "metadata": {
        "id": "AJJwBbBdEE4P"
      },
      "source": [
        "# S&P500 dropped from $3386.15 on Feb 19th, 2020 to $2237.4 by March 23rd, 2020 \n",
        "# Net loss = $3386.15 - $2237.4 = $1148.75"
      ],
      "execution_count": null,
      "outputs": []
    },
    {
      "cell_type": "markdown",
      "metadata": {
        "id": "VuWkmtdjGRir"
      },
      "source": [
        "**MINI CHALLENGE #4 SOLUTION:**\n",
        "- **Calculate the daily return for Amazon stock.**\n"
      ]
    },
    {
      "cell_type": "code",
      "metadata": {
        "id": "7OTA32P2GRiu"
      },
      "source": [
        "df = stocks_df['AMZN']"
      ],
      "execution_count": null,
      "outputs": []
    },
    {
      "cell_type": "markdown",
      "metadata": {
        "id": "GkoXdb8qIBT4"
      },
      "source": [
        "**MINI CHALLENGE #5 SOLUTION:**\n",
        "- **Plot the returns vs. time using both static and interactive plots**\n",
        "- **What is the maximum daily return in % values**"
      ]
    },
    {
      "cell_type": "code",
      "metadata": {
        "id": "sbdpW5cXIBT5"
      },
      "source": [
        "# Plot the daily returns\n",
        "# Notice huge drops in MGM around March 2020 (Pandemic effect)\n",
        "show_plot(stocks_daily_return, 'STOCKS DAILY RETURNS')"
      ],
      "execution_count": null,
      "outputs": []
    },
    {
      "cell_type": "code",
      "metadata": {
        "id": "QCz0zV9rIBT9"
      },
      "source": [
        "# Plot the interactive chart\n",
        "# Zoom in to view the sharp decline during March 2020\n",
        "interactive_plot(stocks_daily_return, 'STOCKS DAILY RETURNS')"
      ],
      "execution_count": null,
      "outputs": []
    },
    {
      "cell_type": "markdown",
      "metadata": {
        "id": "9Z4b3SVgKiUg"
      },
      "source": [
        "**MINI CHALLENGE #6 SOLUTION:**\n",
        "- **What are the top 2 stocks that are positively correlated with the S&P500?**\n",
        "- **What is the correlation between Amazon and Boeing? Comment on your answer**\n",
        "- **What is the correlation between MGM and Boeing? Comment on your answer**"
      ]
    },
    {
      "cell_type": "code",
      "metadata": {
        "id": "WVC-b21kKiUj"
      },
      "source": [
        "# Strong positive correlation between S&P500 and Google \n",
        "# Strong positive correlation between S&P500 and IBM\n",
        "# Almost no correlation between Amazon and Beoing - totally different sectors\n",
        "# Some correlation exists between MGM and Boeing (Hotel and Airlines)"
      ],
      "execution_count": null,
      "outputs": []
    },
    {
      "cell_type": "markdown",
      "metadata": {
        "id": "qzFPT2iALt-E"
      },
      "source": [
        "**MINI CHALLENGE #7 SOLUTION:**\n",
        "- **Based on the histogram, which of the following stocks are more risky? T or TSLA**"
      ]
    },
    {
      "cell_type": "code",
      "metadata": {
        "id": "T_DLcQ2rLt-F"
      },
      "source": [
        "# Tesla standard deviation is much larger compared to T indicating a more risky security"
      ],
      "execution_count": null,
      "outputs": []
    }
  ]
}
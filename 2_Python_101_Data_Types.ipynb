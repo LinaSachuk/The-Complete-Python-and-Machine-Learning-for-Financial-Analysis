{
  "nbformat": 4,
  "nbformat_minor": 0,
  "metadata": {
    "colab": {
      "name": "2. Python 101 - Data Types.ipynb",
      "provenance": [],
      "collapsed_sections": [],
      "include_colab_link": true
    },
    "kernelspec": {
      "name": "python3",
      "display_name": "Python 3"
    }
  },
  "cells": [
    {
      "cell_type": "markdown",
      "metadata": {
        "id": "view-in-github",
        "colab_type": "text"
      },
      "source": [
        "<a href=\"https://colab.research.google.com/github/LinaSachuk/The-Complete-Python-and-Machine-Learning-for-Financial-Analysis/blob/master/2_Python_101_Data_Types.ipynb\" target=\"_parent\"><img src=\"https://colab.research.google.com/assets/colab-badge.svg\" alt=\"Open In Colab\"/></a>"
      ]
    },
    {
      "cell_type": "markdown",
      "metadata": {
        "id": "jAvAN1PiB8bc"
      },
      "source": [
        "# 1. BOOLEANS"
      ]
    },
    {
      "cell_type": "code",
      "metadata": {
        "id": "nQxJN0ShB_Ae",
        "outputId": "78361ac4-a500-4f13-dd44-f1130f6c50a2",
        "colab": {
          "base_uri": "https://localhost:8080/"
        }
      },
      "source": [
        "# Boolean values can be represented as one of two constant objects \"False\" and \"True\". \n",
        "# Booleans behave like integers 0 and 1.\n",
        "\n",
        "True"
      ],
      "execution_count": 1,
      "outputs": [
        {
          "output_type": "execute_result",
          "data": {
            "text/plain": [
              "True"
            ]
          },
          "metadata": {
            "tags": []
          },
          "execution_count": 1
        }
      ]
    },
    {
      "cell_type": "code",
      "metadata": {
        "id": "MWOLRKg-B_D6",
        "outputId": "8e548175-7fe8-4509-f699-9ebbef3f03ed",
        "colab": {
          "base_uri": "https://localhost:8080/"
        }
      },
      "source": [
        "False"
      ],
      "execution_count": 2,
      "outputs": [
        {
          "output_type": "execute_result",
          "data": {
            "text/plain": [
              "False"
            ]
          },
          "metadata": {
            "tags": []
          },
          "execution_count": 2
        }
      ]
    },
    {
      "cell_type": "code",
      "metadata": {
        "id": "oDfoK28ZB_SO",
        "outputId": "8bc01112-3428-4b88-b5bb-f9e2483855c6",
        "colab": {
          "base_uri": "https://localhost:8080/"
        }
      },
      "source": [
        "stock_1_price = 100\n",
        "stock_2_price = 200\n",
        "\n",
        "print(stock_1_price == stock_2_price)"
      ],
      "execution_count": 3,
      "outputs": [
        {
          "output_type": "stream",
          "text": [
            "False\n"
          ],
          "name": "stdout"
        }
      ]
    },
    {
      "cell_type": "markdown",
      "metadata": {
        "id": "zK3GTZaCFwNt"
      },
      "source": [
        "**MINI CHALLENGE #1:** \n",
        "- **What will this code generate?**\n",
        "```\n",
        "stock_1_price = 20\n",
        "stock_2_price = 30\n",
        "print((stock_1_price < stock_2_price))\n",
        "print(stock_1_price == stock_2_price)\n",
        "```"
      ]
    },
    {
      "cell_type": "code",
      "metadata": {
        "id": "Fk7waP-xUtan",
        "outputId": "58971206-1cc5-4d1e-b5d4-9f9c8a0733de",
        "colab": {
          "base_uri": "https://localhost:8080/"
        }
      },
      "source": [
        "stock_1_price = 20\n",
        "stock_2_price = 30\n",
        "print((stock_1_price < stock_2_price))\n",
        "print(stock_1_price == stock_2_price)"
      ],
      "execution_count": 4,
      "outputs": [
        {
          "output_type": "stream",
          "text": [
            "True\n",
            "False\n"
          ],
          "name": "stdout"
        }
      ]
    },
    {
      "cell_type": "markdown",
      "metadata": {
        "id": "_5r-dUNX7nfy"
      },
      "source": [
        "# 2. LIST"
      ]
    },
    {
      "cell_type": "code",
      "metadata": {
        "id": "F27HZd8a60zD",
        "outputId": "1d04c48f-6f34-49bb-9f4b-5765b676ea9e",
        "colab": {
          "base_uri": "https://localhost:8080/"
        }
      },
      "source": [
        "# A list is a collection which is ordered and changeable. \n",
        "# List allows duplicate members.\n",
        "\n",
        "my_list = [2, 4, 5]\n",
        "my_list"
      ],
      "execution_count": 5,
      "outputs": [
        {
          "output_type": "execute_result",
          "data": {
            "text/plain": [
              "[2, 4, 5]"
            ]
          },
          "metadata": {
            "tags": []
          },
          "execution_count": 5
        }
      ]
    },
    {
      "cell_type": "code",
      "metadata": {
        "id": "AeHE6akU70RX",
        "outputId": "8c6b69c4-b23d-411c-a7b3-ca52cc7d2b16",
        "colab": {
          "base_uri": "https://localhost:8080/"
        }
      },
      "source": [
        "# Obtain the datatype\n",
        "\n",
        "type(my_list)"
      ],
      "execution_count": 6,
      "outputs": [
        {
          "output_type": "execute_result",
          "data": {
            "text/plain": [
              "list"
            ]
          },
          "metadata": {
            "tags": []
          },
          "execution_count": 6
        }
      ]
    },
    {
      "cell_type": "code",
      "metadata": {
        "id": "qaiXmQs570Vv",
        "outputId": "68dadf0c-46aa-4cdc-fbd8-16759a706b2f",
        "colab": {
          "base_uri": "https://localhost:8080/"
        }
      },
      "source": [
        "# list with mixed datatypes (for example you can have strings and integers in one list)\n",
        "\n",
        "my_list = [2, 'GOOG', 5]\n",
        "my_list"
      ],
      "execution_count": 7,
      "outputs": [
        {
          "output_type": "execute_result",
          "data": {
            "text/plain": [
              "[2, 'GOOG', 5]"
            ]
          },
          "metadata": {
            "tags": []
          },
          "execution_count": 7
        }
      ]
    },
    {
      "cell_type": "code",
      "metadata": {
        "id": "PNJjE3qX70YR",
        "outputId": "ef72d0d3-17e7-4913-d494-17b41d85831e",
        "colab": {
          "base_uri": "https://localhost:8080/"
        }
      },
      "source": [
        "# You can have a list inside another list (nested list)\n",
        "\n",
        "my_list = [4, 5 , [5,6,7]]\n",
        "my_list"
      ],
      "execution_count": 8,
      "outputs": [
        {
          "output_type": "execute_result",
          "data": {
            "text/plain": [
              "[4, 5, [5, 6, 7]]"
            ]
          },
          "metadata": {
            "tags": []
          },
          "execution_count": 8
        }
      ]
    },
    {
      "cell_type": "code",
      "metadata": {
        "id": "XZZiMb2c70f6",
        "outputId": "231b688c-c872-4597-9597-1851a34b9453",
        "colab": {
          "base_uri": "https://localhost:8080/"
        }
      },
      "source": [
        "# Access specific elements in the list with Indexing\n",
        "# Note that the first element in the list has an index of 0 (little confusing but you'll get used to it!)\n",
        "\n",
        "my_list = [5, 6, 'GOOG', 9]\n",
        "my_list[0]"
      ],
      "execution_count": 9,
      "outputs": [
        {
          "output_type": "execute_result",
          "data": {
            "text/plain": [
              "5"
            ]
          },
          "metadata": {
            "tags": []
          },
          "execution_count": 9
        }
      ]
    },
    {
      "cell_type": "code",
      "metadata": {
        "id": "I6z3Ls6R70iU",
        "outputId": "9db701f9-e8be-47d5-9bed-b2ee76d6ff3f",
        "colab": {
          "base_uri": "https://localhost:8080/"
        }
      },
      "source": [
        "# indexing for nested lists\n",
        "\n",
        "my_list = [4, 5 , [5,6,7, 'AAPL']]\n",
        "my_list[2]"
      ],
      "execution_count": 10,
      "outputs": [
        {
          "output_type": "execute_result",
          "data": {
            "text/plain": [
              "[5, 6, 7, 'AAPL']"
            ]
          },
          "metadata": {
            "tags": []
          },
          "execution_count": 10
        }
      ]
    },
    {
      "cell_type": "code",
      "metadata": {
        "id": "5Bx9hZPc70o4",
        "outputId": "d2036272-1037-44a1-fb09-4cdd3b1b3857",
        "colab": {
          "base_uri": "https://localhost:8080/",
          "height": 35
        }
      },
      "source": [
        "my_list[2][3]"
      ],
      "execution_count": 11,
      "outputs": [
        {
          "output_type": "execute_result",
          "data": {
            "application/vnd.google.colaboratory.intrinsic+json": {
              "type": "string"
            },
            "text/plain": [
              "'AAPL'"
            ]
          },
          "metadata": {
            "tags": []
          },
          "execution_count": 11
        }
      ]
    },
    {
      "cell_type": "code",
      "metadata": {
        "id": "4KVMQSCO70lg",
        "outputId": "7c0814a5-e07a-4c5e-d52d-660b6480359d",
        "colab": {
          "base_uri": "https://localhost:8080/"
        }
      },
      "source": [
        "# Negative Indexing\n",
        "\n",
        "my_list[-1]"
      ],
      "execution_count": 12,
      "outputs": [
        {
          "output_type": "execute_result",
          "data": {
            "text/plain": [
              "[5, 6, 7, 'AAPL']"
            ]
          },
          "metadata": {
            "tags": []
          },
          "execution_count": 12
        }
      ]
    },
    {
      "cell_type": "code",
      "metadata": {
        "id": "-Bw1wI_h70dw",
        "outputId": "c07120e9-b49a-4feb-a2db-cfde2b626194",
        "colab": {
          "base_uri": "https://localhost:8080/"
        }
      },
      "source": [
        "# List Slicing (getting more than one element from a list) \n",
        "\n",
        "my_list = [2, 5, 7, 'GOOG', 'SP500', \"AMZN\", 15]\n",
        "\n",
        "# obtain elements starting from index 3 up to and not including element with index 6  \n",
        "\n",
        "my_list[3:6]"
      ],
      "execution_count": 13,
      "outputs": [
        {
          "output_type": "execute_result",
          "data": {
            "text/plain": [
              "['GOOG', 'SP500', 'AMZN']"
            ]
          },
          "metadata": {
            "tags": []
          },
          "execution_count": 13
        }
      ]
    },
    {
      "cell_type": "code",
      "metadata": {
        "id": "VGsNNIpn9ILB",
        "outputId": "18d58cdc-c977-41a9-e838-0f0a55224c63",
        "colab": {
          "base_uri": "https://localhost:8080/"
        }
      },
      "source": [
        "# Obtain elements starting from index 3 to end\n",
        "\n",
        "my_list[3:]"
      ],
      "execution_count": 14,
      "outputs": [
        {
          "output_type": "execute_result",
          "data": {
            "text/plain": [
              "['GOOG', 'SP500', 'AMZN', 15]"
            ]
          },
          "metadata": {
            "tags": []
          },
          "execution_count": 14
        }
      ]
    },
    {
      "cell_type": "code",
      "metadata": {
        "id": "W0Z8oCAC9IJL",
        "outputId": "4821820f-c2ec-4a14-8d37-70b02f40b142",
        "colab": {
          "base_uri": "https://localhost:8080/"
        }
      },
      "source": [
        "# All elements start to end\n",
        "\n",
        "my_list[:]\n"
      ],
      "execution_count": 15,
      "outputs": [
        {
          "output_type": "execute_result",
          "data": {
            "text/plain": [
              "[2, 5, 7, 'GOOG', 'SP500', 'AMZN', 15]"
            ]
          },
          "metadata": {
            "tags": []
          },
          "execution_count": 15
        }
      ]
    },
    {
      "cell_type": "code",
      "metadata": {
        "id": "Z4sY6MEJ9IGv",
        "outputId": "2d0936ae-3f21-4122-d3f1-86b0cd04db25",
        "colab": {
          "base_uri": "https://localhost:8080/"
        }
      },
      "source": [
        "# Obtain the length of the list (how many elements in the list) \n",
        "\n",
        "len(my_list)"
      ],
      "execution_count": 16,
      "outputs": [
        {
          "output_type": "execute_result",
          "data": {
            "text/plain": [
              "7"
            ]
          },
          "metadata": {
            "tags": []
          },
          "execution_count": 16
        }
      ]
    },
    {
      "cell_type": "markdown",
      "metadata": {
        "id": "Q1qcVBl7G1GO"
      },
      "source": [
        "**MINI CHALLENGE #2:**\n",
        "- **Print the first, second and last element in the list below**\n",
        "- **Print all elements in the list, first 3 elements, and last three elements**\n",
        "\n",
        "```\n",
        "stocks = [\"GOOG\", \"TSLA\", \"AAPL\", \"T\", \"SP500\", \"BTC\", \"EUR/USD\"]\n",
        "```\n",
        "\n"
      ]
    },
    {
      "cell_type": "code",
      "metadata": {
        "id": "adQzmLx7Y7p7",
        "outputId": "315c3098-768f-4fef-860c-a764abc18e8f",
        "colab": {
          "base_uri": "https://localhost:8080/"
        }
      },
      "source": [
        "stocks = [\"GOOG\", \"TSLA\", \"AAPL\", \"T\", \"SP500\", \"BTC\", \"EUR/USD\"]\n",
        "\n",
        "print(stocks[0])\n",
        "print(stocks[1])\n",
        "print(stocks[-1])"
      ],
      "execution_count": 17,
      "outputs": [
        {
          "output_type": "stream",
          "text": [
            "GOOG\n",
            "TSLA\n",
            "EUR/USD\n"
          ],
          "name": "stdout"
        }
      ]
    },
    {
      "cell_type": "markdown",
      "metadata": {
        "id": "pqPdr6RNINsf"
      },
      "source": [
        "**MINI CHALLENGE #3:** \n",
        "- **Print GOOG**\n",
        "- **Print AAPL, GOOG, TSLA** \n",
        "- **Print T with two different ways**\n",
        "\n",
        "```\n",
        "my_list = [\"SP500\", [\"AAPL\", \"GOOG\", \"TSLA\"], \"BTC\", \"T\"]\n",
        "```\n"
      ]
    },
    {
      "cell_type": "code",
      "metadata": {
        "id": "4WR0KAJ9ee9K",
        "outputId": "ea17ffce-e7b6-48fa-887e-abc22947af59",
        "colab": {
          "base_uri": "https://localhost:8080/"
        }
      },
      "source": [
        "my_list = [\"SP500\", [\"AAPL\", \"GOOG\", \"TSLA\"], \"BTC\", \"T\"]\n",
        "\n",
        "print(my_list[1][1])\n",
        "print(my_list[1])\n",
        "print(my_list[-1])\n",
        "print(my_list[len(my_list) - 1])\n"
      ],
      "execution_count": 18,
      "outputs": [
        {
          "output_type": "stream",
          "text": [
            "GOOG\n",
            "['AAPL', 'GOOG', 'TSLA']\n",
            "T\n",
            "T\n"
          ],
          "name": "stdout"
        }
      ]
    },
    {
      "cell_type": "markdown",
      "metadata": {
        "id": "7a2j5iF8CYCU"
      },
      "source": [
        "# 3. DICTIONARY"
      ]
    },
    {
      "cell_type": "code",
      "metadata": {
        "id": "RrxN16VRCbyz"
      },
      "source": [
        "# my_dict = {'key1':'value1', 'key2':'value2', 'key3':'value3'}\n",
        "# Dictionary consists of a collection of key-value pairs. Each key-value pair maps the key to its corresponding value.\n",
        "# Keys are unique within a dictionary while values may not be. \n",
        "# List elements are accessed by their position in the list, via indexing while Dictionary elements are accessed via keys\n",
        "\n",
        "# Define a dictionary using key-value pairs\n",
        "\n",
        "my_dict = {\n",
        "    'key1': 'value1',\n",
        "    'key2': 'value2',\n",
        "    'key3': 'value3'\n",
        "}"
      ],
      "execution_count": 19,
      "outputs": []
    },
    {
      "cell_type": "code",
      "metadata": {
        "id": "dToa9hHWCcO5",
        "outputId": "a1b8d288-430f-42a3-aea0-7d6558697a21",
        "colab": {
          "base_uri": "https://localhost:8080/"
        }
      },
      "source": [
        "# View the dictionary\n",
        "\n",
        "my_dict"
      ],
      "execution_count": 20,
      "outputs": [
        {
          "output_type": "execute_result",
          "data": {
            "text/plain": [
              "{'key1': 'value1', 'key2': 'value2', 'key3': 'value3'}"
            ]
          },
          "metadata": {
            "tags": []
          },
          "execution_count": 20
        }
      ]
    },
    {
      "cell_type": "code",
      "metadata": {
        "id": "KczBnCdmCcA5",
        "outputId": "6a9b4e5e-8cc5-4946-cb82-b3a09108c8e7",
        "colab": {
          "base_uri": "https://localhost:8080/"
        }
      },
      "source": [
        "# Check the data type\n",
        "\n",
        "type(my_dict)"
      ],
      "execution_count": 21,
      "outputs": [
        {
          "output_type": "execute_result",
          "data": {
            "text/plain": [
              "dict"
            ]
          },
          "metadata": {
            "tags": []
          },
          "execution_count": 21
        }
      ]
    },
    {
      "cell_type": "code",
      "metadata": {
        "id": "dThsTYeaCb-l",
        "outputId": "2750d517-2d69-45b0-fcb1-61837988787a",
        "colab": {
          "base_uri": "https://localhost:8080/",
          "height": 35
        }
      },
      "source": [
        "# Access specific element in the dictionary using a specific key (ex: Key2)\n",
        "\n",
        "my_dict['key2']\n"
      ],
      "execution_count": 22,
      "outputs": [
        {
          "output_type": "execute_result",
          "data": {
            "application/vnd.google.colaboratory.intrinsic+json": {
              "type": "string"
            },
            "text/plain": [
              "'value2'"
            ]
          },
          "metadata": {
            "tags": []
          },
          "execution_count": 22
        }
      ]
    },
    {
      "cell_type": "code",
      "metadata": {
        "id": "Li70lw0jCb87",
        "outputId": "62979c94-b4f8-422d-c847-28ae0b1d05eb",
        "colab": {
          "base_uri": "https://localhost:8080/"
        }
      },
      "source": [
        "# Define a dictionary for a bank client listing all his/her assets! \n",
        "\n",
        "client_assets = {'Real estate': 150000,\n",
        "                 'stocks': 10000,\n",
        "                 'savings': 200000}\n",
        "\n",
        "print(client_assets)                 "
      ],
      "execution_count": 23,
      "outputs": [
        {
          "output_type": "stream",
          "text": [
            "{'Real estate': 150000, 'stocks': 10000, 'savings': 200000}\n"
          ],
          "name": "stdout"
        }
      ]
    },
    {
      "cell_type": "code",
      "metadata": {
        "id": "G_I_rJsWCb6E",
        "outputId": "0710dc7b-9637-4ac7-ac15-c214ed08b8ec",
        "colab": {
          "base_uri": "https://localhost:8080/"
        }
      },
      "source": [
        "# Access elements in the dictionary\n",
        "\n",
        "client_assets['stocks']"
      ],
      "execution_count": 24,
      "outputs": [
        {
          "output_type": "execute_result",
          "data": {
            "text/plain": [
              "10000"
            ]
          },
          "metadata": {
            "tags": []
          },
          "execution_count": 24
        }
      ]
    },
    {
      "cell_type": "code",
      "metadata": {
        "id": "1DigIhEQCb3x",
        "outputId": "61dd73d0-6b27-4310-ee36-181c7d0ca013",
        "colab": {
          "base_uri": "https://localhost:8080/"
        }
      },
      "source": [
        "# Add a new item to an existing dictionary\n",
        "\n",
        "client_assets['Crypto'] = 1500\n",
        "client_assets"
      ],
      "execution_count": 25,
      "outputs": [
        {
          "output_type": "execute_result",
          "data": {
            "text/plain": [
              "{'Crypto': 1500, 'Real estate': 150000, 'savings': 200000, 'stocks': 10000}"
            ]
          },
          "metadata": {
            "tags": []
          },
          "execution_count": 25
        }
      ]
    },
    {
      "cell_type": "code",
      "metadata": {
        "id": "m05N8LIiCb0_",
        "outputId": "d7876443-73f6-47a2-dca7-2dc74a3764c8",
        "colab": {
          "base_uri": "https://localhost:8080/"
        }
      },
      "source": [
        "# remove an item from the dictionary\n",
        "\n",
        "del client_assets['savings']\n",
        "client_assets"
      ],
      "execution_count": 26,
      "outputs": [
        {
          "output_type": "execute_result",
          "data": {
            "text/plain": [
              "{'Crypto': 1500, 'Real estate': 150000, 'stocks': 10000}"
            ]
          },
          "metadata": {
            "tags": []
          },
          "execution_count": 26
        }
      ]
    },
    {
      "cell_type": "code",
      "metadata": {
        "id": "c4GKclEzCoMe"
      },
      "source": [
        "# delete the entire dictionary\n",
        "# Note that you cannot print it out again because the entire dictionary has been deleted\n",
        "\n",
        "del client_assets"
      ],
      "execution_count": 27,
      "outputs": []
    },
    {
      "cell_type": "markdown",
      "metadata": {
        "id": "9llozT9XLiqI"
      },
      "source": [
        "**MINI CHALLENGE #4:**\n",
        "- **Create a dictionary with 3 of your favourite stocks and their prices** \n"
      ]
    },
    {
      "cell_type": "code",
      "metadata": {
        "id": "KHOBUBNeKDXr",
        "outputId": "de656473-1402-437f-a300-ce3c1f668bed",
        "colab": {
          "base_uri": "https://localhost:8080/"
        }
      },
      "source": [
        "stocks = {'SP500': 3000,\n",
        "          'AAPL': 400,\n",
        "          'TSLA': 2200}\n",
        "stocks"
      ],
      "execution_count": 28,
      "outputs": [
        {
          "output_type": "execute_result",
          "data": {
            "text/plain": [
              "{'AAPL': 400, 'SP500': 3000, 'TSLA': 2200}"
            ]
          },
          "metadata": {
            "tags": []
          },
          "execution_count": 28
        }
      ]
    },
    {
      "cell_type": "markdown",
      "metadata": {
        "id": "6kLIKQOZ6rNe"
      },
      "source": [
        "# 4. STRINGS"
      ]
    },
    {
      "cell_type": "code",
      "metadata": {
        "id": "rDjVcbLd6xJf",
        "outputId": "9c68c399-b3a1-4f60-cfa7-3214d7189b29",
        "colab": {
          "base_uri": "https://localhost:8080/",
          "height": 35
        }
      },
      "source": [
        "# A string in Python is a sequence of characters\n",
        "# String can be enclosed by either double or single quotes\n",
        "\n",
        "my_string = 'Hello everyone and welcome to Python for Finance course'\n",
        "my_string"
      ],
      "execution_count": 55,
      "outputs": [
        {
          "output_type": "execute_result",
          "data": {
            "application/vnd.google.colaboratory.intrinsic+json": {
              "type": "string"
            },
            "text/plain": [
              "'Hello everyone and welcome to Python for Finance course'"
            ]
          },
          "metadata": {
            "tags": []
          },
          "execution_count": 55
        }
      ]
    },
    {
      "cell_type": "code",
      "metadata": {
        "id": "_UN8zNOJ60ud",
        "outputId": "d6873c0d-e43e-42ca-d42d-19388550ae09",
        "colab": {
          "base_uri": "https://localhost:8080/"
        }
      },
      "source": [
        "# Obtain the datatype\n",
        "\n",
        "type(my_string)"
      ],
      "execution_count": 56,
      "outputs": [
        {
          "output_type": "execute_result",
          "data": {
            "text/plain": [
              "str"
            ]
          },
          "metadata": {
            "tags": []
          },
          "execution_count": 56
        }
      ]
    },
    {
      "cell_type": "code",
      "metadata": {
        "id": "2r3aHdjn60wz"
      },
      "source": [
        "# Combining two strings together (Let's combine the first and last name of a bank's client)\n",
        "\n"
      ],
      "execution_count": 31,
      "outputs": []
    },
    {
      "cell_type": "code",
      "metadata": {
        "id": "8DZ5JbeX601H"
      },
      "source": [
        "# You can combine both strings together and add spaces in between\n"
      ],
      "execution_count": 32,
      "outputs": []
    },
    {
      "cell_type": "code",
      "metadata": {
        "id": "zOIOaPKf603q"
      },
      "source": [
        "# Methods on strings \n",
        "# upper will be used to convert the string into upper case\n"
      ],
      "execution_count": 33,
      "outputs": []
    },
    {
      "cell_type": "code",
      "metadata": {
        "id": "cX2lIPy-606m"
      },
      "source": [
        "# Split us used to divide up the string into words \n",
        "# The output from split is a list\n"
      ],
      "execution_count": 34,
      "outputs": []
    },
    {
      "cell_type": "code",
      "metadata": {
        "id": "sL0bYlxv8PLN"
      },
      "source": [
        "# Let's check that the datatype is list!\n"
      ],
      "execution_count": 35,
      "outputs": []
    },
    {
      "cell_type": "code",
      "metadata": {
        "id": "sMlID0mv8Udk"
      },
      "source": [
        "# you can index any element in the list using indexing\n"
      ],
      "execution_count": 36,
      "outputs": []
    },
    {
      "cell_type": "code",
      "metadata": {
        "id": "icNCEq2x609e"
      },
      "source": [
        "# you can specify which letter could be choosed to perform the split\n"
      ],
      "execution_count": 37,
      "outputs": []
    },
    {
      "cell_type": "markdown",
      "metadata": {
        "id": "9cN9W4bkM-vs"
      },
      "source": [
        "**MINI CHALLENGE #5:**\n",
        "- **Write a code that takes an input from a bank client asking him/her about their feedback regarding the service. The code should split the client input into words and print them on screen**\n"
      ]
    },
    {
      "cell_type": "code",
      "metadata": {
        "id": "cWKRpQ7WOSnu"
      },
      "source": [
        ""
      ],
      "execution_count": 37,
      "outputs": []
    },
    {
      "cell_type": "markdown",
      "metadata": {
        "id": "EdyxRUooNz5m"
      },
      "source": [
        "**MINI CHALLENGE #6:**\n",
        "- **Write a code that prompts a user requesting his/her e-mail and then extracts the user first name (Note that the e-mail is in firstname.lastname@gmail.com**\n"
      ]
    },
    {
      "cell_type": "code",
      "metadata": {
        "id": "0P41ds4zNrKl"
      },
      "source": [
        ""
      ],
      "execution_count": 37,
      "outputs": []
    },
    {
      "cell_type": "markdown",
      "metadata": {
        "id": "A0luXBRqEGai"
      },
      "source": [
        "# 5. TUPLES"
      ]
    },
    {
      "cell_type": "code",
      "metadata": {
        "id": "WNh06IuWENEw"
      },
      "source": [
        "# A tuple is a sequence of immutable Python objects. \n",
        "# Tuples are sequences, just like lists. \n",
        "# The differences between tuples and lists are, the tuples cannot be changed unlike lists and tuples use parentheses, whereas lists use square brackets."
      ],
      "execution_count": 38,
      "outputs": []
    },
    {
      "cell_type": "code",
      "metadata": {
        "id": "U0fyXOJPENDi"
      },
      "source": [
        ""
      ],
      "execution_count": 38,
      "outputs": []
    },
    {
      "cell_type": "code",
      "metadata": {
        "id": "STfK4bAoEM_8"
      },
      "source": [
        ""
      ],
      "execution_count": 38,
      "outputs": []
    },
    {
      "cell_type": "code",
      "metadata": {
        "id": "my6d1Ou-EM-y"
      },
      "source": [
        "# Accessing elements in a tuple\n"
      ],
      "execution_count": 39,
      "outputs": []
    },
    {
      "cell_type": "code",
      "metadata": {
        "id": "IIeC1e3qEWz6"
      },
      "source": [
        "# Tuple slicing\n"
      ],
      "execution_count": 40,
      "outputs": []
    },
    {
      "cell_type": "code",
      "metadata": {
        "id": "o_yady6jEWwL"
      },
      "source": [
        "# Changing a vlue of a tuple does not work! \n",
        "# 'tuple' object does not support item assignment\n"
      ],
      "execution_count": 41,
      "outputs": []
    },
    {
      "cell_type": "code",
      "metadata": {
        "id": "BCgEz7CdEWuP"
      },
      "source": [
        "# Create a New Tuple from existing Tuples\n"
      ],
      "execution_count": 42,
      "outputs": []
    },
    {
      "cell_type": "markdown",
      "metadata": {
        "id": "RmZ49NcKPKII"
      },
      "source": [
        "**MINI CHALLENGE #7:**\n",
        "- **Define a tuple with your first name, last name, age and the number of stocks in your portfolio. Find the length and type as well.**\n"
      ]
    },
    {
      "cell_type": "code",
      "metadata": {
        "id": "xMKjCcejQtJI"
      },
      "source": [
        ""
      ],
      "execution_count": 42,
      "outputs": []
    },
    {
      "cell_type": "markdown",
      "metadata": {
        "id": "B7clmiIJEJF0"
      },
      "source": [
        "# 6. SETS "
      ]
    },
    {
      "cell_type": "code",
      "metadata": {
        "id": "wRAHn1SiEN2I"
      },
      "source": [
        "# A set is an unordered collection of items. Every element is unique (no duplicates).\n",
        "# A set is created by placing all the items (elements) inside curly braces {}, separated by comma or by using the built-in function set().\n",
        "# set of integers\n",
        "\n"
      ],
      "execution_count": 43,
      "outputs": []
    },
    {
      "cell_type": "code",
      "metadata": {
        "id": "4Y6cT3ykENzZ"
      },
      "source": [
        "# set do not have duplicates\n"
      ],
      "execution_count": 44,
      "outputs": []
    },
    {
      "cell_type": "markdown",
      "metadata": {
        "id": "XjibM376ROGD"
      },
      "source": [
        "**MINI CHALLENGE #8:**\n",
        "- **Remove the duplicates from the following list:**\n",
        "\n",
        "\n",
        "```\n",
        "my_list = ['GOOG', 'APPL', 'T','TSLA','T','AAPL', 5, 6,5]\n",
        "```\n",
        "\n",
        "\n"
      ]
    },
    {
      "cell_type": "code",
      "metadata": {
        "id": "EpKrum8GSOuv"
      },
      "source": [
        ""
      ],
      "execution_count": 44,
      "outputs": []
    },
    {
      "cell_type": "markdown",
      "metadata": {
        "id": "OlonkaQNGdsP"
      },
      "source": [
        "# MINI CHALLENGE SOLUTIONS"
      ]
    },
    {
      "cell_type": "markdown",
      "metadata": {
        "id": "bDojguHPUkBD"
      },
      "source": [
        "**MINI CHALLENGE #1 SOLUTION:** \n",
        "- **What will this code generate?**\n",
        "```\n",
        "stock_1_price = 20\n",
        "stock_2_price = 30\n",
        "print((stock_1_price < stock_2_price))\n",
        "print(stock_1_price == stock_2_price)\n",
        "```"
      ]
    },
    {
      "cell_type": "code",
      "metadata": {
        "id": "wRRbOc1ZUkBG",
        "outputId": "96c5c824-3930-4fcb-92fd-496ccf2e15a3",
        "colab": {
          "base_uri": "https://localhost:8080/"
        }
      },
      "source": [
        "stock_1_price = 20\n",
        "stock_2_price = 30\n",
        "print((stock_1_price < stock_2_price))\n",
        "print(stock_1_price == stock_2_price)"
      ],
      "execution_count": 45,
      "outputs": [
        {
          "output_type": "stream",
          "text": [
            "True\n",
            "False\n"
          ],
          "name": "stdout"
        }
      ]
    },
    {
      "cell_type": "markdown",
      "metadata": {
        "id": "T1ru2bTNHmoL"
      },
      "source": [
        "**MINI CHALLENGE #2 SOLUTION:**\n",
        "- **Print the first, second and last element in the list**\n",
        "- **Print all elements in the list, first 3 elements, and last three elements**\n",
        "\n",
        "```\n",
        "stocks = [\"GOOG\", \"TSLA\", \"AAPL\", \"T\", \"SP500\", \"BTC\", \"EUR/USD\"]\n",
        "```\n",
        "\n"
      ]
    },
    {
      "cell_type": "code",
      "metadata": {
        "id": "q9ayDKUZGlrZ",
        "outputId": "5c2c5fce-2149-49b2-dd5e-924c3f0b7137",
        "colab": {
          "base_uri": "https://localhost:8080/"
        }
      },
      "source": [
        "stocks = [\"GOOG\", \"TSLA\", \"AAPL\", \"T\", \"SP500\", \"BTC\", \"EUR/USD\"]\n",
        "print(stocks[0])\n",
        "print(stocks[1])\n",
        "print(stocks[-1])"
      ],
      "execution_count": 46,
      "outputs": [
        {
          "output_type": "stream",
          "text": [
            "GOOG\n",
            "TSLA\n",
            "EUR/USD\n"
          ],
          "name": "stdout"
        }
      ]
    },
    {
      "cell_type": "code",
      "metadata": {
        "id": "4WgvQ2ZTdJMZ",
        "outputId": "d4fb3b2f-1efe-4713-a0e8-e364225ee320",
        "colab": {
          "base_uri": "https://localhost:8080/"
        }
      },
      "source": [
        "print(stocks[:])\n",
        "print(stocks[0:3])\n",
        "print(stocks[4:])"
      ],
      "execution_count": 47,
      "outputs": [
        {
          "output_type": "stream",
          "text": [
            "['GOOG', 'TSLA', 'AAPL', 'T', 'SP500', 'BTC', 'EUR/USD']\n",
            "['GOOG', 'TSLA', 'AAPL']\n",
            "['SP500', 'BTC', 'EUR/USD']\n"
          ],
          "name": "stdout"
        }
      ]
    },
    {
      "cell_type": "markdown",
      "metadata": {
        "id": "UkLWVRadJqEx"
      },
      "source": [
        "**MINI CHALLENGE #3 SOLUTION:** \n",
        "- **Print GOOG**\n",
        "- **Print AAPL, GOOG, TSLA** \n",
        "- **Print T with two different ways**\n",
        "\n",
        "```\n",
        "my_list = [\"SP500\", [\"AAPL\", \"GOOG\", \"TSLA\"], \"BTC\", \"T\"]\n",
        "```\n"
      ]
    },
    {
      "cell_type": "code",
      "metadata": {
        "id": "ehC3hFiaJ1tI"
      },
      "source": [
        "my_list = [\"SP500\", [\"AAPL\", \"GOOG\", \"TSLA\"], \"BTC\", \"T\"]"
      ],
      "execution_count": 48,
      "outputs": []
    },
    {
      "cell_type": "code",
      "metadata": {
        "id": "gbsBgd3IHtDl",
        "outputId": "d6d201f4-b7be-4804-ca7f-454ad6dfe916",
        "colab": {
          "base_uri": "https://localhost:8080/"
        }
      },
      "source": [
        "print(my_list[1][1])"
      ],
      "execution_count": 49,
      "outputs": [
        {
          "output_type": "stream",
          "text": [
            "GOOG\n"
          ],
          "name": "stdout"
        }
      ]
    },
    {
      "cell_type": "code",
      "metadata": {
        "id": "0jim9gFbJudm",
        "outputId": "c36e0801-d4c1-43ff-d63d-bb16b721e735",
        "colab": {
          "base_uri": "https://localhost:8080/"
        }
      },
      "source": [
        "print(my_list[1])"
      ],
      "execution_count": 50,
      "outputs": [
        {
          "output_type": "stream",
          "text": [
            "['AAPL', 'GOOG', 'TSLA']\n"
          ],
          "name": "stdout"
        }
      ]
    },
    {
      "cell_type": "code",
      "metadata": {
        "id": "ze7mvHDaJucK",
        "outputId": "7de34cb4-8eb0-4e0f-ee82-2d0d956f6f48",
        "colab": {
          "base_uri": "https://localhost:8080/"
        }
      },
      "source": [
        "print(my_list[3])"
      ],
      "execution_count": 51,
      "outputs": [
        {
          "output_type": "stream",
          "text": [
            "T\n"
          ],
          "name": "stdout"
        }
      ]
    },
    {
      "cell_type": "code",
      "metadata": {
        "id": "xrSiB-jqJuYA",
        "outputId": "f5ede7ad-6d38-4feb-f2b7-a93503fa2b71",
        "colab": {
          "base_uri": "https://localhost:8080/"
        }
      },
      "source": [
        "print(my_list[-1])"
      ],
      "execution_count": 52,
      "outputs": [
        {
          "output_type": "stream",
          "text": [
            "T\n"
          ],
          "name": "stdout"
        }
      ]
    },
    {
      "cell_type": "markdown",
      "metadata": {
        "id": "R3Wx0fsDMJN5"
      },
      "source": [
        "**MINI CHALLENGE #4 SOLUTION:**\n",
        "- **Create a dictionary with 3 of your favourite stocks and their prices** "
      ]
    },
    {
      "cell_type": "code",
      "metadata": {
        "id": "ySbAAjGkMJ7y",
        "outputId": "b4c77e4b-eb0f-43d5-a6f1-9257c38bba2d",
        "colab": {
          "base_uri": "https://localhost:8080/"
        }
      },
      "source": [
        "stocks = {\"SP500\": 3000, \n",
        "          \"AAPL\": 400,\n",
        "          \"TSLA\": 2200}\n",
        "print(stocks)\n"
      ],
      "execution_count": 53,
      "outputs": [
        {
          "output_type": "stream",
          "text": [
            "{'SP500': 3000, 'AAPL': 400, 'TSLA': 2200}\n"
          ],
          "name": "stdout"
        }
      ]
    },
    {
      "cell_type": "markdown",
      "metadata": {
        "id": "_4QByu-tNjpA"
      },
      "source": [
        "**MINI CHALLENGE #5 SOLUTION:**\n",
        "- **Write a code that takes an input from a bank client asking him/her about their feedback regarding the service. The code should split the client input into words and print them on screen**\n"
      ]
    },
    {
      "cell_type": "code",
      "metadata": {
        "id": "nLWrLgB-NjpB",
        "outputId": "46c07419-d3b6-4e97-9744-cb7f68081c61",
        "colab": {
          "base_uri": "https://localhost:8080/",
          "height": 1000
        }
      },
      "source": [
        "my_string = str(input(\"What did we do at the bank today? are you satisfied with the service\"))\n",
        "words = my_string.split(\" \")\n",
        "print(\"Here are the list of words you entered:\", words)"
      ],
      "execution_count": 54,
      "outputs": [
        {
          "output_type": "stream",
          "text": [
            "ERROR:root:Internal Python error in the inspect module.\n",
            "Below is the traceback from this internal error.\n",
            "\n"
          ],
          "name": "stderr"
        },
        {
          "output_type": "stream",
          "text": [
            "Traceback (most recent call last):\n",
            "  File \"/usr/local/lib/python3.6/dist-packages/ipykernel/kernelbase.py\", line 729, in _input_request\n",
            "    ident, reply = self.session.recv(self.stdin_socket, 0)\n",
            "  File \"/usr/local/lib/python3.6/dist-packages/jupyter_client/session.py\", line 803, in recv\n",
            "    msg_list = socket.recv_multipart(mode, copy=copy)\n",
            "  File \"/usr/local/lib/python3.6/dist-packages/zmq/sugar/socket.py\", line 491, in recv_multipart\n",
            "    parts = [self.recv(flags, copy=copy, track=track)]\n",
            "  File \"zmq/backend/cython/socket.pyx\", line 791, in zmq.backend.cython.socket.Socket.recv\n",
            "  File \"zmq/backend/cython/socket.pyx\", line 827, in zmq.backend.cython.socket.Socket.recv\n",
            "  File \"zmq/backend/cython/socket.pyx\", line 186, in zmq.backend.cython.socket._recv_copy\n",
            "  File \"zmq/backend/cython/checkrc.pxd\", line 13, in zmq.backend.cython.checkrc._check_rc\n",
            "KeyboardInterrupt\n",
            "\n",
            "During handling of the above exception, another exception occurred:\n",
            "\n",
            "Traceback (most recent call last):\n",
            "  File \"/usr/local/lib/python3.6/dist-packages/IPython/core/interactiveshell.py\", line 2882, in run_code\n",
            "    exec(code_obj, self.user_global_ns, self.user_ns)\n",
            "  File \"<ipython-input-54-06193f1821a7>\", line 1, in <module>\n",
            "    my_string = str(input(\"What did we do at the bank today? are you satisfied with the service\"))\n",
            "  File \"/usr/local/lib/python3.6/dist-packages/ipykernel/kernelbase.py\", line 704, in raw_input\n",
            "    password=False,\n",
            "  File \"/usr/local/lib/python3.6/dist-packages/ipykernel/kernelbase.py\", line 734, in _input_request\n",
            "    raise KeyboardInterrupt\n",
            "KeyboardInterrupt\n",
            "\n",
            "During handling of the above exception, another exception occurred:\n",
            "\n",
            "Traceback (most recent call last):\n",
            "  File \"/usr/local/lib/python3.6/dist-packages/IPython/core/interactiveshell.py\", line 1823, in showtraceback\n",
            "    stb = value._render_traceback_()\n",
            "AttributeError: 'KeyboardInterrupt' object has no attribute '_render_traceback_'\n",
            "\n",
            "During handling of the above exception, another exception occurred:\n",
            "\n",
            "Traceback (most recent call last):\n",
            "  File \"/usr/local/lib/python3.6/dist-packages/IPython/core/ultratb.py\", line 1132, in get_records\n",
            "    return _fixed_getinnerframes(etb, number_of_lines_of_context, tb_offset)\n",
            "  File \"/usr/local/lib/python3.6/dist-packages/IPython/core/ultratb.py\", line 313, in wrapped\n",
            "    return f(*args, **kwargs)\n",
            "  File \"/usr/local/lib/python3.6/dist-packages/IPython/core/ultratb.py\", line 358, in _fixed_getinnerframes\n",
            "    records = fix_frame_records_filenames(inspect.getinnerframes(etb, context))\n",
            "  File \"/usr/lib/python3.6/inspect.py\", line 1490, in getinnerframes\n",
            "    frameinfo = (tb.tb_frame,) + getframeinfo(tb, context)\n",
            "  File \"/usr/lib/python3.6/inspect.py\", line 1448, in getframeinfo\n",
            "    filename = getsourcefile(frame) or getfile(frame)\n",
            "  File \"/usr/lib/python3.6/inspect.py\", line 696, in getsourcefile\n",
            "    if getattr(getmodule(object, filename), '__loader__', None) is not None:\n",
            "  File \"/usr/lib/python3.6/inspect.py\", line 742, in getmodule\n",
            "    os.path.realpath(f)] = module.__name__\n",
            "  File \"/usr/lib/python3.6/posixpath.py\", line 394, in realpath\n",
            "    filename = os.fspath(filename)\n",
            "KeyboardInterrupt\n"
          ],
          "name": "stdout"
        },
        {
          "output_type": "error",
          "ename": "TypeError",
          "evalue": "ignored",
          "traceback": [
            "\u001b[0;31m---------------------------------------------------------------------------\u001b[0m",
            "\u001b[0;31mKeyboardInterrupt\u001b[0m                         Traceback (most recent call last)",
            "\u001b[0;32m/usr/local/lib/python3.6/dist-packages/ipykernel/kernelbase.py\u001b[0m in \u001b[0;36m_input_request\u001b[0;34m(self, prompt, ident, parent, password)\u001b[0m\n\u001b[1;32m    728\u001b[0m             \u001b[0;32mtry\u001b[0m\u001b[0;34m:\u001b[0m\u001b[0;34m\u001b[0m\u001b[0;34m\u001b[0m\u001b[0m\n\u001b[0;32m--> 729\u001b[0;31m                 \u001b[0mident\u001b[0m\u001b[0;34m,\u001b[0m \u001b[0mreply\u001b[0m \u001b[0;34m=\u001b[0m \u001b[0mself\u001b[0m\u001b[0;34m.\u001b[0m\u001b[0msession\u001b[0m\u001b[0;34m.\u001b[0m\u001b[0mrecv\u001b[0m\u001b[0;34m(\u001b[0m\u001b[0mself\u001b[0m\u001b[0;34m.\u001b[0m\u001b[0mstdin_socket\u001b[0m\u001b[0;34m,\u001b[0m \u001b[0;36m0\u001b[0m\u001b[0;34m)\u001b[0m\u001b[0;34m\u001b[0m\u001b[0;34m\u001b[0m\u001b[0m\n\u001b[0m\u001b[1;32m    730\u001b[0m             \u001b[0;32mexcept\u001b[0m \u001b[0mException\u001b[0m\u001b[0;34m:\u001b[0m\u001b[0;34m\u001b[0m\u001b[0;34m\u001b[0m\u001b[0m\n",
            "\u001b[0;32m/usr/local/lib/python3.6/dist-packages/jupyter_client/session.py\u001b[0m in \u001b[0;36mrecv\u001b[0;34m(self, socket, mode, content, copy)\u001b[0m\n\u001b[1;32m    802\u001b[0m         \u001b[0;32mtry\u001b[0m\u001b[0;34m:\u001b[0m\u001b[0;34m\u001b[0m\u001b[0;34m\u001b[0m\u001b[0m\n\u001b[0;32m--> 803\u001b[0;31m             \u001b[0mmsg_list\u001b[0m \u001b[0;34m=\u001b[0m \u001b[0msocket\u001b[0m\u001b[0;34m.\u001b[0m\u001b[0mrecv_multipart\u001b[0m\u001b[0;34m(\u001b[0m\u001b[0mmode\u001b[0m\u001b[0;34m,\u001b[0m \u001b[0mcopy\u001b[0m\u001b[0;34m=\u001b[0m\u001b[0mcopy\u001b[0m\u001b[0;34m)\u001b[0m\u001b[0;34m\u001b[0m\u001b[0;34m\u001b[0m\u001b[0m\n\u001b[0m\u001b[1;32m    804\u001b[0m         \u001b[0;32mexcept\u001b[0m \u001b[0mzmq\u001b[0m\u001b[0;34m.\u001b[0m\u001b[0mZMQError\u001b[0m \u001b[0;32mas\u001b[0m \u001b[0me\u001b[0m\u001b[0;34m:\u001b[0m\u001b[0;34m\u001b[0m\u001b[0;34m\u001b[0m\u001b[0m\n",
            "\u001b[0;32m/usr/local/lib/python3.6/dist-packages/zmq/sugar/socket.py\u001b[0m in \u001b[0;36mrecv_multipart\u001b[0;34m(self, flags, copy, track)\u001b[0m\n\u001b[1;32m    490\u001b[0m         \"\"\"\n\u001b[0;32m--> 491\u001b[0;31m         \u001b[0mparts\u001b[0m \u001b[0;34m=\u001b[0m \u001b[0;34m[\u001b[0m\u001b[0mself\u001b[0m\u001b[0;34m.\u001b[0m\u001b[0mrecv\u001b[0m\u001b[0;34m(\u001b[0m\u001b[0mflags\u001b[0m\u001b[0;34m,\u001b[0m \u001b[0mcopy\u001b[0m\u001b[0;34m=\u001b[0m\u001b[0mcopy\u001b[0m\u001b[0;34m,\u001b[0m \u001b[0mtrack\u001b[0m\u001b[0;34m=\u001b[0m\u001b[0mtrack\u001b[0m\u001b[0;34m)\u001b[0m\u001b[0;34m]\u001b[0m\u001b[0;34m\u001b[0m\u001b[0;34m\u001b[0m\u001b[0m\n\u001b[0m\u001b[1;32m    492\u001b[0m         \u001b[0;31m# have first part already, only loop while more to receive\u001b[0m\u001b[0;34m\u001b[0m\u001b[0;34m\u001b[0m\u001b[0;34m\u001b[0m\u001b[0m\n",
            "\u001b[0;32mzmq/backend/cython/socket.pyx\u001b[0m in \u001b[0;36mzmq.backend.cython.socket.Socket.recv\u001b[0;34m()\u001b[0m\n",
            "\u001b[0;32mzmq/backend/cython/socket.pyx\u001b[0m in \u001b[0;36mzmq.backend.cython.socket.Socket.recv\u001b[0;34m()\u001b[0m\n",
            "\u001b[0;32mzmq/backend/cython/socket.pyx\u001b[0m in \u001b[0;36mzmq.backend.cython.socket._recv_copy\u001b[0;34m()\u001b[0m\n",
            "\u001b[0;32m/usr/local/lib/python3.6/dist-packages/zmq/backend/cython/checkrc.pxd\u001b[0m in \u001b[0;36mzmq.backend.cython.checkrc._check_rc\u001b[0;34m()\u001b[0m\n",
            "\u001b[0;31mKeyboardInterrupt\u001b[0m: ",
            "\nDuring handling of the above exception, another exception occurred:\n",
            "\u001b[0;31mKeyboardInterrupt\u001b[0m                         Traceback (most recent call last)",
            "\u001b[0;32m/usr/local/lib/python3.6/dist-packages/IPython/core/interactiveshell.py\u001b[0m in \u001b[0;36mrun_code\u001b[0;34m(self, code_obj, result)\u001b[0m\n\u001b[1;32m   2881\u001b[0m                 \u001b[0;31m#rprint('Running code', repr(code_obj)) # dbg\u001b[0m\u001b[0;34m\u001b[0m\u001b[0;34m\u001b[0m\u001b[0;34m\u001b[0m\u001b[0m\n\u001b[0;32m-> 2882\u001b[0;31m                 \u001b[0mexec\u001b[0m\u001b[0;34m(\u001b[0m\u001b[0mcode_obj\u001b[0m\u001b[0;34m,\u001b[0m \u001b[0mself\u001b[0m\u001b[0;34m.\u001b[0m\u001b[0muser_global_ns\u001b[0m\u001b[0;34m,\u001b[0m \u001b[0mself\u001b[0m\u001b[0;34m.\u001b[0m\u001b[0muser_ns\u001b[0m\u001b[0;34m)\u001b[0m\u001b[0;34m\u001b[0m\u001b[0;34m\u001b[0m\u001b[0m\n\u001b[0m\u001b[1;32m   2883\u001b[0m             \u001b[0;32mfinally\u001b[0m\u001b[0;34m:\u001b[0m\u001b[0;34m\u001b[0m\u001b[0;34m\u001b[0m\u001b[0m\n",
            "\u001b[0;32m<ipython-input-54-06193f1821a7>\u001b[0m in \u001b[0;36m<module>\u001b[0;34m()\u001b[0m\n\u001b[0;32m----> 1\u001b[0;31m \u001b[0mmy_string\u001b[0m \u001b[0;34m=\u001b[0m \u001b[0mstr\u001b[0m\u001b[0;34m(\u001b[0m\u001b[0minput\u001b[0m\u001b[0;34m(\u001b[0m\u001b[0;34m\"What did we do at the bank today? are you satisfied with the service\"\u001b[0m\u001b[0;34m)\u001b[0m\u001b[0;34m)\u001b[0m\u001b[0;34m\u001b[0m\u001b[0;34m\u001b[0m\u001b[0m\n\u001b[0m\u001b[1;32m      2\u001b[0m \u001b[0mwords\u001b[0m \u001b[0;34m=\u001b[0m \u001b[0mmy_string\u001b[0m\u001b[0;34m.\u001b[0m\u001b[0msplit\u001b[0m\u001b[0;34m(\u001b[0m\u001b[0;34m\" \"\u001b[0m\u001b[0;34m)\u001b[0m\u001b[0;34m\u001b[0m\u001b[0;34m\u001b[0m\u001b[0m\n\u001b[1;32m      3\u001b[0m \u001b[0mprint\u001b[0m\u001b[0;34m(\u001b[0m\u001b[0;34m\"Here are the list of words you entered:\"\u001b[0m\u001b[0;34m,\u001b[0m \u001b[0mwords\u001b[0m\u001b[0;34m)\u001b[0m\u001b[0;34m\u001b[0m\u001b[0;34m\u001b[0m\u001b[0m\n",
            "\u001b[0;32m/usr/local/lib/python3.6/dist-packages/ipykernel/kernelbase.py\u001b[0m in \u001b[0;36mraw_input\u001b[0;34m(self, prompt)\u001b[0m\n\u001b[1;32m    703\u001b[0m             \u001b[0mself\u001b[0m\u001b[0;34m.\u001b[0m\u001b[0m_parent_header\u001b[0m\u001b[0;34m,\u001b[0m\u001b[0;34m\u001b[0m\u001b[0;34m\u001b[0m\u001b[0m\n\u001b[0;32m--> 704\u001b[0;31m             \u001b[0mpassword\u001b[0m\u001b[0;34m=\u001b[0m\u001b[0;32mFalse\u001b[0m\u001b[0;34m,\u001b[0m\u001b[0;34m\u001b[0m\u001b[0;34m\u001b[0m\u001b[0m\n\u001b[0m\u001b[1;32m    705\u001b[0m         )\n",
            "\u001b[0;32m/usr/local/lib/python3.6/dist-packages/ipykernel/kernelbase.py\u001b[0m in \u001b[0;36m_input_request\u001b[0;34m(self, prompt, ident, parent, password)\u001b[0m\n\u001b[1;32m    733\u001b[0m                 \u001b[0;31m# re-raise KeyboardInterrupt, to truncate traceback\u001b[0m\u001b[0;34m\u001b[0m\u001b[0;34m\u001b[0m\u001b[0;34m\u001b[0m\u001b[0m\n\u001b[0;32m--> 734\u001b[0;31m                 \u001b[0;32mraise\u001b[0m \u001b[0mKeyboardInterrupt\u001b[0m\u001b[0;34m\u001b[0m\u001b[0;34m\u001b[0m\u001b[0m\n\u001b[0m\u001b[1;32m    735\u001b[0m             \u001b[0;32melse\u001b[0m\u001b[0;34m:\u001b[0m\u001b[0;34m\u001b[0m\u001b[0;34m\u001b[0m\u001b[0m\n",
            "\u001b[0;31mKeyboardInterrupt\u001b[0m: ",
            "\nDuring handling of the above exception, another exception occurred:\n",
            "\u001b[0;31mAttributeError\u001b[0m                            Traceback (most recent call last)",
            "\u001b[0;32m/usr/local/lib/python3.6/dist-packages/IPython/core/interactiveshell.py\u001b[0m in \u001b[0;36mshowtraceback\u001b[0;34m(self, exc_tuple, filename, tb_offset, exception_only)\u001b[0m\n\u001b[1;32m   1822\u001b[0m                         \u001b[0;31m# in the engines. This should return a list of strings.\u001b[0m\u001b[0;34m\u001b[0m\u001b[0;34m\u001b[0m\u001b[0;34m\u001b[0m\u001b[0m\n\u001b[0;32m-> 1823\u001b[0;31m                         \u001b[0mstb\u001b[0m \u001b[0;34m=\u001b[0m \u001b[0mvalue\u001b[0m\u001b[0;34m.\u001b[0m\u001b[0m_render_traceback_\u001b[0m\u001b[0;34m(\u001b[0m\u001b[0;34m)\u001b[0m\u001b[0;34m\u001b[0m\u001b[0;34m\u001b[0m\u001b[0m\n\u001b[0m\u001b[1;32m   1824\u001b[0m                     \u001b[0;32mexcept\u001b[0m \u001b[0mException\u001b[0m\u001b[0;34m:\u001b[0m\u001b[0;34m\u001b[0m\u001b[0;34m\u001b[0m\u001b[0m\n",
            "\u001b[0;31mAttributeError\u001b[0m: 'KeyboardInterrupt' object has no attribute '_render_traceback_'",
            "\nDuring handling of the above exception, another exception occurred:\n",
            "\u001b[0;31mTypeError\u001b[0m                                 Traceback (most recent call last)",
            "\u001b[0;32m/usr/local/lib/python3.6/dist-packages/IPython/core/interactiveshell.py\u001b[0m in \u001b[0;36mrun_code\u001b[0;34m(self, code_obj, result)\u001b[0m\n\u001b[1;32m   2897\u001b[0m             \u001b[0;32mif\u001b[0m \u001b[0mresult\u001b[0m \u001b[0;32mis\u001b[0m \u001b[0;32mnot\u001b[0m \u001b[0;32mNone\u001b[0m\u001b[0;34m:\u001b[0m\u001b[0;34m\u001b[0m\u001b[0;34m\u001b[0m\u001b[0m\n\u001b[1;32m   2898\u001b[0m                 \u001b[0mresult\u001b[0m\u001b[0;34m.\u001b[0m\u001b[0merror_in_exec\u001b[0m \u001b[0;34m=\u001b[0m \u001b[0msys\u001b[0m\u001b[0;34m.\u001b[0m\u001b[0mexc_info\u001b[0m\u001b[0;34m(\u001b[0m\u001b[0;34m)\u001b[0m\u001b[0;34m[\u001b[0m\u001b[0;36m1\u001b[0m\u001b[0;34m]\u001b[0m\u001b[0;34m\u001b[0m\u001b[0;34m\u001b[0m\u001b[0m\n\u001b[0;32m-> 2899\u001b[0;31m             \u001b[0mself\u001b[0m\u001b[0;34m.\u001b[0m\u001b[0mshowtraceback\u001b[0m\u001b[0;34m(\u001b[0m\u001b[0;34m)\u001b[0m\u001b[0;34m\u001b[0m\u001b[0;34m\u001b[0m\u001b[0m\n\u001b[0m\u001b[1;32m   2900\u001b[0m         \u001b[0;32melse\u001b[0m\u001b[0;34m:\u001b[0m\u001b[0;34m\u001b[0m\u001b[0;34m\u001b[0m\u001b[0m\n\u001b[1;32m   2901\u001b[0m             \u001b[0moutflag\u001b[0m \u001b[0;34m=\u001b[0m \u001b[0;36m0\u001b[0m\u001b[0;34m\u001b[0m\u001b[0;34m\u001b[0m\u001b[0m\n",
            "\u001b[0;32m/usr/local/lib/python3.6/dist-packages/IPython/core/interactiveshell.py\u001b[0m in \u001b[0;36mshowtraceback\u001b[0;34m(self, exc_tuple, filename, tb_offset, exception_only)\u001b[0m\n\u001b[1;32m   1824\u001b[0m                     \u001b[0;32mexcept\u001b[0m \u001b[0mException\u001b[0m\u001b[0;34m:\u001b[0m\u001b[0;34m\u001b[0m\u001b[0;34m\u001b[0m\u001b[0m\n\u001b[1;32m   1825\u001b[0m                         stb = self.InteractiveTB.structured_traceback(etype,\n\u001b[0;32m-> 1826\u001b[0;31m                                             value, tb, tb_offset=tb_offset)\n\u001b[0m\u001b[1;32m   1827\u001b[0m \u001b[0;34m\u001b[0m\u001b[0m\n\u001b[1;32m   1828\u001b[0m                     \u001b[0mself\u001b[0m\u001b[0;34m.\u001b[0m\u001b[0m_showtraceback\u001b[0m\u001b[0;34m(\u001b[0m\u001b[0metype\u001b[0m\u001b[0;34m,\u001b[0m \u001b[0mvalue\u001b[0m\u001b[0;34m,\u001b[0m \u001b[0mstb\u001b[0m\u001b[0;34m)\u001b[0m\u001b[0;34m\u001b[0m\u001b[0;34m\u001b[0m\u001b[0m\n",
            "\u001b[0;32m/usr/local/lib/python3.6/dist-packages/IPython/core/ultratb.py\u001b[0m in \u001b[0;36mstructured_traceback\u001b[0;34m(self, etype, value, tb, tb_offset, number_of_lines_of_context)\u001b[0m\n\u001b[1;32m   1409\u001b[0m         \u001b[0mself\u001b[0m\u001b[0;34m.\u001b[0m\u001b[0mtb\u001b[0m \u001b[0;34m=\u001b[0m \u001b[0mtb\u001b[0m\u001b[0;34m\u001b[0m\u001b[0;34m\u001b[0m\u001b[0m\n\u001b[1;32m   1410\u001b[0m         return FormattedTB.structured_traceback(\n\u001b[0;32m-> 1411\u001b[0;31m             self, etype, value, tb, tb_offset, number_of_lines_of_context)\n\u001b[0m\u001b[1;32m   1412\u001b[0m \u001b[0;34m\u001b[0m\u001b[0m\n\u001b[1;32m   1413\u001b[0m \u001b[0;34m\u001b[0m\u001b[0m\n",
            "\u001b[0;32m/usr/local/lib/python3.6/dist-packages/IPython/core/ultratb.py\u001b[0m in \u001b[0;36mstructured_traceback\u001b[0;34m(self, etype, value, tb, tb_offset, number_of_lines_of_context)\u001b[0m\n\u001b[1;32m   1317\u001b[0m             \u001b[0;31m# Verbose modes need a full traceback\u001b[0m\u001b[0;34m\u001b[0m\u001b[0;34m\u001b[0m\u001b[0;34m\u001b[0m\u001b[0m\n\u001b[1;32m   1318\u001b[0m             return VerboseTB.structured_traceback(\n\u001b[0;32m-> 1319\u001b[0;31m                 \u001b[0mself\u001b[0m\u001b[0;34m,\u001b[0m \u001b[0metype\u001b[0m\u001b[0;34m,\u001b[0m \u001b[0mvalue\u001b[0m\u001b[0;34m,\u001b[0m \u001b[0mtb\u001b[0m\u001b[0;34m,\u001b[0m \u001b[0mtb_offset\u001b[0m\u001b[0;34m,\u001b[0m \u001b[0mnumber_of_lines_of_context\u001b[0m\u001b[0;34m\u001b[0m\u001b[0;34m\u001b[0m\u001b[0m\n\u001b[0m\u001b[1;32m   1320\u001b[0m             )\n\u001b[1;32m   1321\u001b[0m         \u001b[0;32melse\u001b[0m\u001b[0;34m:\u001b[0m\u001b[0;34m\u001b[0m\u001b[0;34m\u001b[0m\u001b[0m\n",
            "\u001b[0;32m/usr/local/lib/python3.6/dist-packages/IPython/core/ultratb.py\u001b[0m in \u001b[0;36mstructured_traceback\u001b[0;34m(self, etype, evalue, etb, tb_offset, number_of_lines_of_context)\u001b[0m\n\u001b[1;32m   1180\u001b[0m             \u001b[0mexception\u001b[0m \u001b[0;34m=\u001b[0m \u001b[0mself\u001b[0m\u001b[0;34m.\u001b[0m\u001b[0mget_parts_of_chained_exception\u001b[0m\u001b[0;34m(\u001b[0m\u001b[0mevalue\u001b[0m\u001b[0;34m)\u001b[0m\u001b[0;34m\u001b[0m\u001b[0;34m\u001b[0m\u001b[0m\n\u001b[1;32m   1181\u001b[0m             \u001b[0;32mif\u001b[0m \u001b[0mexception\u001b[0m\u001b[0;34m:\u001b[0m\u001b[0;34m\u001b[0m\u001b[0;34m\u001b[0m\u001b[0m\n\u001b[0;32m-> 1182\u001b[0;31m                 \u001b[0mformatted_exceptions\u001b[0m \u001b[0;34m+=\u001b[0m \u001b[0mself\u001b[0m\u001b[0;34m.\u001b[0m\u001b[0mprepare_chained_exception_message\u001b[0m\u001b[0;34m(\u001b[0m\u001b[0mevalue\u001b[0m\u001b[0;34m.\u001b[0m\u001b[0m__cause__\u001b[0m\u001b[0;34m)\u001b[0m\u001b[0;34m\u001b[0m\u001b[0;34m\u001b[0m\u001b[0m\n\u001b[0m\u001b[1;32m   1183\u001b[0m                 \u001b[0metype\u001b[0m\u001b[0;34m,\u001b[0m \u001b[0mevalue\u001b[0m\u001b[0;34m,\u001b[0m \u001b[0metb\u001b[0m \u001b[0;34m=\u001b[0m \u001b[0mexception\u001b[0m\u001b[0;34m\u001b[0m\u001b[0;34m\u001b[0m\u001b[0m\n\u001b[1;32m   1184\u001b[0m             \u001b[0;32melse\u001b[0m\u001b[0;34m:\u001b[0m\u001b[0;34m\u001b[0m\u001b[0;34m\u001b[0m\u001b[0m\n",
            "\u001b[0;31mTypeError\u001b[0m: must be str, not list"
          ]
        }
      ]
    },
    {
      "cell_type": "markdown",
      "metadata": {
        "id": "bFCp0wXKOqmz"
      },
      "source": [
        "**MINI CHALLENGE #6 SOLUTION:**\n",
        "- **Write a code that prompts a user requesting his/her e-mail and then extracts the user first name (Note that the e-mail is in firstname.lastname@gmail.com**\n"
      ]
    },
    {
      "cell_type": "code",
      "metadata": {
        "id": "mtgJJ3FaOqm0"
      },
      "source": [
        "input_str = input(\"Welcome to the bank, please enter your e-mail address:\")\n",
        "out_str = input_str.split('@')\n",
        "out_str = out_str[0].split('.')\n",
        "print(out_str[0])"
      ],
      "execution_count": null,
      "outputs": []
    },
    {
      "cell_type": "markdown",
      "metadata": {
        "id": "L0OUSq6pQhNI"
      },
      "source": [
        "**MINI CHALLENGE #7 SOLUTION:**\n",
        "- **Define a tuple with your first name, last name, age and the number of stocks in your portfolio. Find the length and type as well.**\n"
      ]
    },
    {
      "cell_type": "code",
      "metadata": {
        "id": "aACA3yR3QhNJ"
      },
      "source": [
        "my_tuple = (\"Ryan\", \"ahmed\", 25, 10)\n",
        "print(my_tuple)"
      ],
      "execution_count": null,
      "outputs": []
    },
    {
      "cell_type": "code",
      "metadata": {
        "id": "ek6Lj_1YQhNN"
      },
      "source": [
        "len(my_tuple)"
      ],
      "execution_count": null,
      "outputs": []
    },
    {
      "cell_type": "code",
      "metadata": {
        "id": "wjbkGK-mQhNS"
      },
      "source": [
        "type(my_tuple)"
      ],
      "execution_count": null,
      "outputs": []
    },
    {
      "cell_type": "markdown",
      "metadata": {
        "id": "RrBoe1NJRmBi"
      },
      "source": [
        "**MINI CHALLENGE #8 SOLUTION:**\n",
        "- **Remove the duplicates from the following list:**\n",
        "\n",
        "\n",
        "```\n",
        "my_list = ['GOOG', 'APPL', 'T','TSLA','T','AAPL', 5, 6,5]\n",
        "```\n",
        "\n",
        "\n"
      ]
    },
    {
      "cell_type": "code",
      "metadata": {
        "id": "e3rGkHmnRnPf"
      },
      "source": [
        "my_list = ['GOOG', 'APPL', 'T','TSLA','T','AAPL', 5, 6, 5]\n",
        "out_list = list(set(my_list))\n",
        "print(out_list)"
      ],
      "execution_count": null,
      "outputs": []
    },
    {
      "cell_type": "code",
      "metadata": {
        "id": "Cwtyay_9UiZD"
      },
      "source": [
        ""
      ],
      "execution_count": null,
      "outputs": []
    }
  ]
}
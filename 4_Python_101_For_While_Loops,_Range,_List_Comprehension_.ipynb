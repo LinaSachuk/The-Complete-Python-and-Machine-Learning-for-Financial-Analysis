{
  "nbformat": 4,
  "nbformat_minor": 0,
  "metadata": {
    "colab": {
      "name": "4. Python 101 - For While Loops, Range, List Comprehension .ipynb",
      "provenance": [],
      "collapsed_sections": [],
      "include_colab_link": true
    },
    "kernelspec": {
      "name": "python3",
      "display_name": "Python 3"
    }
  },
  "cells": [
    {
      "cell_type": "markdown",
      "metadata": {
        "id": "view-in-github",
        "colab_type": "text"
      },
      "source": [
        "<a href=\"https://colab.research.google.com/github/LinaSachuk/The-Complete-Python-and-Machine-Learning-for-Financial-Analysis/blob/master/4_Python_101_For_While_Loops%2C_Range%2C_List_Comprehension_.ipynb\" target=\"_parent\"><img src=\"https://colab.research.google.com/assets/colab-badge.svg\" alt=\"Open In Colab\"/></a>"
      ]
    },
    {
      "cell_type": "markdown",
      "metadata": {
        "id": "BK5uIrxoLRtf"
      },
      "source": [
        "# 1. FOR LOOPS"
      ]
    },
    {
      "cell_type": "code",
      "metadata": {
        "id": "IeM5ykmzHuYB",
        "outputId": "4c1b7375-efb9-400b-a6e0-e4f32d567c6e",
        "colab": {
          "base_uri": "https://localhost:8080/"
        }
      },
      "source": [
        "# For loops are used for iterating over a sequence (a list, a tuple, a dictionary, a set, or a string).\n",
        "# An action can be executed once for each item in a list, tuple of the for loop.\n",
        "\n",
        "my_list = [1, 2, 3]\n",
        "for i in my_list:\n",
        "  print(i)\n"
      ],
      "execution_count": null,
      "outputs": [
        {
          "output_type": "stream",
          "text": [
            "1\n",
            "2\n",
            "3\n"
          ],
          "name": "stdout"
        }
      ]
    },
    {
      "cell_type": "code",
      "metadata": {
        "id": "R0jpLRvsJ4Yf",
        "outputId": "ccac14a5-6f4e-448a-b955-ca715e73ccae",
        "colab": {
          "base_uri": "https://localhost:8080/"
        }
      },
      "source": [
        "my_tuple = (2, 3, 4, 5)\n",
        "for i in my_tuple:\n",
        "  print(i)"
      ],
      "execution_count": null,
      "outputs": [
        {
          "output_type": "stream",
          "text": [
            "2\n",
            "3\n",
            "4\n",
            "5\n"
          ],
          "name": "stdout"
        }
      ]
    },
    {
      "cell_type": "code",
      "metadata": {
        "id": "a5dXYSWBJ5Ze",
        "outputId": "4e4875fb-6279-4700-e761-064faae34db4",
        "colab": {
          "base_uri": "https://localhost:8080/"
        }
      },
      "source": [
        "# you can do more than one task for every loop such as printing out 'Hello world' \n",
        "\n",
        "for i in my_list:\n",
        "  print(i)\n",
        "  print('Hello world')\n"
      ],
      "execution_count": null,
      "outputs": [
        {
          "output_type": "stream",
          "text": [
            "1\n",
            "Hello world\n",
            "2\n",
            "Hello world\n",
            "3\n",
            "Hello world\n"
          ],
          "name": "stdout"
        }
      ]
    },
    {
      "cell_type": "code",
      "metadata": {
        "id": "q76leWB9J5bx",
        "outputId": "16c0999c-2602-4ca5-a72b-4d75865193e1",
        "colab": {
          "base_uri": "https://localhost:8080/"
        }
      },
      "source": [
        "# List of strings\n",
        "\n",
        "my_list = ['AAPL', 'GOOG', 'T', 'TSLA', 'TS500']\n",
        "my_list"
      ],
      "execution_count": null,
      "outputs": [
        {
          "output_type": "execute_result",
          "data": {
            "text/plain": [
              "['AAPL', 'GOOG', 'T', 'TSLA', 'TS500']"
            ]
          },
          "metadata": {
            "tags": []
          },
          "execution_count": 6
        }
      ]
    },
    {
      "cell_type": "code",
      "metadata": {
        "id": "DD9E3VLPJ5fo",
        "outputId": "cee03702-46b9-42e1-9613-cef59cec0e71",
        "colab": {
          "base_uri": "https://localhost:8080/"
        }
      },
      "source": [
        "for i in my_list:\n",
        "  print(i)"
      ],
      "execution_count": null,
      "outputs": [
        {
          "output_type": "stream",
          "text": [
            "AAPL\n",
            "GOOG\n",
            "T\n",
            "TSLA\n",
            "TS500\n"
          ],
          "name": "stdout"
        }
      ]
    },
    {
      "cell_type": "code",
      "metadata": {
        "id": "2QI7iU17J5j_",
        "outputId": "99854a0a-1fe6-4041-9e0d-7048cce2a1a2",
        "colab": {
          "base_uri": "https://localhost:8080/"
        }
      },
      "source": [
        "# you can loop over a string as follows\n",
        "\n",
        "for i in 'TSLA':\n",
        "  print(i)"
      ],
      "execution_count": null,
      "outputs": [
        {
          "output_type": "stream",
          "text": [
            "T\n",
            "S\n",
            "L\n",
            "A\n"
          ],
          "name": "stdout"
        }
      ]
    },
    {
      "cell_type": "markdown",
      "metadata": {
        "id": "VHeLtXS0Z5XU"
      },
      "source": [
        "**MINI CHALLENGE #1:**\n",
        "- **Write a code that takes in a string and prints it out on the screen except for any letter 'T'. You can replace the letter 'T' with '*'.**"
      ]
    },
    {
      "cell_type": "code",
      "metadata": {
        "id": "b_NU7mBfa-SB",
        "outputId": "e0759154-523d-447c-b8e9-76cc0a169eba",
        "colab": {
          "base_uri": "https://localhost:8080/"
        }
      },
      "source": [
        "my_string = 'TSLA'\n",
        "for i in 'TSLA':\n",
        "  if i == 'T':\n",
        "    print('*')\n",
        "  else:\n",
        "    print(i)"
      ],
      "execution_count": null,
      "outputs": [
        {
          "output_type": "stream",
          "text": [
            "*\n",
            "S\n",
            "L\n",
            "A\n"
          ],
          "name": "stdout"
        }
      ]
    },
    {
      "cell_type": "markdown",
      "metadata": {
        "id": "5ShxNDJeLVVo"
      },
      "source": [
        "# 2. RANGE"
      ]
    },
    {
      "cell_type": "code",
      "metadata": {
        "id": "fsH8H4IwJ5mi"
      },
      "source": [
        "# Range() generates a list of numbers, which is used to iterate over with for loops.\n",
        "# range() is 0-index based, meaning list indexes start at 0, not 1. \n",
        "# The last integer generated by range() is up to, but not including, last element. \n",
        "# Example: range(0, 10) generates integers from 0 up to, but not including, 10."
      ],
      "execution_count": null,
      "outputs": []
    },
    {
      "cell_type": "code",
      "metadata": {
        "id": "LfnqYODNJ5qq",
        "outputId": "1ba81da4-6932-4fcd-9f28-90a80677dbc6",
        "colab": {
          "base_uri": "https://localhost:8080/"
        }
      },
      "source": [
        "for i in range(6):\n",
        "  print(i)"
      ],
      "execution_count": null,
      "outputs": [
        {
          "output_type": "stream",
          "text": [
            "0\n",
            "1\n",
            "2\n",
            "3\n",
            "4\n",
            "5\n"
          ],
          "name": "stdout"
        }
      ]
    },
    {
      "cell_type": "code",
      "metadata": {
        "id": "b4XBIA2KJ5pT",
        "outputId": "0f1a9dc7-3d31-4b2c-9ac6-b21c952f5f15",
        "colab": {
          "base_uri": "https://localhost:8080/"
        }
      },
      "source": [
        "# Range of numbers from 1 to 20 with steps of 2\n",
        "\n",
        "for i in range(1, 20, 2):\n",
        "  print(i)"
      ],
      "execution_count": null,
      "outputs": [
        {
          "output_type": "stream",
          "text": [
            "1\n",
            "3\n",
            "5\n",
            "7\n",
            "9\n",
            "11\n",
            "13\n",
            "15\n",
            "17\n",
            "19\n"
          ],
          "name": "stdout"
        }
      ]
    },
    {
      "cell_type": "code",
      "metadata": {
        "id": "dOpRLPUNJ5iO",
        "outputId": "9a113dee-f434-44c6-d22e-e58fd2cc75ac",
        "colab": {
          "base_uri": "https://localhost:8080/"
        }
      },
      "source": [
        "for i in reversed(range(5)):\n",
        "  print(i)"
      ],
      "execution_count": null,
      "outputs": [
        {
          "output_type": "stream",
          "text": [
            "4\n",
            "3\n",
            "2\n",
            "1\n",
            "0\n"
          ],
          "name": "stdout"
        }
      ]
    },
    {
      "cell_type": "markdown",
      "metadata": {
        "id": "eRgAw_bLbNBj"
      },
      "source": [
        "**MINI CHALLENGE #2:**\n",
        "- **Write a code that takes in the maximum and minimum limits from the user and prints out even numbers only between the provided range**"
      ]
    },
    {
      "cell_type": "code",
      "metadata": {
        "id": "TzPMQq-obcAI",
        "outputId": "b8ceabf7-95a1-407b-aa79-c89f037d6bf9",
        "colab": {
          "base_uri": "https://localhost:8080/"
        }
      },
      "source": [
        "\n",
        "user_min = int(input(\"Enter min number.\"))\n",
        "user_max = int(input('Enter max number.'))\n",
        "\n",
        "for i in range(user_min, user_max):\n",
        "  if i % 2 == 0:\n",
        "    print(i)"
      ],
      "execution_count": null,
      "outputs": [
        {
          "output_type": "stream",
          "text": [
            "Enter max number.7\n",
            "Enter min number.0\n",
            "0\n",
            "2\n",
            "4\n",
            "6\n"
          ],
          "name": "stdout"
        }
      ]
    },
    {
      "cell_type": "markdown",
      "metadata": {
        "id": "KoBeo2-NW-IG"
      },
      "source": [
        "**MINI CHALLENGE #3:**\n",
        "- **Write a code that generates the following table:**\n",
        "```\n",
        "1   1    1\n",
        "2   4    8\n",
        "3   9   27\n",
        "4  16   64\n",
        "5  25  125\n",
        "6  36  216\n",
        "7  49  343\n",
        "8  64  512\n",
        "9  81  729\n",
        "10 100 1000\n",
        "```\n",
        "\n",
        "\n"
      ]
    },
    {
      "cell_type": "code",
      "metadata": {
        "id": "sgmgClBDN-x5",
        "outputId": "5cabbdb3-0da3-40d5-91bc-b10b7b02f80a",
        "colab": {
          "base_uri": "https://localhost:8080/"
        }
      },
      "source": [
        "for i in range(1, 11):\n",
        "  print(f'{i} {i*i} {i*i*i}')"
      ],
      "execution_count": null,
      "outputs": [
        {
          "output_type": "stream",
          "text": [
            "1 1 1\n",
            "2 4 8\n",
            "3 9 27\n",
            "4 16 64\n",
            "5 25 125\n",
            "6 36 216\n",
            "7 49 343\n",
            "8 64 512\n",
            "9 81 729\n",
            "10 100 1000\n"
          ],
          "name": "stdout"
        }
      ]
    },
    {
      "cell_type": "markdown",
      "metadata": {
        "id": "7xt72C8NNgN8"
      },
      "source": [
        "# 3. WHILE LOOPS"
      ]
    },
    {
      "cell_type": "code",
      "metadata": {
        "id": "G1Du3nteNlfR",
        "outputId": "b412e41a-e3b5-4f86-fee6-4d7e1577b4a1",
        "colab": {
          "base_uri": "https://localhost:8080/"
        }
      },
      "source": [
        "# While loop can be used to execute a set of statements as long as a certain condition holds true.\n",
        "\n",
        "i = 0 \n",
        "while i<= 10:\n",
        "  print(i)\n",
        "  i+=1\n"
      ],
      "execution_count": null,
      "outputs": [
        {
          "output_type": "stream",
          "text": [
            "0\n",
            "1\n",
            "2\n",
            "3\n",
            "4\n",
            "5\n",
            "6\n",
            "7\n",
            "8\n",
            "9\n",
            "10\n"
          ],
          "name": "stdout"
        }
      ]
    },
    {
      "cell_type": "code",
      "metadata": {
        "id": "z0sUEdgvNoFe",
        "outputId": "2fbe6225-b8f1-4324-a42e-eece68b66f1e",
        "colab": {
          "base_uri": "https://localhost:8080/"
        }
      },
      "source": [
        "i = 0 \n",
        "while i<8:\n",
        "  print(i)\n",
        "  i+=2"
      ],
      "execution_count": null,
      "outputs": [
        {
          "output_type": "stream",
          "text": [
            "0\n",
            "2\n",
            "4\n",
            "6\n"
          ],
          "name": "stdout"
        }
      ]
    },
    {
      "cell_type": "markdown",
      "metadata": {
        "id": "lB2soXiSUWDd"
      },
      "source": [
        "**MINI CHALLENGE #4:**\n",
        "- **Write a code that displays numbers from 1 to 30 using for and while loops**\n"
      ]
    },
    {
      "cell_type": "code",
      "metadata": {
        "id": "RY_3xRVRXWuL",
        "outputId": "3fbd9407-9a4e-4bf6-a8b7-fc6b43a63f34",
        "colab": {
          "base_uri": "https://localhost:8080/"
        }
      },
      "source": [
        "for i in range(1, 31):\n",
        "  print(i)"
      ],
      "execution_count": null,
      "outputs": [
        {
          "output_type": "stream",
          "text": [
            "1\n",
            "2\n",
            "3\n",
            "4\n",
            "5\n",
            "6\n",
            "7\n",
            "8\n",
            "9\n",
            "10\n",
            "11\n",
            "12\n",
            "13\n",
            "14\n",
            "15\n",
            "16\n",
            "17\n",
            "18\n",
            "19\n",
            "20\n",
            "21\n",
            "22\n",
            "23\n",
            "24\n",
            "25\n",
            "26\n",
            "27\n",
            "28\n",
            "29\n",
            "30\n"
          ],
          "name": "stdout"
        }
      ]
    },
    {
      "cell_type": "code",
      "metadata": {
        "id": "ZRg_l0C14dF8",
        "outputId": "b51ffd6a-93ab-4229-8324-df643e80342a",
        "colab": {
          "base_uri": "https://localhost:8080/"
        }
      },
      "source": [
        "i = 1\n",
        "while i <=30:\n",
        "  print(i)\n",
        "  i+=1"
      ],
      "execution_count": null,
      "outputs": [
        {
          "output_type": "stream",
          "text": [
            "1\n",
            "2\n",
            "3\n",
            "4\n",
            "5\n",
            "6\n",
            "7\n",
            "8\n",
            "9\n",
            "10\n",
            "11\n",
            "12\n",
            "13\n",
            "14\n",
            "15\n",
            "16\n",
            "17\n",
            "18\n",
            "19\n",
            "20\n",
            "21\n",
            "22\n",
            "23\n",
            "24\n",
            "25\n",
            "26\n",
            "27\n",
            "28\n",
            "29\n",
            "30\n"
          ],
          "name": "stdout"
        }
      ]
    },
    {
      "cell_type": "markdown",
      "metadata": {
        "id": "ZIueG9h3XXTC"
      },
      "source": [
        "**MINI CHALLENGE #5:**\n",
        "- **Create a rolling dice game that assume we have two dice (#1 and #2). The dice is being thrown and a random number is generated everytime. The game should be designed such that it prompts the user to ask if he/she would like to keep playing or exit the game.**"
      ]
    },
    {
      "cell_type": "code",
      "metadata": {
        "id": "e5lIJV7KnV9W",
        "outputId": "2acedcb4-22e7-48f3-88be-0b18e8679a56",
        "colab": {
          "base_uri": "https://localhost:8080/"
        }
      },
      "source": [
        "import random\n",
        "\n",
        "keep_rolling = 'y'\n",
        "\n",
        "while keep_rolling == 'y':\n",
        "  print('We are rolling the dice now...')\n",
        "  dice_1 = random.randint(1, 6)\n",
        "  print(f'dice 1: {dice_1}')\n",
        "  dice_2 = random.randint(1, 6)\n",
        "  print(f'dice 2: {dice_2}')\n",
        "\n",
        "  keep_rolling = input('Do you want to rall again?')\n"
      ],
      "execution_count": null,
      "outputs": [
        {
          "output_type": "stream",
          "text": [
            "We are rolling the dice now...\n",
            "dice 1: 6\n",
            "dice 2: 6\n",
            "Do you want to rall again?y\n",
            "We are rolling the dice now...\n",
            "dice 1: 4\n",
            "dice 2: 2\n",
            "Do you want to rall again?y\n",
            "We are rolling the dice now...\n",
            "dice 1: 6\n",
            "dice 2: 5\n",
            "Do you want to rall again?n\n"
          ],
          "name": "stdout"
        }
      ]
    },
    {
      "cell_type": "markdown",
      "metadata": {
        "id": "9wunXtl0M9sT"
      },
      "source": [
        "# 4. BREAK A LOOP"
      ]
    },
    {
      "cell_type": "code",
      "metadata": {
        "id": "Zl8mvmT3J5eY"
      },
      "source": [
        "# break() is used to exit a for loop or a while loop\n",
        "# continue() is used to skip the current block, and return to the \"for\" or \"while\" statement."
      ],
      "execution_count": null,
      "outputs": []
    },
    {
      "cell_type": "code",
      "metadata": {
        "id": "mYbZR3i6NH8k"
      },
      "source": [
        "my_list = ['GOOG', 'AAPL', 'T', 'TSLA', 'SP500']"
      ],
      "execution_count": null,
      "outputs": []
    },
    {
      "cell_type": "code",
      "metadata": {
        "id": "P0gbDVWVNMzw",
        "outputId": "d78bb493-122d-48a8-c0bf-23cb0d786fec",
        "colab": {
          "base_uri": "https://localhost:8080/"
        }
      },
      "source": [
        "my_list"
      ],
      "execution_count": null,
      "outputs": [
        {
          "output_type": "execute_result",
          "data": {
            "text/plain": [
              "['GOOG', 'AAPL', 'T', 'TSLA', 'SP500']"
            ]
          },
          "metadata": {
            "tags": []
          },
          "execution_count": 9
        }
      ]
    },
    {
      "cell_type": "code",
      "metadata": {
        "id": "JGerA93sNM4C",
        "outputId": "aab366a6-f502-4a64-8bc1-96bc6d066cde",
        "colab": {
          "base_uri": "https://localhost:8080/"
        }
      },
      "source": [
        "# print out all elements in the list\n",
        "\n",
        "for i in  my_list:\n",
        "  print(i)"
      ],
      "execution_count": null,
      "outputs": [
        {
          "output_type": "stream",
          "text": [
            "GOOG\n",
            "AAPL\n",
            "T\n",
            "TSLA\n",
            "SP500\n"
          ],
          "name": "stdout"
        }
      ]
    },
    {
      "cell_type": "code",
      "metadata": {
        "id": "7gsSn9R9NNBH",
        "outputId": "423c17ab-384f-42e0-d227-712119ea4569",
        "colab": {
          "base_uri": "https://localhost:8080/"
        }
      },
      "source": [
        "# print out all elements in the list up until the AT&T stock (Ticker Symbol = T) is detected\n",
        " \n",
        "for i in my_list:\n",
        "   print(i)\n",
        "   if i == 'T':\n",
        "     break"
      ],
      "execution_count": null,
      "outputs": [
        {
          "output_type": "stream",
          "text": [
            "GOOG\n",
            "AAPL\n",
            "T\n"
          ],
          "name": "stdout"
        }
      ]
    },
    {
      "cell_type": "code",
      "metadata": {
        "id": "Rja3f7RiNM_F",
        "outputId": "012d29db-4b00-4df8-daf4-74bd1f4a7afb",
        "colab": {
          "base_uri": "https://localhost:8080/"
        }
      },
      "source": [
        "# Print only odd elements and skip even numbers\n",
        "\n",
        "my_list = [1, 2 , 3, 4, 5, 6, 7, 8, 9, 10]\n",
        "\n",
        "for i in my_list:\n",
        "  if i % 2 == 0:\n",
        "    continue\n",
        "  print(i)"
      ],
      "execution_count": null,
      "outputs": [
        {
          "output_type": "stream",
          "text": [
            "1\n",
            "3\n",
            "5\n",
            "7\n",
            "9\n"
          ],
          "name": "stdout"
        }
      ]
    },
    {
      "cell_type": "markdown",
      "metadata": {
        "id": "JF9CljMnYwEi"
      },
      "source": [
        "**MINI CHALLENGE #6:**\n",
        "- **Write a code that continiously gets data from the user and calculates the average and print out on the screen. The code exits when the user enters 'e'.**"
      ]
    },
    {
      "cell_type": "code",
      "metadata": {
        "id": "ynWaFl9LoIjw",
        "outputId": "2b296df8-fc6d-4254-e5fc-75064034ce2b",
        "colab": {
          "base_uri": "https://localhost:8080/"
        }
      },
      "source": [
        "keep_rolling = 'y'\n",
        "count = 0\n",
        "sum = 0\n",
        "average = 0\n",
        "\n",
        "while keep_rolling == 'y':\n",
        "  user_number = int(input(\"Enter your number...\"))\n",
        "  count+=1\n",
        "  sum += user_number\n",
        "  average = sum/count\n",
        "  print(f\"average is: {round(average, 2)}\")\n",
        "\n",
        "  keep_rolling = input('Do you want to add number again?')"
      ],
      "execution_count": null,
      "outputs": [
        {
          "output_type": "stream",
          "text": [
            "Enter your number...45\n",
            "average is: 45.0\n",
            "Do you want to add number again?y\n",
            "Enter your number...3\n",
            "average is: 24.0\n",
            "Do you want to add number again?43\n"
          ],
          "name": "stdout"
        }
      ]
    },
    {
      "cell_type": "code",
      "metadata": {
        "id": "p_Rr8JTO9kxe",
        "outputId": "1ed99905-e3cb-46cb-c2ff-dbb2ecfc49ab",
        "colab": {
          "base_uri": "https://localhost:8080/"
        }
      },
      "source": [
        "avg = 0\n",
        "n = 0\n",
        "\n",
        "while True:\n",
        "  x = input('Enter a number...')\n",
        "\n",
        "  if x == 'e':\n",
        "    break\n",
        "\n",
        "  x = int(x)\n",
        "  n +=1\n",
        "\n",
        "  avg = (avg * (n-1) + x) / n\n",
        "  print(f'The current average is {avg}')\n",
        "\n"
      ],
      "execution_count": 2,
      "outputs": [
        {
          "output_type": "stream",
          "text": [
            "Enter a number...67\n",
            "The current average is 67.0\n",
            "Enter a number...89\n",
            "The current average is 78.0\n",
            "Enter a number...600\n",
            "The current average is 252.0\n",
            "Enter a number...50\n",
            "The current average is 201.5\n",
            "Enter a number...e\n"
          ],
          "name": "stdout"
        }
      ]
    },
    {
      "cell_type": "markdown",
      "metadata": {
        "id": "22kF_RupOG2o"
      },
      "source": [
        "# 5. NESTED LOOPS"
      ]
    },
    {
      "cell_type": "code",
      "metadata": {
        "id": "rL6xaGIbNM69"
      },
      "source": [
        "# Nested loops are loops that exist inside the body of another loop\n"
      ],
      "execution_count": null,
      "outputs": []
    },
    {
      "cell_type": "code",
      "metadata": {
        "id": "Xpe6MiCiNM2L"
      },
      "source": [
        ""
      ],
      "execution_count": null,
      "outputs": []
    },
    {
      "cell_type": "markdown",
      "metadata": {
        "id": "r9D5aZhAfa-O"
      },
      "source": [
        "**MINI CHALLENGE #7:**\n",
        "- **Write a code that takes in a number (range between 1 and 9) from the user and print out the multiplication table up until that number.**"
      ]
    },
    {
      "cell_type": "code",
      "metadata": {
        "id": "LD-wO03co0QI"
      },
      "source": [
        ""
      ],
      "execution_count": null,
      "outputs": []
    },
    {
      "cell_type": "markdown",
      "metadata": {
        "id": "2-WphsjVPDiZ"
      },
      "source": [
        "# 6. LIST COMPREHENSION"
      ]
    },
    {
      "cell_type": "code",
      "metadata": {
        "id": "qz9csDMHPNWA"
      },
      "source": [
        "# List comprehension is an elegant tool to transform one list into another list. \n",
        "# Instead of using loops and append, list comprehension is used to iterate over a list, condition its elements and include them in a new list.\n",
        "# Let's take a look at the traditional way of taking a list and squaring its elements\n"
      ],
      "execution_count": null,
      "outputs": []
    },
    {
      "cell_type": "code",
      "metadata": {
        "id": "vw-8Z7adPdTP"
      },
      "source": [
        "# List comprehension is a super powerful one line of code!\n"
      ],
      "execution_count": null,
      "outputs": []
    },
    {
      "cell_type": "code",
      "metadata": {
        "id": "az-FlBJsPwRh"
      },
      "source": [
        "# Let's square even numbers only \n",
        "# We need to insert a condition \n"
      ],
      "execution_count": null,
      "outputs": []
    },
    {
      "cell_type": "code",
      "metadata": {
        "id": "zaREccpfP47m"
      },
      "source": [
        "# All this could be done with one line of code as well using List Comprehension\n",
        "\n"
      ],
      "execution_count": null,
      "outputs": []
    },
    {
      "cell_type": "markdown",
      "metadata": {
        "id": "lIBSXypYX_3O"
      },
      "source": [
        "**MINI CHALLENGE #8:**\n",
        "- **Write a code that takes in a list of prices of a stock for the past 7 days and then normalize the prices** "
      ]
    },
    {
      "cell_type": "code",
      "metadata": {
        "id": "02iEvxCQQyZ7"
      },
      "source": [
        ""
      ],
      "execution_count": null,
      "outputs": []
    },
    {
      "cell_type": "markdown",
      "metadata": {
        "id": "aXkGeaUza3d0"
      },
      "source": [
        "# MINI CHALLENGE SOLUTION"
      ]
    },
    {
      "cell_type": "markdown",
      "metadata": {
        "id": "Pc-Wifl4a_hA"
      },
      "source": [
        "**MINI CHALLENGE #1:**\n",
        "- **Write a code that takes in a string and prints it out on the screen except for any letter 'T'. You can replace the letter 'T' with '*'.**"
      ]
    },
    {
      "cell_type": "code",
      "metadata": {
        "id": "ZVy77WA2a5QC"
      },
      "source": [
        "for letter in 'TSLA':\n",
        "  if letter == 'T':\n",
        "    print('*')\n",
        "  else:\n",
        "   print(letter)"
      ],
      "execution_count": null,
      "outputs": []
    },
    {
      "cell_type": "markdown",
      "metadata": {
        "id": "9OSRnPn0bf-u"
      },
      "source": [
        "**MINI CHALLENGE #2 SOLUTION:**\n",
        "- **Write a code that takes in the maximum and minimum limits from the user and prints out even numbers only between the provided range**"
      ]
    },
    {
      "cell_type": "code",
      "metadata": {
        "id": "jqQpkqe-bgaW"
      },
      "source": [
        "min = int(input(\"Enter the price (lower bound: \"))\n",
        "max = int(input(\"Enter the price (Upper bound: \"))\n",
        "\n",
        "for i in range(min, max):\n",
        "    if i%2 == 0: \n",
        "        print(i)"
      ],
      "execution_count": null,
      "outputs": []
    },
    {
      "cell_type": "markdown",
      "metadata": {
        "id": "L6-jK2s0bwXc"
      },
      "source": [
        "**MINI CHALLENGE #3 SOLUTION:**\n",
        "- **Write a code that generates the following table:**\n",
        "```\n",
        "1   1    1\n",
        "2   4    8\n",
        "3   9   27\n",
        "4  16   64\n",
        "5  25  125\n",
        "6  36  216\n",
        "7  49  343\n",
        "8  64  512\n",
        "9  81  729\n",
        "10 100 1000\n",
        "```\n"
      ]
    },
    {
      "cell_type": "code",
      "metadata": {
        "id": "YU82QHJ9boi2"
      },
      "source": [
        "for x in range(1, 11):\n",
        "    print('{} {} {}'.format(x, x*x, x*x*x))"
      ],
      "execution_count": null,
      "outputs": []
    },
    {
      "cell_type": "markdown",
      "metadata": {
        "id": "KfpFJ7tBb8RO"
      },
      "source": [
        "**MINI CHALLENGE #4 SOLUTION:**\n",
        "- **Write a code that displays numbers from 1 to 30 (including 30) using for and while loops**"
      ]
    },
    {
      "cell_type": "code",
      "metadata": {
        "id": "UukURLDIb0go"
      },
      "source": [
        "i = 1\n",
        "while (i < 31):\n",
        "  print (i)\n",
        "  i = i+1"
      ],
      "execution_count": null,
      "outputs": []
    },
    {
      "cell_type": "code",
      "metadata": {
        "id": "iTYnoI4-cES_"
      },
      "source": [
        "for i in range(1, 31):\n",
        "    print(i)"
      ],
      "execution_count": null,
      "outputs": []
    },
    {
      "cell_type": "markdown",
      "metadata": {
        "id": "YGwSp4VScYc6"
      },
      "source": [
        "**MINI CHALLENGE #5 SOLUTION:**\n",
        "- **Create a rolling dice game that assume we have two dice (#1 and #2). The dice is being thrown and a random number is generated everytime. The game should be designed such that it prompts the user to ask if he/she would like to keep playing or exit the game.**"
      ]
    },
    {
      "cell_type": "code",
      "metadata": {
        "id": "bQizGjKvcRW7"
      },
      "source": [
        "import random\n",
        "\n",
        "keep_rolling = \"y\"\n",
        "\n",
        "while keep_rolling == \"y\":\n",
        "    print(\"Rolling the dices, please wait!...\")\n",
        "    print(\"Rolling results for Dice #1:\", random.randint(1, 6))\n",
        "    print(\"Rolling results for Dice #2:\", random.randint(1, 6))\n",
        "\n",
        "    keep_rolling = input(\"Do you want to roll again?\")"
      ],
      "execution_count": null,
      "outputs": []
    },
    {
      "cell_type": "markdown",
      "metadata": {
        "id": "fhPFAXMFdAgv"
      },
      "source": [
        "**MINI CHALLENGE #6 SOLUTION:**\n",
        "- **Write a code that continiously gets data from the user and calculates the average and print out on the screen. The code exits when the user enters 'e'.**"
      ]
    },
    {
      "cell_type": "code",
      "metadata": {
        "id": "TwdLz4BOcesU"
      },
      "source": [
        "print(\"Keep entering numbers and I will display the average to you!\")\n",
        "avg = 0\n",
        "n = 0\n",
        "while True:\n",
        "    x = input(\"Enter a number: \")\n",
        "    \n",
        "    # Check if the user wants to exit (i.e.: break the loop)\n",
        "    if x == 'e':\n",
        "      break\n",
        "    \n",
        "    x = int(x)\n",
        "    n = n + 1\n",
        "    \n",
        "    avg =   ((avg * (n - 1) ) + x) / n\n",
        "    print (\"The current average is \", avg)"
      ],
      "execution_count": null,
      "outputs": []
    },
    {
      "cell_type": "markdown",
      "metadata": {
        "id": "Ga5YJU8fhV1V"
      },
      "source": [
        "**MINI CHALLENGE #7 SOLUTION:**\n",
        "- **Write a code that takes in a number (range between 1 and 9) from the user and print out the multiplication table up until that number.**"
      ]
    },
    {
      "cell_type": "code",
      "metadata": {
        "id": "XPRNPUmHddYx"
      },
      "source": [
        "number = int(input(\"Enter a number between 1 and 9: \"))\n",
        "\n",
        "for x in range(1, number+1): # slow loop \n",
        "  for y in range(1, 11):   # fast loop\n",
        "   print('{} x {} = {}'.format(x, y, x*y))"
      ],
      "execution_count": null,
      "outputs": []
    },
    {
      "cell_type": "markdown",
      "metadata": {
        "id": "6eUUTJKEhgzw"
      },
      "source": [
        "**MINI CHALLENGE #8 SOLUTION:**\n",
        "- **Write a code that takes in a list of prices of a stock for the past 7 days and then normalize the prices** "
      ]
    },
    {
      "cell_type": "code",
      "metadata": {
        "id": "G-i-cSuRhiZF"
      },
      "source": [
        "print('Enter a list of past 7-days prices separated by a space:')\n",
        "prices = [int(x) for x in input().split()]"
      ],
      "execution_count": null,
      "outputs": []
    },
    {
      "cell_type": "code",
      "metadata": {
        "id": "05OwM9e2hsg7"
      },
      "source": [
        "normalized_prices = [ (i/prices[0]) for i in prices]\n",
        "print('Orginal Prices: {}\\nNormalized Prices: {}\\n'.format(prices, normalized_prices))"
      ],
      "execution_count": null,
      "outputs": []
    },
    {
      "cell_type": "code",
      "metadata": {
        "id": "Po4N2n9TSFvL"
      },
      "source": [
        ""
      ],
      "execution_count": null,
      "outputs": []
    }
  ]
}
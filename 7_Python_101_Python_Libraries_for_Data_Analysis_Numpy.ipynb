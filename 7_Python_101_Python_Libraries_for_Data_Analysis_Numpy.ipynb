{
  "nbformat": 4,
  "nbformat_minor": 0,
  "metadata": {
    "colab": {
      "name": "7. Python 101 - Python Libraries for Data Analysis - Numpy.ipynb",
      "provenance": [],
      "collapsed_sections": [],
      "include_colab_link": true
    },
    "kernelspec": {
      "name": "python3",
      "display_name": "Python 3"
    }
  },
  "cells": [
    {
      "cell_type": "markdown",
      "metadata": {
        "id": "view-in-github",
        "colab_type": "text"
      },
      "source": [
        "<a href=\"https://colab.research.google.com/github/LinaSachuk/The-Complete-Python-and-Machine-Learning-for-Financial-Analysis/blob/master/7_Python_101_Python_Libraries_for_Data_Analysis_Numpy.ipynb\" target=\"_parent\"><img src=\"https://colab.research.google.com/assets/colab-badge.svg\" alt=\"Open In Colab\"/></a>"
      ]
    },
    {
      "cell_type": "markdown",
      "metadata": {
        "id": "f7yOpaRM5IbG"
      },
      "source": [
        "# 1. NUMPY BASICS"
      ]
    },
    {
      "cell_type": "code",
      "metadata": {
        "id": "Bqk10u47qEmJ"
      },
      "source": [
        "# NumPy is a Linear Algebra Library used for multidimensional arrays\n",
        "# NumPy brings the best of two worlds: (1) C/Fortran computational efficiency, (2) Python language easy syntax \n",
        "\n",
        "import numpy as np\n",
        "\n",
        "# Let's define a one-dimensional array \n",
        "\n",
        "my_list = [10, 20, 60, 70]"
      ],
      "execution_count": 1,
      "outputs": []
    },
    {
      "cell_type": "code",
      "metadata": {
        "id": "b98d-lkK5NbQ",
        "outputId": "9dc0488d-46fe-42c7-cbcd-a972dddce0e1",
        "colab": {
          "base_uri": "https://localhost:8080/"
        }
      },
      "source": [
        "# Let's create a numpy array from the list \"my_list\"\n",
        "\n",
        "my_list"
      ],
      "execution_count": 2,
      "outputs": [
        {
          "output_type": "execute_result",
          "data": {
            "text/plain": [
              "[10, 20, 60, 70]"
            ]
          },
          "metadata": {
            "tags": []
          },
          "execution_count": 2
        }
      ]
    },
    {
      "cell_type": "code",
      "metadata": {
        "id": "tljNDWBw5Nf9",
        "outputId": "622effdb-4f8c-4178-bb51-89ac7a72c155",
        "colab": {
          "base_uri": "https://localhost:8080/"
        }
      },
      "source": [
        "x= np.array(my_list)\n",
        "print(type(x))\n",
        "x"
      ],
      "execution_count": 3,
      "outputs": [
        {
          "output_type": "stream",
          "text": [
            "<class 'numpy.ndarray'>\n"
          ],
          "name": "stdout"
        },
        {
          "output_type": "execute_result",
          "data": {
            "text/plain": [
              "array([10, 20, 60, 70])"
            ]
          },
          "metadata": {
            "tags": []
          },
          "execution_count": 3
        }
      ]
    },
    {
      "cell_type": "code",
      "metadata": {
        "id": "wpiZ25fZ5NiN",
        "outputId": "c8ce8dbb-093c-4359-a65c-aa2380a794ba",
        "colab": {
          "base_uri": "https://localhost:8080/"
        }
      },
      "source": [
        "# Multi-dimensional (Matrix definition) \n",
        "\n",
        "matrix = np.array([[5, 8], [7, 8]])\n",
        "matrix"
      ],
      "execution_count": 4,
      "outputs": [
        {
          "output_type": "execute_result",
          "data": {
            "text/plain": [
              "array([[5, 8],\n",
              "       [7, 8]])"
            ]
          },
          "metadata": {
            "tags": []
          },
          "execution_count": 4
        }
      ]
    },
    {
      "cell_type": "code",
      "metadata": {
        "id": "WP9lWb-n2kql",
        "outputId": "6cf11f7c-ed0c-40bb-9551-976f0411754f",
        "colab": {
          "base_uri": "https://localhost:8080/"
        }
      },
      "source": [
        "type(matrix)"
      ],
      "execution_count": 5,
      "outputs": [
        {
          "output_type": "execute_result",
          "data": {
            "text/plain": [
              "numpy.ndarray"
            ]
          },
          "metadata": {
            "tags": []
          },
          "execution_count": 5
        }
      ]
    },
    {
      "cell_type": "markdown",
      "metadata": {
        "id": "tmB_S-JfHZRL"
      },
      "source": [
        "**MINI CHALLENGE #1:** \n",
        "- **Write a code that creates the following 2x4 numpy array**\n",
        "\n",
        "```\n",
        "[[4 6 8 7] \n",
        "[20 5 6 9]]\n",
        "```"
      ]
    },
    {
      "cell_type": "code",
      "metadata": {
        "id": "Nabjzl1oKtGX",
        "outputId": "d21507fa-afd2-408b-d730-24cf12475fce",
        "colab": {
          "base_uri": "https://localhost:8080/"
        }
      },
      "source": [
        "x = np.array([ [4,6,8,7], [20, 5, 6, 9]])\n",
        "x"
      ],
      "execution_count": 6,
      "outputs": [
        {
          "output_type": "execute_result",
          "data": {
            "text/plain": [
              "array([[ 4,  6,  8,  7],\n",
              "       [20,  5,  6,  9]])"
            ]
          },
          "metadata": {
            "tags": []
          },
          "execution_count": 6
        }
      ]
    },
    {
      "cell_type": "markdown",
      "metadata": {
        "id": "uBuqdDQM6Qd9"
      },
      "source": [
        "# 2. BUILT-IN METHODS AND FUNCTIONS "
      ]
    },
    {
      "cell_type": "code",
      "metadata": {
        "id": "yXQV-Nrg5No3",
        "outputId": "95ef0178-cad0-4ae7-c858-db67c69c47c6",
        "colab": {
          "base_uri": "https://localhost:8080/"
        }
      },
      "source": [
        "# \"rand()\" uniform distribution between 0 and 1\n",
        "\n",
        "x = np.random.rand(15)\n",
        "x"
      ],
      "execution_count": 7,
      "outputs": [
        {
          "output_type": "execute_result",
          "data": {
            "text/plain": [
              "array([0.80756255, 0.57629978, 0.76242197, 0.69238991, 0.87024431,\n",
              "       0.57536839, 0.94309555, 0.23416471, 0.03104774, 0.33471253,\n",
              "       0.82528799, 0.57428339, 0.22101071, 0.39925552, 0.71535784])"
            ]
          },
          "metadata": {
            "tags": []
          },
          "execution_count": 7
        }
      ]
    },
    {
      "cell_type": "code",
      "metadata": {
        "id": "PpJUCdB15NkT",
        "outputId": "039c7822-84ae-4c50-f671-2146875368ea",
        "colab": {
          "base_uri": "https://localhost:8080/"
        }
      },
      "source": [
        "# you can create a matrix of random number as well\n",
        "\n",
        "x = np.random.rand(5, 5)\n",
        "x"
      ],
      "execution_count": 8,
      "outputs": [
        {
          "output_type": "execute_result",
          "data": {
            "text/plain": [
              "array([[0.34096105, 0.69935204, 0.28131607, 0.68286487, 0.39981899],\n",
              "       [0.7628418 , 0.23190216, 0.37118792, 0.19684877, 0.92145123],\n",
              "       [0.81880638, 0.44310089, 0.01641906, 0.3235538 , 0.88974055],\n",
              "       [0.74880138, 0.22507469, 0.83310192, 0.38425239, 0.77834231],\n",
              "       [0.7701258 , 0.98183866, 0.66471272, 0.11789264, 0.45932893]])"
            ]
          },
          "metadata": {
            "tags": []
          },
          "execution_count": 8
        }
      ]
    },
    {
      "cell_type": "code",
      "metadata": {
        "id": "7EzMNrrm6YHA",
        "outputId": "7d6992f8-3507-4a82-e73a-09b26cb8e584",
        "colab": {
          "base_uri": "https://localhost:8080/"
        }
      },
      "source": [
        "# \"randn()\" normal distribution between 0 and 1\n",
        "\n",
        "x = np.random.randn(10)\n",
        "x"
      ],
      "execution_count": 9,
      "outputs": [
        {
          "output_type": "execute_result",
          "data": {
            "text/plain": [
              "array([ 0.44444627, -0.1548638 ,  0.43868325,  0.58547213, -0.46858357,\n",
              "        1.81118788,  0.30019025, -1.31401707,  0.10270395, -0.82325701])"
            ]
          },
          "metadata": {
            "tags": []
          },
          "execution_count": 9
        }
      ]
    },
    {
      "cell_type": "code",
      "metadata": {
        "id": "RBcU5xgb6YL0",
        "outputId": "34e0a7a0-32c9-4232-ccc4-bd84865b504a",
        "colab": {
          "base_uri": "https://localhost:8080/"
        }
      },
      "source": [
        "# \"randint\" is used to generate random integers between upper and lower bounds\n",
        "\n",
        "x = np.random.randint(1, 10)\n",
        "x"
      ],
      "execution_count": 10,
      "outputs": [
        {
          "output_type": "execute_result",
          "data": {
            "text/plain": [
              "7"
            ]
          },
          "metadata": {
            "tags": []
          },
          "execution_count": 10
        }
      ]
    },
    {
      "cell_type": "code",
      "metadata": {
        "id": "O3JdVtvo6YP7",
        "outputId": "d95daddc-4e6e-4598-cca8-992d34882001",
        "colab": {
          "base_uri": "https://localhost:8080/"
        }
      },
      "source": [
        "# \"randint\" can be used to generate a certain number of random itegers as follows\n",
        "\n",
        "x = np.random.randint(1, 100, 15)\n",
        "x"
      ],
      "execution_count": 11,
      "outputs": [
        {
          "output_type": "execute_result",
          "data": {
            "text/plain": [
              "array([28,  1, 49,  7, 47, 20, 77, 26, 69, 10, 21, 32, 42, 58, 94])"
            ]
          },
          "metadata": {
            "tags": []
          },
          "execution_count": 11
        }
      ]
    },
    {
      "cell_type": "code",
      "metadata": {
        "id": "EOOLMB416YUh",
        "outputId": "8edd85e8-ab53-4d75-9b14-ce581ae05e7a",
        "colab": {
          "base_uri": "https://localhost:8080/"
        }
      },
      "source": [
        "# np.arange creates an evenly spaced values within a given interval\n",
        "\n",
        "x = np.arange(1, 50)\n",
        "x"
      ],
      "execution_count": 12,
      "outputs": [
        {
          "output_type": "execute_result",
          "data": {
            "text/plain": [
              "array([ 1,  2,  3,  4,  5,  6,  7,  8,  9, 10, 11, 12, 13, 14, 15, 16, 17,\n",
              "       18, 19, 20, 21, 22, 23, 24, 25, 26, 27, 28, 29, 30, 31, 32, 33, 34,\n",
              "       35, 36, 37, 38, 39, 40, 41, 42, 43, 44, 45, 46, 47, 48, 49])"
            ]
          },
          "metadata": {
            "tags": []
          },
          "execution_count": 12
        }
      ]
    },
    {
      "cell_type": "code",
      "metadata": {
        "id": "Jz7eJuio6YY4",
        "outputId": "08662418-9f1a-4371-bc56-4e44c4805451",
        "colab": {
          "base_uri": "https://localhost:8080/"
        }
      },
      "source": [
        "# Create an evenly spaced values with a step of 5\n",
        "\n",
        "x = np.arange(1, 50, 5)\n",
        "x"
      ],
      "execution_count": 13,
      "outputs": [
        {
          "output_type": "execute_result",
          "data": {
            "text/plain": [
              "array([ 1,  6, 11, 16, 21, 26, 31, 36, 41, 46])"
            ]
          },
          "metadata": {
            "tags": []
          },
          "execution_count": 13
        }
      ]
    },
    {
      "cell_type": "code",
      "metadata": {
        "id": "sft1flaM6YXF",
        "outputId": "823f38f3-67bc-4bc9-c44f-495a0f38acc6",
        "colab": {
          "base_uri": "https://localhost:8080/"
        }
      },
      "source": [
        "# create a diagonal of ones and zeros everywhere else\n",
        "\n",
        "x = np.eye(15)\n",
        "x"
      ],
      "execution_count": 14,
      "outputs": [
        {
          "output_type": "execute_result",
          "data": {
            "text/plain": [
              "array([[1., 0., 0., 0., 0., 0., 0., 0., 0., 0., 0., 0., 0., 0., 0.],\n",
              "       [0., 1., 0., 0., 0., 0., 0., 0., 0., 0., 0., 0., 0., 0., 0.],\n",
              "       [0., 0., 1., 0., 0., 0., 0., 0., 0., 0., 0., 0., 0., 0., 0.],\n",
              "       [0., 0., 0., 1., 0., 0., 0., 0., 0., 0., 0., 0., 0., 0., 0.],\n",
              "       [0., 0., 0., 0., 1., 0., 0., 0., 0., 0., 0., 0., 0., 0., 0.],\n",
              "       [0., 0., 0., 0., 0., 1., 0., 0., 0., 0., 0., 0., 0., 0., 0.],\n",
              "       [0., 0., 0., 0., 0., 0., 1., 0., 0., 0., 0., 0., 0., 0., 0.],\n",
              "       [0., 0., 0., 0., 0., 0., 0., 1., 0., 0., 0., 0., 0., 0., 0.],\n",
              "       [0., 0., 0., 0., 0., 0., 0., 0., 1., 0., 0., 0., 0., 0., 0.],\n",
              "       [0., 0., 0., 0., 0., 0., 0., 0., 0., 1., 0., 0., 0., 0., 0.],\n",
              "       [0., 0., 0., 0., 0., 0., 0., 0., 0., 0., 1., 0., 0., 0., 0.],\n",
              "       [0., 0., 0., 0., 0., 0., 0., 0., 0., 0., 0., 1., 0., 0., 0.],\n",
              "       [0., 0., 0., 0., 0., 0., 0., 0., 0., 0., 0., 0., 1., 0., 0.],\n",
              "       [0., 0., 0., 0., 0., 0., 0., 0., 0., 0., 0., 0., 0., 1., 0.],\n",
              "       [0., 0., 0., 0., 0., 0., 0., 0., 0., 0., 0., 0., 0., 0., 1.]])"
            ]
          },
          "metadata": {
            "tags": []
          },
          "execution_count": 14
        }
      ]
    },
    {
      "cell_type": "code",
      "metadata": {
        "id": "zZgMftc96fZm",
        "outputId": "fc3d8ff4-1f32-48c1-e5a7-7965d3283533",
        "colab": {
          "base_uri": "https://localhost:8080/"
        }
      },
      "source": [
        "# Array of ones\n",
        "\n",
        "x = np.ones(10)\n",
        "x"
      ],
      "execution_count": 15,
      "outputs": [
        {
          "output_type": "execute_result",
          "data": {
            "text/plain": [
              "array([1., 1., 1., 1., 1., 1., 1., 1., 1., 1.])"
            ]
          },
          "metadata": {
            "tags": []
          },
          "execution_count": 15
        }
      ]
    },
    {
      "cell_type": "code",
      "metadata": {
        "id": "VQ8fp8Qb6feB",
        "outputId": "fbe5d738-0f92-4882-d657-0ba027e526fb",
        "colab": {
          "base_uri": "https://localhost:8080/"
        }
      },
      "source": [
        "# Matrices of ones\n",
        "\n",
        "x = np.ones((10, 10))\n",
        "x\n"
      ],
      "execution_count": 16,
      "outputs": [
        {
          "output_type": "execute_result",
          "data": {
            "text/plain": [
              "array([[1., 1., 1., 1., 1., 1., 1., 1., 1., 1.],\n",
              "       [1., 1., 1., 1., 1., 1., 1., 1., 1., 1.],\n",
              "       [1., 1., 1., 1., 1., 1., 1., 1., 1., 1.],\n",
              "       [1., 1., 1., 1., 1., 1., 1., 1., 1., 1.],\n",
              "       [1., 1., 1., 1., 1., 1., 1., 1., 1., 1.],\n",
              "       [1., 1., 1., 1., 1., 1., 1., 1., 1., 1.],\n",
              "       [1., 1., 1., 1., 1., 1., 1., 1., 1., 1.],\n",
              "       [1., 1., 1., 1., 1., 1., 1., 1., 1., 1.],\n",
              "       [1., 1., 1., 1., 1., 1., 1., 1., 1., 1.],\n",
              "       [1., 1., 1., 1., 1., 1., 1., 1., 1., 1.]])"
            ]
          },
          "metadata": {
            "tags": []
          },
          "execution_count": 16
        }
      ]
    },
    {
      "cell_type": "code",
      "metadata": {
        "id": "TTROXKYo6YSn",
        "outputId": "6935374c-d518-428b-a918-f191e72a85c0",
        "colab": {
          "base_uri": "https://localhost:8080/"
        }
      },
      "source": [
        "# Array of zeros\n",
        "\n",
        "x = np.zeros(50)\n",
        "x"
      ],
      "execution_count": 17,
      "outputs": [
        {
          "output_type": "execute_result",
          "data": {
            "text/plain": [
              "array([0., 0., 0., 0., 0., 0., 0., 0., 0., 0., 0., 0., 0., 0., 0., 0., 0.,\n",
              "       0., 0., 0., 0., 0., 0., 0., 0., 0., 0., 0., 0., 0., 0., 0., 0., 0.,\n",
              "       0., 0., 0., 0., 0., 0., 0., 0., 0., 0., 0., 0., 0., 0., 0., 0.])"
            ]
          },
          "metadata": {
            "tags": []
          },
          "execution_count": 17
        }
      ]
    },
    {
      "cell_type": "markdown",
      "metadata": {
        "id": "IGiQ87EjKzh-"
      },
      "source": [
        "**MINI CHALLENGE #2:**\n",
        "- **Write a code that takes in a number x from the user and creates a 1x20 array with random numbers ranging from 0 to x**"
      ]
    },
    {
      "cell_type": "code",
      "metadata": {
        "id": "xg1mPZKKML5j",
        "outputId": "46e9960c-a630-4d2a-a9d2-e469f6e7e883",
        "colab": {
          "base_uri": "https://localhost:8080/"
        }
      },
      "source": [
        "x = int(input(\"Enter a number :\"))\n",
        "x = np.random.randint(1, x , 20)\n",
        "x"
      ],
      "execution_count": 18,
      "outputs": [
        {
          "output_type": "stream",
          "text": [
            "Enter a number :7\n"
          ],
          "name": "stdout"
        },
        {
          "output_type": "execute_result",
          "data": {
            "text/plain": [
              "array([2, 2, 4, 1, 3, 1, 1, 6, 1, 4, 4, 5, 5, 4, 2, 2, 1, 6, 5, 3])"
            ]
          },
          "metadata": {
            "tags": []
          },
          "execution_count": 18
        }
      ]
    },
    {
      "cell_type": "markdown",
      "metadata": {
        "id": "980PKtbu9Z0k"
      },
      "source": [
        "# 3. SHAPE, LENGTH, TYPE, RESHAPE, AND MAX/MIN VALUES"
      ]
    },
    {
      "cell_type": "code",
      "metadata": {
        "id": "MIxxZhxSADVj",
        "outputId": "825360fd-99ee-4a93-891d-092ec88e33a6",
        "colab": {
          "base_uri": "https://localhost:8080/"
        }
      },
      "source": [
        "# Let's define a one-dimensional array \n",
        "\n",
        "my_list = [-30, 4, 50, 60, 29, 22, 90, 87]\n",
        "my_list\n",
        "x = np.array(my_list)\n",
        "x"
      ],
      "execution_count": 19,
      "outputs": [
        {
          "output_type": "execute_result",
          "data": {
            "text/plain": [
              "array([-30,   4,  50,  60,  29,  22,  90,  87])"
            ]
          },
          "metadata": {
            "tags": []
          },
          "execution_count": 19
        }
      ]
    },
    {
      "cell_type": "code",
      "metadata": {
        "id": "O9mMBErG6YJr",
        "outputId": "c1dc73ed-363d-4d47-e4ca-d510e7f88c3b",
        "colab": {
          "base_uri": "https://localhost:8080/"
        }
      },
      "source": [
        "# Get Length of a numpy array\n",
        "\n",
        "len(x)"
      ],
      "execution_count": 20,
      "outputs": [
        {
          "output_type": "execute_result",
          "data": {
            "text/plain": [
              "8"
            ]
          },
          "metadata": {
            "tags": []
          },
          "execution_count": 20
        }
      ]
    },
    {
      "cell_type": "code",
      "metadata": {
        "id": "fo3vYjNI9lGF",
        "outputId": "3f5b5160-c145-4991-8996-5eaa6946502c",
        "colab": {
          "base_uri": "https://localhost:8080/"
        }
      },
      "source": [
        "# Get shape\n",
        "\n",
        "x.shape"
      ],
      "execution_count": 21,
      "outputs": [
        {
          "output_type": "execute_result",
          "data": {
            "text/plain": [
              "(8,)"
            ]
          },
          "metadata": {
            "tags": []
          },
          "execution_count": 21
        }
      ]
    },
    {
      "cell_type": "code",
      "metadata": {
        "id": "fdkzRVuB9lR6",
        "outputId": "1a50767e-5478-4178-c1d8-915b4f3dd586",
        "colab": {
          "base_uri": "https://localhost:8080/"
        }
      },
      "source": [
        "# Obtain the datatype\n",
        "\n",
        "type(x)"
      ],
      "execution_count": 22,
      "outputs": [
        {
          "output_type": "execute_result",
          "data": {
            "text/plain": [
              "numpy.ndarray"
            ]
          },
          "metadata": {
            "tags": []
          },
          "execution_count": 22
        }
      ]
    },
    {
      "cell_type": "code",
      "metadata": {
        "id": "GVnOSYnU9lLU",
        "outputId": "d0130544-1e49-48eb-c737-9d472af37c2f",
        "colab": {
          "base_uri": "https://localhost:8080/"
        }
      },
      "source": [
        "# Reshape 1D array into a matrix\n",
        "\n",
        "z = x.reshape(2,4)\n",
        "z"
      ],
      "execution_count": 23,
      "outputs": [
        {
          "output_type": "execute_result",
          "data": {
            "text/plain": [
              "array([[-30,   4,  50,  60],\n",
              "       [ 29,  22,  90,  87]])"
            ]
          },
          "metadata": {
            "tags": []
          },
          "execution_count": 23
        }
      ]
    },
    {
      "cell_type": "code",
      "metadata": {
        "id": "zb1UVnsW9lI_",
        "outputId": "87de89c9-6126-49ce-a8b3-aa1864fb003a",
        "colab": {
          "base_uri": "https://localhost:8080/"
        }
      },
      "source": [
        "# Obtain the maximum element (value)\n",
        "\n",
        "x.max()"
      ],
      "execution_count": 24,
      "outputs": [
        {
          "output_type": "execute_result",
          "data": {
            "text/plain": [
              "90"
            ]
          },
          "metadata": {
            "tags": []
          },
          "execution_count": 24
        }
      ]
    },
    {
      "cell_type": "code",
      "metadata": {
        "id": "q1yArvkA-R5P",
        "outputId": "8f6c91ce-6295-4776-9fb1-cfbe9a021c3b",
        "colab": {
          "base_uri": "https://localhost:8080/"
        }
      },
      "source": [
        "# Obtain the minimum element (value)\n",
        "\n",
        "x.min()"
      ],
      "execution_count": 25,
      "outputs": [
        {
          "output_type": "execute_result",
          "data": {
            "text/plain": [
              "-30"
            ]
          },
          "metadata": {
            "tags": []
          },
          "execution_count": 25
        }
      ]
    },
    {
      "cell_type": "code",
      "metadata": {
        "id": "ehXgrFee-R3F",
        "outputId": "5cada272-fcb9-4e95-f67b-812645f3a1e2",
        "colab": {
          "base_uri": "https://localhost:8080/"
        }
      },
      "source": [
        "# Obtain the location of the max element\n",
        "\n",
        "x.argmax()"
      ],
      "execution_count": 26,
      "outputs": [
        {
          "output_type": "execute_result",
          "data": {
            "text/plain": [
              "6"
            ]
          },
          "metadata": {
            "tags": []
          },
          "execution_count": 26
        }
      ]
    },
    {
      "cell_type": "code",
      "metadata": {
        "id": "EnaJTGEy-R0Y",
        "outputId": "81da1de2-6a8d-4fc7-94c5-ea820d58bd7c",
        "colab": {
          "base_uri": "https://localhost:8080/"
        }
      },
      "source": [
        "# Obtain the location of the min element\n",
        "\n",
        "x.argmin()"
      ],
      "execution_count": 27,
      "outputs": [
        {
          "output_type": "execute_result",
          "data": {
            "text/plain": [
              "0"
            ]
          },
          "metadata": {
            "tags": []
          },
          "execution_count": 27
        }
      ]
    },
    {
      "cell_type": "markdown",
      "metadata": {
        "id": "7LavgBBnIIJz"
      },
      "source": [
        "**MINI CHALLENGE #3:**\n",
        "- **Write a code that creates a 4x5 array inwhich numbers range between 300 and 500 such that the difference between elements is 10**"
      ]
    },
    {
      "cell_type": "code",
      "metadata": {
        "id": "CtwsbAQ6NGiN",
        "outputId": "190a3213-cff4-49da-c4f6-ccd37f78e4f9",
        "colab": {
          "base_uri": "https://localhost:8080/"
        }
      },
      "source": [
        "x = np.arange(300, 500, 10)\n",
        "x"
      ],
      "execution_count": 28,
      "outputs": [
        {
          "output_type": "execute_result",
          "data": {
            "text/plain": [
              "array([300, 310, 320, 330, 340, 350, 360, 370, 380, 390, 400, 410, 420,\n",
              "       430, 440, 450, 460, 470, 480, 490])"
            ]
          },
          "metadata": {
            "tags": []
          },
          "execution_count": 28
        }
      ]
    },
    {
      "cell_type": "code",
      "metadata": {
        "id": "FXtQBRb0B2ag",
        "outputId": "e7c778db-6137-4aee-dd2a-32e34939de83",
        "colab": {
          "base_uri": "https://localhost:8080/"
        }
      },
      "source": [
        "z = x.reshape(4,5)\n",
        "z"
      ],
      "execution_count": 29,
      "outputs": [
        {
          "output_type": "execute_result",
          "data": {
            "text/plain": [
              "array([[300, 310, 320, 330, 340],\n",
              "       [350, 360, 370, 380, 390],\n",
              "       [400, 410, 420, 430, 440],\n",
              "       [450, 460, 470, 480, 490]])"
            ]
          },
          "metadata": {
            "tags": []
          },
          "execution_count": 29
        }
      ]
    },
    {
      "cell_type": "markdown",
      "metadata": {
        "id": "zQ-QhrsgM2x8"
      },
      "source": [
        "**MINI CHALLENGE #4:**\n",
        "- **Write a code that creates a 20x20 numpy array of random values that ranges from -1000 to 1000 and obtain the maximum, minimum, and mean values** "
      ]
    },
    {
      "cell_type": "code",
      "metadata": {
        "id": "PS3ofoabMb9V",
        "outputId": "540d4720-130b-42a5-96bf-ea50ac6c76c9",
        "colab": {
          "base_uri": "https://localhost:8080/"
        }
      },
      "source": [
        "x = np.random.randint(-1000, 1000, (20,20))\n",
        "x"
      ],
      "execution_count": 30,
      "outputs": [
        {
          "output_type": "execute_result",
          "data": {
            "text/plain": [
              "array([[-962,  270, -824, -328, -131,  933, -940, -315,  538, -779,  588,\n",
              "        -692, -779,  135, -921,  694,  611,  647, -220,  145],\n",
              "       [-336,  124,  540,  707,  -25,   70, -520, -795, -226, -168, -598,\n",
              "        -105, -567, -173,  427,  922,   17, -682,  432,  -22],\n",
              "       [ 768, -751,  931, -378,  960,  892, -269,  901, -966,  237,   55,\n",
              "        -147,  566, -925,  271,   95, -417,  988,  181, -965],\n",
              "       [ 345, -978,  852, -667,  868,  322, -634,  400,  512,  786,  469,\n",
              "         529,  233, -177,  710,  883,  429, -519,  294,  694],\n",
              "       [ 680,  615,  -84, -351, -538, -453, -774, -412,   11, -413, -868,\n",
              "        -366,  627, -435, -951, -216, -425, -675, -297, -608],\n",
              "       [  34,  943,  457,  872,  551,  970, -823, -644, -344,  392,  952,\n",
              "         283,  608, -376,  475,  812, -286,  803,  673,  279],\n",
              "       [-349,  -13, -986, -969, -526,  720,  744,  169,  -76, -444,  241,\n",
              "        -464, -750,  684, -939, -736,  576, -802,  562, -354],\n",
              "       [-825, -967, -254, -297,  716,  389,   94, -692, -772, -391,  374,\n",
              "         -29,  -38,  224, -960, -527,  414,  620, -518,  402],\n",
              "       [-557, -283, -393, -492,  724,  -93,  278,  687, -933, -377,  -64,\n",
              "         173,  566,   67, -659, -605,  746,    2, -111, -729],\n",
              "       [ 295, -374,  798, -889, -507, -932,   88,  -96, -198, -825,   22,\n",
              "         213,  964,  750, -470,  720,  906,  166, -558,  606],\n",
              "       [ -69, -888, -694,  -18,   -2,  149,  364, -720, -942,  721, -757,\n",
              "        -498, -520,  667,  433, -311,  305,  634, -802,  981],\n",
              "       [-378, -921,  962,  193, -766, -485,  850, -800,  701,  -89,  992,\n",
              "        -618,  955,  -60, -235,  111, -877,  314,  533, -246],\n",
              "       [-273, -365, -478, -523,  414,  537,  383,   98, -640, -119,  254,\n",
              "         596, -968,  -28,  921, -370, -488, -403,  955,  930],\n",
              "       [ 319,  792, -913, -539, -781,  658,  837,  699,  370,  706, -831,\n",
              "         660,  547,  475, -188, -837, -239,  133,  125, -225],\n",
              "       [ 867,   73, -555,  388, -127,  524,  823,    0,  329,  975, -929,\n",
              "        -802, -919, -536, -914, -256,  756,   30, -493, -609],\n",
              "       [-181,  660,  719, -936, -599,  599,  928, -358,  820,  674,  787,\n",
              "         227,  112, -508, -538, -328, -407, -881,  361,  595],\n",
              "       [-569,  769,  405,  685,  535,   62, -647,  819,  902,  143, -653,\n",
              "        -850, -320,  224,  226,  726, -668,  636,  260,  219],\n",
              "       [  19,  310,  954,  401, -762,  587,  821,   12, -812,  897,  640,\n",
              "         -38, -742, -945,  203,  743,  681,  310,  -54,   89],\n",
              "       [ 423, -804,  245,  548,  401,  421,  298, -214,  154, -256,  204,\n",
              "         911, -252,  -57,  834, -928, -823,  -72, -821, -887],\n",
              "       [ 332,   84,  122,  252,  699, -465, -570, -388, -178, -728, -110,\n",
              "         989, -333, -622, -499, -487,   48, -906,  345,  613]])"
            ]
          },
          "metadata": {
            "tags": []
          },
          "execution_count": 30
        }
      ]
    },
    {
      "cell_type": "code",
      "metadata": {
        "id": "Z3IOupQ3CRdS",
        "outputId": "3cd714bb-739e-492c-94db-035fdcd112ed",
        "colab": {
          "base_uri": "https://localhost:8080/"
        }
      },
      "source": [
        "x.shape"
      ],
      "execution_count": 31,
      "outputs": [
        {
          "output_type": "execute_result",
          "data": {
            "text/plain": [
              "(20, 20)"
            ]
          },
          "metadata": {
            "tags": []
          },
          "execution_count": 31
        }
      ]
    },
    {
      "cell_type": "code",
      "metadata": {
        "id": "YjGeHvPrCUEQ",
        "outputId": "60a7d123-8a61-4e57-a000-2e8963074ec1",
        "colab": {
          "base_uri": "https://localhost:8080/"
        }
      },
      "source": [
        "x.max()"
      ],
      "execution_count": 32,
      "outputs": [
        {
          "output_type": "execute_result",
          "data": {
            "text/plain": [
              "992"
            ]
          },
          "metadata": {
            "tags": []
          },
          "execution_count": 32
        }
      ]
    },
    {
      "cell_type": "code",
      "metadata": {
        "id": "L5FejK5lCWt4",
        "outputId": "2c3a3aeb-9b41-49be-e74c-cebc3de9a301",
        "colab": {
          "base_uri": "https://localhost:8080/"
        }
      },
      "source": [
        "x.min()"
      ],
      "execution_count": 33,
      "outputs": [
        {
          "output_type": "execute_result",
          "data": {
            "text/plain": [
              "-986"
            ]
          },
          "metadata": {
            "tags": []
          },
          "execution_count": 33
        }
      ]
    },
    {
      "cell_type": "code",
      "metadata": {
        "id": "tk5YZrRICYt3",
        "outputId": "fe1ef330-4a97-4f6a-c868-e74f5cc2517e",
        "colab": {
          "base_uri": "https://localhost:8080/"
        }
      },
      "source": [
        "x.mean()"
      ],
      "execution_count": 34,
      "outputs": [
        {
          "output_type": "execute_result",
          "data": {
            "text/plain": [
              "2.8175"
            ]
          },
          "metadata": {
            "tags": []
          },
          "execution_count": 34
        }
      ]
    },
    {
      "cell_type": "code",
      "metadata": {
        "id": "iV9br1dQCa-Z",
        "outputId": "8864e398-e1bd-4f03-8882-c4862df6861f",
        "colab": {
          "base_uri": "https://localhost:8080/"
        }
      },
      "source": [
        "print(f'The maximum value is: {x.max()} and the minimum value is: {x.min()}')"
      ],
      "execution_count": 35,
      "outputs": [
        {
          "output_type": "stream",
          "text": [
            "The maximum value is: 992 and the minimum value is: -986\n"
          ],
          "name": "stdout"
        }
      ]
    },
    {
      "cell_type": "markdown",
      "metadata": {
        "id": "VRyk_VYQArV3"
      },
      "source": [
        "# 4. MATHEMATICAL OPERATIONS"
      ]
    },
    {
      "cell_type": "code",
      "metadata": {
        "id": "vm-gmaQG-Vvd",
        "outputId": "ee872fe6-de26-44b6-df7b-17fac115d319",
        "colab": {
          "base_uri": "https://localhost:8080/"
        }
      },
      "source": [
        "# np.arange() returns an evenly spaced values within a given interval\n",
        "\n",
        "x = np.arange(1, 10)\n",
        "x"
      ],
      "execution_count": 55,
      "outputs": [
        {
          "output_type": "execute_result",
          "data": {
            "text/plain": [
              "array([1, 2, 3, 4, 5, 6, 7, 8, 9])"
            ]
          },
          "metadata": {
            "tags": []
          },
          "execution_count": 55
        }
      ]
    },
    {
      "cell_type": "code",
      "metadata": {
        "id": "yzC5WGBIAzNk",
        "outputId": "d83574ee-68db-4767-91e2-e12f610203ea",
        "colab": {
          "base_uri": "https://localhost:8080/"
        }
      },
      "source": [
        "y = np.arange(1, 10)\n",
        "y"
      ],
      "execution_count": 56,
      "outputs": [
        {
          "output_type": "execute_result",
          "data": {
            "text/plain": [
              "array([1, 2, 3, 4, 5, 6, 7, 8, 9])"
            ]
          },
          "metadata": {
            "tags": []
          },
          "execution_count": 56
        }
      ]
    },
    {
      "cell_type": "code",
      "metadata": {
        "id": "ED0OSzpw2p9R",
        "outputId": "fa7160bb-c1f9-40b9-9690-863785105a61",
        "colab": {
          "base_uri": "https://localhost:8080/"
        }
      },
      "source": [
        "# Add 2 numpy arrays together\n",
        "\n",
        "sum = x + y\n",
        "sum"
      ],
      "execution_count": 57,
      "outputs": [
        {
          "output_type": "execute_result",
          "data": {
            "text/plain": [
              "array([ 2,  4,  6,  8, 10, 12, 14, 16, 18])"
            ]
          },
          "metadata": {
            "tags": []
          },
          "execution_count": 57
        }
      ]
    },
    {
      "cell_type": "code",
      "metadata": {
        "id": "TH6xTJcuAzK-",
        "outputId": "c764ee46-2a73-4a11-81e4-8f75f878fe32",
        "colab": {
          "base_uri": "https://localhost:8080/"
        }
      },
      "source": [
        "squared = x ** 2\n",
        "squared"
      ],
      "execution_count": 58,
      "outputs": [
        {
          "output_type": "execute_result",
          "data": {
            "text/plain": [
              "array([ 1,  4,  9, 16, 25, 36, 49, 64, 81])"
            ]
          },
          "metadata": {
            "tags": []
          },
          "execution_count": 58
        }
      ]
    },
    {
      "cell_type": "code",
      "metadata": {
        "id": "A0T25q5bAzIw"
      },
      "source": [
        "\n"
      ],
      "execution_count": 37,
      "outputs": []
    },
    {
      "cell_type": "code",
      "metadata": {
        "id": "1HvrjH4fAzGd"
      },
      "source": [
        ""
      ],
      "execution_count": 37,
      "outputs": []
    },
    {
      "cell_type": "markdown",
      "metadata": {
        "id": "-mj5Mwc2MmY2"
      },
      "source": [
        "**MINI CHALLENGE #5:**\n",
        "- **Given the X and Y values below, obtain the distance between them**\n",
        "\n",
        "\n",
        "```\n",
        "X = [3, 20, 30]\n",
        "Y = [4, 6, 7]\n",
        "```"
      ]
    },
    {
      "cell_type": "code",
      "metadata": {
        "id": "LfvrGIb83zCA"
      },
      "source": [
        ""
      ],
      "execution_count": 37,
      "outputs": []
    },
    {
      "cell_type": "markdown",
      "metadata": {
        "id": "ZA-Yb20mCYLl"
      },
      "source": [
        "# 5. SLICING AND INDEXING "
      ]
    },
    {
      "cell_type": "code",
      "metadata": {
        "id": "Bu6rhQ99BFCp"
      },
      "source": [
        ""
      ],
      "execution_count": 37,
      "outputs": []
    },
    {
      "cell_type": "code",
      "metadata": {
        "id": "9TuEXJxgCdi_"
      },
      "source": [
        "# Access specific index from the numpy array\n"
      ],
      "execution_count": 38,
      "outputs": []
    },
    {
      "cell_type": "code",
      "metadata": {
        "id": "EjisujRgCdh4"
      },
      "source": [
        "# Starting from the first index 0 up until and NOT inlcluding the last element\n"
      ],
      "execution_count": 39,
      "outputs": []
    },
    {
      "cell_type": "code",
      "metadata": {
        "id": "1nWlP602Cdg3"
      },
      "source": [
        "# Broadcasting, altering several values in a numpy array at once\n"
      ],
      "execution_count": 40,
      "outputs": []
    },
    {
      "cell_type": "code",
      "metadata": {
        "id": "fVKbwHguCddn"
      },
      "source": [
        "# Let's define a two dimensional numpy array\n"
      ],
      "execution_count": 41,
      "outputs": []
    },
    {
      "cell_type": "code",
      "metadata": {
        "id": "Ea7ukwEzCda-"
      },
      "source": [
        "# Get a row from a mtrix\n"
      ],
      "execution_count": 42,
      "outputs": []
    },
    {
      "cell_type": "code",
      "metadata": {
        "id": "8KJk10J8Ci8k"
      },
      "source": [
        "# Get one element\n"
      ],
      "execution_count": 43,
      "outputs": []
    },
    {
      "cell_type": "code",
      "metadata": {
        "id": "lWsIgHYRCi5e"
      },
      "source": [
        ""
      ],
      "execution_count": 43,
      "outputs": []
    },
    {
      "cell_type": "code",
      "metadata": {
        "id": "Gn7-PKS9Ci4c"
      },
      "source": [
        ""
      ],
      "execution_count": 43,
      "outputs": []
    },
    {
      "cell_type": "code",
      "metadata": {
        "id": "MGap8pfACi1M"
      },
      "source": [
        ""
      ],
      "execution_count": 43,
      "outputs": []
    },
    {
      "cell_type": "code",
      "metadata": {
        "id": "ANJFZWTdCdX9"
      },
      "source": [
        ""
      ],
      "execution_count": 43,
      "outputs": []
    },
    {
      "cell_type": "markdown",
      "metadata": {
        "id": "zgyFPV5R8dUS"
      },
      "source": [
        "**MINI CHALLENGE #6:**\n",
        "- **In the following matrix, replace the last row with -1**\n",
        "- **Multiply the 2x2 matrix in the upper right corner by 2**\n",
        "\n",
        "\n",
        "\n",
        "```\n",
        "X = [2 30 20 -2 -4]\n",
        "    [3 4  40 -3 -2]\n",
        "    [-3 4 -6 90 10]\n",
        "    [25 45 34 22 12]\n",
        "    [13 24 22 32 37]\n",
        "```\n",
        "\n"
      ]
    },
    {
      "cell_type": "markdown",
      "metadata": {
        "id": "juuMOEq7Col_"
      },
      "source": [
        "# 6. ELEMENTS SELECTION (CONDITIONAL)"
      ]
    },
    {
      "cell_type": "code",
      "metadata": {
        "id": "UujCvuhMCt4K"
      },
      "source": [
        ""
      ],
      "execution_count": 43,
      "outputs": []
    },
    {
      "cell_type": "code",
      "metadata": {
        "id": "JBgJ8ugyCvht"
      },
      "source": [
        ""
      ],
      "execution_count": 43,
      "outputs": []
    },
    {
      "cell_type": "code",
      "metadata": {
        "id": "TIQ-A7IBCvgl"
      },
      "source": [
        ""
      ],
      "execution_count": 43,
      "outputs": []
    },
    {
      "cell_type": "markdown",
      "metadata": {
        "id": "39QiMh-W8ogs"
      },
      "source": [
        "**MINI CHALLENGE #7:**\n",
        "- **In the following matrix, replace negative elements by 0 and replace odd elements with 25**\n",
        "\n",
        "\n",
        "```\n",
        "X = [2 30 20 -2 -4]\n",
        "    [3 4  40 -3 -2]\n",
        "    [-3 4 -6 90 10]\n",
        "    [25 45 34 22 12]\n",
        "    [13 24 22 32 37]\n",
        "```\n"
      ]
    },
    {
      "cell_type": "code",
      "metadata": {
        "id": "AbN-vySf9gen"
      },
      "source": [
        ""
      ],
      "execution_count": 43,
      "outputs": []
    },
    {
      "cell_type": "markdown",
      "metadata": {
        "id": "dakv7iPFgw7Y"
      },
      "source": [
        "# EXCELLENT JOB!"
      ]
    },
    {
      "cell_type": "markdown",
      "metadata": {
        "id": "pNWQrMz6KnIF"
      },
      "source": [
        "# MINI CHALLENGES SOLUTIONS"
      ]
    },
    {
      "cell_type": "markdown",
      "metadata": {
        "id": "6AMqSvtAKj6o"
      },
      "source": [
        "**MINI CHALLENGE #1 SOLUTION:** \n",
        "- **Write a code that creates the following 2x4 numpy array**\n",
        "\n",
        "```\n",
        "[[4 6 8 7] \n",
        "[20 5 6 9]]\n",
        "```"
      ]
    },
    {
      "cell_type": "code",
      "metadata": {
        "id": "ivvFzDy-KlQP",
        "outputId": "f91e012f-e64b-42ed-eefa-9ed36d81ebc7",
        "colab": {
          "base_uri": "https://localhost:8080/"
        }
      },
      "source": [
        "x = np.array([[[4, 6, 8, 7] , [20, 5, 6, 9]]])\n",
        "x"
      ],
      "execution_count": 44,
      "outputs": [
        {
          "output_type": "execute_result",
          "data": {
            "text/plain": [
              "array([[[ 4,  6,  8,  7],\n",
              "        [20,  5,  6,  9]]])"
            ]
          },
          "metadata": {
            "tags": []
          },
          "execution_count": 44
        }
      ]
    },
    {
      "cell_type": "markdown",
      "metadata": {
        "id": "2GskzNkOMFu0"
      },
      "source": [
        "**MINI CHALLENGE #2 SOLUTION:**\n",
        "- **Write a code that takes in a number x from the user and creates a 1x20 array with random numbers ranging from 0 to x**"
      ]
    },
    {
      "cell_type": "code",
      "metadata": {
        "id": "0vnDfvwFMFu3",
        "outputId": "775d1e26-5c38-41e1-88ea-ad963110b5a7",
        "colab": {
          "base_uri": "https://localhost:8080/"
        }
      },
      "source": [
        "x = int(input(\"Please enter a positive integer value: \"))\n",
        "x = np.random.randint(1, x, 20)\n",
        "x"
      ],
      "execution_count": 45,
      "outputs": [
        {
          "output_type": "stream",
          "text": [
            "Please enter a positive integer value: 8\n"
          ],
          "name": "stdout"
        },
        {
          "output_type": "execute_result",
          "data": {
            "text/plain": [
              "array([3, 2, 2, 5, 1, 4, 3, 4, 7, 1, 1, 4, 5, 5, 1, 5, 1, 5, 7, 1])"
            ]
          },
          "metadata": {
            "tags": []
          },
          "execution_count": 45
        }
      ]
    },
    {
      "cell_type": "markdown",
      "metadata": {
        "id": "LOVruiHdMRMd"
      },
      "source": [
        "**MINI CHALLENGE #3 SOLUTION:**\n",
        "- **Write a code that creates a 4x5 array inwhich numbers ranging between 300 and 500 such that the difference between elements is 10**"
      ]
    },
    {
      "cell_type": "code",
      "metadata": {
        "id": "WtSncbsHMRMg",
        "outputId": "95bafe8d-9615-4da3-9577-405baab9a33d",
        "colab": {
          "base_uri": "https://localhost:8080/"
        }
      },
      "source": [
        "x = np.arange(300, 500, 10)\n",
        "x.shape"
      ],
      "execution_count": 46,
      "outputs": [
        {
          "output_type": "execute_result",
          "data": {
            "text/plain": [
              "(20,)"
            ]
          },
          "metadata": {
            "tags": []
          },
          "execution_count": 46
        }
      ]
    },
    {
      "cell_type": "code",
      "metadata": {
        "id": "2_8vFVF7MRMp",
        "outputId": "b8a43588-2681-475a-d2af-52e03370931d",
        "colab": {
          "base_uri": "https://localhost:8080/"
        }
      },
      "source": [
        "x = x.reshape(4, 5)\n",
        "print(x)"
      ],
      "execution_count": 47,
      "outputs": [
        {
          "output_type": "stream",
          "text": [
            "[[300 310 320 330 340]\n",
            " [350 360 370 380 390]\n",
            " [400 410 420 430 440]\n",
            " [450 460 470 480 490]]\n"
          ],
          "name": "stdout"
        }
      ]
    },
    {
      "cell_type": "markdown",
      "metadata": {
        "id": "NSuiOFRx1pSY"
      },
      "source": [
        "**MINI CHALLENGE #4 SOLUTION:**\n",
        "- **Write a code that creates a 20x20 numpy array of random values that ranges from -1000 to 1000 and obtain the maximum, minimum, and mean values** "
      ]
    },
    {
      "cell_type": "code",
      "metadata": {
        "id": "445Vi21GMYS7",
        "outputId": "3e9d0642-06c8-4265-b981-ccf328649595",
        "colab": {
          "base_uri": "https://localhost:8080/"
        }
      },
      "source": [
        "x = np.random.randint(-1000, 1000, (20, 20))\n",
        "print(x)\n",
        "print('The maximum value is: {} and the minimum value is:{}'.format(x.min(), x.max()))"
      ],
      "execution_count": 48,
      "outputs": [
        {
          "output_type": "stream",
          "text": [
            "[[ 286 -654  901 -887 -481  790 -372  546 -744  225  -90  949  585 -192\n",
            "   141 -649 -287 -413  619  468]\n",
            " [-607 -217  837  815 -513  998 -938  442 -821  784 -780  246  420 -865\n",
            "  -479  799  435   92  142  340]\n",
            " [ -47  -69 -161  775 -498 -966  440  263  330  491 -925 -802  414  471\n",
            "   922 -929 -847 -773 -496  686]\n",
            " [ 656 -655 -802  910 -641  205 -757 -807 -554  150  123 -345  108  809\n",
            "   537 -865 -289  837 -999 -168]\n",
            " [ 587 -298 -425 -952  786  -37  725  361  196  871  693  314  643 -903\n",
            "   632 -255 -481  -59 -210 -871]\n",
            " [-630  176 -827  276  661 -347  474 -300  414  710 -544 -142 -589   81\n",
            "  -300  358  385 -998  663 -466]\n",
            " [ 437 -151 -334 -372  -99  -48  754  453 -467  542  -54  430  213  383\n",
            "   850 -541  -63  691  810 -317]\n",
            " [-910 -830 -655  994  266  362 -735 -582 -572   87 -876  887  570 -906\n",
            "  -904  165 -270 -628 -274  344]\n",
            " [ 187  375  143  361  394  818  615 -165  598  778  250 -274  263  284\n",
            "  -995  275  907 -808 -999 -628]\n",
            " [ 549 -857 -106   79  983 -515 -553 -808 -204 -600 -842 -879 -785 -419\n",
            "   314  357 -109 -818  653  423]\n",
            " [-903  520 -831  217   69 -969  962  435 -794  543  938 -853  704  837\n",
            "   118 -107  -49  117  651  766]\n",
            " [ 487 -804   48 -124 -443  113  971   51  892  884    5  988  598  513\n",
            "  -377  596  817   82 -150 -382]\n",
            " [-836 -278 -743 -277 -437 -242  780  892 -163 -330 -917  603 -608  473\n",
            "  -433 -447 -894 -443  871  419]\n",
            " [  48 -357 -927  977  464  272    8 -352 -867 -790 -668  703  766  320\n",
            "   -67  353  979 -785 -303 -807]\n",
            " [ 507  293  223  672 -680  429 -922  399 -374  799  951   13  806 -250\n",
            "  -707  649 -861  749 -439  476]\n",
            " [ 701 -299  797  947 -946  -70 -436 -250  771  646 -148 -146 -217  455\n",
            "   301 -416 -828  105  178 -195]\n",
            " [-613  773  951  683 -222 -802  202  883  -11  138 -478 -454  641 -823\n",
            "   853  766  839 -836 -444   73]\n",
            " [-280  665 -211 -155  759 -758   17  704  108 -223 -426 -329  -57  321\n",
            "  -681 -280 -171  513 -816  -40]\n",
            " [-743 -235   45 -125 -947  941 -156 -616 -897 -903 -110  449  876 -153\n",
            "   232 -505 -208  -80 -205 -290]\n",
            " [ 397  274  812  -15 -566  529   -9  807 -811  816  640  374 -997  360\n",
            "  -241 -993 -962 -798 -318 -510]]\n",
            "The maximum value is: -999 and the minimum value is:998\n"
          ],
          "name": "stdout"
        }
      ]
    },
    {
      "cell_type": "code",
      "metadata": {
        "id": "tIVL0uEr4xsC"
      },
      "source": [
        ""
      ],
      "execution_count": 48,
      "outputs": []
    },
    {
      "cell_type": "markdown",
      "metadata": {
        "id": "s1p4WaNB4yFf"
      },
      "source": [
        "**MINI CHALLENGE #5 SOLUTION:**\n",
        "- **Given the X and Y values below, obtain the distance between them**\n",
        "\n",
        "\n",
        "```\n",
        "X = [3, 20, 30]\n",
        "Y = [4, 6, 7]\n",
        "```\n",
        "\n",
        "\n"
      ]
    },
    {
      "cell_type": "code",
      "metadata": {
        "id": "_GJmf2Pl4yFi",
        "outputId": "e268423e-e27e-4e1b-f286-52f10a6645e8",
        "colab": {
          "base_uri": "https://localhost:8080/"
        }
      },
      "source": [
        "X = np.array([3, 20, 30])\n",
        "Y = np.array([4, 6, 7])\n",
        "Z = np.sqrt(X**2 + Y**2)\n",
        "Z"
      ],
      "execution_count": 49,
      "outputs": [
        {
          "output_type": "execute_result",
          "data": {
            "text/plain": [
              "array([ 5.        , 20.88061302, 30.8058436 ])"
            ]
          },
          "metadata": {
            "tags": []
          },
          "execution_count": 49
        }
      ]
    },
    {
      "cell_type": "markdown",
      "metadata": {
        "id": "EZ9i2CLm6Iuf"
      },
      "source": [
        "**MINI CHALLENGE #6 SOLUTION:**\n",
        "- **In the following matrix, replace the last row with -1**\n",
        "- **Multiply the 2x2 matrix in the upper right corner by 2**\n",
        "\n",
        "\n",
        "\n",
        "```\n",
        "X = [2 30 20 -2 -4]\n",
        "    [3 4  40 -3 -2]\n",
        "    [-3 4 -6 90 10]\n",
        "    [25 45 34 22 12]\n",
        "    [13 24 22 32 37]\n",
        "```\n",
        "\n",
        "\n"
      ]
    },
    {
      "cell_type": "code",
      "metadata": {
        "id": "qB7S_wIx6Hsm"
      },
      "source": [
        "X = np.array([[2, 30, 20, -2, -4],\n",
        "    [3, 4,  40, -3, -2],\n",
        "    [-3, 4, -6, 90, 10],\n",
        "    [25, 45, 34, 22, 12],\n",
        "    [13, 24, 22, 32, 37]])\n"
      ],
      "execution_count": 50,
      "outputs": []
    },
    {
      "cell_type": "code",
      "metadata": {
        "id": "y98hmGRe7Qtl",
        "outputId": "063d179b-9c7a-4c1d-c8c4-d3819dbacff1",
        "colab": {
          "base_uri": "https://localhost:8080/"
        }
      },
      "source": [
        "X[4] = 0\n",
        "X"
      ],
      "execution_count": 51,
      "outputs": [
        {
          "output_type": "execute_result",
          "data": {
            "text/plain": [
              "array([[ 2, 30, 20, -2, -4],\n",
              "       [ 3,  4, 40, -3, -2],\n",
              "       [-3,  4, -6, 90, 10],\n",
              "       [25, 45, 34, 22, 12],\n",
              "       [ 0,  0,  0,  0,  0]])"
            ]
          },
          "metadata": {
            "tags": []
          },
          "execution_count": 51
        }
      ]
    },
    {
      "cell_type": "code",
      "metadata": {
        "id": "6pLZ5lF87UFs"
      },
      "source": [
        "X[:2, 3:]  = X[:2, 3:] * 2"
      ],
      "execution_count": 52,
      "outputs": []
    },
    {
      "cell_type": "code",
      "metadata": {
        "id": "WsqjANlB8Kva",
        "outputId": "b253dd4b-a36c-4421-d468-3a18ac56ea60",
        "colab": {
          "base_uri": "https://localhost:8080/"
        }
      },
      "source": [
        "X"
      ],
      "execution_count": 53,
      "outputs": [
        {
          "output_type": "execute_result",
          "data": {
            "text/plain": [
              "array([[ 2, 30, 20, -4, -8],\n",
              "       [ 3,  4, 40, -6, -4],\n",
              "       [-3,  4, -6, 90, 10],\n",
              "       [25, 45, 34, 22, 12],\n",
              "       [ 0,  0,  0,  0,  0]])"
            ]
          },
          "metadata": {
            "tags": []
          },
          "execution_count": 53
        }
      ]
    },
    {
      "cell_type": "markdown",
      "metadata": {
        "id": "2oikl6JS9YUs"
      },
      "source": [
        "**MINI CHALLENGE #7 SOLUTION:**\n",
        "- **In the following matrix, replace negative elements by 0 and replace odd elements with 25**\n",
        "\n",
        "\n",
        "```\n",
        "X = [2 30 20 -2 -4]\n",
        "    [3 4  40 -3 -2]\n",
        "    [-3 4 -6 90 10]\n",
        "    [25 45 34 22 12]\n",
        "    [13 24 22 32 37]\n",
        "```\n"
      ]
    },
    {
      "cell_type": "code",
      "metadata": {
        "id": "h105KzGr9YUu",
        "outputId": "2dcb21d1-f413-4d1f-c647-33900c9f31a3",
        "colab": {
          "base_uri": "https://localhost:8080/"
        }
      },
      "source": [
        "X = np.array([[2, 30, 20, -2, -4],\n",
        "    [3, 4,  40, -3, -2],\n",
        "    [-3, 4, -6, 90, 10],\n",
        "    [25, 45, 34, 22, 12],\n",
        "    [13, 24, 22, 32, 37]])\n",
        "\n",
        "X[X%2==1] = 25\n",
        "X[X<0] = 0\n",
        "X"
      ],
      "execution_count": 54,
      "outputs": [
        {
          "output_type": "execute_result",
          "data": {
            "text/plain": [
              "array([[ 2, 30, 20,  0,  0],\n",
              "       [25,  4, 40, 25,  0],\n",
              "       [25,  4,  0, 90, 10],\n",
              "       [25, 25, 34, 22, 12],\n",
              "       [25, 24, 22, 32, 25]])"
            ]
          },
          "metadata": {
            "tags": []
          },
          "execution_count": 54
        }
      ]
    }
  ]
}
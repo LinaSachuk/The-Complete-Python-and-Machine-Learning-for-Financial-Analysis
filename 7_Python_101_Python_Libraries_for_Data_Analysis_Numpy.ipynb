{
  "nbformat": 4,
  "nbformat_minor": 0,
  "metadata": {
    "colab": {
      "name": "7. Python 101 - Python Libraries for Data Analysis - Numpy.ipynb",
      "provenance": [],
      "collapsed_sections": [],
      "include_colab_link": true
    },
    "kernelspec": {
      "name": "python3",
      "display_name": "Python 3"
    }
  },
  "cells": [
    {
      "cell_type": "markdown",
      "metadata": {
        "id": "view-in-github",
        "colab_type": "text"
      },
      "source": [
        "<a href=\"https://colab.research.google.com/github/LinaSachuk/The-Complete-Python-and-Machine-Learning-for-Financial-Analysis/blob/master/7_Python_101_Python_Libraries_for_Data_Analysis_Numpy.ipynb\" target=\"_parent\"><img src=\"https://colab.research.google.com/assets/colab-badge.svg\" alt=\"Open In Colab\"/></a>"
      ]
    },
    {
      "cell_type": "markdown",
      "metadata": {
        "id": "f7yOpaRM5IbG"
      },
      "source": [
        "# 1. NUMPY BASICS"
      ]
    },
    {
      "cell_type": "code",
      "metadata": {
        "id": "Bqk10u47qEmJ"
      },
      "source": [
        "# NumPy is a Linear Algebra Library used for multidimensional arrays\n",
        "# NumPy brings the best of two worlds: (1) C/Fortran computational efficiency, (2) Python language easy syntax \n",
        "\n",
        "import numpy as np\n",
        "\n",
        "# Let's define a one-dimensional array \n",
        "\n",
        "my_list = [10, 20, 60, 70]"
      ],
      "execution_count": 2,
      "outputs": []
    },
    {
      "cell_type": "code",
      "metadata": {
        "id": "b98d-lkK5NbQ",
        "outputId": "cc43b07d-41ce-43fd-cedb-1bac9084d2af",
        "colab": {
          "base_uri": "https://localhost:8080/"
        }
      },
      "source": [
        "# Let's create a numpy array from the list \"my_list\"\n",
        "\n",
        "my_list"
      ],
      "execution_count": 3,
      "outputs": [
        {
          "output_type": "execute_result",
          "data": {
            "text/plain": [
              "[10, 20, 60, 70]"
            ]
          },
          "metadata": {
            "tags": []
          },
          "execution_count": 3
        }
      ]
    },
    {
      "cell_type": "code",
      "metadata": {
        "id": "tljNDWBw5Nf9",
        "outputId": "fddffd82-0b34-49e1-cd46-0711ca1fdea3",
        "colab": {
          "base_uri": "https://localhost:8080/"
        }
      },
      "source": [
        "x= np.array(my_list)\n",
        "print(type(x))\n",
        "x"
      ],
      "execution_count": 4,
      "outputs": [
        {
          "output_type": "stream",
          "text": [
            "<class 'numpy.ndarray'>\n"
          ],
          "name": "stdout"
        },
        {
          "output_type": "execute_result",
          "data": {
            "text/plain": [
              "array([10, 20, 60, 70])"
            ]
          },
          "metadata": {
            "tags": []
          },
          "execution_count": 4
        }
      ]
    },
    {
      "cell_type": "code",
      "metadata": {
        "id": "wpiZ25fZ5NiN",
        "outputId": "0c9dda87-4404-4cc9-e885-51f21ee43af0",
        "colab": {
          "base_uri": "https://localhost:8080/"
        }
      },
      "source": [
        "# Multi-dimensional (Matrix definition) \n",
        "\n",
        "matrix = np.array([[5, 8], [7, 8]])\n",
        "matrix"
      ],
      "execution_count": 5,
      "outputs": [
        {
          "output_type": "execute_result",
          "data": {
            "text/plain": [
              "array([[5, 8],\n",
              "       [7, 8]])"
            ]
          },
          "metadata": {
            "tags": []
          },
          "execution_count": 5
        }
      ]
    },
    {
      "cell_type": "code",
      "metadata": {
        "id": "WP9lWb-n2kql",
        "outputId": "04ec76e6-2208-48e8-8d57-f91a16fe00fd",
        "colab": {
          "base_uri": "https://localhost:8080/"
        }
      },
      "source": [
        "type(matrix)"
      ],
      "execution_count": 6,
      "outputs": [
        {
          "output_type": "execute_result",
          "data": {
            "text/plain": [
              "numpy.ndarray"
            ]
          },
          "metadata": {
            "tags": []
          },
          "execution_count": 6
        }
      ]
    },
    {
      "cell_type": "markdown",
      "metadata": {
        "id": "tmB_S-JfHZRL"
      },
      "source": [
        "**MINI CHALLENGE #1:** \n",
        "- **Write a code that creates the following 2x4 numpy array**\n",
        "\n",
        "```\n",
        "[[4 6 8 7] \n",
        "[20 5 6 9]]\n",
        "```"
      ]
    },
    {
      "cell_type": "code",
      "metadata": {
        "id": "Nabjzl1oKtGX",
        "outputId": "47897413-7888-42ce-adbe-e9c2c5f14306",
        "colab": {
          "base_uri": "https://localhost:8080/"
        }
      },
      "source": [
        "x = np.array([ [4,6,8,7], [20, 5, 6, 9]])\n",
        "x"
      ],
      "execution_count": 7,
      "outputs": [
        {
          "output_type": "execute_result",
          "data": {
            "text/plain": [
              "array([[ 4,  6,  8,  7],\n",
              "       [20,  5,  6,  9]])"
            ]
          },
          "metadata": {
            "tags": []
          },
          "execution_count": 7
        }
      ]
    },
    {
      "cell_type": "markdown",
      "metadata": {
        "id": "uBuqdDQM6Qd9"
      },
      "source": [
        "# 2. BUILT-IN METHODS AND FUNCTIONS "
      ]
    },
    {
      "cell_type": "code",
      "metadata": {
        "id": "yXQV-Nrg5No3",
        "outputId": "2a03a6ef-7fe5-4451-e963-96525de5ac86",
        "colab": {
          "base_uri": "https://localhost:8080/"
        }
      },
      "source": [
        "# \"rand()\" uniform distribution between 0 and 1\n",
        "\n",
        "x = np.random.rand(15)\n",
        "x"
      ],
      "execution_count": 8,
      "outputs": [
        {
          "output_type": "execute_result",
          "data": {
            "text/plain": [
              "array([0.66886006, 0.05975676, 0.33005412, 0.19208567, 0.41822697,\n",
              "       0.67967629, 0.41763428, 0.24620088, 0.30283854, 0.90117296,\n",
              "       0.06706182, 0.37632639, 0.64286532, 0.74120022, 0.298033  ])"
            ]
          },
          "metadata": {
            "tags": []
          },
          "execution_count": 8
        }
      ]
    },
    {
      "cell_type": "code",
      "metadata": {
        "id": "PpJUCdB15NkT",
        "outputId": "6047dd8e-6498-47ce-b1f0-05e0b3a0ee38",
        "colab": {
          "base_uri": "https://localhost:8080/"
        }
      },
      "source": [
        "# you can create a matrix of random number as well\n",
        "\n",
        "x = np.random.rand(5, 5)\n",
        "x"
      ],
      "execution_count": 9,
      "outputs": [
        {
          "output_type": "execute_result",
          "data": {
            "text/plain": [
              "array([[0.05535438, 0.21784617, 0.97297015, 0.624275  , 0.02735048],\n",
              "       [0.41221063, 0.32671931, 0.73017759, 0.92794381, 0.89599349],\n",
              "       [0.97697253, 0.54699543, 0.9853166 , 0.83163719, 0.18479151],\n",
              "       [0.61054373, 0.88382035, 0.78570644, 0.75685804, 0.42148574],\n",
              "       [0.26060587, 0.28730058, 0.96308595, 0.017579  , 0.333431  ]])"
            ]
          },
          "metadata": {
            "tags": []
          },
          "execution_count": 9
        }
      ]
    },
    {
      "cell_type": "code",
      "metadata": {
        "id": "7EzMNrrm6YHA",
        "outputId": "f65f9c64-04a5-40fe-a3dc-d267d74fcb84",
        "colab": {
          "base_uri": "https://localhost:8080/"
        }
      },
      "source": [
        "# \"randn()\" normal distribution between 0 and 1\n",
        "\n",
        "x = np.random.randn(10)\n",
        "x"
      ],
      "execution_count": 10,
      "outputs": [
        {
          "output_type": "execute_result",
          "data": {
            "text/plain": [
              "array([-1.59329485,  1.1134525 ,  0.21301715,  0.05149756, -2.16155476,\n",
              "        0.23663312, -0.22827249, -2.28350534,  0.24027819, -0.02497238])"
            ]
          },
          "metadata": {
            "tags": []
          },
          "execution_count": 10
        }
      ]
    },
    {
      "cell_type": "code",
      "metadata": {
        "id": "RBcU5xgb6YL0",
        "outputId": "d9e0d9cd-6d6c-4da5-a108-592db428ce7c",
        "colab": {
          "base_uri": "https://localhost:8080/"
        }
      },
      "source": [
        "# \"randint\" is used to generate random integers between upper and lower bounds\n",
        "\n",
        "x = np.random.randint(1, 10)\n",
        "x"
      ],
      "execution_count": 11,
      "outputs": [
        {
          "output_type": "execute_result",
          "data": {
            "text/plain": [
              "1"
            ]
          },
          "metadata": {
            "tags": []
          },
          "execution_count": 11
        }
      ]
    },
    {
      "cell_type": "code",
      "metadata": {
        "id": "O3JdVtvo6YP7",
        "outputId": "ba69129d-c5ed-43d1-b07f-73f3128b7c14",
        "colab": {
          "base_uri": "https://localhost:8080/"
        }
      },
      "source": [
        "# \"randint\" can be used to generate a certain number of random itegers as follows\n",
        "\n",
        "x = np.random.randint(1, 100, 15)\n",
        "x"
      ],
      "execution_count": 12,
      "outputs": [
        {
          "output_type": "execute_result",
          "data": {
            "text/plain": [
              "array([45, 91, 10,  4,  2, 36, 68, 79, 27, 81, 87, 36, 83, 78, 99])"
            ]
          },
          "metadata": {
            "tags": []
          },
          "execution_count": 12
        }
      ]
    },
    {
      "cell_type": "code",
      "metadata": {
        "id": "EOOLMB416YUh",
        "outputId": "abc6e70f-6df7-4416-e797-160aa6b53a03",
        "colab": {
          "base_uri": "https://localhost:8080/"
        }
      },
      "source": [
        "# np.arange creates an evenly spaced values within a given interval\n",
        "\n",
        "x = np.arange(1, 50)\n",
        "x"
      ],
      "execution_count": 13,
      "outputs": [
        {
          "output_type": "execute_result",
          "data": {
            "text/plain": [
              "array([ 1,  2,  3,  4,  5,  6,  7,  8,  9, 10, 11, 12, 13, 14, 15, 16, 17,\n",
              "       18, 19, 20, 21, 22, 23, 24, 25, 26, 27, 28, 29, 30, 31, 32, 33, 34,\n",
              "       35, 36, 37, 38, 39, 40, 41, 42, 43, 44, 45, 46, 47, 48, 49])"
            ]
          },
          "metadata": {
            "tags": []
          },
          "execution_count": 13
        }
      ]
    },
    {
      "cell_type": "code",
      "metadata": {
        "id": "Jz7eJuio6YY4",
        "outputId": "5411aa21-faee-4db8-9c57-f76069d54409",
        "colab": {
          "base_uri": "https://localhost:8080/"
        }
      },
      "source": [
        "# Create an evenly spaced values with a step of 5\n",
        "\n",
        "x = np.arange(1, 50, 5)\n",
        "x"
      ],
      "execution_count": 14,
      "outputs": [
        {
          "output_type": "execute_result",
          "data": {
            "text/plain": [
              "array([ 1,  6, 11, 16, 21, 26, 31, 36, 41, 46])"
            ]
          },
          "metadata": {
            "tags": []
          },
          "execution_count": 14
        }
      ]
    },
    {
      "cell_type": "code",
      "metadata": {
        "id": "sft1flaM6YXF",
        "outputId": "f183c7eb-9982-49ef-ff65-1161333f860d",
        "colab": {
          "base_uri": "https://localhost:8080/"
        }
      },
      "source": [
        "# create a diagonal of ones and zeros everywhere else\n",
        "\n",
        "x = np.eye(15)\n",
        "x"
      ],
      "execution_count": 15,
      "outputs": [
        {
          "output_type": "execute_result",
          "data": {
            "text/plain": [
              "array([[1., 0., 0., 0., 0., 0., 0., 0., 0., 0., 0., 0., 0., 0., 0.],\n",
              "       [0., 1., 0., 0., 0., 0., 0., 0., 0., 0., 0., 0., 0., 0., 0.],\n",
              "       [0., 0., 1., 0., 0., 0., 0., 0., 0., 0., 0., 0., 0., 0., 0.],\n",
              "       [0., 0., 0., 1., 0., 0., 0., 0., 0., 0., 0., 0., 0., 0., 0.],\n",
              "       [0., 0., 0., 0., 1., 0., 0., 0., 0., 0., 0., 0., 0., 0., 0.],\n",
              "       [0., 0., 0., 0., 0., 1., 0., 0., 0., 0., 0., 0., 0., 0., 0.],\n",
              "       [0., 0., 0., 0., 0., 0., 1., 0., 0., 0., 0., 0., 0., 0., 0.],\n",
              "       [0., 0., 0., 0., 0., 0., 0., 1., 0., 0., 0., 0., 0., 0., 0.],\n",
              "       [0., 0., 0., 0., 0., 0., 0., 0., 1., 0., 0., 0., 0., 0., 0.],\n",
              "       [0., 0., 0., 0., 0., 0., 0., 0., 0., 1., 0., 0., 0., 0., 0.],\n",
              "       [0., 0., 0., 0., 0., 0., 0., 0., 0., 0., 1., 0., 0., 0., 0.],\n",
              "       [0., 0., 0., 0., 0., 0., 0., 0., 0., 0., 0., 1., 0., 0., 0.],\n",
              "       [0., 0., 0., 0., 0., 0., 0., 0., 0., 0., 0., 0., 1., 0., 0.],\n",
              "       [0., 0., 0., 0., 0., 0., 0., 0., 0., 0., 0., 0., 0., 1., 0.],\n",
              "       [0., 0., 0., 0., 0., 0., 0., 0., 0., 0., 0., 0., 0., 0., 1.]])"
            ]
          },
          "metadata": {
            "tags": []
          },
          "execution_count": 15
        }
      ]
    },
    {
      "cell_type": "code",
      "metadata": {
        "id": "zZgMftc96fZm",
        "outputId": "602d6984-fd3c-4b62-c207-df55b5087f4a",
        "colab": {
          "base_uri": "https://localhost:8080/"
        }
      },
      "source": [
        "# Array of ones\n",
        "\n",
        "x = np.ones(10)\n",
        "x"
      ],
      "execution_count": 16,
      "outputs": [
        {
          "output_type": "execute_result",
          "data": {
            "text/plain": [
              "array([1., 1., 1., 1., 1., 1., 1., 1., 1., 1.])"
            ]
          },
          "metadata": {
            "tags": []
          },
          "execution_count": 16
        }
      ]
    },
    {
      "cell_type": "code",
      "metadata": {
        "id": "VQ8fp8Qb6feB",
        "outputId": "a07f74bf-5b95-47ca-92a1-40555ac1249a",
        "colab": {
          "base_uri": "https://localhost:8080/"
        }
      },
      "source": [
        "# Matrices of ones\n",
        "\n",
        "x = np.ones((10, 10))\n",
        "x\n"
      ],
      "execution_count": 17,
      "outputs": [
        {
          "output_type": "execute_result",
          "data": {
            "text/plain": [
              "array([[1., 1., 1., 1., 1., 1., 1., 1., 1., 1.],\n",
              "       [1., 1., 1., 1., 1., 1., 1., 1., 1., 1.],\n",
              "       [1., 1., 1., 1., 1., 1., 1., 1., 1., 1.],\n",
              "       [1., 1., 1., 1., 1., 1., 1., 1., 1., 1.],\n",
              "       [1., 1., 1., 1., 1., 1., 1., 1., 1., 1.],\n",
              "       [1., 1., 1., 1., 1., 1., 1., 1., 1., 1.],\n",
              "       [1., 1., 1., 1., 1., 1., 1., 1., 1., 1.],\n",
              "       [1., 1., 1., 1., 1., 1., 1., 1., 1., 1.],\n",
              "       [1., 1., 1., 1., 1., 1., 1., 1., 1., 1.],\n",
              "       [1., 1., 1., 1., 1., 1., 1., 1., 1., 1.]])"
            ]
          },
          "metadata": {
            "tags": []
          },
          "execution_count": 17
        }
      ]
    },
    {
      "cell_type": "code",
      "metadata": {
        "id": "TTROXKYo6YSn",
        "outputId": "62d2189b-3a5d-44c1-da7b-fda1b6901daf",
        "colab": {
          "base_uri": "https://localhost:8080/"
        }
      },
      "source": [
        "# Array of zeros\n",
        "\n",
        "x = np.zeros(50)\n",
        "x"
      ],
      "execution_count": 18,
      "outputs": [
        {
          "output_type": "execute_result",
          "data": {
            "text/plain": [
              "array([0., 0., 0., 0., 0., 0., 0., 0., 0., 0., 0., 0., 0., 0., 0., 0., 0.,\n",
              "       0., 0., 0., 0., 0., 0., 0., 0., 0., 0., 0., 0., 0., 0., 0., 0., 0.,\n",
              "       0., 0., 0., 0., 0., 0., 0., 0., 0., 0., 0., 0., 0., 0., 0., 0.])"
            ]
          },
          "metadata": {
            "tags": []
          },
          "execution_count": 18
        }
      ]
    },
    {
      "cell_type": "markdown",
      "metadata": {
        "id": "IGiQ87EjKzh-"
      },
      "source": [
        "**MINI CHALLENGE #2:**\n",
        "- **Write a code that takes in a number x from the user and creates a 1x20 array with random numbers ranging from 0 to x**"
      ]
    },
    {
      "cell_type": "code",
      "metadata": {
        "id": "xg1mPZKKML5j",
        "outputId": "7dd3904e-6d60-4811-f04f-b23a672fef5f",
        "colab": {
          "base_uri": "https://localhost:8080/"
        }
      },
      "source": [
        "x = int(input(\"Enter a number :\"))\n",
        "x = np.random.randint(1, x , 20)\n",
        "x"
      ],
      "execution_count": 20,
      "outputs": [
        {
          "output_type": "stream",
          "text": [
            "Enter a number :8\n"
          ],
          "name": "stdout"
        },
        {
          "output_type": "execute_result",
          "data": {
            "text/plain": [
              "array([5, 4, 6, 7, 5, 2, 4, 1, 6, 4, 5, 5, 5, 6, 3, 1, 7, 2, 4, 6])"
            ]
          },
          "metadata": {
            "tags": []
          },
          "execution_count": 20
        }
      ]
    },
    {
      "cell_type": "markdown",
      "metadata": {
        "id": "980PKtbu9Z0k"
      },
      "source": [
        "# 3. SHAPE, LENGTH, TYPE, RESHAPE, AND MAX/MIN VALUES"
      ]
    },
    {
      "cell_type": "code",
      "metadata": {
        "id": "MIxxZhxSADVj",
        "outputId": "3f96cdde-bd44-4319-d1e4-8dfd9b9706be",
        "colab": {
          "base_uri": "https://localhost:8080/"
        }
      },
      "source": [
        "# Let's define a one-dimensional array \n",
        "\n",
        "my_list = [-30, 4, 50, 60, 29, 22, 90, 87]\n",
        "my_list\n",
        "x = np.array(my_list)\n",
        "x"
      ],
      "execution_count": 22,
      "outputs": [
        {
          "output_type": "execute_result",
          "data": {
            "text/plain": [
              "array([-30,   4,  50,  60,  29,  22,  90,  87])"
            ]
          },
          "metadata": {
            "tags": []
          },
          "execution_count": 22
        }
      ]
    },
    {
      "cell_type": "code",
      "metadata": {
        "id": "O9mMBErG6YJr",
        "outputId": "ca375d50-a65e-47bb-896a-d6593b4a0b99",
        "colab": {
          "base_uri": "https://localhost:8080/"
        }
      },
      "source": [
        "# Get Length of a numpy array\n",
        "\n",
        "len(x)"
      ],
      "execution_count": 21,
      "outputs": [
        {
          "output_type": "execute_result",
          "data": {
            "text/plain": [
              "20"
            ]
          },
          "metadata": {
            "tags": []
          },
          "execution_count": 21
        }
      ]
    },
    {
      "cell_type": "code",
      "metadata": {
        "id": "fo3vYjNI9lGF",
        "outputId": "82c6f4b0-1385-4f13-ddd3-435cb9d2fb06",
        "colab": {
          "base_uri": "https://localhost:8080/"
        }
      },
      "source": [
        "# Get shape\n",
        "\n",
        "x.shape"
      ],
      "execution_count": 23,
      "outputs": [
        {
          "output_type": "execute_result",
          "data": {
            "text/plain": [
              "(8,)"
            ]
          },
          "metadata": {
            "tags": []
          },
          "execution_count": 23
        }
      ]
    },
    {
      "cell_type": "code",
      "metadata": {
        "id": "fdkzRVuB9lR6",
        "outputId": "a04e5a07-8592-4ccc-a2a1-57c2abd8336c",
        "colab": {
          "base_uri": "https://localhost:8080/"
        }
      },
      "source": [
        "# Obtain the datatype\n",
        "\n",
        "type(x)"
      ],
      "execution_count": 24,
      "outputs": [
        {
          "output_type": "execute_result",
          "data": {
            "text/plain": [
              "numpy.ndarray"
            ]
          },
          "metadata": {
            "tags": []
          },
          "execution_count": 24
        }
      ]
    },
    {
      "cell_type": "code",
      "metadata": {
        "id": "GVnOSYnU9lLU",
        "outputId": "22fcdc93-f631-460e-b8e0-12d250686821",
        "colab": {
          "base_uri": "https://localhost:8080/"
        }
      },
      "source": [
        "# Reshape 1D array into a matrix\n",
        "\n",
        "z = x.reshape(2,4)\n",
        "z"
      ],
      "execution_count": 25,
      "outputs": [
        {
          "output_type": "execute_result",
          "data": {
            "text/plain": [
              "array([[-30,   4,  50,  60],\n",
              "       [ 29,  22,  90,  87]])"
            ]
          },
          "metadata": {
            "tags": []
          },
          "execution_count": 25
        }
      ]
    },
    {
      "cell_type": "code",
      "metadata": {
        "id": "zb1UVnsW9lI_",
        "outputId": "fe55b6ae-a612-4f6e-eb59-1fdfc92615cc",
        "colab": {
          "base_uri": "https://localhost:8080/"
        }
      },
      "source": [
        "# Obtain the maximum element (value)\n",
        "\n",
        "x.max()"
      ],
      "execution_count": 26,
      "outputs": [
        {
          "output_type": "execute_result",
          "data": {
            "text/plain": [
              "90"
            ]
          },
          "metadata": {
            "tags": []
          },
          "execution_count": 26
        }
      ]
    },
    {
      "cell_type": "code",
      "metadata": {
        "id": "q1yArvkA-R5P",
        "outputId": "60a3f6a9-a940-4559-f951-63692733414b",
        "colab": {
          "base_uri": "https://localhost:8080/"
        }
      },
      "source": [
        "# Obtain the minimum element (value)\n",
        "\n",
        "x.min()"
      ],
      "execution_count": 27,
      "outputs": [
        {
          "output_type": "execute_result",
          "data": {
            "text/plain": [
              "-30"
            ]
          },
          "metadata": {
            "tags": []
          },
          "execution_count": 27
        }
      ]
    },
    {
      "cell_type": "code",
      "metadata": {
        "id": "ehXgrFee-R3F",
        "outputId": "f26c3cbc-6e1d-43f6-b0b9-b3657d075ef1",
        "colab": {
          "base_uri": "https://localhost:8080/"
        }
      },
      "source": [
        "# Obtain the location of the max element\n",
        "\n",
        "x.argmax()"
      ],
      "execution_count": 28,
      "outputs": [
        {
          "output_type": "execute_result",
          "data": {
            "text/plain": [
              "6"
            ]
          },
          "metadata": {
            "tags": []
          },
          "execution_count": 28
        }
      ]
    },
    {
      "cell_type": "code",
      "metadata": {
        "id": "EnaJTGEy-R0Y",
        "outputId": "e182d498-7399-49df-ff2b-030a0286272a",
        "colab": {
          "base_uri": "https://localhost:8080/"
        }
      },
      "source": [
        "# Obtain the location of the min element\n",
        "\n",
        "x.argmin()"
      ],
      "execution_count": 29,
      "outputs": [
        {
          "output_type": "execute_result",
          "data": {
            "text/plain": [
              "0"
            ]
          },
          "metadata": {
            "tags": []
          },
          "execution_count": 29
        }
      ]
    },
    {
      "cell_type": "markdown",
      "metadata": {
        "id": "7LavgBBnIIJz"
      },
      "source": [
        "**MINI CHALLENGE #3:**\n",
        "- **Write a code that creates a 4x5 array inwhich numbers range between 300 and 500 such that the difference between elements is 10**"
      ]
    },
    {
      "cell_type": "code",
      "metadata": {
        "id": "CtwsbAQ6NGiN"
      },
      "source": [
        ""
      ],
      "execution_count": null,
      "outputs": []
    },
    {
      "cell_type": "markdown",
      "metadata": {
        "id": "zQ-QhrsgM2x8"
      },
      "source": [
        "**MINI CHALLENGE #4:**\n",
        "- **Write a code that creates a 20x20 numpy array of random values that ranges from -1000 to 1000 and obtain the maximum, minimum, and mean values** "
      ]
    },
    {
      "cell_type": "code",
      "metadata": {
        "id": "PS3ofoabMb9V"
      },
      "source": [
        ""
      ],
      "execution_count": null,
      "outputs": []
    },
    {
      "cell_type": "markdown",
      "metadata": {
        "id": "VRyk_VYQArV3"
      },
      "source": [
        "# 4. MATHEMATICAL OPERATIONS"
      ]
    },
    {
      "cell_type": "code",
      "metadata": {
        "id": "vm-gmaQG-Vvd"
      },
      "source": [
        "# np.arange() returns an evenly spaced values within a given interval\n"
      ],
      "execution_count": null,
      "outputs": []
    },
    {
      "cell_type": "code",
      "metadata": {
        "id": "yzC5WGBIAzNk"
      },
      "source": [
        ""
      ],
      "execution_count": null,
      "outputs": []
    },
    {
      "cell_type": "code",
      "metadata": {
        "id": "ED0OSzpw2p9R"
      },
      "source": [
        "# Add 2 numpy arrays together\n"
      ],
      "execution_count": null,
      "outputs": []
    },
    {
      "cell_type": "code",
      "metadata": {
        "id": "TH6xTJcuAzK-"
      },
      "source": [
        ""
      ],
      "execution_count": null,
      "outputs": []
    },
    {
      "cell_type": "code",
      "metadata": {
        "id": "A0T25q5bAzIw"
      },
      "source": [
        ""
      ],
      "execution_count": null,
      "outputs": []
    },
    {
      "cell_type": "code",
      "metadata": {
        "id": "1HvrjH4fAzGd"
      },
      "source": [
        ""
      ],
      "execution_count": null,
      "outputs": []
    },
    {
      "cell_type": "markdown",
      "metadata": {
        "id": "-mj5Mwc2MmY2"
      },
      "source": [
        "**MINI CHALLENGE #5:**\n",
        "- **Given the X and Y values below, obtain the distance between them**\n",
        "\n",
        "\n",
        "```\n",
        "X = [3, 20, 30]\n",
        "Y = [4, 6, 7]\n",
        "```"
      ]
    },
    {
      "cell_type": "code",
      "metadata": {
        "id": "LfvrGIb83zCA"
      },
      "source": [
        ""
      ],
      "execution_count": null,
      "outputs": []
    },
    {
      "cell_type": "markdown",
      "metadata": {
        "id": "ZA-Yb20mCYLl"
      },
      "source": [
        "# 5. SLICING AND INDEXING "
      ]
    },
    {
      "cell_type": "code",
      "metadata": {
        "id": "Bu6rhQ99BFCp"
      },
      "source": [
        ""
      ],
      "execution_count": null,
      "outputs": []
    },
    {
      "cell_type": "code",
      "metadata": {
        "id": "9TuEXJxgCdi_"
      },
      "source": [
        "# Access specific index from the numpy array\n"
      ],
      "execution_count": null,
      "outputs": []
    },
    {
      "cell_type": "code",
      "metadata": {
        "id": "EjisujRgCdh4"
      },
      "source": [
        "# Starting from the first index 0 up until and NOT inlcluding the last element\n"
      ],
      "execution_count": null,
      "outputs": []
    },
    {
      "cell_type": "code",
      "metadata": {
        "id": "1nWlP602Cdg3"
      },
      "source": [
        "# Broadcasting, altering several values in a numpy array at once\n"
      ],
      "execution_count": null,
      "outputs": []
    },
    {
      "cell_type": "code",
      "metadata": {
        "id": "fVKbwHguCddn"
      },
      "source": [
        "# Let's define a two dimensional numpy array\n"
      ],
      "execution_count": null,
      "outputs": []
    },
    {
      "cell_type": "code",
      "metadata": {
        "id": "Ea7ukwEzCda-"
      },
      "source": [
        "# Get a row from a mtrix\n"
      ],
      "execution_count": null,
      "outputs": []
    },
    {
      "cell_type": "code",
      "metadata": {
        "id": "8KJk10J8Ci8k"
      },
      "source": [
        "# Get one element\n"
      ],
      "execution_count": null,
      "outputs": []
    },
    {
      "cell_type": "code",
      "metadata": {
        "id": "lWsIgHYRCi5e"
      },
      "source": [
        ""
      ],
      "execution_count": null,
      "outputs": []
    },
    {
      "cell_type": "code",
      "metadata": {
        "id": "Gn7-PKS9Ci4c"
      },
      "source": [
        ""
      ],
      "execution_count": null,
      "outputs": []
    },
    {
      "cell_type": "code",
      "metadata": {
        "id": "MGap8pfACi1M"
      },
      "source": [
        ""
      ],
      "execution_count": null,
      "outputs": []
    },
    {
      "cell_type": "code",
      "metadata": {
        "id": "ANJFZWTdCdX9"
      },
      "source": [
        ""
      ],
      "execution_count": null,
      "outputs": []
    },
    {
      "cell_type": "markdown",
      "metadata": {
        "id": "zgyFPV5R8dUS"
      },
      "source": [
        "**MINI CHALLENGE #6:**\n",
        "- **In the following matrix, replace the last row with -1**\n",
        "- **Multiply the 2x2 matrix in the upper right corner by 2**\n",
        "\n",
        "\n",
        "\n",
        "```\n",
        "X = [2 30 20 -2 -4]\n",
        "    [3 4  40 -3 -2]\n",
        "    [-3 4 -6 90 10]\n",
        "    [25 45 34 22 12]\n",
        "    [13 24 22 32 37]\n",
        "```\n",
        "\n"
      ]
    },
    {
      "cell_type": "markdown",
      "metadata": {
        "id": "juuMOEq7Col_"
      },
      "source": [
        "# 6. ELEMENTS SELECTION (CONDITIONAL)"
      ]
    },
    {
      "cell_type": "code",
      "metadata": {
        "id": "UujCvuhMCt4K"
      },
      "source": [
        ""
      ],
      "execution_count": null,
      "outputs": []
    },
    {
      "cell_type": "code",
      "metadata": {
        "id": "JBgJ8ugyCvht"
      },
      "source": [
        ""
      ],
      "execution_count": null,
      "outputs": []
    },
    {
      "cell_type": "code",
      "metadata": {
        "id": "TIQ-A7IBCvgl"
      },
      "source": [
        ""
      ],
      "execution_count": null,
      "outputs": []
    },
    {
      "cell_type": "markdown",
      "metadata": {
        "id": "39QiMh-W8ogs"
      },
      "source": [
        "**MINI CHALLENGE #7:**\n",
        "- **In the following matrix, replace negative elements by 0 and replace odd elements with 25**\n",
        "\n",
        "\n",
        "```\n",
        "X = [2 30 20 -2 -4]\n",
        "    [3 4  40 -3 -2]\n",
        "    [-3 4 -6 90 10]\n",
        "    [25 45 34 22 12]\n",
        "    [13 24 22 32 37]\n",
        "```\n"
      ]
    },
    {
      "cell_type": "code",
      "metadata": {
        "id": "AbN-vySf9gen"
      },
      "source": [
        ""
      ],
      "execution_count": null,
      "outputs": []
    },
    {
      "cell_type": "markdown",
      "metadata": {
        "id": "dakv7iPFgw7Y"
      },
      "source": [
        "# EXCELLENT JOB!"
      ]
    },
    {
      "cell_type": "markdown",
      "metadata": {
        "id": "pNWQrMz6KnIF"
      },
      "source": [
        "# MINI CHALLENGES SOLUTIONS"
      ]
    },
    {
      "cell_type": "markdown",
      "metadata": {
        "id": "6AMqSvtAKj6o"
      },
      "source": [
        "**MINI CHALLENGE #1 SOLUTION:** \n",
        "- **Write a code that creates the following 2x4 numpy array**\n",
        "\n",
        "```\n",
        "[[4 6 8 7] \n",
        "[20 5 6 9]]\n",
        "```"
      ]
    },
    {
      "cell_type": "code",
      "metadata": {
        "id": "ivvFzDy-KlQP"
      },
      "source": [
        "x = np.array([[[4, 6, 8, 7] , [20, 5, 6, 9]]])\n",
        "x"
      ],
      "execution_count": null,
      "outputs": []
    },
    {
      "cell_type": "markdown",
      "metadata": {
        "id": "2GskzNkOMFu0"
      },
      "source": [
        "**MINI CHALLENGE #2 SOLUTION:**\n",
        "- **Write a code that takes in a number x from the user and creates a 1x20 array with random numbers ranging from 0 to x**"
      ]
    },
    {
      "cell_type": "code",
      "metadata": {
        "id": "0vnDfvwFMFu3"
      },
      "source": [
        "x = int(input(\"Please enter a positive integer value: \"))\n",
        "x = np.random.randint(1, x, 20)\n",
        "x"
      ],
      "execution_count": null,
      "outputs": []
    },
    {
      "cell_type": "markdown",
      "metadata": {
        "id": "LOVruiHdMRMd"
      },
      "source": [
        "**MINI CHALLENGE #3 SOLUTION:**\n",
        "- **Write a code that creates a 4x5 array inwhich numbers ranging between 300 and 500 such that the difference between elements is 10**"
      ]
    },
    {
      "cell_type": "code",
      "metadata": {
        "id": "WtSncbsHMRMg"
      },
      "source": [
        "x = np.arange(300, 500, 10)\n",
        "x.shape"
      ],
      "execution_count": null,
      "outputs": []
    },
    {
      "cell_type": "code",
      "metadata": {
        "id": "2_8vFVF7MRMp"
      },
      "source": [
        "x = x.reshape(4, 5)\n",
        "print(x)"
      ],
      "execution_count": null,
      "outputs": []
    },
    {
      "cell_type": "markdown",
      "metadata": {
        "id": "NSuiOFRx1pSY"
      },
      "source": [
        "**MINI CHALLENGE #4 SOLUTION:**\n",
        "- **Write a code that creates a 20x20 numpy array of random values that ranges from -1000 to 1000 and obtain the maximum, minimum, and mean values** "
      ]
    },
    {
      "cell_type": "code",
      "metadata": {
        "id": "445Vi21GMYS7"
      },
      "source": [
        "x = np.random.randint(-1000, 1000, (20, 20))\n",
        "print(x)\n",
        "print('The maximum value is: {} and the minimum value is:{}'.format(x.min(), x.max()))"
      ],
      "execution_count": null,
      "outputs": []
    },
    {
      "cell_type": "code",
      "metadata": {
        "id": "tIVL0uEr4xsC"
      },
      "source": [
        ""
      ],
      "execution_count": null,
      "outputs": []
    },
    {
      "cell_type": "markdown",
      "metadata": {
        "id": "s1p4WaNB4yFf"
      },
      "source": [
        "**MINI CHALLENGE #5 SOLUTION:**\n",
        "- **Given the X and Y values below, obtain the distance between them**\n",
        "\n",
        "\n",
        "```\n",
        "X = [3, 20, 30]\n",
        "Y = [4, 6, 7]\n",
        "```\n",
        "\n",
        "\n"
      ]
    },
    {
      "cell_type": "code",
      "metadata": {
        "id": "_GJmf2Pl4yFi"
      },
      "source": [
        "X = np.array([3, 20, 30])\n",
        "Y = np.array([4, 6, 7])\n",
        "Z = np.sqrt(X**2 + Y**2)\n",
        "Z"
      ],
      "execution_count": null,
      "outputs": []
    },
    {
      "cell_type": "markdown",
      "metadata": {
        "id": "EZ9i2CLm6Iuf"
      },
      "source": [
        "**MINI CHALLENGE #6 SOLUTION:**\n",
        "- **In the following matrix, replace the last row with -1**\n",
        "- **Multiply the 2x2 matrix in the upper right corner by 2**\n",
        "\n",
        "\n",
        "\n",
        "```\n",
        "X = [2 30 20 -2 -4]\n",
        "    [3 4  40 -3 -2]\n",
        "    [-3 4 -6 90 10]\n",
        "    [25 45 34 22 12]\n",
        "    [13 24 22 32 37]\n",
        "```\n",
        "\n",
        "\n"
      ]
    },
    {
      "cell_type": "code",
      "metadata": {
        "id": "qB7S_wIx6Hsm"
      },
      "source": [
        "X = np.array([[2, 30, 20, -2, -4],\n",
        "    [3, 4,  40, -3, -2],\n",
        "    [-3, 4, -6, 90, 10],\n",
        "    [25, 45, 34, 22, 12],\n",
        "    [13, 24, 22, 32, 37]])\n"
      ],
      "execution_count": null,
      "outputs": []
    },
    {
      "cell_type": "code",
      "metadata": {
        "id": "y98hmGRe7Qtl"
      },
      "source": [
        "X[4] = 0\n",
        "X"
      ],
      "execution_count": null,
      "outputs": []
    },
    {
      "cell_type": "code",
      "metadata": {
        "id": "6pLZ5lF87UFs"
      },
      "source": [
        "X[:2, 3:]  = X[:2, 3:] * 2"
      ],
      "execution_count": null,
      "outputs": []
    },
    {
      "cell_type": "code",
      "metadata": {
        "id": "WsqjANlB8Kva"
      },
      "source": [
        "X"
      ],
      "execution_count": null,
      "outputs": []
    },
    {
      "cell_type": "markdown",
      "metadata": {
        "id": "2oikl6JS9YUs"
      },
      "source": [
        "**MINI CHALLENGE #7 SOLUTION:**\n",
        "- **In the following matrix, replace negative elements by 0 and replace odd elements with 25**\n",
        "\n",
        "\n",
        "```\n",
        "X = [2 30 20 -2 -4]\n",
        "    [3 4  40 -3 -2]\n",
        "    [-3 4 -6 90 10]\n",
        "    [25 45 34 22 12]\n",
        "    [13 24 22 32 37]\n",
        "```\n"
      ]
    },
    {
      "cell_type": "code",
      "metadata": {
        "id": "h105KzGr9YUu"
      },
      "source": [
        "X = np.array([[2, 30, 20, -2, -4],\n",
        "    [3, 4,  40, -3, -2],\n",
        "    [-3, 4, -6, 90, 10],\n",
        "    [25, 45, 34, 22, 12],\n",
        "    [13, 24, 22, 32, 37]])\n",
        "\n",
        "X[X%2==1] = 25\n",
        "X[X<0] = 0\n",
        "X"
      ],
      "execution_count": null,
      "outputs": []
    }
  ]
}
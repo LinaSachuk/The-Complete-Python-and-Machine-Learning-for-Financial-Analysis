{
  "nbformat": 4,
  "nbformat_minor": 0,
  "metadata": {
    "colab": {
      "name": "7. Python 101 - Python Libraries for Data Analysis - Numpy.ipynb",
      "provenance": [],
      "collapsed_sections": [],
      "include_colab_link": true
    },
    "kernelspec": {
      "name": "python3",
      "display_name": "Python 3"
    }
  },
  "cells": [
    {
      "cell_type": "markdown",
      "metadata": {
        "id": "view-in-github",
        "colab_type": "text"
      },
      "source": [
        "<a href=\"https://colab.research.google.com/github/LinaSachuk/The-Complete-Python-and-Machine-Learning-for-Financial-Analysis/blob/master/7_Python_101_Python_Libraries_for_Data_Analysis_Numpy.ipynb\" target=\"_parent\"><img src=\"https://colab.research.google.com/assets/colab-badge.svg\" alt=\"Open In Colab\"/></a>"
      ]
    },
    {
      "cell_type": "markdown",
      "metadata": {
        "id": "f7yOpaRM5IbG"
      },
      "source": [
        "# 1. NUMPY BASICS"
      ]
    },
    {
      "cell_type": "code",
      "metadata": {
        "id": "Bqk10u47qEmJ"
      },
      "source": [
        "# NumPy is a Linear Algebra Library used for multidimensional arrays\n",
        "# NumPy brings the best of two worlds: (1) C/Fortran computational efficiency, (2) Python language easy syntax \n",
        "\n",
        "import numpy as np\n",
        "\n",
        "# Let's define a one-dimensional array \n",
        "\n",
        "my_list = [10, 20, 60, 70]"
      ],
      "execution_count": 2,
      "outputs": []
    },
    {
      "cell_type": "code",
      "metadata": {
        "id": "b98d-lkK5NbQ",
        "outputId": "8fa7cf04-c0e5-4b08-fac2-adc475c8ee4f",
        "colab": {
          "base_uri": "https://localhost:8080/"
        }
      },
      "source": [
        "# Let's create a numpy array from the list \"my_list\"\n",
        "\n",
        "my_list"
      ],
      "execution_count": 3,
      "outputs": [
        {
          "output_type": "execute_result",
          "data": {
            "text/plain": [
              "[10, 20, 60, 70]"
            ]
          },
          "metadata": {
            "tags": []
          },
          "execution_count": 3
        }
      ]
    },
    {
      "cell_type": "code",
      "metadata": {
        "id": "tljNDWBw5Nf9",
        "outputId": "a1233067-d6c4-40b5-ce15-6de8620c9eb8",
        "colab": {
          "base_uri": "https://localhost:8080/"
        }
      },
      "source": [
        "x= np.array(my_list)\n",
        "print(type(x))\n",
        "x"
      ],
      "execution_count": 4,
      "outputs": [
        {
          "output_type": "stream",
          "text": [
            "<class 'numpy.ndarray'>\n"
          ],
          "name": "stdout"
        },
        {
          "output_type": "execute_result",
          "data": {
            "text/plain": [
              "array([10, 20, 60, 70])"
            ]
          },
          "metadata": {
            "tags": []
          },
          "execution_count": 4
        }
      ]
    },
    {
      "cell_type": "code",
      "metadata": {
        "id": "wpiZ25fZ5NiN",
        "outputId": "40b94c17-e2f6-4d0a-ab52-ba9b9290071c",
        "colab": {
          "base_uri": "https://localhost:8080/"
        }
      },
      "source": [
        "# Multi-dimensional (Matrix definition) \n",
        "\n",
        "matrix = np.array([[5, 8], [7, 8]])\n",
        "matrix"
      ],
      "execution_count": 5,
      "outputs": [
        {
          "output_type": "execute_result",
          "data": {
            "text/plain": [
              "array([[5, 8],\n",
              "       [7, 8]])"
            ]
          },
          "metadata": {
            "tags": []
          },
          "execution_count": 5
        }
      ]
    },
    {
      "cell_type": "code",
      "metadata": {
        "id": "WP9lWb-n2kql",
        "outputId": "189709e9-f48e-4b0e-c8bf-22859b59ef1b",
        "colab": {
          "base_uri": "https://localhost:8080/"
        }
      },
      "source": [
        "type(matrix)"
      ],
      "execution_count": 6,
      "outputs": [
        {
          "output_type": "execute_result",
          "data": {
            "text/plain": [
              "numpy.ndarray"
            ]
          },
          "metadata": {
            "tags": []
          },
          "execution_count": 6
        }
      ]
    },
    {
      "cell_type": "markdown",
      "metadata": {
        "id": "tmB_S-JfHZRL"
      },
      "source": [
        "**MINI CHALLENGE #1:** \n",
        "- **Write a code that creates the following 2x4 numpy array**\n",
        "\n",
        "```\n",
        "[[4 6 8 7] \n",
        "[20 5 6 9]]\n",
        "```"
      ]
    },
    {
      "cell_type": "code",
      "metadata": {
        "id": "Nabjzl1oKtGX",
        "outputId": "3d24170b-6630-43d3-e8bd-56e41f1f12b2",
        "colab": {
          "base_uri": "https://localhost:8080/"
        }
      },
      "source": [
        "x = np.array([ [4,6,8,7], [20, 5, 6, 9]])\n",
        "x"
      ],
      "execution_count": 7,
      "outputs": [
        {
          "output_type": "execute_result",
          "data": {
            "text/plain": [
              "array([[ 4,  6,  8,  7],\n",
              "       [20,  5,  6,  9]])"
            ]
          },
          "metadata": {
            "tags": []
          },
          "execution_count": 7
        }
      ]
    },
    {
      "cell_type": "markdown",
      "metadata": {
        "id": "uBuqdDQM6Qd9"
      },
      "source": [
        "# 2. BUILT-IN METHODS AND FUNCTIONS "
      ]
    },
    {
      "cell_type": "code",
      "metadata": {
        "id": "yXQV-Nrg5No3",
        "outputId": "bda3ee34-4219-4f0b-e4ba-a4e638035995",
        "colab": {
          "base_uri": "https://localhost:8080/"
        }
      },
      "source": [
        "# \"rand()\" uniform distribution between 0 and 1\n",
        "\n",
        "x = np.random.rand(15)\n",
        "x"
      ],
      "execution_count": 8,
      "outputs": [
        {
          "output_type": "execute_result",
          "data": {
            "text/plain": [
              "array([0.457504  , 0.80584431, 0.91479578, 0.48244235, 0.91047351,\n",
              "       0.65039531, 0.08611376, 0.40149747, 0.33297448, 0.37147813,\n",
              "       0.25158627, 0.33700392, 0.2387526 , 0.94295027, 0.80996889])"
            ]
          },
          "metadata": {
            "tags": []
          },
          "execution_count": 8
        }
      ]
    },
    {
      "cell_type": "code",
      "metadata": {
        "id": "PpJUCdB15NkT",
        "outputId": "8e54685b-a0d2-4847-ce77-0cc49e2b2eba",
        "colab": {
          "base_uri": "https://localhost:8080/"
        }
      },
      "source": [
        "# you can create a matrix of random number as well\n",
        "\n",
        "x = np.random.rand(5, 5)\n",
        "x"
      ],
      "execution_count": 9,
      "outputs": [
        {
          "output_type": "execute_result",
          "data": {
            "text/plain": [
              "array([[0.45932822, 0.39060317, 0.70360694, 0.34572452, 0.18397381],\n",
              "       [0.65471224, 0.54509984, 0.98715507, 0.61883348, 0.34360078],\n",
              "       [0.96829702, 0.12105035, 0.51541906, 0.38707508, 0.08139964],\n",
              "       [0.33707438, 0.45727356, 0.01364267, 0.03942814, 0.35205193],\n",
              "       [0.37591483, 0.79279799, 0.82834808, 0.41618029, 0.31233502]])"
            ]
          },
          "metadata": {
            "tags": []
          },
          "execution_count": 9
        }
      ]
    },
    {
      "cell_type": "code",
      "metadata": {
        "id": "7EzMNrrm6YHA",
        "outputId": "ff9a81bd-205e-4dbf-8658-d65fbfc1a485",
        "colab": {
          "base_uri": "https://localhost:8080/"
        }
      },
      "source": [
        "# \"randn()\" normal distribution between 0 and 1\n",
        "\n",
        "x = np.random.randn(10)\n",
        "x"
      ],
      "execution_count": 10,
      "outputs": [
        {
          "output_type": "execute_result",
          "data": {
            "text/plain": [
              "array([ 1.14002116, -0.9000054 ,  0.32439866,  1.35186588, -0.41529884,\n",
              "       -0.94288497,  1.11831418,  1.44506115, -0.92433995, -0.52382173])"
            ]
          },
          "metadata": {
            "tags": []
          },
          "execution_count": 10
        }
      ]
    },
    {
      "cell_type": "code",
      "metadata": {
        "id": "RBcU5xgb6YL0",
        "outputId": "68c8ea19-e430-4400-e164-332c0077a39a",
        "colab": {
          "base_uri": "https://localhost:8080/"
        }
      },
      "source": [
        "# \"randint\" is used to generate random integers between upper and lower bounds\n",
        "\n",
        "x = np.random.randint(1, 10)\n",
        "x"
      ],
      "execution_count": 11,
      "outputs": [
        {
          "output_type": "execute_result",
          "data": {
            "text/plain": [
              "6"
            ]
          },
          "metadata": {
            "tags": []
          },
          "execution_count": 11
        }
      ]
    },
    {
      "cell_type": "code",
      "metadata": {
        "id": "O3JdVtvo6YP7",
        "outputId": "993b2ca3-7fa5-4505-e87f-6fa24978c3be",
        "colab": {
          "base_uri": "https://localhost:8080/"
        }
      },
      "source": [
        "# \"randint\" can be used to generate a certain number of random itegers as follows\n",
        "\n",
        "x = np.random.randint(1, 100, 15)\n",
        "x"
      ],
      "execution_count": 12,
      "outputs": [
        {
          "output_type": "execute_result",
          "data": {
            "text/plain": [
              "array([ 2, 45, 56, 52, 56,  2, 94, 28, 41, 99, 88, 56, 27, 14, 21])"
            ]
          },
          "metadata": {
            "tags": []
          },
          "execution_count": 12
        }
      ]
    },
    {
      "cell_type": "code",
      "metadata": {
        "id": "EOOLMB416YUh",
        "outputId": "7d291509-5725-4e93-cb59-0479c96b6d72",
        "colab": {
          "base_uri": "https://localhost:8080/"
        }
      },
      "source": [
        "# np.arange creates an evenly spaced values within a given interval\n",
        "\n",
        "x = np.arange(1, 50)\n",
        "x"
      ],
      "execution_count": 13,
      "outputs": [
        {
          "output_type": "execute_result",
          "data": {
            "text/plain": [
              "array([ 1,  2,  3,  4,  5,  6,  7,  8,  9, 10, 11, 12, 13, 14, 15, 16, 17,\n",
              "       18, 19, 20, 21, 22, 23, 24, 25, 26, 27, 28, 29, 30, 31, 32, 33, 34,\n",
              "       35, 36, 37, 38, 39, 40, 41, 42, 43, 44, 45, 46, 47, 48, 49])"
            ]
          },
          "metadata": {
            "tags": []
          },
          "execution_count": 13
        }
      ]
    },
    {
      "cell_type": "code",
      "metadata": {
        "id": "Jz7eJuio6YY4",
        "outputId": "76732e9c-96e8-4d48-9969-9cb69a46e9b8",
        "colab": {
          "base_uri": "https://localhost:8080/"
        }
      },
      "source": [
        "# Create an evenly spaced values with a step of 5\n",
        "\n",
        "x = np.arange(1, 50, 5)\n",
        "x"
      ],
      "execution_count": 14,
      "outputs": [
        {
          "output_type": "execute_result",
          "data": {
            "text/plain": [
              "array([ 1,  6, 11, 16, 21, 26, 31, 36, 41, 46])"
            ]
          },
          "metadata": {
            "tags": []
          },
          "execution_count": 14
        }
      ]
    },
    {
      "cell_type": "code",
      "metadata": {
        "id": "sft1flaM6YXF",
        "outputId": "3db24738-afea-4856-ce0b-e875c4faf26d",
        "colab": {
          "base_uri": "https://localhost:8080/"
        }
      },
      "source": [
        "# create a diagonal of ones and zeros everywhere else\n",
        "\n",
        "x = np.eye(15)\n",
        "x"
      ],
      "execution_count": 15,
      "outputs": [
        {
          "output_type": "execute_result",
          "data": {
            "text/plain": [
              "array([[1., 0., 0., 0., 0., 0., 0., 0., 0., 0., 0., 0., 0., 0., 0.],\n",
              "       [0., 1., 0., 0., 0., 0., 0., 0., 0., 0., 0., 0., 0., 0., 0.],\n",
              "       [0., 0., 1., 0., 0., 0., 0., 0., 0., 0., 0., 0., 0., 0., 0.],\n",
              "       [0., 0., 0., 1., 0., 0., 0., 0., 0., 0., 0., 0., 0., 0., 0.],\n",
              "       [0., 0., 0., 0., 1., 0., 0., 0., 0., 0., 0., 0., 0., 0., 0.],\n",
              "       [0., 0., 0., 0., 0., 1., 0., 0., 0., 0., 0., 0., 0., 0., 0.],\n",
              "       [0., 0., 0., 0., 0., 0., 1., 0., 0., 0., 0., 0., 0., 0., 0.],\n",
              "       [0., 0., 0., 0., 0., 0., 0., 1., 0., 0., 0., 0., 0., 0., 0.],\n",
              "       [0., 0., 0., 0., 0., 0., 0., 0., 1., 0., 0., 0., 0., 0., 0.],\n",
              "       [0., 0., 0., 0., 0., 0., 0., 0., 0., 1., 0., 0., 0., 0., 0.],\n",
              "       [0., 0., 0., 0., 0., 0., 0., 0., 0., 0., 1., 0., 0., 0., 0.],\n",
              "       [0., 0., 0., 0., 0., 0., 0., 0., 0., 0., 0., 1., 0., 0., 0.],\n",
              "       [0., 0., 0., 0., 0., 0., 0., 0., 0., 0., 0., 0., 1., 0., 0.],\n",
              "       [0., 0., 0., 0., 0., 0., 0., 0., 0., 0., 0., 0., 0., 1., 0.],\n",
              "       [0., 0., 0., 0., 0., 0., 0., 0., 0., 0., 0., 0., 0., 0., 1.]])"
            ]
          },
          "metadata": {
            "tags": []
          },
          "execution_count": 15
        }
      ]
    },
    {
      "cell_type": "code",
      "metadata": {
        "id": "zZgMftc96fZm",
        "outputId": "4d5bd9c7-d7c3-4462-a131-744db30add9a",
        "colab": {
          "base_uri": "https://localhost:8080/"
        }
      },
      "source": [
        "# Array of ones\n",
        "\n",
        "x = np.ones(10)\n",
        "x"
      ],
      "execution_count": 16,
      "outputs": [
        {
          "output_type": "execute_result",
          "data": {
            "text/plain": [
              "array([1., 1., 1., 1., 1., 1., 1., 1., 1., 1.])"
            ]
          },
          "metadata": {
            "tags": []
          },
          "execution_count": 16
        }
      ]
    },
    {
      "cell_type": "code",
      "metadata": {
        "id": "VQ8fp8Qb6feB",
        "outputId": "4e941ffd-81a1-4ef9-8d65-538db1cdab1a",
        "colab": {
          "base_uri": "https://localhost:8080/"
        }
      },
      "source": [
        "# Matrices of ones\n",
        "\n",
        "x = np.ones((10, 10))\n",
        "x\n"
      ],
      "execution_count": 17,
      "outputs": [
        {
          "output_type": "execute_result",
          "data": {
            "text/plain": [
              "array([[1., 1., 1., 1., 1., 1., 1., 1., 1., 1.],\n",
              "       [1., 1., 1., 1., 1., 1., 1., 1., 1., 1.],\n",
              "       [1., 1., 1., 1., 1., 1., 1., 1., 1., 1.],\n",
              "       [1., 1., 1., 1., 1., 1., 1., 1., 1., 1.],\n",
              "       [1., 1., 1., 1., 1., 1., 1., 1., 1., 1.],\n",
              "       [1., 1., 1., 1., 1., 1., 1., 1., 1., 1.],\n",
              "       [1., 1., 1., 1., 1., 1., 1., 1., 1., 1.],\n",
              "       [1., 1., 1., 1., 1., 1., 1., 1., 1., 1.],\n",
              "       [1., 1., 1., 1., 1., 1., 1., 1., 1., 1.],\n",
              "       [1., 1., 1., 1., 1., 1., 1., 1., 1., 1.]])"
            ]
          },
          "metadata": {
            "tags": []
          },
          "execution_count": 17
        }
      ]
    },
    {
      "cell_type": "code",
      "metadata": {
        "id": "TTROXKYo6YSn",
        "outputId": "9d446333-723b-45a6-d292-67cab7f93396",
        "colab": {
          "base_uri": "https://localhost:8080/"
        }
      },
      "source": [
        "# Array of zeros\n",
        "\n",
        "x = np.zeros(50)\n",
        "x"
      ],
      "execution_count": 18,
      "outputs": [
        {
          "output_type": "execute_result",
          "data": {
            "text/plain": [
              "array([0., 0., 0., 0., 0., 0., 0., 0., 0., 0., 0., 0., 0., 0., 0., 0., 0.,\n",
              "       0., 0., 0., 0., 0., 0., 0., 0., 0., 0., 0., 0., 0., 0., 0., 0., 0.,\n",
              "       0., 0., 0., 0., 0., 0., 0., 0., 0., 0., 0., 0., 0., 0., 0., 0.])"
            ]
          },
          "metadata": {
            "tags": []
          },
          "execution_count": 18
        }
      ]
    },
    {
      "cell_type": "markdown",
      "metadata": {
        "id": "IGiQ87EjKzh-"
      },
      "source": [
        "**MINI CHALLENGE #2:**\n",
        "- **Write a code that takes in a number x from the user and creates a 1x20 array with random numbers ranging from 0 to x**"
      ]
    },
    {
      "cell_type": "code",
      "metadata": {
        "id": "xg1mPZKKML5j",
        "outputId": "562e27ad-9a87-43ba-ae7c-4ac1bc3c6a64",
        "colab": {
          "base_uri": "https://localhost:8080/"
        }
      },
      "source": [
        "x = int(input(\"Enter a number :\"))\n",
        "x = np.random.randint(1, x , 20)\n",
        "x"
      ],
      "execution_count": 19,
      "outputs": [
        {
          "output_type": "stream",
          "text": [
            "Enter a number :4\n"
          ],
          "name": "stdout"
        },
        {
          "output_type": "execute_result",
          "data": {
            "text/plain": [
              "array([1, 1, 3, 1, 2, 2, 3, 1, 3, 1, 1, 2, 3, 3, 3, 2, 2, 3, 1, 2])"
            ]
          },
          "metadata": {
            "tags": []
          },
          "execution_count": 19
        }
      ]
    },
    {
      "cell_type": "markdown",
      "metadata": {
        "id": "980PKtbu9Z0k"
      },
      "source": [
        "# 3. SHAPE, LENGTH, TYPE, RESHAPE, AND MAX/MIN VALUES"
      ]
    },
    {
      "cell_type": "code",
      "metadata": {
        "id": "MIxxZhxSADVj",
        "outputId": "fdd3b35a-43d9-49e2-da5c-698dc882b3b1",
        "colab": {
          "base_uri": "https://localhost:8080/"
        }
      },
      "source": [
        "# Let's define a one-dimensional array \n",
        "\n",
        "my_list = [-30, 4, 50, 60, 29, 22, 90, 87]\n",
        "my_list\n",
        "x = np.array(my_list)\n",
        "x"
      ],
      "execution_count": 20,
      "outputs": [
        {
          "output_type": "execute_result",
          "data": {
            "text/plain": [
              "array([-30,   4,  50,  60,  29,  22,  90,  87])"
            ]
          },
          "metadata": {
            "tags": []
          },
          "execution_count": 20
        }
      ]
    },
    {
      "cell_type": "code",
      "metadata": {
        "id": "O9mMBErG6YJr",
        "outputId": "9e0a02d6-e787-40a4-95df-d946ea664dcc",
        "colab": {
          "base_uri": "https://localhost:8080/"
        }
      },
      "source": [
        "# Get Length of a numpy array\n",
        "\n",
        "len(x)"
      ],
      "execution_count": 21,
      "outputs": [
        {
          "output_type": "execute_result",
          "data": {
            "text/plain": [
              "8"
            ]
          },
          "metadata": {
            "tags": []
          },
          "execution_count": 21
        }
      ]
    },
    {
      "cell_type": "code",
      "metadata": {
        "id": "fo3vYjNI9lGF",
        "outputId": "9251062d-ea29-4f0e-daad-a237c7c73830",
        "colab": {
          "base_uri": "https://localhost:8080/"
        }
      },
      "source": [
        "# Get shape\n",
        "\n",
        "x.shape"
      ],
      "execution_count": 22,
      "outputs": [
        {
          "output_type": "execute_result",
          "data": {
            "text/plain": [
              "(8,)"
            ]
          },
          "metadata": {
            "tags": []
          },
          "execution_count": 22
        }
      ]
    },
    {
      "cell_type": "code",
      "metadata": {
        "id": "fdkzRVuB9lR6",
        "outputId": "70879494-78de-4068-aa3b-f615d9fefbc0",
        "colab": {
          "base_uri": "https://localhost:8080/"
        }
      },
      "source": [
        "# Obtain the datatype\n",
        "\n",
        "type(x)"
      ],
      "execution_count": 23,
      "outputs": [
        {
          "output_type": "execute_result",
          "data": {
            "text/plain": [
              "numpy.ndarray"
            ]
          },
          "metadata": {
            "tags": []
          },
          "execution_count": 23
        }
      ]
    },
    {
      "cell_type": "code",
      "metadata": {
        "id": "GVnOSYnU9lLU",
        "outputId": "1633403f-d229-4e65-e091-844a4754240e",
        "colab": {
          "base_uri": "https://localhost:8080/"
        }
      },
      "source": [
        "# Reshape 1D array into a matrix\n",
        "\n",
        "z = x.reshape(2,4)\n",
        "z"
      ],
      "execution_count": 24,
      "outputs": [
        {
          "output_type": "execute_result",
          "data": {
            "text/plain": [
              "array([[-30,   4,  50,  60],\n",
              "       [ 29,  22,  90,  87]])"
            ]
          },
          "metadata": {
            "tags": []
          },
          "execution_count": 24
        }
      ]
    },
    {
      "cell_type": "code",
      "metadata": {
        "id": "zb1UVnsW9lI_",
        "outputId": "18649eb9-747d-43d8-ee70-6e2cc9a2a648",
        "colab": {
          "base_uri": "https://localhost:8080/"
        }
      },
      "source": [
        "# Obtain the maximum element (value)\n",
        "\n",
        "x.max()"
      ],
      "execution_count": 25,
      "outputs": [
        {
          "output_type": "execute_result",
          "data": {
            "text/plain": [
              "90"
            ]
          },
          "metadata": {
            "tags": []
          },
          "execution_count": 25
        }
      ]
    },
    {
      "cell_type": "code",
      "metadata": {
        "id": "q1yArvkA-R5P",
        "outputId": "9a338760-20a0-452b-8e77-7715811de9f2",
        "colab": {
          "base_uri": "https://localhost:8080/"
        }
      },
      "source": [
        "# Obtain the minimum element (value)\n",
        "\n",
        "x.min()"
      ],
      "execution_count": 26,
      "outputs": [
        {
          "output_type": "execute_result",
          "data": {
            "text/plain": [
              "-30"
            ]
          },
          "metadata": {
            "tags": []
          },
          "execution_count": 26
        }
      ]
    },
    {
      "cell_type": "code",
      "metadata": {
        "id": "ehXgrFee-R3F",
        "outputId": "695e3d76-c09b-407b-eff1-ae3a0cea1318",
        "colab": {
          "base_uri": "https://localhost:8080/"
        }
      },
      "source": [
        "# Obtain the location of the max element\n",
        "\n",
        "x.argmax()"
      ],
      "execution_count": 27,
      "outputs": [
        {
          "output_type": "execute_result",
          "data": {
            "text/plain": [
              "6"
            ]
          },
          "metadata": {
            "tags": []
          },
          "execution_count": 27
        }
      ]
    },
    {
      "cell_type": "code",
      "metadata": {
        "id": "EnaJTGEy-R0Y",
        "outputId": "3f2bda8c-7096-41a4-c5d1-b03eeaa6fa5d",
        "colab": {
          "base_uri": "https://localhost:8080/"
        }
      },
      "source": [
        "# Obtain the location of the min element\n",
        "\n",
        "x.argmin()"
      ],
      "execution_count": 28,
      "outputs": [
        {
          "output_type": "execute_result",
          "data": {
            "text/plain": [
              "0"
            ]
          },
          "metadata": {
            "tags": []
          },
          "execution_count": 28
        }
      ]
    },
    {
      "cell_type": "markdown",
      "metadata": {
        "id": "7LavgBBnIIJz"
      },
      "source": [
        "**MINI CHALLENGE #3:**\n",
        "- **Write a code that creates a 4x5 array inwhich numbers range between 300 and 500 such that the difference between elements is 10**"
      ]
    },
    {
      "cell_type": "code",
      "metadata": {
        "id": "CtwsbAQ6NGiN",
        "outputId": "9e50fa6e-a22f-4ded-aaf6-1b6ba4f156c8",
        "colab": {
          "base_uri": "https://localhost:8080/"
        }
      },
      "source": [
        "x = np.arange(300, 500, 10)\n",
        "x"
      ],
      "execution_count": 29,
      "outputs": [
        {
          "output_type": "execute_result",
          "data": {
            "text/plain": [
              "array([300, 310, 320, 330, 340, 350, 360, 370, 380, 390, 400, 410, 420,\n",
              "       430, 440, 450, 460, 470, 480, 490])"
            ]
          },
          "metadata": {
            "tags": []
          },
          "execution_count": 29
        }
      ]
    },
    {
      "cell_type": "code",
      "metadata": {
        "id": "FXtQBRb0B2ag",
        "outputId": "9295e666-52ae-42b7-8a1f-db1c4a42aa1c",
        "colab": {
          "base_uri": "https://localhost:8080/"
        }
      },
      "source": [
        "z = x.reshape(4,5)\n",
        "z"
      ],
      "execution_count": 30,
      "outputs": [
        {
          "output_type": "execute_result",
          "data": {
            "text/plain": [
              "array([[300, 310, 320, 330, 340],\n",
              "       [350, 360, 370, 380, 390],\n",
              "       [400, 410, 420, 430, 440],\n",
              "       [450, 460, 470, 480, 490]])"
            ]
          },
          "metadata": {
            "tags": []
          },
          "execution_count": 30
        }
      ]
    },
    {
      "cell_type": "markdown",
      "metadata": {
        "id": "zQ-QhrsgM2x8"
      },
      "source": [
        "**MINI CHALLENGE #4:**\n",
        "- **Write a code that creates a 20x20 numpy array of random values that ranges from -1000 to 1000 and obtain the maximum, minimum, and mean values** "
      ]
    },
    {
      "cell_type": "code",
      "metadata": {
        "id": "PS3ofoabMb9V",
        "outputId": "0a5535a4-1fd2-43b1-ad55-b9ca19927ec2",
        "colab": {
          "base_uri": "https://localhost:8080/"
        }
      },
      "source": [
        "x = np.random.randint(-1000, 1000, (20,20))\n",
        "x"
      ],
      "execution_count": 31,
      "outputs": [
        {
          "output_type": "execute_result",
          "data": {
            "text/plain": [
              "array([[ -76, -327,  832,  400, -633, -224, -927,  936, -875, -562, -253,\n",
              "        -206,  963,  491,  371,  340, -727, -127, -724,  733],\n",
              "       [-976,  396,  488, -919,  666,  141,  -34, -288, -394,  527, -823,\n",
              "        -474,  831,  581,  543, -708, -332,  469,   87,  129],\n",
              "       [-110, -367, -644,   80, -172, -157,  736, -664, -777, -684, -974,\n",
              "        -997, -123, -993, -481,   98,   68,  222,   98, -182],\n",
              "       [ 679,   47,  943, -348,  130,  180, -896,   62, -333,  133, -992,\n",
              "        -778,  549,  308, -405, -429,  576,  159,  252,  663],\n",
              "       [-612,   42, -685, -310, -571, -111, -452, -859,  603,  309,  562,\n",
              "         490,  138, -600, -986, -953,  586, -689,  451,  -17],\n",
              "       [-642, -165,  279, -875,  965,  778,  612, -342, -699,  -18,  136,\n",
              "         374,  712, -923,  764,  404,  182, -309,  404,  285],\n",
              "       [ 510, -297,  452, -751, -647,   19, -211,   37, -990,  203,  424,\n",
              "        -125,  694,  344,  234,  983,  666, -229,  701, -577],\n",
              "       [ 406,  273, -270, -187,  922,  152, -295, -445,   45,  305,  403,\n",
              "        -135,  493,  162, -305, -132,  474, -819, -927,  904],\n",
              "       [-965, -664,  369, -647,  185, -261, -817, -995,  724,  355, -163,\n",
              "        -323, -425, -207, -952, -889, -600,  975,  802,  891],\n",
              "       [-854,  450, -838,  346,  685, -988,  172, -229, -731, -742,  885,\n",
              "          19, -218, -961,  -60,  201,  861,  602,  307,  368],\n",
              "       [-365,  326,  389, -253, -931, -411,  566,   21,  270,  639,  413,\n",
              "        -115, -375, -983, -332, -639, -505, -451,  665,  853],\n",
              "       [ 186, -154,  -39,  537,  390, -668,  -74, -350,  558,  406,  737,\n",
              "         419,  -13,  499,  565, -730,  299,  137, -194,   30],\n",
              "       [-674,  884, -627, -516, -644, -760, -260, -133,  694, -306,  158,\n",
              "         -62, -470,  551,  593,  529, -939, -213,  672,  158],\n",
              "       [ 851,  903,  368,  -45, -212, -998,  230, -772,  528,  265, -644,\n",
              "         666,  343, -806,  -16,  867, -171,   66,  890,  279],\n",
              "       [-775,  738,  921,  -97,  962,  271, -919,  677,  -46, -735,  -75,\n",
              "        -373,   43, -370, -738,  975,   37, -359,   63, -827],\n",
              "       [ 926, -802,   77, -444,   97, -963, -778,  -49,  455,   66,   22,\n",
              "         587, -734,  938, -990, -651,  750,  561, -195,  203],\n",
              "       [ 540, -598,  454,   -3, -693,  974,  869,  872,  486, -674,  230,\n",
              "        -862,  199,  412,  171,  231,  619,  858,  369, -935],\n",
              "       [-598,   -5, -475,  787,  569,  667,  720, -396,  478, -413, -355,\n",
              "         566,  869, -119, -893, -986,  110, -173,  867, -375],\n",
              "       [-838, -126,  206,  809,  399,   90,  770,  639,  -48,  160,   11,\n",
              "         524,  479, -985,  229, -984,  118, -854,  121,   71],\n",
              "       [ 630,  935,  994, -764,  412, -199,  286,  678, -663, -645,  602,\n",
              "         543, -147,   -3, -934, -351, -795, -839, -297, -292]])"
            ]
          },
          "metadata": {
            "tags": []
          },
          "execution_count": 31
        }
      ]
    },
    {
      "cell_type": "code",
      "metadata": {
        "id": "Z3IOupQ3CRdS",
        "outputId": "52def609-7e7b-4b8a-ab07-d5db145756e2",
        "colab": {
          "base_uri": "https://localhost:8080/"
        }
      },
      "source": [
        "x.shape"
      ],
      "execution_count": 32,
      "outputs": [
        {
          "output_type": "execute_result",
          "data": {
            "text/plain": [
              "(20, 20)"
            ]
          },
          "metadata": {
            "tags": []
          },
          "execution_count": 32
        }
      ]
    },
    {
      "cell_type": "code",
      "metadata": {
        "id": "YjGeHvPrCUEQ",
        "outputId": "77ef274e-037f-4639-dacd-3613b9e4a72e",
        "colab": {
          "base_uri": "https://localhost:8080/"
        }
      },
      "source": [
        "x.max()"
      ],
      "execution_count": 33,
      "outputs": [
        {
          "output_type": "execute_result",
          "data": {
            "text/plain": [
              "994"
            ]
          },
          "metadata": {
            "tags": []
          },
          "execution_count": 33
        }
      ]
    },
    {
      "cell_type": "code",
      "metadata": {
        "id": "L5FejK5lCWt4",
        "outputId": "46102d46-a71e-4b82-abe9-69554becdf77",
        "colab": {
          "base_uri": "https://localhost:8080/"
        }
      },
      "source": [
        "x.min()"
      ],
      "execution_count": 34,
      "outputs": [
        {
          "output_type": "execute_result",
          "data": {
            "text/plain": [
              "-998"
            ]
          },
          "metadata": {
            "tags": []
          },
          "execution_count": 34
        }
      ]
    },
    {
      "cell_type": "code",
      "metadata": {
        "id": "tk5YZrRICYt3",
        "outputId": "6e24b801-0061-4b4c-a150-53c339830c30",
        "colab": {
          "base_uri": "https://localhost:8080/"
        }
      },
      "source": [
        "x.mean()"
      ],
      "execution_count": 35,
      "outputs": [
        {
          "output_type": "execute_result",
          "data": {
            "text/plain": [
              "-11.2825"
            ]
          },
          "metadata": {
            "tags": []
          },
          "execution_count": 35
        }
      ]
    },
    {
      "cell_type": "code",
      "metadata": {
        "id": "iV9br1dQCa-Z",
        "outputId": "38ff0223-fea8-48a1-ee27-fdc911b31037",
        "colab": {
          "base_uri": "https://localhost:8080/"
        }
      },
      "source": [
        "print(f'The maximum value is: {x.max()} and the minimum value is: {x.min()}')"
      ],
      "execution_count": 36,
      "outputs": [
        {
          "output_type": "stream",
          "text": [
            "The maximum value is: 994 and the minimum value is: -998\n"
          ],
          "name": "stdout"
        }
      ]
    },
    {
      "cell_type": "markdown",
      "metadata": {
        "id": "VRyk_VYQArV3"
      },
      "source": [
        "# 4. MATHEMATICAL OPERATIONS"
      ]
    },
    {
      "cell_type": "code",
      "metadata": {
        "id": "vm-gmaQG-Vvd",
        "outputId": "ec6c4d87-d7c5-43e9-a879-92eb05aad736",
        "colab": {
          "base_uri": "https://localhost:8080/"
        }
      },
      "source": [
        "# np.arange() returns an evenly spaced values within a given interval\n",
        "\n",
        "x = np.arange(1, 10)\n",
        "x"
      ],
      "execution_count": 37,
      "outputs": [
        {
          "output_type": "execute_result",
          "data": {
            "text/plain": [
              "array([1, 2, 3, 4, 5, 6, 7, 8, 9])"
            ]
          },
          "metadata": {
            "tags": []
          },
          "execution_count": 37
        }
      ]
    },
    {
      "cell_type": "code",
      "metadata": {
        "id": "yzC5WGBIAzNk",
        "outputId": "eafa3e81-1fa4-495a-f955-69e35bea0835",
        "colab": {
          "base_uri": "https://localhost:8080/"
        }
      },
      "source": [
        "y = np.arange(1, 10)\n",
        "y"
      ],
      "execution_count": 38,
      "outputs": [
        {
          "output_type": "execute_result",
          "data": {
            "text/plain": [
              "array([1, 2, 3, 4, 5, 6, 7, 8, 9])"
            ]
          },
          "metadata": {
            "tags": []
          },
          "execution_count": 38
        }
      ]
    },
    {
      "cell_type": "code",
      "metadata": {
        "id": "ED0OSzpw2p9R",
        "outputId": "e5a62e7c-bdd0-45c3-9bca-ad03395def48",
        "colab": {
          "base_uri": "https://localhost:8080/"
        }
      },
      "source": [
        "# Add 2 numpy arrays together\n",
        "\n",
        "sum = x + y\n",
        "sum"
      ],
      "execution_count": 39,
      "outputs": [
        {
          "output_type": "execute_result",
          "data": {
            "text/plain": [
              "array([ 2,  4,  6,  8, 10, 12, 14, 16, 18])"
            ]
          },
          "metadata": {
            "tags": []
          },
          "execution_count": 39
        }
      ]
    },
    {
      "cell_type": "code",
      "metadata": {
        "id": "TH6xTJcuAzK-",
        "outputId": "694be610-ea1f-491b-ce20-7449005c193b",
        "colab": {
          "base_uri": "https://localhost:8080/"
        }
      },
      "source": [
        "squared = x ** 2\n",
        "squared"
      ],
      "execution_count": 40,
      "outputs": [
        {
          "output_type": "execute_result",
          "data": {
            "text/plain": [
              "array([ 1,  4,  9, 16, 25, 36, 49, 64, 81])"
            ]
          },
          "metadata": {
            "tags": []
          },
          "execution_count": 40
        }
      ]
    },
    {
      "cell_type": "code",
      "metadata": {
        "id": "A0T25q5bAzIw",
        "outputId": "2cfce7e7-6e29-4f3c-a9a2-625154cd660e",
        "colab": {
          "base_uri": "https://localhost:8080/"
        }
      },
      "source": [
        "sqrt = np.sqrt(squared)\n",
        "sqrt\n"
      ],
      "execution_count": 42,
      "outputs": [
        {
          "output_type": "execute_result",
          "data": {
            "text/plain": [
              "array([1., 2., 3., 4., 5., 6., 7., 8., 9.])"
            ]
          },
          "metadata": {
            "tags": []
          },
          "execution_count": 42
        }
      ]
    },
    {
      "cell_type": "code",
      "metadata": {
        "id": "1HvrjH4fAzGd",
        "outputId": "e0fdcc83-977b-4e9c-d471-0fec676523af",
        "colab": {
          "base_uri": "https://localhost:8080/"
        }
      },
      "source": [
        "z = np.exp(y)\n",
        "z"
      ],
      "execution_count": 43,
      "outputs": [
        {
          "output_type": "execute_result",
          "data": {
            "text/plain": [
              "array([2.71828183e+00, 7.38905610e+00, 2.00855369e+01, 5.45981500e+01,\n",
              "       1.48413159e+02, 4.03428793e+02, 1.09663316e+03, 2.98095799e+03,\n",
              "       8.10308393e+03])"
            ]
          },
          "metadata": {
            "tags": []
          },
          "execution_count": 43
        }
      ]
    },
    {
      "cell_type": "markdown",
      "metadata": {
        "id": "-mj5Mwc2MmY2"
      },
      "source": [
        "**MINI CHALLENGE #5:**\n",
        "- **Given the X and Y values below, obtain the distance between them**\n",
        "\n",
        "\n",
        "```\n",
        "X = [3, 20, 30]\n",
        "Y = [4, 6, 7]\n",
        "```"
      ]
    },
    {
      "cell_type": "code",
      "metadata": {
        "id": "LfvrGIb83zCA",
        "outputId": "2c818b03-8693-4e97-cb87-e531b8bf49cc",
        "colab": {
          "base_uri": "https://localhost:8080/"
        }
      },
      "source": [
        "X = [3, 20, 30]\n",
        "Y = [4, 6, 7]\n",
        "\n",
        "X = np.array(X)\n",
        "Y = np.array(Y)\n",
        "Z = np.sqrt((X**2 + Y**2))\n",
        "Z"
      ],
      "execution_count": 44,
      "outputs": [
        {
          "output_type": "execute_result",
          "data": {
            "text/plain": [
              "array([ 5.        , 20.88061302, 30.8058436 ])"
            ]
          },
          "metadata": {
            "tags": []
          },
          "execution_count": 44
        }
      ]
    },
    {
      "cell_type": "markdown",
      "metadata": {
        "id": "ZA-Yb20mCYLl"
      },
      "source": [
        "# 5. SLICING AND INDEXING "
      ]
    },
    {
      "cell_type": "code",
      "metadata": {
        "id": "Bu6rhQ99BFCp",
        "outputId": "6a97bd1c-dd83-4f1c-844b-44bd229076d2",
        "colab": {
          "base_uri": "https://localhost:8080/"
        }
      },
      "source": [
        "x = np.array([20, 40, 50, 21, 15])\n",
        "x"
      ],
      "execution_count": 45,
      "outputs": [
        {
          "output_type": "execute_result",
          "data": {
            "text/plain": [
              "array([20, 40, 50, 21, 15])"
            ]
          },
          "metadata": {
            "tags": []
          },
          "execution_count": 45
        }
      ]
    },
    {
      "cell_type": "code",
      "metadata": {
        "id": "9TuEXJxgCdi_",
        "outputId": "69ef1cec-528b-4856-99eb-8a8c95f6373c",
        "colab": {
          "base_uri": "https://localhost:8080/"
        }
      },
      "source": [
        "# Access specific index from the numpy array\n",
        "\n",
        "x[0]"
      ],
      "execution_count": 46,
      "outputs": [
        {
          "output_type": "execute_result",
          "data": {
            "text/plain": [
              "20"
            ]
          },
          "metadata": {
            "tags": []
          },
          "execution_count": 46
        }
      ]
    },
    {
      "cell_type": "code",
      "metadata": {
        "id": "EjisujRgCdh4",
        "outputId": "f83ce618-c00b-4a84-ef4f-f815bce13a40",
        "colab": {
          "base_uri": "https://localhost:8080/"
        }
      },
      "source": [
        "# Starting from the first index 0 up until and NOT inlcluding the last element\n",
        "\n",
        "x[0:3]"
      ],
      "execution_count": 48,
      "outputs": [
        {
          "output_type": "execute_result",
          "data": {
            "text/plain": [
              "array([20, 40, 50])"
            ]
          },
          "metadata": {
            "tags": []
          },
          "execution_count": 48
        }
      ]
    },
    {
      "cell_type": "code",
      "metadata": {
        "id": "1nWlP602Cdg3",
        "outputId": "45ebcc6f-df9a-41ce-f04e-7c2bd1fceb4f",
        "colab": {
          "base_uri": "https://localhost:8080/"
        }
      },
      "source": [
        "# Broadcasting, altering several values in a numpy array at once\n",
        "\n",
        "x[0:2] = 10\n",
        "x"
      ],
      "execution_count": 49,
      "outputs": [
        {
          "output_type": "execute_result",
          "data": {
            "text/plain": [
              "array([10, 10, 50, 21, 15])"
            ]
          },
          "metadata": {
            "tags": []
          },
          "execution_count": 49
        }
      ]
    },
    {
      "cell_type": "code",
      "metadata": {
        "id": "fVKbwHguCddn",
        "outputId": "282f9ce8-0819-4d78-d98e-f4c7eb6fcdd3",
        "colab": {
          "base_uri": "https://localhost:8080/"
        }
      },
      "source": [
        "# Let's define a two dimensional numpy array\n",
        "\n",
        "matrix = np.random.randint(1, 10, (5,5))\n",
        "matrix"
      ],
      "execution_count": 50,
      "outputs": [
        {
          "output_type": "execute_result",
          "data": {
            "text/plain": [
              "array([[6, 8, 8, 6, 8],\n",
              "       [4, 9, 7, 1, 2],\n",
              "       [8, 2, 2, 7, 2],\n",
              "       [4, 7, 2, 4, 6],\n",
              "       [9, 6, 9, 2, 3]])"
            ]
          },
          "metadata": {
            "tags": []
          },
          "execution_count": 50
        }
      ]
    },
    {
      "cell_type": "code",
      "metadata": {
        "id": "Ea7ukwEzCda-",
        "outputId": "62f2a5dd-0374-441f-82b3-8ec067f6f7d8",
        "colab": {
          "base_uri": "https://localhost:8080/"
        }
      },
      "source": [
        "# Get a row from a mtrix\n",
        "\n",
        "matrix[2]"
      ],
      "execution_count": 51,
      "outputs": [
        {
          "output_type": "execute_result",
          "data": {
            "text/plain": [
              "array([8, 2, 2, 7, 2])"
            ]
          },
          "metadata": {
            "tags": []
          },
          "execution_count": 51
        }
      ]
    },
    {
      "cell_type": "code",
      "metadata": {
        "id": "8KJk10J8Ci8k",
        "outputId": "0fed90b6-32c3-42e7-cbc8-3931d52dfff5",
        "colab": {
          "base_uri": "https://localhost:8080/"
        }
      },
      "source": [
        "# Get one element\n",
        "\n",
        "matrix[0][2]"
      ],
      "execution_count": 52,
      "outputs": [
        {
          "output_type": "execute_result",
          "data": {
            "text/plain": [
              "8"
            ]
          },
          "metadata": {
            "tags": []
          },
          "execution_count": 52
        }
      ]
    },
    {
      "cell_type": "code",
      "metadata": {
        "id": "lWsIgHYRCi5e",
        "outputId": "070a2aad-1514-4c5a-90fc-5656b991aa38",
        "colab": {
          "base_uri": "https://localhost:8080/"
        }
      },
      "source": [
        "mini_matrix = matrix[:3]\n",
        "mini_matrix"
      ],
      "execution_count": 53,
      "outputs": [
        {
          "output_type": "execute_result",
          "data": {
            "text/plain": [
              "array([[6, 8, 8, 6, 8],\n",
              "       [4, 9, 7, 1, 2],\n",
              "       [8, 2, 2, 7, 2]])"
            ]
          },
          "metadata": {
            "tags": []
          },
          "execution_count": 53
        }
      ]
    },
    {
      "cell_type": "code",
      "metadata": {
        "id": "Gn7-PKS9Ci4c",
        "outputId": "51b8a908-10ba-4457-c90f-a42897558566",
        "colab": {
          "base_uri": "https://localhost:8080/"
        }
      },
      "source": [
        "mini_matrix = matrix[:, 2:]\n",
        "mini_matrix"
      ],
      "execution_count": 54,
      "outputs": [
        {
          "output_type": "execute_result",
          "data": {
            "text/plain": [
              "array([[8, 6, 8],\n",
              "       [7, 1, 2],\n",
              "       [2, 7, 2],\n",
              "       [2, 4, 6],\n",
              "       [9, 2, 3]])"
            ]
          },
          "metadata": {
            "tags": []
          },
          "execution_count": 54
        }
      ]
    },
    {
      "cell_type": "code",
      "metadata": {
        "id": "MGap8pfACi1M",
        "outputId": "59339cfa-66e3-471c-9a6d-bab0476f129d",
        "colab": {
          "base_uri": "https://localhost:8080/"
        }
      },
      "source": [
        "mini_matrix = matrix[:, :2]\n",
        "mini_matrix"
      ],
      "execution_count": 55,
      "outputs": [
        {
          "output_type": "execute_result",
          "data": {
            "text/plain": [
              "array([[6, 8],\n",
              "       [4, 9],\n",
              "       [8, 2],\n",
              "       [4, 7],\n",
              "       [9, 6]])"
            ]
          },
          "metadata": {
            "tags": []
          },
          "execution_count": 55
        }
      ]
    },
    {
      "cell_type": "markdown",
      "metadata": {
        "id": "zgyFPV5R8dUS"
      },
      "source": [
        "**MINI CHALLENGE #6:**\n",
        "- **In the following matrix, replace the last row with -1**\n",
        "- **Multiply the 2x2 matrix in the upper right corner by 2**\n",
        "\n",
        "\n",
        "\n",
        "```\n",
        "X = [2 30 20 -2 -4]\n",
        "    [3 4  40 -3 -2]\n",
        "    [-3 4 -6 90 10]\n",
        "    [25 45 34 22 12]\n",
        "    [13 24 22 32 37]\n",
        "```\n",
        "\n"
      ]
    },
    {
      "cell_type": "code",
      "metadata": {
        "id": "7ploQgLSZwW2",
        "outputId": "9f209a08-4729-4f8c-db4e-e447711a859f",
        "colab": {
          "base_uri": "https://localhost:8080/"
        }
      },
      "source": [
        "X = np.array([[2, 30, 20 ,-2 ,-4],\n",
        "                  [3, 4,  40, -3, -2],\n",
        "                  [-3, 4, -6, 90, 10],\n",
        "                  [25, 45, 34, 22, 12],\n",
        "                  [13, 24, 22, 32, 37]])\n",
        "X"
      ],
      "execution_count": 70,
      "outputs": [
        {
          "output_type": "execute_result",
          "data": {
            "text/plain": [
              "array([[ 2, 30, 20, -2, -4],\n",
              "       [ 3,  4, 40, -3, -2],\n",
              "       [-3,  4, -6, 90, 10],\n",
              "       [25, 45, 34, 22, 12],\n",
              "       [13, 24, 22, 32, 37]])"
            ]
          },
          "metadata": {
            "tags": []
          },
          "execution_count": 70
        }
      ]
    },
    {
      "cell_type": "code",
      "metadata": {
        "id": "KwMZZ6Q2asDT",
        "outputId": "a4c9a958-413c-4672-969c-cd757c9abc5b",
        "colab": {
          "base_uri": "https://localhost:8080/"
        }
      },
      "source": [
        "X[4]=-1\n",
        "X"
      ],
      "execution_count": 71,
      "outputs": [
        {
          "output_type": "execute_result",
          "data": {
            "text/plain": [
              "array([[ 2, 30, 20, -2, -4],\n",
              "       [ 3,  4, 40, -3, -2],\n",
              "       [-3,  4, -6, 90, 10],\n",
              "       [25, 45, 34, 22, 12],\n",
              "       [-1, -1, -1, -1, -1]])"
            ]
          },
          "metadata": {
            "tags": []
          },
          "execution_count": 71
        }
      ]
    },
    {
      "cell_type": "code",
      "metadata": {
        "id": "RmXpi1evazIm",
        "outputId": "99ed0a1d-ad9f-4005-ce85-744a769435d0",
        "colab": {
          "base_uri": "https://localhost:8080/"
        }
      },
      "source": [
        "X[:2, 3:] = X[:2, 3:] * 2\n",
        "X "
      ],
      "execution_count": 72,
      "outputs": [
        {
          "output_type": "execute_result",
          "data": {
            "text/plain": [
              "array([[ 2, 30, 20, -4, -8],\n",
              "       [ 3,  4, 40, -6, -4],\n",
              "       [-3,  4, -6, 90, 10],\n",
              "       [25, 45, 34, 22, 12],\n",
              "       [-1, -1, -1, -1, -1]])"
            ]
          },
          "metadata": {
            "tags": []
          },
          "execution_count": 72
        }
      ]
    },
    {
      "cell_type": "markdown",
      "metadata": {
        "id": "juuMOEq7Col_"
      },
      "source": [
        "# 6. ELEMENTS SELECTION (CONDITIONAL)"
      ]
    },
    {
      "cell_type": "code",
      "metadata": {
        "id": "UujCvuhMCt4K",
        "outputId": "ecd00d83-a16b-462e-ea3d-9581fc022232",
        "colab": {
          "base_uri": "https://localhost:8080/"
        }
      },
      "source": [
        "matrix = np.random.randint(1, 10, (5, 5))\n",
        "matrix"
      ],
      "execution_count": 73,
      "outputs": [
        {
          "output_type": "execute_result",
          "data": {
            "text/plain": [
              "array([[9, 8, 8, 8, 4],\n",
              "       [6, 2, 6, 5, 9],\n",
              "       [3, 6, 4, 9, 5],\n",
              "       [4, 7, 5, 9, 4],\n",
              "       [7, 3, 6, 8, 9]])"
            ]
          },
          "metadata": {
            "tags": []
          },
          "execution_count": 73
        }
      ]
    },
    {
      "cell_type": "code",
      "metadata": {
        "id": "JBgJ8ugyCvht",
        "outputId": "eaac421d-f50f-4bec-ed22-e66c6ae0f6cb",
        "colab": {
          "base_uri": "https://localhost:8080/"
        }
      },
      "source": [
        "new_matrix = matrix[matrix>3]\n",
        "new_matrix"
      ],
      "execution_count": 74,
      "outputs": [
        {
          "output_type": "execute_result",
          "data": {
            "text/plain": [
              "array([9, 8, 8, 8, 4, 6, 6, 5, 9, 6, 4, 9, 5, 4, 7, 5, 9, 4, 7, 6, 8, 9])"
            ]
          },
          "metadata": {
            "tags": []
          },
          "execution_count": 74
        }
      ]
    },
    {
      "cell_type": "code",
      "metadata": {
        "id": "TIQ-A7IBCvgl",
        "outputId": "4c4c6e2f-fb05-4826-f22e-9ad9659f5bd4",
        "colab": {
          "base_uri": "https://localhost:8080/"
        }
      },
      "source": [
        "new_matrix = matrix[matrix%2 ==0]\n",
        "new_matrix"
      ],
      "execution_count": 75,
      "outputs": [
        {
          "output_type": "execute_result",
          "data": {
            "text/plain": [
              "array([8, 8, 8, 4, 6, 2, 6, 6, 4, 4, 4, 6, 8])"
            ]
          },
          "metadata": {
            "tags": []
          },
          "execution_count": 75
        }
      ]
    },
    {
      "cell_type": "markdown",
      "metadata": {
        "id": "39QiMh-W8ogs"
      },
      "source": [
        "**MINI CHALLENGE #7:**\n",
        "- **In the following matrix, replace negative elements by 0 and replace odd elements with 25**\n",
        "\n",
        "\n",
        "```\n",
        "X = [2 30 20 -2 -4]\n",
        "    [3 4  40 -3 -2]\n",
        "    [-3 4 -6 90 10]\n",
        "    [25 45 34 22 12]\n",
        "    [13 24 22 32 37]\n",
        "```\n"
      ]
    },
    {
      "cell_type": "code",
      "metadata": {
        "id": "AbN-vySf9gen",
        "outputId": "a4846a58-dafe-4e5e-e711-9ddd319cdd1f",
        "colab": {
          "base_uri": "https://localhost:8080/"
        }
      },
      "source": [
        "X = np.array([[2, 30, 20, -2, -4],\n",
        "    [3, 4,  40, -3, -2],\n",
        "    [-3, 4, -6, 90, 10],\n",
        "    [25, 45, 34, 22, 12],\n",
        "    [13, 24, 22, 32, 37]])\n",
        "X"
      ],
      "execution_count": 78,
      "outputs": [
        {
          "output_type": "execute_result",
          "data": {
            "text/plain": [
              "array([[ 2, 30, 20, -2, -4],\n",
              "       [ 3,  4, 40, -3, -2],\n",
              "       [-3,  4, -6, 90, 10],\n",
              "       [25, 45, 34, 22, 12],\n",
              "       [13, 24, 22, 32, 37]])"
            ]
          },
          "metadata": {
            "tags": []
          },
          "execution_count": 78
        }
      ]
    },
    {
      "cell_type": "code",
      "metadata": {
        "id": "kz-j7qFQc4aT",
        "outputId": "f8a9f73e-305e-449a-8674-48ad5410cb39",
        "colab": {
          "base_uri": "https://localhost:8080/"
        }
      },
      "source": [
        "X[X<0]=0\n",
        "X"
      ],
      "execution_count": 79,
      "outputs": [
        {
          "output_type": "execute_result",
          "data": {
            "text/plain": [
              "array([[ 2, 30, 20,  0,  0],\n",
              "       [ 3,  4, 40,  0,  0],\n",
              "       [ 0,  4,  0, 90, 10],\n",
              "       [25, 45, 34, 22, 12],\n",
              "       [13, 24, 22, 32, 37]])"
            ]
          },
          "metadata": {
            "tags": []
          },
          "execution_count": 79
        }
      ]
    },
    {
      "cell_type": "code",
      "metadata": {
        "id": "HStJL9DldGVJ",
        "outputId": "c2c9a725-ce7d-4f58-f18c-025c2d75a119",
        "colab": {
          "base_uri": "https://localhost:8080/"
        }
      },
      "source": [
        "X[X%2==1]=25\n",
        "X"
      ],
      "execution_count": 80,
      "outputs": [
        {
          "output_type": "execute_result",
          "data": {
            "text/plain": [
              "array([[ 2, 30, 20,  0,  0],\n",
              "       [25,  4, 40,  0,  0],\n",
              "       [ 0,  4,  0, 90, 10],\n",
              "       [25, 25, 34, 22, 12],\n",
              "       [25, 24, 22, 32, 25]])"
            ]
          },
          "metadata": {
            "tags": []
          },
          "execution_count": 80
        }
      ]
    },
    {
      "cell_type": "markdown",
      "metadata": {
        "id": "dakv7iPFgw7Y"
      },
      "source": [
        "# EXCELLENT JOB!"
      ]
    },
    {
      "cell_type": "markdown",
      "metadata": {
        "id": "pNWQrMz6KnIF"
      },
      "source": [
        "# MINI CHALLENGES SOLUTIONS"
      ]
    },
    {
      "cell_type": "markdown",
      "metadata": {
        "id": "6AMqSvtAKj6o"
      },
      "source": [
        "**MINI CHALLENGE #1 SOLUTION:** \n",
        "- **Write a code that creates the following 2x4 numpy array**\n",
        "\n",
        "```\n",
        "[[4 6 8 7] \n",
        "[20 5 6 9]]\n",
        "```"
      ]
    },
    {
      "cell_type": "code",
      "metadata": {
        "id": "ivvFzDy-KlQP"
      },
      "source": [
        "x = np.array([[[4, 6, 8, 7] , [20, 5, 6, 9]]])\n",
        "x"
      ],
      "execution_count": null,
      "outputs": []
    },
    {
      "cell_type": "markdown",
      "metadata": {
        "id": "2GskzNkOMFu0"
      },
      "source": [
        "**MINI CHALLENGE #2 SOLUTION:**\n",
        "- **Write a code that takes in a number x from the user and creates a 1x20 array with random numbers ranging from 0 to x**"
      ]
    },
    {
      "cell_type": "code",
      "metadata": {
        "id": "0vnDfvwFMFu3"
      },
      "source": [
        "x = int(input(\"Please enter a positive integer value: \"))\n",
        "x = np.random.randint(1, x, 20)\n",
        "x"
      ],
      "execution_count": null,
      "outputs": []
    },
    {
      "cell_type": "markdown",
      "metadata": {
        "id": "LOVruiHdMRMd"
      },
      "source": [
        "**MINI CHALLENGE #3 SOLUTION:**\n",
        "- **Write a code that creates a 4x5 array inwhich numbers ranging between 300 and 500 such that the difference between elements is 10**"
      ]
    },
    {
      "cell_type": "code",
      "metadata": {
        "id": "WtSncbsHMRMg"
      },
      "source": [
        "x = np.arange(300, 500, 10)\n",
        "x.shape"
      ],
      "execution_count": null,
      "outputs": []
    },
    {
      "cell_type": "code",
      "metadata": {
        "id": "2_8vFVF7MRMp"
      },
      "source": [
        "x = x.reshape(4, 5)\n",
        "print(x)"
      ],
      "execution_count": null,
      "outputs": []
    },
    {
      "cell_type": "markdown",
      "metadata": {
        "id": "NSuiOFRx1pSY"
      },
      "source": [
        "**MINI CHALLENGE #4 SOLUTION:**\n",
        "- **Write a code that creates a 20x20 numpy array of random values that ranges from -1000 to 1000 and obtain the maximum, minimum, and mean values** "
      ]
    },
    {
      "cell_type": "code",
      "metadata": {
        "id": "445Vi21GMYS7"
      },
      "source": [
        "x = np.random.randint(-1000, 1000, (20, 20))\n",
        "print(x)\n",
        "print('The maximum value is: {} and the minimum value is:{}'.format(x.min(), x.max()))"
      ],
      "execution_count": null,
      "outputs": []
    },
    {
      "cell_type": "code",
      "metadata": {
        "id": "tIVL0uEr4xsC"
      },
      "source": [
        ""
      ],
      "execution_count": null,
      "outputs": []
    },
    {
      "cell_type": "markdown",
      "metadata": {
        "id": "s1p4WaNB4yFf"
      },
      "source": [
        "**MINI CHALLENGE #5 SOLUTION:**\n",
        "- **Given the X and Y values below, obtain the distance between them**\n",
        "\n",
        "\n",
        "```\n",
        "X = [3, 20, 30]\n",
        "Y = [4, 6, 7]\n",
        "```\n",
        "\n",
        "\n"
      ]
    },
    {
      "cell_type": "code",
      "metadata": {
        "id": "_GJmf2Pl4yFi"
      },
      "source": [
        "X = np.array([3, 20, 30])\n",
        "Y = np.array([4, 6, 7])\n",
        "Z = np.sqrt(X**2 + Y**2)\n",
        "Z"
      ],
      "execution_count": null,
      "outputs": []
    },
    {
      "cell_type": "markdown",
      "metadata": {
        "id": "EZ9i2CLm6Iuf"
      },
      "source": [
        "**MINI CHALLENGE #6 SOLUTION:**\n",
        "- **In the following matrix, replace the last row with -1**\n",
        "- **Multiply the 2x2 matrix in the upper right corner by 2**\n",
        "\n",
        "\n",
        "\n",
        "```\n",
        "X = [2 30 20 -2 -4]\n",
        "    [3 4  40 -3 -2]\n",
        "    [-3 4 -6 90 10]\n",
        "    [25 45 34 22 12]\n",
        "    [13 24 22 32 37]\n",
        "```\n",
        "\n",
        "\n"
      ]
    },
    {
      "cell_type": "code",
      "metadata": {
        "id": "qB7S_wIx6Hsm"
      },
      "source": [
        "X = np.array([[2, 30, 20, -2, -4],\n",
        "    [3, 4,  40, -3, -2],\n",
        "    [-3, 4, -6, 90, 10],\n",
        "    [25, 45, 34, 22, 12],\n",
        "    [13, 24, 22, 32, 37]])\n"
      ],
      "execution_count": null,
      "outputs": []
    },
    {
      "cell_type": "code",
      "metadata": {
        "id": "y98hmGRe7Qtl"
      },
      "source": [
        "X[4] = 0\n",
        "X"
      ],
      "execution_count": null,
      "outputs": []
    },
    {
      "cell_type": "code",
      "metadata": {
        "id": "6pLZ5lF87UFs"
      },
      "source": [
        "X[:2, 3:]  = X[:2, 3:] * 2"
      ],
      "execution_count": null,
      "outputs": []
    },
    {
      "cell_type": "code",
      "metadata": {
        "id": "WsqjANlB8Kva"
      },
      "source": [
        "X"
      ],
      "execution_count": null,
      "outputs": []
    },
    {
      "cell_type": "markdown",
      "metadata": {
        "id": "2oikl6JS9YUs"
      },
      "source": [
        "**MINI CHALLENGE #7 SOLUTION:**\n",
        "- **In the following matrix, replace negative elements by 0 and replace odd elements with 25**\n",
        "\n",
        "\n",
        "```\n",
        "X = [2 30 20 -2 -4]\n",
        "    [3 4  40 -3 -2]\n",
        "    [-3 4 -6 90 10]\n",
        "    [25 45 34 22 12]\n",
        "    [13 24 22 32 37]\n",
        "```\n"
      ]
    },
    {
      "cell_type": "code",
      "metadata": {
        "id": "h105KzGr9YUu"
      },
      "source": [
        "X = np.array([[2, 30, 20, -2, -4],\n",
        "    [3, 4,  40, -3, -2],\n",
        "    [-3, 4, -6, 90, 10],\n",
        "    [25, 45, 34, 22, 12],\n",
        "    [13, 24, 22, 32, 37]])\n",
        "\n",
        "X[X%2==1] = 25\n",
        "X[X<0] = 0\n",
        "X"
      ],
      "execution_count": null,
      "outputs": []
    }
  ]
}
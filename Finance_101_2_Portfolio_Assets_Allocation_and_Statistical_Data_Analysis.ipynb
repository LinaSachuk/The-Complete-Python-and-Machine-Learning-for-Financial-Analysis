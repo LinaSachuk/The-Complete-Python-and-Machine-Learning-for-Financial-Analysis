{
  "nbformat": 4,
  "nbformat_minor": 0,
  "metadata": {
    "colab": {
      "name": "Finance 101 - 2 - Portfolio Assets Allocation and Statistical Data Analysis.ipynb",
      "provenance": [],
      "collapsed_sections": [],
      "include_colab_link": true
    },
    "kernelspec": {
      "name": "python3",
      "display_name": "Python 3"
    }
  },
  "cells": [
    {
      "cell_type": "markdown",
      "metadata": {
        "id": "view-in-github",
        "colab_type": "text"
      },
      "source": [
        "<a href=\"https://colab.research.google.com/github/LinaSachuk/The-Complete-Python-and-Machine-Learning-for-Financial-Analysis/blob/master/Finance_101_2_Portfolio_Assets_Allocation_and_Statistical_Data_Analysis.ipynb\" target=\"_parent\"><img src=\"https://colab.research.google.com/assets/colab-badge.svg\" alt=\"Open In Colab\"/></a>"
      ]
    },
    {
      "cell_type": "markdown",
      "metadata": {
        "id": "ltpfSDVCRbRX"
      },
      "source": [
        "#TASK #1: PROJECT OVERVIEW AND ASSET TYPES"
      ]
    },
    {
      "cell_type": "markdown",
      "metadata": {
        "id": "sxflQbPmX-Pm"
      },
      "source": [
        "![alt text](https://drive.google.com/uc?id=1TEVVCFWQD8F5mlC7FzD-JM2y54ivYZHT)"
      ]
    },
    {
      "cell_type": "markdown",
      "metadata": {
        "id": "Sm6dYc4lYWXI"
      },
      "source": [
        "![alt text](https://drive.google.com/uc?id=1Z253Wmij7HCEHqPsMdEI56qYqASRrsjn)\n"
      ]
    },
    {
      "cell_type": "markdown",
      "metadata": {
        "id": "J8oYWnAoYWzN"
      },
      "source": [
        "![alt text](https://drive.google.com/uc?id=10XxwtKY2qEiNAdTkqNXKhNFZrWvwwKbN)"
      ]
    },
    {
      "cell_type": "markdown",
      "metadata": {
        "id": "W_YgRmfpYW9d"
      },
      "source": [
        "![alt text](https://drive.google.com/uc?id=1SfBtfOoDigo4ofEvPAwIojqGHpMojL5S)"
      ]
    },
    {
      "cell_type": "markdown",
      "metadata": {
        "id": "uXLoS6qS74qs"
      },
      "source": [
        "Links:\n",
        "- https://www.bankofcanada.ca/rates/interest-rates/canadian-bonds/\n",
        "- https://ca.finance.yahoo.com/quote/AAPL?p=AAPL&.tsrc=fin-tre-srch\n",
        "- https://investor.vanguard.com/etf/profile/performance/voo\n",
        "- https://grow.acorns.com/warren-buffett-index-funds/\n",
        "\n"
      ]
    },
    {
      "cell_type": "markdown",
      "metadata": {
        "id": "_OtNKjlXS5YR"
      },
      "source": [
        "# TASK #2: IMPORT LIBRARIES & DATASETS AND PERFORM DATA VISUALIZATION"
      ]
    },
    {
      "cell_type": "code",
      "metadata": {
        "id": "4j9CzvYyRjq3",
        "colab": {
          "base_uri": "https://localhost:8080/"
        },
        "outputId": "cc9b355f-9195-41d7-b657-149b3b686d46"
      },
      "source": [
        "from google.colab import drive\n",
        "drive.mount('/content/drive')"
      ],
      "execution_count": 1,
      "outputs": [
        {
          "output_type": "stream",
          "text": [
            "Mounted at /content/drive\n"
          ],
          "name": "stdout"
        }
      ]
    },
    {
      "cell_type": "code",
      "metadata": {
        "id": "TMxtZdEjRjoc"
      },
      "source": [
        "import pandas as pd\n",
        "import plotly.express as px\n",
        "from copy import copy\n",
        "from scipy import stats\n",
        "import matplotlib.pyplot as plt\n",
        "import numpy as np\n",
        "import plotly.figure_factory as ff\n",
        "import plotly.graph_objects as go"
      ],
      "execution_count": 2,
      "outputs": []
    },
    {
      "cell_type": "code",
      "metadata": {
        "id": "rjnkqEJzRjtC",
        "colab": {
          "base_uri": "https://localhost:8080/",
          "height": 419
        },
        "outputId": "d91476ed-82f2-441e-c55e-a513792d6839"
      },
      "source": [
        "# Read the stock data file\n",
        "\n",
        "stocks_df = pd.read_csv('/content/drive/MyDrive/Python+for+Financial+Analysis+-+Course+Package/Part 2. Financial Analysis in Python/stock.csv')\n",
        "stocks_df"
      ],
      "execution_count": 4,
      "outputs": [
        {
          "output_type": "execute_result",
          "data": {
            "text/html": [
              "<div>\n",
              "<style scoped>\n",
              "    .dataframe tbody tr th:only-of-type {\n",
              "        vertical-align: middle;\n",
              "    }\n",
              "\n",
              "    .dataframe tbody tr th {\n",
              "        vertical-align: top;\n",
              "    }\n",
              "\n",
              "    .dataframe thead th {\n",
              "        text-align: right;\n",
              "    }\n",
              "</style>\n",
              "<table border=\"1\" class=\"dataframe\">\n",
              "  <thead>\n",
              "    <tr style=\"text-align: right;\">\n",
              "      <th></th>\n",
              "      <th>Date</th>\n",
              "      <th>AAPL</th>\n",
              "      <th>BA</th>\n",
              "      <th>T</th>\n",
              "      <th>MGM</th>\n",
              "      <th>AMZN</th>\n",
              "      <th>IBM</th>\n",
              "      <th>TSLA</th>\n",
              "      <th>GOOG</th>\n",
              "      <th>sp500</th>\n",
              "    </tr>\n",
              "  </thead>\n",
              "  <tbody>\n",
              "    <tr>\n",
              "      <th>0</th>\n",
              "      <td>2012-01-12</td>\n",
              "      <td>60.198570</td>\n",
              "      <td>75.510002</td>\n",
              "      <td>30.120001</td>\n",
              "      <td>12.130000</td>\n",
              "      <td>175.929993</td>\n",
              "      <td>180.550003</td>\n",
              "      <td>28.250000</td>\n",
              "      <td>313.644379</td>\n",
              "      <td>1295.500000</td>\n",
              "    </tr>\n",
              "    <tr>\n",
              "      <th>1</th>\n",
              "      <td>2012-01-13</td>\n",
              "      <td>59.972858</td>\n",
              "      <td>74.599998</td>\n",
              "      <td>30.070000</td>\n",
              "      <td>12.350000</td>\n",
              "      <td>178.419998</td>\n",
              "      <td>179.160004</td>\n",
              "      <td>22.790001</td>\n",
              "      <td>311.328064</td>\n",
              "      <td>1289.089966</td>\n",
              "    </tr>\n",
              "    <tr>\n",
              "      <th>2</th>\n",
              "      <td>2012-01-17</td>\n",
              "      <td>60.671429</td>\n",
              "      <td>75.239998</td>\n",
              "      <td>30.250000</td>\n",
              "      <td>12.250000</td>\n",
              "      <td>181.660004</td>\n",
              "      <td>180.000000</td>\n",
              "      <td>26.600000</td>\n",
              "      <td>313.116364</td>\n",
              "      <td>1293.670044</td>\n",
              "    </tr>\n",
              "    <tr>\n",
              "      <th>3</th>\n",
              "      <td>2012-01-18</td>\n",
              "      <td>61.301430</td>\n",
              "      <td>75.059998</td>\n",
              "      <td>30.330000</td>\n",
              "      <td>12.730000</td>\n",
              "      <td>189.440002</td>\n",
              "      <td>181.070007</td>\n",
              "      <td>26.809999</td>\n",
              "      <td>315.273285</td>\n",
              "      <td>1308.040039</td>\n",
              "    </tr>\n",
              "    <tr>\n",
              "      <th>4</th>\n",
              "      <td>2012-01-19</td>\n",
              "      <td>61.107143</td>\n",
              "      <td>75.559998</td>\n",
              "      <td>30.420000</td>\n",
              "      <td>12.800000</td>\n",
              "      <td>194.449997</td>\n",
              "      <td>180.520004</td>\n",
              "      <td>26.760000</td>\n",
              "      <td>318.590851</td>\n",
              "      <td>1314.500000</td>\n",
              "    </tr>\n",
              "    <tr>\n",
              "      <th>...</th>\n",
              "      <td>...</td>\n",
              "      <td>...</td>\n",
              "      <td>...</td>\n",
              "      <td>...</td>\n",
              "      <td>...</td>\n",
              "      <td>...</td>\n",
              "      <td>...</td>\n",
              "      <td>...</td>\n",
              "      <td>...</td>\n",
              "      <td>...</td>\n",
              "    </tr>\n",
              "    <tr>\n",
              "      <th>2154</th>\n",
              "      <td>2020-08-05</td>\n",
              "      <td>440.250000</td>\n",
              "      <td>174.279999</td>\n",
              "      <td>29.850000</td>\n",
              "      <td>16.719999</td>\n",
              "      <td>3205.030029</td>\n",
              "      <td>125.449997</td>\n",
              "      <td>1485.020020</td>\n",
              "      <td>1473.609985</td>\n",
              "      <td>3327.770020</td>\n",
              "    </tr>\n",
              "    <tr>\n",
              "      <th>2155</th>\n",
              "      <td>2020-08-06</td>\n",
              "      <td>455.609985</td>\n",
              "      <td>172.199997</td>\n",
              "      <td>29.840000</td>\n",
              "      <td>18.459999</td>\n",
              "      <td>3225.000000</td>\n",
              "      <td>126.120003</td>\n",
              "      <td>1489.579956</td>\n",
              "      <td>1500.099976</td>\n",
              "      <td>3349.159912</td>\n",
              "    </tr>\n",
              "    <tr>\n",
              "      <th>2156</th>\n",
              "      <td>2020-08-07</td>\n",
              "      <td>444.450012</td>\n",
              "      <td>170.020004</td>\n",
              "      <td>30.020000</td>\n",
              "      <td>19.030001</td>\n",
              "      <td>3167.459961</td>\n",
              "      <td>124.959999</td>\n",
              "      <td>1452.709961</td>\n",
              "      <td>1494.489990</td>\n",
              "      <td>3351.280029</td>\n",
              "    </tr>\n",
              "    <tr>\n",
              "      <th>2157</th>\n",
              "      <td>2020-08-10</td>\n",
              "      <td>450.910004</td>\n",
              "      <td>179.410004</td>\n",
              "      <td>30.200001</td>\n",
              "      <td>21.650000</td>\n",
              "      <td>3148.159912</td>\n",
              "      <td>127.110001</td>\n",
              "      <td>1418.569946</td>\n",
              "      <td>1496.099976</td>\n",
              "      <td>3360.469971</td>\n",
              "    </tr>\n",
              "    <tr>\n",
              "      <th>2158</th>\n",
              "      <td>2020-08-11</td>\n",
              "      <td>437.500000</td>\n",
              "      <td>180.130005</td>\n",
              "      <td>30.200001</td>\n",
              "      <td>21.500000</td>\n",
              "      <td>3080.669922</td>\n",
              "      <td>126.750000</td>\n",
              "      <td>1374.390015</td>\n",
              "      <td>1480.319946</td>\n",
              "      <td>3333.689941</td>\n",
              "    </tr>\n",
              "  </tbody>\n",
              "</table>\n",
              "<p>2159 rows × 10 columns</p>\n",
              "</div>"
            ],
            "text/plain": [
              "            Date        AAPL          BA  ...         TSLA         GOOG        sp500\n",
              "0     2012-01-12   60.198570   75.510002  ...    28.250000   313.644379  1295.500000\n",
              "1     2012-01-13   59.972858   74.599998  ...    22.790001   311.328064  1289.089966\n",
              "2     2012-01-17   60.671429   75.239998  ...    26.600000   313.116364  1293.670044\n",
              "3     2012-01-18   61.301430   75.059998  ...    26.809999   315.273285  1308.040039\n",
              "4     2012-01-19   61.107143   75.559998  ...    26.760000   318.590851  1314.500000\n",
              "...          ...         ...         ...  ...          ...          ...          ...\n",
              "2154  2020-08-05  440.250000  174.279999  ...  1485.020020  1473.609985  3327.770020\n",
              "2155  2020-08-06  455.609985  172.199997  ...  1489.579956  1500.099976  3349.159912\n",
              "2156  2020-08-07  444.450012  170.020004  ...  1452.709961  1494.489990  3351.280029\n",
              "2157  2020-08-10  450.910004  179.410004  ...  1418.569946  1496.099976  3360.469971\n",
              "2158  2020-08-11  437.500000  180.130005  ...  1374.390015  1480.319946  3333.689941\n",
              "\n",
              "[2159 rows x 10 columns]"
            ]
          },
          "metadata": {
            "tags": []
          },
          "execution_count": 4
        }
      ]
    },
    {
      "cell_type": "code",
      "metadata": {
        "id": "O-iq0rQVRysa",
        "colab": {
          "base_uri": "https://localhost:8080/",
          "height": 419
        },
        "outputId": "8d57e0ab-6a52-498b-8061-c91b26df4c42"
      },
      "source": [
        "# Sort the data based on Date\n",
        "\n",
        "stocks_df = stocks_df.sort_values(by=['Date'])\n",
        "stocks_df"
      ],
      "execution_count": 5,
      "outputs": [
        {
          "output_type": "execute_result",
          "data": {
            "text/html": [
              "<div>\n",
              "<style scoped>\n",
              "    .dataframe tbody tr th:only-of-type {\n",
              "        vertical-align: middle;\n",
              "    }\n",
              "\n",
              "    .dataframe tbody tr th {\n",
              "        vertical-align: top;\n",
              "    }\n",
              "\n",
              "    .dataframe thead th {\n",
              "        text-align: right;\n",
              "    }\n",
              "</style>\n",
              "<table border=\"1\" class=\"dataframe\">\n",
              "  <thead>\n",
              "    <tr style=\"text-align: right;\">\n",
              "      <th></th>\n",
              "      <th>Date</th>\n",
              "      <th>AAPL</th>\n",
              "      <th>BA</th>\n",
              "      <th>T</th>\n",
              "      <th>MGM</th>\n",
              "      <th>AMZN</th>\n",
              "      <th>IBM</th>\n",
              "      <th>TSLA</th>\n",
              "      <th>GOOG</th>\n",
              "      <th>sp500</th>\n",
              "    </tr>\n",
              "  </thead>\n",
              "  <tbody>\n",
              "    <tr>\n",
              "      <th>0</th>\n",
              "      <td>2012-01-12</td>\n",
              "      <td>60.198570</td>\n",
              "      <td>75.510002</td>\n",
              "      <td>30.120001</td>\n",
              "      <td>12.130000</td>\n",
              "      <td>175.929993</td>\n",
              "      <td>180.550003</td>\n",
              "      <td>28.250000</td>\n",
              "      <td>313.644379</td>\n",
              "      <td>1295.500000</td>\n",
              "    </tr>\n",
              "    <tr>\n",
              "      <th>1</th>\n",
              "      <td>2012-01-13</td>\n",
              "      <td>59.972858</td>\n",
              "      <td>74.599998</td>\n",
              "      <td>30.070000</td>\n",
              "      <td>12.350000</td>\n",
              "      <td>178.419998</td>\n",
              "      <td>179.160004</td>\n",
              "      <td>22.790001</td>\n",
              "      <td>311.328064</td>\n",
              "      <td>1289.089966</td>\n",
              "    </tr>\n",
              "    <tr>\n",
              "      <th>2</th>\n",
              "      <td>2012-01-17</td>\n",
              "      <td>60.671429</td>\n",
              "      <td>75.239998</td>\n",
              "      <td>30.250000</td>\n",
              "      <td>12.250000</td>\n",
              "      <td>181.660004</td>\n",
              "      <td>180.000000</td>\n",
              "      <td>26.600000</td>\n",
              "      <td>313.116364</td>\n",
              "      <td>1293.670044</td>\n",
              "    </tr>\n",
              "    <tr>\n",
              "      <th>3</th>\n",
              "      <td>2012-01-18</td>\n",
              "      <td>61.301430</td>\n",
              "      <td>75.059998</td>\n",
              "      <td>30.330000</td>\n",
              "      <td>12.730000</td>\n",
              "      <td>189.440002</td>\n",
              "      <td>181.070007</td>\n",
              "      <td>26.809999</td>\n",
              "      <td>315.273285</td>\n",
              "      <td>1308.040039</td>\n",
              "    </tr>\n",
              "    <tr>\n",
              "      <th>4</th>\n",
              "      <td>2012-01-19</td>\n",
              "      <td>61.107143</td>\n",
              "      <td>75.559998</td>\n",
              "      <td>30.420000</td>\n",
              "      <td>12.800000</td>\n",
              "      <td>194.449997</td>\n",
              "      <td>180.520004</td>\n",
              "      <td>26.760000</td>\n",
              "      <td>318.590851</td>\n",
              "      <td>1314.500000</td>\n",
              "    </tr>\n",
              "    <tr>\n",
              "      <th>...</th>\n",
              "      <td>...</td>\n",
              "      <td>...</td>\n",
              "      <td>...</td>\n",
              "      <td>...</td>\n",
              "      <td>...</td>\n",
              "      <td>...</td>\n",
              "      <td>...</td>\n",
              "      <td>...</td>\n",
              "      <td>...</td>\n",
              "      <td>...</td>\n",
              "    </tr>\n",
              "    <tr>\n",
              "      <th>2154</th>\n",
              "      <td>2020-08-05</td>\n",
              "      <td>440.250000</td>\n",
              "      <td>174.279999</td>\n",
              "      <td>29.850000</td>\n",
              "      <td>16.719999</td>\n",
              "      <td>3205.030029</td>\n",
              "      <td>125.449997</td>\n",
              "      <td>1485.020020</td>\n",
              "      <td>1473.609985</td>\n",
              "      <td>3327.770020</td>\n",
              "    </tr>\n",
              "    <tr>\n",
              "      <th>2155</th>\n",
              "      <td>2020-08-06</td>\n",
              "      <td>455.609985</td>\n",
              "      <td>172.199997</td>\n",
              "      <td>29.840000</td>\n",
              "      <td>18.459999</td>\n",
              "      <td>3225.000000</td>\n",
              "      <td>126.120003</td>\n",
              "      <td>1489.579956</td>\n",
              "      <td>1500.099976</td>\n",
              "      <td>3349.159912</td>\n",
              "    </tr>\n",
              "    <tr>\n",
              "      <th>2156</th>\n",
              "      <td>2020-08-07</td>\n",
              "      <td>444.450012</td>\n",
              "      <td>170.020004</td>\n",
              "      <td>30.020000</td>\n",
              "      <td>19.030001</td>\n",
              "      <td>3167.459961</td>\n",
              "      <td>124.959999</td>\n",
              "      <td>1452.709961</td>\n",
              "      <td>1494.489990</td>\n",
              "      <td>3351.280029</td>\n",
              "    </tr>\n",
              "    <tr>\n",
              "      <th>2157</th>\n",
              "      <td>2020-08-10</td>\n",
              "      <td>450.910004</td>\n",
              "      <td>179.410004</td>\n",
              "      <td>30.200001</td>\n",
              "      <td>21.650000</td>\n",
              "      <td>3148.159912</td>\n",
              "      <td>127.110001</td>\n",
              "      <td>1418.569946</td>\n",
              "      <td>1496.099976</td>\n",
              "      <td>3360.469971</td>\n",
              "    </tr>\n",
              "    <tr>\n",
              "      <th>2158</th>\n",
              "      <td>2020-08-11</td>\n",
              "      <td>437.500000</td>\n",
              "      <td>180.130005</td>\n",
              "      <td>30.200001</td>\n",
              "      <td>21.500000</td>\n",
              "      <td>3080.669922</td>\n",
              "      <td>126.750000</td>\n",
              "      <td>1374.390015</td>\n",
              "      <td>1480.319946</td>\n",
              "      <td>3333.689941</td>\n",
              "    </tr>\n",
              "  </tbody>\n",
              "</table>\n",
              "<p>2159 rows × 10 columns</p>\n",
              "</div>"
            ],
            "text/plain": [
              "            Date        AAPL          BA  ...         TSLA         GOOG        sp500\n",
              "0     2012-01-12   60.198570   75.510002  ...    28.250000   313.644379  1295.500000\n",
              "1     2012-01-13   59.972858   74.599998  ...    22.790001   311.328064  1289.089966\n",
              "2     2012-01-17   60.671429   75.239998  ...    26.600000   313.116364  1293.670044\n",
              "3     2012-01-18   61.301430   75.059998  ...    26.809999   315.273285  1308.040039\n",
              "4     2012-01-19   61.107143   75.559998  ...    26.760000   318.590851  1314.500000\n",
              "...          ...         ...         ...  ...          ...          ...          ...\n",
              "2154  2020-08-05  440.250000  174.279999  ...  1485.020020  1473.609985  3327.770020\n",
              "2155  2020-08-06  455.609985  172.199997  ...  1489.579956  1500.099976  3349.159912\n",
              "2156  2020-08-07  444.450012  170.020004  ...  1452.709961  1494.489990  3351.280029\n",
              "2157  2020-08-10  450.910004  179.410004  ...  1418.569946  1496.099976  3360.469971\n",
              "2158  2020-08-11  437.500000  180.130005  ...  1374.390015  1480.319946  3333.689941\n",
              "\n",
              "[2159 rows x 10 columns]"
            ]
          },
          "metadata": {
            "tags": []
          },
          "execution_count": 5
        }
      ]
    },
    {
      "cell_type": "markdown",
      "metadata": {
        "id": "Y3RoHYBBcR-x"
      },
      "source": [
        "**MINI CHALLENGE #1:** \n",
        "- **Use Plotly express to visualize raw stock data and normalized ones** "
      ]
    },
    {
      "cell_type": "code",
      "metadata": {
        "id": "wbF3MU65cTXg"
      },
      "source": [
        ""
      ],
      "execution_count": null,
      "outputs": []
    },
    {
      "cell_type": "code",
      "metadata": {
        "id": "huDamT6YEit8"
      },
      "source": [
        ""
      ],
      "execution_count": null,
      "outputs": []
    },
    {
      "cell_type": "code",
      "metadata": {
        "id": "hYF0JHUeEisT"
      },
      "source": [
        ""
      ],
      "execution_count": null,
      "outputs": []
    },
    {
      "cell_type": "code",
      "metadata": {
        "id": "14x8-kTVEip7"
      },
      "source": [
        ""
      ],
      "execution_count": null,
      "outputs": []
    },
    {
      "cell_type": "markdown",
      "metadata": {
        "id": "i3iec4kDdqFh"
      },
      "source": [
        "# TASK #3: UNERSTAND THE CONCEPT OF ASSET ALLOCATION"
      ]
    },
    {
      "cell_type": "markdown",
      "metadata": {
        "id": "I-JZLZnfYWtf"
      },
      "source": [
        "![alt text](https://drive.google.com/uc?id=17SLLaxLeP6vlXH6MltEQMFNbt5u-J6iK)"
      ]
    },
    {
      "cell_type": "markdown",
      "metadata": {
        "id": "W_EpPAcSYWqD"
      },
      "source": [
        "![alt text](https://drive.google.com/uc?id=1qLML-ejBIKR8Bv8aeItfNaJuhq5GzvJ5)"
      ]
    },
    {
      "cell_type": "markdown",
      "metadata": {
        "id": "Uc05TkRjYWnQ"
      },
      "source": [
        "![alt text](https://drive.google.com/uc?id=1iR3WYvU9SYVRqhKwR91x0AsE5sGQtFhz)"
      ]
    },
    {
      "cell_type": "markdown",
      "metadata": {
        "id": "-nvTQjfrfapS"
      },
      "source": [
        "**MINI CHALLENGE #2:**\n",
        "- **What is the common advice that financial advisors generally give to retired seniors when it comes to asset allocations?**"
      ]
    },
    {
      "cell_type": "code",
      "metadata": {
        "id": "pNFI_hnshyVv"
      },
      "source": [
        ""
      ],
      "execution_count": null,
      "outputs": []
    },
    {
      "cell_type": "markdown",
      "metadata": {
        "id": "NYaUBZZTcnkP"
      },
      "source": [
        "# TASK #4: PERFORM RANDOM ASSET ALLOCATION AND CALCULATE PORTFOLIO DAILY RETURN"
      ]
    },
    {
      "cell_type": "code",
      "metadata": {
        "id": "oCeDaFXwPd9y"
      },
      "source": [
        ""
      ],
      "execution_count": null,
      "outputs": []
    },
    {
      "cell_type": "code",
      "metadata": {
        "id": "YcAl_cZ8fTwG"
      },
      "source": [
        "\n"
      ],
      "execution_count": null,
      "outputs": []
    },
    {
      "cell_type": "code",
      "metadata": {
        "id": "F2LHZ6wMCkf6"
      },
      "source": [
        "# Normalize the stock avalues \n"
      ],
      "execution_count": null,
      "outputs": []
    },
    {
      "cell_type": "code",
      "metadata": {
        "id": "i0-eJzYJREHn"
      },
      "source": [
        ""
      ],
      "execution_count": null,
      "outputs": []
    },
    {
      "cell_type": "code",
      "metadata": {
        "id": "5UouSEtdDY_3"
      },
      "source": [
        ""
      ],
      "execution_count": null,
      "outputs": []
    },
    {
      "cell_type": "code",
      "metadata": {
        "id": "m9aZjynJDDYA"
      },
      "source": [
        "# Note that enumerate returns the value and a counter as well\n",
        "\n"
      ],
      "execution_count": null,
      "outputs": []
    },
    {
      "cell_type": "code",
      "metadata": {
        "id": "Ly7b_-PAEccl"
      },
      "source": [
        "# Let's create an additional column that contains the sum of all $ values in the portfolio\n"
      ],
      "execution_count": null,
      "outputs": []
    },
    {
      "cell_type": "code",
      "metadata": {
        "id": "ESTlNEIqFFyb"
      },
      "source": [
        "# Let's calculate the portfolio daily return \n",
        "# Define a new column in the dataframe and set it to zeros\n",
        "\n",
        "\n"
      ],
      "execution_count": null,
      "outputs": []
    },
    {
      "cell_type": "markdown",
      "metadata": {
        "id": "fRVJOiB7c9ey"
      },
      "source": [
        "**MINI CHALLENGE #3:** \n",
        "- **Try at least 3 another random weights allocation and rerun the code.** \n",
        "- **Compare the final portfolio value on Aug 11th, 2020 to its initial value ($1M) on January 12th, 2012. Do you notice a big difference? Comment on your answer.**"
      ]
    },
    {
      "cell_type": "code",
      "metadata": {
        "id": "DRlf2k49iBlF"
      },
      "source": [
        ""
      ],
      "execution_count": null,
      "outputs": []
    },
    {
      "cell_type": "markdown",
      "metadata": {
        "id": "5FYcMzJcGWo-"
      },
      "source": [
        "# TASK #5: PORTFOLIO ALLOCATION - DAILY RETURN/WORTH CALCULATION (FUNCTION)"
      ]
    },
    {
      "cell_type": "code",
      "metadata": {
        "id": "1UtoXcsdW4H_"
      },
      "source": [
        "# Lets assume we have $1,000,000 to be invested and we will allocate this fund based on the weights of the stocks\n",
        "# We will create a function that takes in the stock prices along with the weights and return:\n",
        "# (1) Daily value of each individual securuty in $ over the specified time period\n",
        "# (2) Overall daily worth of the entire portfolio \n",
        "# (3) Daily return \n",
        "\n",
        "\n",
        "\n",
        "\n",
        "\n"
      ],
      "execution_count": null,
      "outputs": []
    },
    {
      "cell_type": "markdown",
      "metadata": {
        "id": "V9Ouphi3iIyG"
      },
      "source": [
        "**MINI CHALLENGE #4:**\n",
        "- **Call the function and ensure that the results make sense**"
      ]
    },
    {
      "cell_type": "code",
      "metadata": {
        "id": "XGpuUb1-iiJ_"
      },
      "source": [
        ""
      ],
      "execution_count": null,
      "outputs": []
    },
    {
      "cell_type": "markdown",
      "metadata": {
        "id": "QaaDNPBKeR3B"
      },
      "source": [
        "# TASK #6: PERFORM PORTFOLIO DATA VISUALIZATION"
      ]
    },
    {
      "cell_type": "code",
      "metadata": {
        "id": "puoioqEbf-1l"
      },
      "source": [
        "# Plot the portfolio daily return\n"
      ],
      "execution_count": null,
      "outputs": []
    },
    {
      "cell_type": "code",
      "metadata": {
        "id": "vPqNoj1Eu8Uf"
      },
      "source": [
        "# Plot all stocks (normalized)\n",
        "\n"
      ],
      "execution_count": null,
      "outputs": []
    },
    {
      "cell_type": "code",
      "metadata": {
        "id": "dvZgEqmrcMSW"
      },
      "source": [
        "# Print out a histogram of daily returns\n"
      ],
      "execution_count": null,
      "outputs": []
    },
    {
      "cell_type": "markdown",
      "metadata": {
        "id": "6Kc7ehObjsMw"
      },
      "source": [
        "**MINI CHALLENGE #5:** \n",
        "- **Plot the portfolio overall daily worth vs. time.**\n",
        "- **Rerun the code with various weights and visualize the final value.** "
      ]
    },
    {
      "cell_type": "code",
      "metadata": {
        "id": "lqj1T2fpkEOH"
      },
      "source": [
        ""
      ],
      "execution_count": null,
      "outputs": []
    },
    {
      "cell_type": "markdown",
      "metadata": {
        "id": "L2ONFl4_PCR2"
      },
      "source": [
        "# TASK #7: UNDERSTAND PORTFOLIO STATISTICAL METRICS (CUMMULATIVE RETURN, AVERAGE DAILY RETURN, AND SHARPE RATIO)"
      ]
    },
    {
      "cell_type": "markdown",
      "metadata": {
        "id": "vkWIchSSZZ2j"
      },
      "source": [
        "![alt text](https://drive.google.com/uc?id=1W_MNP2Qldn3ulrvXivOnjQg3NTf3hNCo)"
      ]
    },
    {
      "cell_type": "markdown",
      "metadata": {
        "id": "O9qTQWZWZZ_n"
      },
      "source": [
        "![alt text](https://drive.google.com/uc?id=12e4Zgxv1FNviJYML88G6cTnlte0bts-4)"
      ]
    },
    {
      "cell_type": "markdown",
      "metadata": {
        "id": "-wyQltQIYWkm"
      },
      "source": [
        "![alt text](https://drive.google.com/uc?id=1QQLWpIJ8uXopJrV40YFKb5H-SxnmsRaj)"
      ]
    },
    {
      "cell_type": "markdown",
      "metadata": {
        "id": "-e-K4SPXkPju"
      },
      "source": [
        "# TASK #8: CALCULATE PORTFOLIO STATISTICAL METRICS (CUMMULATIVE RETURN, AVERAGE DAILY RETURN, AND SHARPE RATIO)"
      ]
    },
    {
      "cell_type": "code",
      "metadata": {
        "id": "441cVMptPzZr"
      },
      "source": [
        ""
      ],
      "execution_count": null,
      "outputs": []
    },
    {
      "cell_type": "code",
      "metadata": {
        "id": "Vd6MiyWm6kXm"
      },
      "source": [
        ""
      ],
      "execution_count": null,
      "outputs": []
    },
    {
      "cell_type": "code",
      "metadata": {
        "id": "YqPKVo7qP35r"
      },
      "source": [
        "# Cummulative return of the portfolio (Note that we now look for the last net worth of the portfolio compared to it's start value)\n"
      ],
      "execution_count": null,
      "outputs": []
    },
    {
      "cell_type": "code",
      "metadata": {
        "id": "OQ5XsTjTZgR3"
      },
      "source": [
        "# Calculate the portfolio standard deviation\n"
      ],
      "execution_count": null,
      "outputs": []
    },
    {
      "cell_type": "code",
      "metadata": {
        "id": "O4z2t-BSZjyl"
      },
      "source": [
        "# Calculate the average daily return \n"
      ],
      "execution_count": null,
      "outputs": []
    },
    {
      "cell_type": "code",
      "metadata": {
        "id": "BdOQ0kc5ixdY"
      },
      "source": [
        "# Portfolio sharpe ratio\n"
      ],
      "execution_count": null,
      "outputs": []
    },
    {
      "cell_type": "markdown",
      "metadata": {
        "id": "Z-or4p7_kcGF"
      },
      "source": [
        "**MINI CHALLENGE #6:** \n",
        "- **Try at least 3 different random weights allocation, rerun the code and compare sharpe ratios, daily return and cummulative returns.**"
      ]
    },
    {
      "cell_type": "code",
      "metadata": {
        "id": "VMI7vjo5kX0V"
      },
      "source": [
        ""
      ],
      "execution_count": null,
      "outputs": []
    },
    {
      "cell_type": "markdown",
      "metadata": {
        "id": "YTqxFEP7xEJl"
      },
      "source": [
        "# **WELL DONE!**"
      ]
    },
    {
      "cell_type": "markdown",
      "metadata": {
        "id": "Y2UYMbaecCcW"
      },
      "source": [
        "# **MINI CHALLENGE SOLUTIONS**"
      ]
    },
    {
      "cell_type": "markdown",
      "metadata": {
        "id": "mj4oaI5va0lF"
      },
      "source": [
        "**MINI CHALLENGE #1 SOLUTION:** \n",
        "- **Use Plotly express to visualize raw stock data and normalized ones** "
      ]
    },
    {
      "cell_type": "code",
      "metadata": {
        "id": "329hiIB9SUN_"
      },
      "source": [
        "# Function to normalize the prices based on the initial price\n",
        "def normalize(df):\n",
        "  x = df.copy()\n",
        "  for i in x.columns[1:]:\n",
        "    x[i] = x[i]/x[i][0]\n",
        "  return x"
      ],
      "execution_count": null,
      "outputs": []
    },
    {
      "cell_type": "code",
      "metadata": {
        "id": "0GDAgQaySUQb"
      },
      "source": [
        "# Function to plot interactive plot\n",
        "def interactive_plot(df, title):\n",
        "  fig = px.line(title = title)\n",
        "  for i in df.columns[1:]:\n",
        "    fig.add_scatter(x = df['Date'], y = df[i], name = i)\n",
        "  fig.show()"
      ],
      "execution_count": null,
      "outputs": []
    },
    {
      "cell_type": "code",
      "metadata": {
        "id": "6RxpH51ISUTS"
      },
      "source": [
        "# Plot interactive chart\n",
        "interactive_plot(stocks_df, 'Prices')"
      ],
      "execution_count": null,
      "outputs": []
    },
    {
      "cell_type": "code",
      "metadata": {
        "id": "GRc-WGmyTX85"
      },
      "source": [
        "# Plot normalized interactive chart\n",
        "interactive_plot(normalize(stocks_df), 'Normalized Prices')"
      ],
      "execution_count": null,
      "outputs": []
    },
    {
      "cell_type": "markdown",
      "metadata": {
        "id": "OOPqPtcrhpjY"
      },
      "source": [
        "**MINI CHALLENGE #2 SOLUTION:**\n",
        "- **What is the common advice that financial advisors generally recommend to retired seniors when it comes to asset allocations?**"
      ]
    },
    {
      "cell_type": "code",
      "metadata": {
        "id": "PcMYTf_0fwJh"
      },
      "source": [
        "# The conventional wisdom is to subtract client's age from 100 to calculate the % of portolio that should be allocated to stocks\n",
        "# For Example: If you're 30 years old, you should have 70% allocated to stocks\n",
        "# If you are 75 years old, you should invest 25% in stocks (old retired seniors generally recommend a more stable low risk portfolio). "
      ],
      "execution_count": null,
      "outputs": []
    },
    {
      "cell_type": "markdown",
      "metadata": {
        "id": "ZK9UrsUBfMKi"
      },
      "source": [
        "**MINI CHALLENGE #3 SOLUTION:** \n",
        "- **Try at least 3 another random weights allocation and rerun the code.** \n",
        "- **Compare the final portfolio value on Aug 11th, 2020 to its initial value ($1M) on January 12th, 2012. Do you notice a big difference? Comment on your answer.**"
      ]
    },
    {
      "cell_type": "code",
      "metadata": {
        "id": "mUKMgi7CdlGh"
      },
      "source": [
        "# remove the seed value of 101, run the code 3 times, and record the final portolio value on the last day (Aug 11th, 2020)\n",
        "np.random.seed()\n",
        "\n",
        "# Portfolio Value Run #1 = $6.383645e+06, weights = [0.01246531 0.23749173 0.18257962 0.03419922 0.08369018 0.23405306\n",
        " 0.07120053 0.00824087 0.13607948]\n",
        "\n",
        "# Portfolio Value Run #2 = $9.594104e+06, Weights = [0.13932903 0.04729773 0.15580758 0.03232255 0.0629491  0.15081605\n",
        " 0.12206726 0.16938746 0.12002324]\n",
        "\n",
        "# Portfolio Value Run #3 = 1.138105e+07, Weights = [0.17707261 0.06977804 0.02394314 0.1550952  0.11152213 0.12017452\n",
        " 0.14296447 0.05729485 0.14215505]"
      ],
      "execution_count": null,
      "outputs": []
    },
    {
      "cell_type": "markdown",
      "metadata": {
        "id": "tFlpXzk7ibOZ"
      },
      "source": [
        "**MINI CHALLENGE #4 SOLUTION:**\n",
        "- **Call the function and ensure that the results make sense**"
      ]
    },
    {
      "cell_type": "code",
      "metadata": {
        "id": "b-Ck69O2oX17"
      },
      "source": [
        "# Call the function\n",
        "df_portfolio = portfolio_allocation(stocks_df, weights)\n",
        "df_portfolio"
      ],
      "execution_count": null,
      "outputs": []
    },
    {
      "cell_type": "markdown",
      "metadata": {
        "id": "QDFMwr5GjKwX"
      },
      "source": [
        "**MINI CHALLENGE #5 SOLUTION:** \n",
        "- **Plot the portfolio overall daily worth vs. time.**\n",
        "- **Rerun the code with various weights and visualize the final value.** "
      ]
    },
    {
      "cell_type": "code",
      "metadata": {
        "id": "6O2v5bQEhPJ9"
      },
      "source": [
        "fig = px.line(x = df_portfolio.Date, y = df_portfolio['portfolio daily worth in $'], title= 'Portfolio Overall Value in $')\n",
        "fig.show()"
      ],
      "execution_count": null,
      "outputs": []
    },
    {
      "cell_type": "markdown",
      "metadata": {
        "id": "8hqlM9IOksYx"
      },
      "source": [
        "**MINI CHALLENGE #6 SOLUTION:** \n",
        "- **Try at least 3 different random weights allocation, rerun the code and compare sharpe ratios, daily return and cummulative returns.**"
      ]
    },
    {
      "cell_type": "code",
      "metadata": {
        "id": "UjdtFqnZktyD"
      },
      "source": [
        "# Rerun the code with 3 random values and compare metrics"
      ],
      "execution_count": null,
      "outputs": []
    },
    {
      "cell_type": "code",
      "metadata": {
        "id": "VQLCjQhnk1b_"
      },
      "source": [
        ""
      ],
      "execution_count": null,
      "outputs": []
    }
  ]
}
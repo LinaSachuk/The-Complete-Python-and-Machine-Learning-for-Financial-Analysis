{
  "nbformat": 4,
  "nbformat_minor": 0,
  "metadata": {
    "colab": {
      "name": "8. Python 101 - Python Libraries for Data Analysis - Pandas.ipynb",
      "provenance": [],
      "collapsed_sections": [],
      "include_colab_link": true
    },
    "kernelspec": {
      "name": "python3",
      "display_name": "Python 3"
    }
  },
  "cells": [
    {
      "cell_type": "markdown",
      "metadata": {
        "id": "view-in-github",
        "colab_type": "text"
      },
      "source": [
        "<a href=\"https://colab.research.google.com/github/LinaSachuk/The-Complete-Python-and-Machine-Learning-for-Financial-Analysis/blob/master/8_Python_101_Python_Libraries_for_Data_Analysis_Pandas.ipynb\" target=\"_parent\"><img src=\"https://colab.research.google.com/assets/colab-badge.svg\" alt=\"Open In Colab\"/></a>"
      ]
    },
    {
      "cell_type": "markdown",
      "metadata": {
        "id": "1ivPDcc7p8lD"
      },
      "source": [
        "# 1. PANDAS BASICS"
      ]
    },
    {
      "cell_type": "code",
      "metadata": {
        "id": "4YdCraz8p_XF"
      },
      "source": [
        "# Pandas is a data manipulation and analysis tool that is built on Numpy.\n",
        "# Pandas uses a data structure known as DataFrame (think of it as Microsoft excel in Python). \n",
        "# DataFrames empower programmers to store and manipulate data in a tabular fashion (rows and columns).\n",
        "# Series Vs. DataFrame? Series is considered a single column of a DataFrame."
      ],
      "execution_count": null,
      "outputs": []
    },
    {
      "cell_type": "code",
      "metadata": {
        "id": "6H2808pkqKIR"
      },
      "source": [
        "import pandas as pd"
      ],
      "execution_count": 1,
      "outputs": []
    },
    {
      "cell_type": "code",
      "metadata": {
        "id": "jHc9-dmUqX48"
      },
      "source": [
        "# Let's define two lists as shown below:\n",
        "\n"
      ],
      "execution_count": null,
      "outputs": []
    },
    {
      "cell_type": "code",
      "metadata": {
        "id": "MU5GA6-EsjJt"
      },
      "source": [
        ""
      ],
      "execution_count": null,
      "outputs": []
    },
    {
      "cell_type": "code",
      "metadata": {
        "id": "flWWE-6YqX7Z"
      },
      "source": [
        ""
      ],
      "execution_count": null,
      "outputs": []
    },
    {
      "cell_type": "code",
      "metadata": {
        "id": "0mf-BKxQsmKO"
      },
      "source": [
        ""
      ],
      "execution_count": null,
      "outputs": []
    },
    {
      "cell_type": "code",
      "metadata": {
        "id": "U4Fq06XwqX9v"
      },
      "source": [
        "# Let's create a one dimensional Pandas \"series\" \n",
        "# Note that series is formed of data and associated labels \n"
      ],
      "execution_count": null,
      "outputs": []
    },
    {
      "cell_type": "code",
      "metadata": {
        "id": "YhPzprisqX_8"
      },
      "source": [
        "# Let's view the series\n"
      ],
      "execution_count": null,
      "outputs": []
    },
    {
      "cell_type": "code",
      "metadata": {
        "id": "4LPwMO8fsvi1"
      },
      "source": [
        "# Let's obtain the datatype\n"
      ],
      "execution_count": null,
      "outputs": []
    },
    {
      "cell_type": "code",
      "metadata": {
        "id": "YnV7pFX0q3_C"
      },
      "source": [
        "# Let's define a two-dimensional Pandas DataFrame\n",
        "# Note that you can create a pandas dataframe from a python dictionary\n"
      ],
      "execution_count": null,
      "outputs": []
    },
    {
      "cell_type": "code",
      "metadata": {
        "id": "9LXSKDSTq4Fb"
      },
      "source": [
        "# Let's obtain the data type \n"
      ],
      "execution_count": null,
      "outputs": []
    },
    {
      "cell_type": "code",
      "metadata": {
        "id": "h93nb1trtwhu"
      },
      "source": [
        "# you can only view the first couple of rows using .head()\n"
      ],
      "execution_count": null,
      "outputs": []
    },
    {
      "cell_type": "code",
      "metadata": {
        "id": "7kkAAG0Ft2Q1"
      },
      "source": [
        "# you can only view the last couple of rows using .tail()\n"
      ],
      "execution_count": null,
      "outputs": []
    },
    {
      "cell_type": "markdown",
      "metadata": {
        "id": "Ro-OAYbsy_EA"
      },
      "source": [
        "**MINI CHALLENGE #1:**\n",
        "- **A porfolio contains a collection of securities such as stocks, bonds and ETFs. Define a dataframe named 'portfolio_df' that holds 3 different stock ticker symbols, number of shares, and price per share (feel free to choose any stocks)**\n",
        "- **Calculate the total value of the porfolio including all stocks**"
      ]
    },
    {
      "cell_type": "code",
      "metadata": {
        "id": "zgAFS4N-1cDg"
      },
      "source": [
        ""
      ],
      "execution_count": null,
      "outputs": []
    },
    {
      "cell_type": "code",
      "metadata": {
        "id": "idvE_4vAH1lq"
      },
      "source": [
        ""
      ],
      "execution_count": null,
      "outputs": []
    },
    {
      "cell_type": "markdown",
      "metadata": {
        "id": "d06IyHT9uffC"
      },
      "source": [
        "# 2. PANDAS WITH CSV AND HTML DATA"
      ]
    },
    {
      "cell_type": "code",
      "metadata": {
        "id": "6C6tjxUCwV8B"
      },
      "source": [
        "# In order to access data on Google Drive, you need to mount the drive to access it's content\n"
      ],
      "execution_count": null,
      "outputs": []
    },
    {
      "cell_type": "code",
      "metadata": {
        "id": "lHB4RP5luJwF"
      },
      "source": [
        "# Pandas is used to read a csv file and store data in a DataFrame\n"
      ],
      "execution_count": null,
      "outputs": []
    },
    {
      "cell_type": "code",
      "metadata": {
        "id": "OqdhTgIfuoTy"
      },
      "source": [
        ""
      ],
      "execution_count": null,
      "outputs": []
    },
    {
      "cell_type": "code",
      "metadata": {
        "id": "lhwAwJ7BuoXn"
      },
      "source": [
        "# write to a csv file without an index\n"
      ],
      "execution_count": null,
      "outputs": []
    },
    {
      "cell_type": "code",
      "metadata": {
        "id": "Xbhgb5EYxR3o"
      },
      "source": [
        "# write to a csv file with an index\n"
      ],
      "execution_count": null,
      "outputs": []
    },
    {
      "cell_type": "code",
      "metadata": {
        "id": "tAJRGqF-uobr"
      },
      "source": [
        "# Read tabular data using read_html\n"
      ],
      "execution_count": null,
      "outputs": []
    },
    {
      "cell_type": "code",
      "metadata": {
        "id": "Al8bvyYEuods"
      },
      "source": [
        ""
      ],
      "execution_count": null,
      "outputs": []
    },
    {
      "cell_type": "code",
      "metadata": {
        "id": "K-abffkEuoZs"
      },
      "source": [
        ""
      ],
      "execution_count": null,
      "outputs": []
    },
    {
      "cell_type": "markdown",
      "metadata": {
        "id": "jRtr2lpr2NHr"
      },
      "source": [
        "**MINI CHALLENGE #2:**\n",
        "- **Write a code that uses Pandas to read tabular US retirement data**\n",
        "- **You can use data from here: https://www.ssa.gov/oact/progdata/nra.html** "
      ]
    },
    {
      "cell_type": "code",
      "metadata": {
        "id": "qF-eEa5h27rh"
      },
      "source": [
        ""
      ],
      "execution_count": null,
      "outputs": []
    },
    {
      "cell_type": "markdown",
      "metadata": {
        "id": "usUtfW0WuuBb"
      },
      "source": [
        "# 3. PANDAS OPERATIONS"
      ]
    },
    {
      "cell_type": "code",
      "metadata": {
        "id": "wI7pvcR01NbV"
      },
      "source": [
        "# Let's define a dataframe as follows:\n"
      ],
      "execution_count": null,
      "outputs": []
    },
    {
      "cell_type": "code",
      "metadata": {
        "id": "kw_260rpuxzc"
      },
      "source": [
        "# Pick certain rows that satisfy a certain criteria \n"
      ],
      "execution_count": null,
      "outputs": []
    },
    {
      "cell_type": "code",
      "metadata": {
        "id": "uudZyadKux12"
      },
      "source": [
        "# Delete a column from a DataFrame\n"
      ],
      "execution_count": null,
      "outputs": []
    },
    {
      "cell_type": "markdown",
      "metadata": {
        "id": "M5_PHunK2_UZ"
      },
      "source": [
        "**MINI CHALLENGE #3:**\n",
        "- **Using \"bank_client_df\" DataFrame, leverage pandas operations to only select high networth individuals with minimum $5000** \n",
        "- **What is the combined networth for all customers with 5000+ networth?**"
      ]
    },
    {
      "cell_type": "code",
      "metadata": {
        "id": "wLyH7CnC4Vjj"
      },
      "source": [
        ""
      ],
      "execution_count": null,
      "outputs": []
    },
    {
      "cell_type": "code",
      "metadata": {
        "id": "rr_nhgq-VGfC"
      },
      "source": [
        ""
      ],
      "execution_count": null,
      "outputs": []
    },
    {
      "cell_type": "markdown",
      "metadata": {
        "id": "3-5RHcLDu1wL"
      },
      "source": [
        "# 4. PANDAS WITH FUNCTIONS"
      ]
    },
    {
      "cell_type": "code",
      "metadata": {
        "id": "w6Vs9IxC14kV"
      },
      "source": [
        "# Let's define a dataframe as follows:\n"
      ],
      "execution_count": null,
      "outputs": []
    },
    {
      "cell_type": "code",
      "metadata": {
        "id": "X8HedZiGux37"
      },
      "source": [
        "# Define a function that increases all clients networth (stocks) by a fixed value of 10% (for simplicity sake) \n"
      ],
      "execution_count": null,
      "outputs": []
    },
    {
      "cell_type": "code",
      "metadata": {
        "id": "H15eem3Qu67H"
      },
      "source": [
        "# You can apply a function to the DataFrame \n"
      ],
      "execution_count": null,
      "outputs": []
    },
    {
      "cell_type": "code",
      "metadata": {
        "id": "WsObpnkou69Q"
      },
      "source": [
        ""
      ],
      "execution_count": null,
      "outputs": []
    },
    {
      "cell_type": "code",
      "metadata": {
        "id": "E52xRMulu6_I"
      },
      "source": [
        ""
      ],
      "execution_count": null,
      "outputs": []
    },
    {
      "cell_type": "markdown",
      "metadata": {
        "id": "VaXV-VYg4xG0"
      },
      "source": [
        "**MINI CHALLENGE #4:**\n",
        "- **Define a function that doubles stock prices and adds $100**\n",
        "- **Apply the function to the DataFrame**\n",
        "- **Calculate the updated total networth of all clients combined**"
      ]
    },
    {
      "cell_type": "code",
      "metadata": {
        "id": "xqWCYc0n6V-d"
      },
      "source": [
        ""
      ],
      "execution_count": null,
      "outputs": []
    },
    {
      "cell_type": "code",
      "metadata": {
        "id": "dW5exU8voFud"
      },
      "source": [
        ""
      ],
      "execution_count": null,
      "outputs": []
    },
    {
      "cell_type": "code",
      "metadata": {
        "id": "F0ctpy1eoFsd"
      },
      "source": [
        ""
      ],
      "execution_count": null,
      "outputs": []
    },
    {
      "cell_type": "code",
      "metadata": {
        "id": "CEBxdOd9oFqA"
      },
      "source": [
        ""
      ],
      "execution_count": null,
      "outputs": []
    },
    {
      "cell_type": "markdown",
      "metadata": {
        "id": "LKDuJ94RvB85"
      },
      "source": [
        "# 5. SORTING AND ORDERING"
      ]
    },
    {
      "cell_type": "code",
      "metadata": {
        "id": "f-aRTmn9u7DA"
      },
      "source": [
        "# Let's define a dataframe as follows:\n"
      ],
      "execution_count": null,
      "outputs": []
    },
    {
      "cell_type": "code",
      "metadata": {
        "id": "DaglhPNevFYC"
      },
      "source": [
        "# You can sort the values in the dataframe according to number of years with bank\n"
      ],
      "execution_count": null,
      "outputs": []
    },
    {
      "cell_type": "code",
      "metadata": {
        "id": "AjzLtDlevFaW"
      },
      "source": [
        "# Note that nothing changed in memory! you have to make sure that inplace is set to True\n"
      ],
      "execution_count": null,
      "outputs": []
    },
    {
      "cell_type": "code",
      "metadata": {
        "id": "Pgt25eXmvFce"
      },
      "source": [
        "# Set inplace = True to ensure that change has taken place in memory \n"
      ],
      "execution_count": null,
      "outputs": []
    },
    {
      "cell_type": "code",
      "metadata": {
        "id": "jEw2Gw_hu7Fo"
      },
      "source": [
        "# Note that now the change (ordering) took place \n"
      ],
      "execution_count": null,
      "outputs": []
    },
    {
      "cell_type": "markdown",
      "metadata": {
        "id": "7bV_Yaq46ZTg"
      },
      "source": [
        "**MINI CHALLENGE #5:**\n",
        "- **Sort customers by networth instead of years with bank. Make sure to update values in-memory.**"
      ]
    },
    {
      "cell_type": "code",
      "metadata": {
        "id": "BYCD1yGi6q2M"
      },
      "source": [
        ""
      ],
      "execution_count": null,
      "outputs": []
    },
    {
      "cell_type": "markdown",
      "metadata": {
        "id": "XAix4DVfvKGe"
      },
      "source": [
        "# 6. CONCATENATING AND MERGING WITH PANDAS"
      ]
    },
    {
      "cell_type": "markdown",
      "metadata": {
        "id": "eMBioTTMvWXI"
      },
      "source": [
        "Check this out: https://pandas.pydata.org/pandas-docs/stable/user_guide/merging.html"
      ]
    },
    {
      "cell_type": "code",
      "metadata": {
        "id": "b1zfk3Euu7Bx"
      },
      "source": [
        ""
      ],
      "execution_count": null,
      "outputs": []
    },
    {
      "cell_type": "code",
      "metadata": {
        "id": "MfimJ_PPvQIA"
      },
      "source": [
        ""
      ],
      "execution_count": null,
      "outputs": []
    },
    {
      "cell_type": "code",
      "metadata": {
        "id": "dKyIG2MjvQKN"
      },
      "source": [
        ""
      ],
      "execution_count": null,
      "outputs": []
    },
    {
      "cell_type": "code",
      "metadata": {
        "id": "wNuUFBsqvQMU"
      },
      "source": [
        ""
      ],
      "execution_count": null,
      "outputs": []
    },
    {
      "cell_type": "code",
      "metadata": {
        "id": "BTmgXXvzvcKq"
      },
      "source": [
        ""
      ],
      "execution_count": null,
      "outputs": []
    },
    {
      "cell_type": "code",
      "metadata": {
        "id": "wI10aNahvcM1"
      },
      "source": [
        ""
      ],
      "execution_count": null,
      "outputs": []
    },
    {
      "cell_type": "code",
      "metadata": {
        "id": "ljXyrXSjvcPG"
      },
      "source": [
        ""
      ],
      "execution_count": null,
      "outputs": []
    },
    {
      "cell_type": "code",
      "metadata": {
        "id": "4_KBD8YGvcRV"
      },
      "source": [
        "# Creating a dataframe from a dictionary\n",
        "# Let's define a dataframe with a list of bank clients with IDs = 1, 2, 3, 4, 5 \n",
        "\n"
      ],
      "execution_count": null,
      "outputs": []
    },
    {
      "cell_type": "code",
      "metadata": {
        "id": "bVVjCOCAwubr"
      },
      "source": [
        ""
      ],
      "execution_count": null,
      "outputs": []
    },
    {
      "cell_type": "code",
      "metadata": {
        "id": "wq_TBWkvvgNE"
      },
      "source": [
        "# Let's define another dataframe for a separate list of clients (IDs = 6, 7, 8, 9, 10)\n"
      ],
      "execution_count": null,
      "outputs": []
    },
    {
      "cell_type": "code",
      "metadata": {
        "id": "zRgyJPjivgPZ"
      },
      "source": [
        "# Let's assume we obtained additional information (Annual Salary) about our bank customers \n",
        "# Note that data obtained is for all clients with IDs 1 to 10\n",
        " "
      ],
      "execution_count": null,
      "outputs": []
    },
    {
      "cell_type": "code",
      "metadata": {
        "id": "i2X65wc0vidf"
      },
      "source": [
        "# Let's concatenate both dataframes #1 and #2\n",
        "# Note that we now have client IDs from 1 to 10\n"
      ],
      "execution_count": null,
      "outputs": []
    },
    {
      "cell_type": "code",
      "metadata": {
        "id": "9bgjH8mkvQOY"
      },
      "source": [
        "# Let's merge all data on 'Bank Client ID'\n"
      ],
      "execution_count": null,
      "outputs": []
    },
    {
      "cell_type": "code",
      "metadata": {
        "id": "5g5tCggp9gce"
      },
      "source": [
        ""
      ],
      "execution_count": null,
      "outputs": []
    },
    {
      "cell_type": "markdown",
      "metadata": {
        "id": "Wm5PRpCM-2pK"
      },
      "source": [
        "**MINI CHALLENGE #6:**\n",
        "- **Let's assume that you became a new client to the bank**\n",
        "- **Define a new DataFrame that contains your information such as client ID (choose 11), first name, last name, and annual salary.**\n",
        "- **Add this new dataframe to the original dataframe \"bank_df_all\".** "
      ]
    },
    {
      "cell_type": "code",
      "metadata": {
        "id": "WpoFZeCt_g0c"
      },
      "source": [
        ""
      ],
      "execution_count": null,
      "outputs": []
    },
    {
      "cell_type": "code",
      "metadata": {
        "id": "WcmoZpFt0-fW"
      },
      "source": [
        ""
      ],
      "execution_count": null,
      "outputs": []
    },
    {
      "cell_type": "code",
      "metadata": {
        "id": "XQiP3NFy1Jbi"
      },
      "source": [
        ""
      ],
      "execution_count": null,
      "outputs": []
    },
    {
      "cell_type": "markdown",
      "metadata": {
        "id": "i1gJS3K7vlxd"
      },
      "source": [
        "# EXCELLENT JOB!"
      ]
    },
    {
      "cell_type": "markdown",
      "metadata": {
        "id": "MF2SdJZ_vn4z"
      },
      "source": [
        "# MINI CHALLENGE SOLUTIONS"
      ]
    },
    {
      "cell_type": "markdown",
      "metadata": {
        "id": "Y6fUsXPv1Wom"
      },
      "source": [
        "**MINI CHALLENGE #1 SOLUTION:**\n",
        "- **A porfolio contains a collection of securities such as stocks, bonds and ETFs. Define a dataframe named 'portfolio_df' that holds 3 different stock ticker symbols, number of shares, and price per share (feel free to choose any stocks)**\n",
        "- **Calculate the total value of the porfolio including all stocks**"
      ]
    },
    {
      "cell_type": "code",
      "metadata": {
        "id": "8pftwyY81Wos"
      },
      "source": [
        "portfolio_df = pd.DataFrame({'stock ticker symbols':['AAPL', 'AMZN', 'T'],\n",
        "                             'price per share [$]':[3500, 200, 40], \n",
        "                             'Number of stocks':[3, 4, 9]})\n",
        "portfolio_df"
      ],
      "execution_count": null,
      "outputs": []
    },
    {
      "cell_type": "code",
      "metadata": {
        "id": "zTgj_BoE1Woy"
      },
      "source": [
        "stocks_dollar_value = portfolio_df['price per share [$]'] * portfolio_df['Number of stocks']\n",
        "print(stocks_dollar_value)\n",
        "print('Total portfolio value = {}'.format(stocks_dollar_value.sum()))"
      ],
      "execution_count": null,
      "outputs": []
    },
    {
      "cell_type": "markdown",
      "metadata": {
        "id": "5YQ1rFW723fN"
      },
      "source": [
        "**MINI CHALLENGE #2 SOLUTION:**\n",
        "- **Write a code that uses Pandas to read tabular US retirement data**\n",
        "- **You can use data from here: https://www.ssa.gov/oact/progdata/nra.html** "
      ]
    },
    {
      "cell_type": "code",
      "metadata": {
        "id": "mmWTN7yD23fQ"
      },
      "source": [
        "# Read tabular data using read_html\n",
        "retirement_age_df = pd.read_html('https://www.ssa.gov/oact/progdata/nra.html')\n",
        "retirement_age_df"
      ],
      "execution_count": null,
      "outputs": []
    },
    {
      "cell_type": "markdown",
      "metadata": {
        "id": "qN1gAggk4QvE"
      },
      "source": [
        "**MINI CHALLENGE #3 SOLUTION:**\n",
        "- **Using \"bank_client_df\" DataFrame, leverage pandas operations to only select high networth individuals with minimum $5000** \n",
        "- **What is the combined networth for all customers with 5000+ networth?**"
      ]
    },
    {
      "cell_type": "code",
      "metadata": {
        "id": "CSN32b-o4QvG"
      },
      "source": [
        "df_high_networth = bank_client_df[ (bank_client_df['Net worth [$]'] >= 5000) ]\n",
        "df_high_networth"
      ],
      "execution_count": null,
      "outputs": []
    },
    {
      "cell_type": "code",
      "metadata": {
        "id": "8x2FQdmp4QvN"
      },
      "source": [
        "df_high_networth['Net worth [$]'].sum()"
      ],
      "execution_count": null,
      "outputs": []
    },
    {
      "cell_type": "code",
      "metadata": {
        "id": "zubS-MOi6O-y"
      },
      "source": [
        ""
      ],
      "execution_count": null,
      "outputs": []
    },
    {
      "cell_type": "markdown",
      "metadata": {
        "id": "T3xpj-hW6PYi"
      },
      "source": [
        "**MINI CHALLENGE #4 SOLUTION:**\n",
        "- **Define a function that doubles stock prices and adds $100**\n",
        "- **Apply the function to the DataFrame**\n",
        "- **Calculate the updated total networth of all clients combined**"
      ]
    },
    {
      "cell_type": "code",
      "metadata": {
        "id": "S8O56b_W6PYk"
      },
      "source": [
        "def networth_update(balance):\n",
        "    return balance * 2 + 100 # assume that stock prices increased by 10%"
      ],
      "execution_count": null,
      "outputs": []
    },
    {
      "cell_type": "code",
      "metadata": {
        "id": "r2crG2yx6PYt"
      },
      "source": [
        "# You can apply a function to the DataFrame \n",
        "results = bank_client_df['Net worth [$]'].apply(networth_update)\n",
        "results"
      ],
      "execution_count": null,
      "outputs": []
    },
    {
      "cell_type": "code",
      "metadata": {
        "id": "SAzpFD5Y6PY1"
      },
      "source": [
        "results.sum()"
      ],
      "execution_count": null,
      "outputs": []
    },
    {
      "cell_type": "markdown",
      "metadata": {
        "id": "Trx36mNb62JX"
      },
      "source": [
        "**MINI CHALLENGE #5 SOLUTION:**\n",
        "- **Sort customers by networth instead of years with bank. Make sure to update values in-memory.**"
      ]
    },
    {
      "cell_type": "code",
      "metadata": {
        "id": "b4nvA-VQ62Ja"
      },
      "source": [
        "# You can sort the values in the dataframe according to number of years with bank\n",
        "bank_client_df.sort_values(by = 'Net worth [$]', inplace = True) \n",
        "bank_client_df"
      ],
      "execution_count": null,
      "outputs": []
    },
    {
      "cell_type": "markdown",
      "metadata": {
        "id": "i83R6Kvb_cGZ"
      },
      "source": [
        "**MINI CHALLENGE #6 SOLUTION:**\n",
        "- **Let's assume that you became a new client to the bank**\n",
        "- **Define a new DataFrame that contains your information such as client ID (choose 11), first name, last name, and annual salary.**\n",
        "- **Add this new dataframe to the original dataframe \"bank_df_all\".** "
      ]
    },
    {
      "cell_type": "code",
      "metadata": {
        "id": "YmxlF6op_cGc"
      },
      "source": [
        "new_client = {\n",
        "        'Bank Client ID': ['11'],\n",
        "        'First Name': ['Ry'], \n",
        "        'Last Name': ['Aly'],\n",
        "        'Annual Salary [$/year]' : [1000]}\n",
        "new_client_df = pd.DataFrame(new_client, columns = ['Bank Client ID', 'First Name', 'Last Name', 'Annual Salary [$/year]'])\n",
        "new_client_df"
      ],
      "execution_count": null,
      "outputs": []
    },
    {
      "cell_type": "code",
      "metadata": {
        "id": "dhOKOcVR_cGl"
      },
      "source": [
        "new_df = pd.concat([bank_df_all, new_client_df], axis = 0)\n",
        "new_df"
      ],
      "execution_count": null,
      "outputs": []
    }
  ]
}
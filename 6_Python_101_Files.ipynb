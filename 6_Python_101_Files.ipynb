{
  "nbformat": 4,
  "nbformat_minor": 0,
  "metadata": {
    "colab": {
      "name": "6. Python 101 - Files.ipynb",
      "provenance": [],
      "collapsed_sections": [],
      "include_colab_link": true
    },
    "kernelspec": {
      "name": "python3",
      "display_name": "Python 3"
    }
  },
  "cells": [
    {
      "cell_type": "markdown",
      "metadata": {
        "id": "view-in-github",
        "colab_type": "text"
      },
      "source": [
        "<a href=\"https://colab.research.google.com/github/LinaSachuk/The-Complete-Python-and-Machine-Learning-for-Financial-Analysis/blob/master/6_Python_101_Files.ipynb\" target=\"_parent\"><img src=\"https://colab.research.google.com/assets/colab-badge.svg\" alt=\"Open In Colab\"/></a>"
      ]
    },
    {
      "cell_type": "markdown",
      "metadata": {
        "id": "iLfi8gKMoAd6"
      },
      "source": [
        "# 1. TEXT FILES"
      ]
    },
    {
      "cell_type": "code",
      "metadata": {
        "id": "7350Sd6-wjNI",
        "outputId": "0f91bb84-e016-4401-d158-18c9f529ad79",
        "colab": {
          "base_uri": "https://localhost:8080/"
        }
      },
      "source": [
        "from google.colab import drive\n",
        "drive.mount('/content/drive')"
      ],
      "execution_count": 3,
      "outputs": [
        {
          "output_type": "stream",
          "text": [
            "Drive already mounted at /content/drive; to attempt to forcibly remount, call drive.mount(\"/content/drive\", force_remount=True).\n"
          ],
          "name": "stdout"
        }
      ]
    },
    {
      "cell_type": "markdown",
      "metadata": {
        "id": "r2IjrNQmoFxC"
      },
      "source": [
        "- open() is the key function to handle files \n",
        "- open() function takes two parameters: (1) filename (2) mode.\n",
        "- Modes for files opening: \n",
        "\n",
        "    - \"r\" - Read - Default value. Opens a file for reading, error if the file does not exist\n",
        "    - \"a\" - Append - Opens a file for appending, creates the file if it does not exist\n",
        "    - \"w\" - Write - Opens a file for writing, creates the file if it does not exist\n",
        "    - \"x\" - Create - Creates the specified file, returns an error if the file exists\n",
        "\n",
        "- files can be used in a binary or text mode\n",
        "\n",
        "    - \"t\" - Text - Default value. Text mode\n",
        "    - \"b\" - Binary - Binary mode (e.g. images)"
      ]
    },
    {
      "cell_type": "code",
      "metadata": {
        "id": "xEbqa95ArXlE",
        "outputId": "41e962da-272b-4e1e-9314-181c3ed34fed",
        "colab": {
          "base_uri": "https://localhost:8080/"
        }
      },
      "source": [
        "# In order to access data on Google Drive, you need to mount the drive to access it's content\n",
        "\n",
        "from google.colab import drive\n",
        "drive.mount('/content/drive')\n"
      ],
      "execution_count": 4,
      "outputs": [
        {
          "output_type": "stream",
          "text": [
            "Drive already mounted at /content/drive; to attempt to forcibly remount, call drive.mount(\"/content/drive\", force_remount=True).\n"
          ],
          "name": "stdout"
        }
      ]
    },
    {
      "cell_type": "code",
      "metadata": {
        "id": "zqk6rO37oC_g",
        "outputId": "cadb6337-10be-4e46-8869-197db2e53426",
        "colab": {
          "base_uri": "https://localhost:8080/"
        }
      },
      "source": [
        "# Open and read text file\n",
        "\n",
        "f = open('/content/drive/My Drive/Python+for+Financial+Analysis+-+Course+Package/Part 1. Python Programming Fundamentals/sample_text_file.txt','r')\n",
        "print(f.read())\n"
      ],
      "execution_count": 5,
      "outputs": [
        {
          "output_type": "stream",
          "text": [
            "I am learning python now!\n",
            "It is super fun to learn Python programming \n",
            "I am learning how to handle files in python!This is a new line that I added to the file!\n"
          ],
          "name": "stdout"
        }
      ]
    },
    {
      "cell_type": "code",
      "metadata": {
        "id": "m1596TUCoInJ",
        "outputId": "247861a6-debc-4357-fdff-8003a81c46ee",
        "colab": {
          "base_uri": "https://localhost:8080/"
        }
      },
      "source": [
        "# readline will be used to read the first line\n",
        "\n",
        "f = open('/content/drive/My Drive/Python+for+Financial+Analysis+-+Course+Package/Part 1. Python Programming Fundamentals/sample_text_file.txt','r')\n",
        "print(f.readline())\n"
      ],
      "execution_count": 6,
      "outputs": [
        {
          "output_type": "stream",
          "text": [
            "I am learning python now!\n",
            "\n"
          ],
          "name": "stdout"
        }
      ]
    },
    {
      "cell_type": "code",
      "metadata": {
        "id": "-2Y52n0UoIpX",
        "outputId": "e763c379-14e6-4664-a0aa-530df499f14f",
        "colab": {
          "base_uri": "https://localhost:8080/"
        }
      },
      "source": [
        "# You can open the file and append content to it\n",
        "\n",
        "f = open('/content/drive/My Drive/Python+for+Financial+Analysis+-+Course+Package/Part 1. Python Programming Fundamentals/sample_text_file.txt','a')\n",
        "f.write('This is a new line that I added to the file!')\n"
      ],
      "execution_count": 7,
      "outputs": [
        {
          "output_type": "execute_result",
          "data": {
            "text/plain": [
              "44"
            ]
          },
          "metadata": {
            "tags": []
          },
          "execution_count": 7
        }
      ]
    },
    {
      "cell_type": "code",
      "metadata": {
        "id": "6twyC3vfoIrU"
      },
      "source": [
        "# close the file and let's check its content\n",
        "\n",
        "f.close()"
      ],
      "execution_count": 8,
      "outputs": []
    },
    {
      "cell_type": "code",
      "metadata": {
        "id": "sEQ6zDLaoOga"
      },
      "source": [
        "# Let's open the updated file after writing new content to it\n",
        "\n",
        "with open('/content/drive/My Drive/Python+for+Financial+Analysis+-+Course+Package/Part 1. Python Programming Fundamentals/sample_text_file.txt','r') as f:\n",
        "  text_data = f.readlines()\n"
      ],
      "execution_count": 9,
      "outputs": []
    },
    {
      "cell_type": "code",
      "metadata": {
        "id": "HqnHR33noOiZ",
        "outputId": "133f40d2-5176-4e06-ad3f-3d94b82a6b49",
        "colab": {
          "base_uri": "https://localhost:8080/"
        }
      },
      "source": [
        "text_data"
      ],
      "execution_count": 10,
      "outputs": [
        {
          "output_type": "execute_result",
          "data": {
            "text/plain": [
              "['I am learning python now!\\n',\n",
              " 'It is super fun to learn Python programming \\n',\n",
              " 'I am learning how to handle files in python!This is a new line that I added to the file!This is a new line that I added to the file!']"
            ]
          },
          "metadata": {
            "tags": []
          },
          "execution_count": 10
        }
      ]
    },
    {
      "cell_type": "code",
      "metadata": {
        "id": "GJAfep33oOke",
        "outputId": "fb75de7c-74c3-4f0c-9ed6-ed77203523f6",
        "colab": {
          "base_uri": "https://localhost:8080/"
        }
      },
      "source": [
        "# split into a list of words\n",
        "\n",
        "for line in text_data:\n",
        "  words = line.split()\n",
        "  print(words)\n"
      ],
      "execution_count": 11,
      "outputs": [
        {
          "output_type": "stream",
          "text": [
            "['I', 'am', 'learning', 'python', 'now!']\n",
            "['It', 'is', 'super', 'fun', 'to', 'learn', 'Python', 'programming']\n",
            "['I', 'am', 'learning', 'how', 'to', 'handle', 'files', 'in', 'python!This', 'is', 'a', 'new', 'line', 'that', 'I', 'added', 'to', 'the', 'file!This', 'is', 'a', 'new', 'line', 'that', 'I', 'added', 'to', 'the', 'file!']\n"
          ],
          "name": "stdout"
        }
      ]
    },
    {
      "cell_type": "markdown",
      "metadata": {
        "id": "_9ihcna1v0Y9"
      },
      "source": [
        "**MINI CHALLENGE #1:**\n",
        "- **Read the file 'fruits_input.txt'**\n",
        "- **compare the text file content to the list my_fruits = [\"Apple\", \"Pepper\", \"Orange\", \"Watermelon\", \"Tomatoes\"]**\n"
      ]
    },
    {
      "cell_type": "code",
      "metadata": {
        "id": "FwqzbVBhx5Se"
      },
      "source": [
        "my_fruits = [\"Apple\", \"Pepper\", \"Orange\", \"Watermelon\", \"Tomatoes\"]\n",
        "\n",
        "with open('/content/drive/My Drive/Python+for+Financial+Analysis+-+Course+Package/Part 1. Python Programming Fundamentals/fruits_input.txt', 'r') as file:\n",
        "  all_fruits = file.readlines()\n",
        "  "
      ],
      "execution_count": 12,
      "outputs": []
    },
    {
      "cell_type": "code",
      "metadata": {
        "id": "iL0yRBfyMD6F",
        "outputId": "cca7adf6-9432-4655-e6c6-6d0bd6ae0dad",
        "colab": {
          "base_uri": "https://localhost:8080/"
        }
      },
      "source": [
        "all_fruits"
      ],
      "execution_count": 13,
      "outputs": [
        {
          "output_type": "execute_result",
          "data": {
            "text/plain": [
              "['Acai\\n',\n",
              " 'Apple\\n',\n",
              " 'Akee\\n',\n",
              " 'Apricot\\n',\n",
              " 'Avocado\\n',\n",
              " 'Banana\\n',\n",
              " 'Bilberry\\n',\n",
              " 'Blackberry\\n',\n",
              " 'Blackcurrant\\n',\n",
              " 'Black sapote\\n',\n",
              " 'Blueberry\\n',\n",
              " 'Boysenberry\\n',\n",
              " \"Buddha's hand (fingered citron)\\n\",\n",
              " 'Crab apples\\n',\n",
              " 'Currant\\n',\n",
              " 'Cherry\\n',\n",
              " 'Cherimoya (Custard Apple)\\n',\n",
              " 'Chico fruit\\n',\n",
              " 'Cloudberry\\n',\n",
              " 'Coconut\\n',\n",
              " 'Cranberry\\n',\n",
              " 'Cucumber\\n',\n",
              " 'Damson\\n',\n",
              " 'Date\\n',\n",
              " 'Dragonfruit (or Pitaya)\\n',\n",
              " 'Durian\\n',\n",
              " 'Elderberry\\n',\n",
              " 'Feijoa\\n',\n",
              " 'Fig\\n',\n",
              " 'Goji berry\\n',\n",
              " 'Gooseberry\\n',\n",
              " 'Grape\\n',\n",
              " 'Raisin\\n',\n",
              " 'Grapefruit\\n',\n",
              " 'Guava\\n',\n",
              " 'Honeyberry\\n',\n",
              " 'Huckleberry\\n',\n",
              " 'Jabuticaba\\n',\n",
              " 'Jackfruit\\n',\n",
              " 'Jambul\\n',\n",
              " 'Japanese plum\\n',\n",
              " 'Jostaberry\\n',\n",
              " 'Jujube\\n',\n",
              " 'Juniper berry\\n',\n",
              " 'Kiwano (horned melon)\\n',\n",
              " 'Kiwifruit\\n',\n",
              " 'Kumquat\\n',\n",
              " 'Lemon\\n',\n",
              " 'Lime\\n',\n",
              " 'Loquat\\n',\n",
              " 'Longan\\n',\n",
              " 'Lychee\\n',\n",
              " 'Mango\\n',\n",
              " 'Mangosteen\\n',\n",
              " 'Marionberry\\n',\n",
              " 'Melon\\n',\n",
              " 'Cantaloupe\\n',\n",
              " 'Honeydew\\n',\n",
              " 'Watermelon\\n',\n",
              " 'Miracle fruit\\n',\n",
              " 'Mulberry\\n',\n",
              " 'Nectarine\\n',\n",
              " 'Nance\\n',\n",
              " 'Olive\\n',\n",
              " 'Orange\\n',\n",
              " 'Blood orange\\n',\n",
              " 'Clementine\\n',\n",
              " 'Mandarine\\n',\n",
              " 'Tangerine\\n',\n",
              " 'Papaya\\n',\n",
              " 'Passionfruit\\n',\n",
              " 'Peach\\n',\n",
              " 'Pear\\n',\n",
              " 'Persimmon\\n',\n",
              " 'Plantain\\n',\n",
              " 'Plum\\n',\n",
              " 'Prune (dried plum)\\n',\n",
              " 'Pineapple\\n',\n",
              " 'Pineberry\\n',\n",
              " 'Plumcot (or Pluot)\\n',\n",
              " 'Pomegranate\\n',\n",
              " 'Pomelo\\n',\n",
              " 'Purple mangosteen\\n',\n",
              " 'Quince\\n',\n",
              " 'Raspberry\\n',\n",
              " 'Salmonberry\\n',\n",
              " 'Rambutan (or Mamin Chino)\\n',\n",
              " 'Redcurrant\\n',\n",
              " 'Salal berry\\n',\n",
              " 'Salak\\n',\n",
              " 'Satsuma\\n',\n",
              " 'Soursop\\n',\n",
              " 'Star apple\\n',\n",
              " 'Star fruit\\n',\n",
              " 'Strawberry\\n',\n",
              " 'Surinam cherry\\n',\n",
              " 'Tamarillo\\n',\n",
              " 'Tamarind\\n',\n",
              " 'Ugli fruit\\n',\n",
              " 'White currant\\n',\n",
              " 'White sapote\\n',\n",
              " 'Yuzu\\n',\n",
              " '\\n']"
            ]
          },
          "metadata": {
            "tags": []
          },
          "execution_count": 13
        }
      ]
    },
    {
      "cell_type": "code",
      "metadata": {
        "id": "ZMZDbtbGMD8k",
        "outputId": "810454f6-6dcb-4640-cc26-37e7f5294545",
        "colab": {
          "base_uri": "https://localhost:8080/"
        }
      },
      "source": [
        "all_fruits = [ char.rstrip('\\n') for char in all_fruits]\n",
        "all_fruits"
      ],
      "execution_count": 14,
      "outputs": [
        {
          "output_type": "execute_result",
          "data": {
            "text/plain": [
              "['Acai',\n",
              " 'Apple',\n",
              " 'Akee',\n",
              " 'Apricot',\n",
              " 'Avocado',\n",
              " 'Banana',\n",
              " 'Bilberry',\n",
              " 'Blackberry',\n",
              " 'Blackcurrant',\n",
              " 'Black sapote',\n",
              " 'Blueberry',\n",
              " 'Boysenberry',\n",
              " \"Buddha's hand (fingered citron)\",\n",
              " 'Crab apples',\n",
              " 'Currant',\n",
              " 'Cherry',\n",
              " 'Cherimoya (Custard Apple)',\n",
              " 'Chico fruit',\n",
              " 'Cloudberry',\n",
              " 'Coconut',\n",
              " 'Cranberry',\n",
              " 'Cucumber',\n",
              " 'Damson',\n",
              " 'Date',\n",
              " 'Dragonfruit (or Pitaya)',\n",
              " 'Durian',\n",
              " 'Elderberry',\n",
              " 'Feijoa',\n",
              " 'Fig',\n",
              " 'Goji berry',\n",
              " 'Gooseberry',\n",
              " 'Grape',\n",
              " 'Raisin',\n",
              " 'Grapefruit',\n",
              " 'Guava',\n",
              " 'Honeyberry',\n",
              " 'Huckleberry',\n",
              " 'Jabuticaba',\n",
              " 'Jackfruit',\n",
              " 'Jambul',\n",
              " 'Japanese plum',\n",
              " 'Jostaberry',\n",
              " 'Jujube',\n",
              " 'Juniper berry',\n",
              " 'Kiwano (horned melon)',\n",
              " 'Kiwifruit',\n",
              " 'Kumquat',\n",
              " 'Lemon',\n",
              " 'Lime',\n",
              " 'Loquat',\n",
              " 'Longan',\n",
              " 'Lychee',\n",
              " 'Mango',\n",
              " 'Mangosteen',\n",
              " 'Marionberry',\n",
              " 'Melon',\n",
              " 'Cantaloupe',\n",
              " 'Honeydew',\n",
              " 'Watermelon',\n",
              " 'Miracle fruit',\n",
              " 'Mulberry',\n",
              " 'Nectarine',\n",
              " 'Nance',\n",
              " 'Olive',\n",
              " 'Orange',\n",
              " 'Blood orange',\n",
              " 'Clementine',\n",
              " 'Mandarine',\n",
              " 'Tangerine',\n",
              " 'Papaya',\n",
              " 'Passionfruit',\n",
              " 'Peach',\n",
              " 'Pear',\n",
              " 'Persimmon',\n",
              " 'Plantain',\n",
              " 'Plum',\n",
              " 'Prune (dried plum)',\n",
              " 'Pineapple',\n",
              " 'Pineberry',\n",
              " 'Plumcot (or Pluot)',\n",
              " 'Pomegranate',\n",
              " 'Pomelo',\n",
              " 'Purple mangosteen',\n",
              " 'Quince',\n",
              " 'Raspberry',\n",
              " 'Salmonberry',\n",
              " 'Rambutan (or Mamin Chino)',\n",
              " 'Redcurrant',\n",
              " 'Salal berry',\n",
              " 'Salak',\n",
              " 'Satsuma',\n",
              " 'Soursop',\n",
              " 'Star apple',\n",
              " 'Star fruit',\n",
              " 'Strawberry',\n",
              " 'Surinam cherry',\n",
              " 'Tamarillo',\n",
              " 'Tamarind',\n",
              " 'Ugli fruit',\n",
              " 'White currant',\n",
              " 'White sapote',\n",
              " 'Yuzu',\n",
              " '']"
            ]
          },
          "metadata": {
            "tags": []
          },
          "execution_count": 14
        }
      ]
    },
    {
      "cell_type": "code",
      "metadata": {
        "id": "GSIATnQxMyFR",
        "outputId": "5c3581d6-228b-4945-b513-14f7087a4e5b",
        "colab": {
          "base_uri": "https://localhost:8080/"
        }
      },
      "source": [
        "selected_fruits = [ i  for i in all_fruits if i in my_fruits]\n",
        "selected_fruits"
      ],
      "execution_count": 15,
      "outputs": [
        {
          "output_type": "execute_result",
          "data": {
            "text/plain": [
              "['Apple', 'Watermelon', 'Orange']"
            ]
          },
          "metadata": {
            "tags": []
          },
          "execution_count": 15
        }
      ]
    },
    {
      "cell_type": "markdown",
      "metadata": {
        "id": "mVEBiOmtnCp4"
      },
      "source": [
        "# 2. CSV FILES"
      ]
    },
    {
      "cell_type": "code",
      "metadata": {
        "id": "C6-0bqrqmZS-"
      },
      "source": [
        "# you can read csv files using \"csv.reader\"\n",
        "import csv\n",
        "\n",
        "with open('/content/drive/My Drive/Python+for+Financial+Analysis+-+Course+Package/Part 1. Python Programming Fundamentals/sample_csv_file.csv') as f:\n",
        "  readCSV = csv.reader(f, delimiter = ',')\n",
        "  data = list(readCSV)\n"
      ],
      "execution_count": 17,
      "outputs": []
    },
    {
      "cell_type": "code",
      "metadata": {
        "id": "JlyWKV6fmng9",
        "outputId": "f226f88d-533e-429a-b1e9-8f933bf7ef59",
        "colab": {
          "base_uri": "https://localhost:8080/"
        }
      },
      "source": [
        "# Let's view the data\n",
        "\n",
        "data"
      ],
      "execution_count": 18,
      "outputs": [
        {
          "output_type": "execute_result",
          "data": {
            "text/plain": [
              "[['first', ' last', ' email', ' postal', ' gender', ' dollar'],\n",
              " ['Joseph', 'Patton', 'daafeja@boh.jm', 'M6U 5U7', 'Male', '$2,629.13 '],\n",
              " ['Noah', 'Moran', 'guutodi@bigwoc.kw', 'K2D 4M9', 'Male', '$8,626.96 '],\n",
              " ['Nina', 'Keller', 'azikez@gahew.mr', 'S1T 4E6', 'Male', '$9,072.02 ']]"
            ]
          },
          "metadata": {
            "tags": []
          },
          "execution_count": 18
        }
      ]
    },
    {
      "cell_type": "code",
      "metadata": {
        "id": "SuYdDHQpnZxL",
        "outputId": "108f1e4c-dddc-4cac-afed-69a799cf49c6",
        "colab": {
          "base_uri": "https://localhost:8080/"
        }
      },
      "source": [
        "# Let's view the first row\n",
        "\n",
        "data[0]"
      ],
      "execution_count": 19,
      "outputs": [
        {
          "output_type": "execute_result",
          "data": {
            "text/plain": [
              "['first', ' last', ' email', ' postal', ' gender', ' dollar']"
            ]
          },
          "metadata": {
            "tags": []
          },
          "execution_count": 19
        }
      ]
    },
    {
      "cell_type": "code",
      "metadata": {
        "id": "iPiq2lkMnbjW",
        "outputId": "10793376-427c-48c0-f0d9-624580a10324",
        "colab": {
          "base_uri": "https://localhost:8080/"
        }
      },
      "source": [
        "# Let's view the second row\n",
        "\n",
        "data[1]"
      ],
      "execution_count": 20,
      "outputs": [
        {
          "output_type": "execute_result",
          "data": {
            "text/plain": [
              "['Joseph', 'Patton', 'daafeja@boh.jm', 'M6U 5U7', 'Male', '$2,629.13 ']"
            ]
          },
          "metadata": {
            "tags": []
          },
          "execution_count": 20
        }
      ]
    },
    {
      "cell_type": "code",
      "metadata": {
        "id": "1EbBeptqm1XY"
      },
      "source": [
        "# Combine first and last names together to generate full_name\n",
        "\n",
        "full_name = []\n",
        "\n",
        "for row in data[1:4]:\n",
        "  full_name.append(row[0]+ \" \"+row[1])\n",
        "\n",
        "\n"
      ],
      "execution_count": 23,
      "outputs": []
    },
    {
      "cell_type": "code",
      "metadata": {
        "id": "gD3H86PLm3FO",
        "outputId": "ac9d07ed-a5f8-416a-98ec-634ad5e87af5",
        "colab": {
          "base_uri": "https://localhost:8080/"
        }
      },
      "source": [
        "full_name"
      ],
      "execution_count": 24,
      "outputs": [
        {
          "output_type": "execute_result",
          "data": {
            "text/plain": [
              "['Joseph Patton', 'Noah Moran', 'Nina Keller']"
            ]
          },
          "metadata": {
            "tags": []
          },
          "execution_count": 24
        }
      ]
    },
    {
      "cell_type": "code",
      "metadata": {
        "id": "cjLRTZfcm5_I"
      },
      "source": [
        "dollar = []\n",
        "\n",
        "for row in data[1:4]:\n",
        "  dollar.append(row[5])"
      ],
      "execution_count": 25,
      "outputs": []
    },
    {
      "cell_type": "code",
      "metadata": {
        "id": "wTXefzJAm6Wv",
        "outputId": "ecf1045e-b724-4b5b-a20b-a4e37c72dddc",
        "colab": {
          "base_uri": "https://localhost:8080/"
        }
      },
      "source": [
        "dollar"
      ],
      "execution_count": 26,
      "outputs": [
        {
          "output_type": "execute_result",
          "data": {
            "text/plain": [
              "['$2,629.13 ', '$8,626.96 ', '$9,072.02 ']"
            ]
          },
          "metadata": {
            "tags": []
          },
          "execution_count": 26
        }
      ]
    },
    {
      "cell_type": "markdown",
      "metadata": {
        "id": "fxYxNeqJxEmR"
      },
      "source": [
        "**MINI CHALLENGE #2:**\n",
        "- **Read the CSV file entitled \"S&P500_Stock_data.csv\" and print out the heading**\n",
        "- **Print out the first 5 rows of data**\n"
      ]
    },
    {
      "cell_type": "code",
      "metadata": {
        "id": "yzmHo9AHxhff"
      },
      "source": [
        ""
      ],
      "execution_count": null,
      "outputs": []
    },
    {
      "cell_type": "code",
      "metadata": {
        "id": "5gflv-5oQSQg"
      },
      "source": [
        ""
      ],
      "execution_count": null,
      "outputs": []
    },
    {
      "cell_type": "code",
      "metadata": {
        "id": "um4wsztKQSSx"
      },
      "source": [
        ""
      ],
      "execution_count": null,
      "outputs": []
    },
    {
      "cell_type": "code",
      "metadata": {
        "id": "AvkJGqpPQSOi"
      },
      "source": [
        ""
      ],
      "execution_count": null,
      "outputs": []
    },
    {
      "cell_type": "code",
      "metadata": {
        "id": "HGXN70DvQt7k"
      },
      "source": [
        ""
      ],
      "execution_count": null,
      "outputs": []
    },
    {
      "cell_type": "markdown",
      "metadata": {
        "id": "1YIpbzx8wrYj"
      },
      "source": [
        "# EXCELLENT JOB!"
      ]
    },
    {
      "cell_type": "markdown",
      "metadata": {
        "id": "JOWd-_I8xlze"
      },
      "source": [
        "# MINI CHALLENGE SOLUTIONS:\n"
      ]
    },
    {
      "cell_type": "markdown",
      "metadata": {
        "id": "PiBxzSjVxr4u"
      },
      "source": [
        "**MINI CHALLENGE #1:**\n",
        "- **Read the file 'fruits_input.txt'**\n",
        "- **compare the text file content to the list my_fruits = [\"Apple\", \"Pepper\", \"Orange\", \"Watermelon\", \"Tomatoes\"]**"
      ]
    },
    {
      "cell_type": "code",
      "metadata": {
        "id": "45oMJBA2xvC5"
      },
      "source": [
        "my_fruits = [\"Apple\", \"Pepper\", \"Orange\", \"Watermelon\", \"Tomatoes\"]\n",
        "\n",
        "with open(\"/content/drive/My Drive/Colab Notebooks/Python & ML in Finance/Part 1. Python Programming Fundamentals/fruits_input.txt\", \"r\") as file:\n",
        "    all_fruits = file.readlines()\n",
        "\n",
        "all_fruits = [char.rstrip('\\n') for char in all_fruits]\n",
        "Selected_fruits = [i for i in all_fruits if i in my_fruits]\n",
        "\n",
        "print(Selected_fruits)\n"
      ],
      "execution_count": null,
      "outputs": []
    },
    {
      "cell_type": "markdown",
      "metadata": {
        "id": "E-Ab25tzxuQU"
      },
      "source": [
        "**MINI CHALLENGE #2:**\n",
        "- **Read the CSV file entitled \"S&P500_Stock_data.csv\" and print out the heading**\n",
        "- **Print out the first 5 rows of data**"
      ]
    },
    {
      "cell_type": "code",
      "metadata": {
        "id": "RKGDASZTxVYK"
      },
      "source": [
        "import csv\n",
        "with open(\"/content/drive/My Drive/Colab Notebooks/Python & ML in Finance/Part 1. Python Programming Fundamentals/S&P500_Stock_Data.csv\", \"r\") as csvfile:\n",
        "    readCSV = csv.reader(csvfile, delimiter=',')\n",
        "    stock = list(readCSV)\n",
        "    "
      ],
      "execution_count": null,
      "outputs": []
    },
    {
      "cell_type": "code",
      "metadata": {
        "id": "f38DGWN6xXz7"
      },
      "source": [
        "print(stock)"
      ],
      "execution_count": null,
      "outputs": []
    },
    {
      "cell_type": "code",
      "metadata": {
        "id": "H6wfbUS4xX2Y"
      },
      "source": [
        "print(stock[0])"
      ],
      "execution_count": null,
      "outputs": []
    },
    {
      "cell_type": "code",
      "metadata": {
        "id": "vPW5JHLExaJG"
      },
      "source": [
        "selected = []\n",
        "for row in stock[1:6]:\n",
        "    selected.append(row)"
      ],
      "execution_count": null,
      "outputs": []
    },
    {
      "cell_type": "code",
      "metadata": {
        "id": "X7R2RDmkxaLQ"
      },
      "source": [
        "selected"
      ],
      "execution_count": null,
      "outputs": []
    },
    {
      "cell_type": "code",
      "metadata": {
        "id": "yfrWoZwxwojy"
      },
      "source": [
        ""
      ],
      "execution_count": null,
      "outputs": []
    }
  ]
}
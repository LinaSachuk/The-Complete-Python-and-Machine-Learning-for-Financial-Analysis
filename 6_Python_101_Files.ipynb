{
  "nbformat": 4,
  "nbformat_minor": 0,
  "metadata": {
    "colab": {
      "name": "6. Python 101 - Files.ipynb",
      "provenance": [],
      "collapsed_sections": [],
      "include_colab_link": true
    },
    "kernelspec": {
      "name": "python3",
      "display_name": "Python 3"
    }
  },
  "cells": [
    {
      "cell_type": "markdown",
      "metadata": {
        "id": "view-in-github",
        "colab_type": "text"
      },
      "source": [
        "<a href=\"https://colab.research.google.com/github/LinaSachuk/The-Complete-Python-and-Machine-Learning-for-Financial-Analysis/blob/master/6_Python_101_Files.ipynb\" target=\"_parent\"><img src=\"https://colab.research.google.com/assets/colab-badge.svg\" alt=\"Open In Colab\"/></a>"
      ]
    },
    {
      "cell_type": "markdown",
      "metadata": {
        "id": "iLfi8gKMoAd6"
      },
      "source": [
        "# 1. TEXT FILES"
      ]
    },
    {
      "cell_type": "markdown",
      "metadata": {
        "id": "r2IjrNQmoFxC"
      },
      "source": [
        "- open() is the key function to handle files \n",
        "- open() function takes two parameters: (1) filename (2) mode.\n",
        "- Modes for files opening: \n",
        "\n",
        "    - \"r\" - Read - Default value. Opens a file for reading, error if the file does not exist\n",
        "    - \"a\" - Append - Opens a file for appending, creates the file if it does not exist\n",
        "    - \"w\" - Write - Opens a file for writing, creates the file if it does not exist\n",
        "    - \"x\" - Create - Creates the specified file, returns an error if the file exists\n",
        "\n",
        "- files can be used in a binary or text mode\n",
        "\n",
        "    - \"t\" - Text - Default value. Text mode\n",
        "    - \"b\" - Binary - Binary mode (e.g. images)"
      ]
    },
    {
      "cell_type": "code",
      "metadata": {
        "id": "xEbqa95ArXlE",
        "outputId": "e70ea19a-3c0f-4042-99ab-27d8180dd973",
        "colab": {
          "base_uri": "https://localhost:8080/"
        }
      },
      "source": [
        "# In order to access data on Google Drive, you need to mount the drive to access it's content\n",
        "\n",
        "from google.colab import drive\n",
        "drive.mount('/content/drive')\n"
      ],
      "execution_count": 1,
      "outputs": [
        {
          "output_type": "stream",
          "text": [
            "Mounted at /content/drive\n"
          ],
          "name": "stdout"
        }
      ]
    },
    {
      "cell_type": "code",
      "metadata": {
        "id": "zqk6rO37oC_g",
        "outputId": "da015555-0589-4808-c99a-633c4a1326f1",
        "colab": {
          "base_uri": "https://localhost:8080/"
        }
      },
      "source": [
        "# Open and read text file\n",
        "\n",
        "f = open('/content/drive/My Drive/Python+for+Financial+Analysis+-+Course+Package/Part 1. Python Programming Fundamentals/sample_text_file.txt','r')\n",
        "print(f.read())\n"
      ],
      "execution_count": 3,
      "outputs": [
        {
          "output_type": "stream",
          "text": [
            "I am learning python now!\n",
            "It is super fun to learn Python programming \n",
            "I am learning how to handle files in python!\n"
          ],
          "name": "stdout"
        }
      ]
    },
    {
      "cell_type": "code",
      "metadata": {
        "id": "m1596TUCoInJ",
        "outputId": "6a53f1e2-0e27-4e27-9820-c5b0fa8c395c",
        "colab": {
          "base_uri": "https://localhost:8080/"
        }
      },
      "source": [
        "# readline will be used to read the first line\n",
        "\n",
        "f = open('/content/drive/My Drive/Python+for+Financial+Analysis+-+Course+Package/Part 1. Python Programming Fundamentals/sample_text_file.txt','r')\n",
        "print(f.readline())\n"
      ],
      "execution_count": 4,
      "outputs": [
        {
          "output_type": "stream",
          "text": [
            "I am learning python now!\n",
            "\n"
          ],
          "name": "stdout"
        }
      ]
    },
    {
      "cell_type": "code",
      "metadata": {
        "id": "-2Y52n0UoIpX",
        "outputId": "05c57a1d-929d-46b3-e2d6-b571f191cd4a",
        "colab": {
          "base_uri": "https://localhost:8080/"
        }
      },
      "source": [
        "# You can open the file and append content to it\n",
        "\n",
        "f = open('/content/drive/My Drive/Python+for+Financial+Analysis+-+Course+Package/Part 1. Python Programming Fundamentals/sample_text_file.txt','a')\n",
        "f.write('This is a new line that I added to the file!')\n"
      ],
      "execution_count": 5,
      "outputs": [
        {
          "output_type": "execute_result",
          "data": {
            "text/plain": [
              "44"
            ]
          },
          "metadata": {
            "tags": []
          },
          "execution_count": 5
        }
      ]
    },
    {
      "cell_type": "code",
      "metadata": {
        "id": "6twyC3vfoIrU"
      },
      "source": [
        "# close the file and let's check its content\n",
        "\n",
        "f.close()"
      ],
      "execution_count": 6,
      "outputs": []
    },
    {
      "cell_type": "code",
      "metadata": {
        "id": "sEQ6zDLaoOga"
      },
      "source": [
        "# Let's open the updated file after writing new content to it\n",
        "\n",
        "with open('/content/drive/My Drive/Python+for+Financial+Analysis+-+Course+Package/Part 1. Python Programming Fundamentals/sample_text_file.txt','r') as f:\n",
        "  text_data = f.readlines()\n"
      ],
      "execution_count": 7,
      "outputs": []
    },
    {
      "cell_type": "code",
      "metadata": {
        "id": "HqnHR33noOiZ",
        "outputId": "d5903a32-05c5-41f3-fdca-1a263aad1630",
        "colab": {
          "base_uri": "https://localhost:8080/"
        }
      },
      "source": [
        "text_data"
      ],
      "execution_count": 8,
      "outputs": [
        {
          "output_type": "execute_result",
          "data": {
            "text/plain": [
              "['I am learning python now!\\n',\n",
              " 'It is super fun to learn Python programming \\n',\n",
              " 'I am learning how to handle files in python!This is a new line that I added to the file!']"
            ]
          },
          "metadata": {
            "tags": []
          },
          "execution_count": 8
        }
      ]
    },
    {
      "cell_type": "code",
      "metadata": {
        "id": "GJAfep33oOke",
        "outputId": "3839da75-8cd1-47b8-bcba-d70e61663783",
        "colab": {
          "base_uri": "https://localhost:8080/"
        }
      },
      "source": [
        "# split into a list of words\n",
        "\n",
        "for line in text_data:\n",
        "  words = line.split()\n",
        "  print(words)\n"
      ],
      "execution_count": 9,
      "outputs": [
        {
          "output_type": "stream",
          "text": [
            "['I', 'am', 'learning', 'python', 'now!']\n",
            "['It', 'is', 'super', 'fun', 'to', 'learn', 'Python', 'programming']\n",
            "['I', 'am', 'learning', 'how', 'to', 'handle', 'files', 'in', 'python!This', 'is', 'a', 'new', 'line', 'that', 'I', 'added', 'to', 'the', 'file!']\n"
          ],
          "name": "stdout"
        }
      ]
    },
    {
      "cell_type": "markdown",
      "metadata": {
        "id": "_9ihcna1v0Y9"
      },
      "source": [
        "**MINI CHALLENGE #1:**\n",
        "- **Read the file 'fruits_input.txt'**\n",
        "- **compare the text file content to the list my_fruits = [\"Apple\", \"Pepper\", \"Orange\", \"Watermelon\", \"Tomatoes\"]**\n"
      ]
    },
    {
      "cell_type": "code",
      "metadata": {
        "id": "FwqzbVBhx5Se"
      },
      "source": [
        "my_fruits = [\"Apple\", \"Pepper\", \"Orange\", \"Watermelon\", \"Tomatoes\"]\n"
      ],
      "execution_count": null,
      "outputs": []
    },
    {
      "cell_type": "code",
      "metadata": {
        "id": "iL0yRBfyMD6F"
      },
      "source": [
        ""
      ],
      "execution_count": null,
      "outputs": []
    },
    {
      "cell_type": "code",
      "metadata": {
        "id": "ZMZDbtbGMD8k"
      },
      "source": [
        ""
      ],
      "execution_count": null,
      "outputs": []
    },
    {
      "cell_type": "code",
      "metadata": {
        "id": "GSIATnQxMyFR"
      },
      "source": [
        ""
      ],
      "execution_count": null,
      "outputs": []
    },
    {
      "cell_type": "markdown",
      "metadata": {
        "id": "mVEBiOmtnCp4"
      },
      "source": [
        "# 2. CSV FILES"
      ]
    },
    {
      "cell_type": "code",
      "metadata": {
        "id": "C6-0bqrqmZS-"
      },
      "source": [
        "# you can read csv files using \"csv.reader\"\n",
        "\n"
      ],
      "execution_count": null,
      "outputs": []
    },
    {
      "cell_type": "code",
      "metadata": {
        "id": "JlyWKV6fmng9"
      },
      "source": [
        "# Let's view the data\n"
      ],
      "execution_count": null,
      "outputs": []
    },
    {
      "cell_type": "code",
      "metadata": {
        "id": "SuYdDHQpnZxL"
      },
      "source": [
        "# Let's view the first row\n"
      ],
      "execution_count": null,
      "outputs": []
    },
    {
      "cell_type": "code",
      "metadata": {
        "id": "iPiq2lkMnbjW"
      },
      "source": [
        "# Let's view the second row\n"
      ],
      "execution_count": null,
      "outputs": []
    },
    {
      "cell_type": "code",
      "metadata": {
        "id": "1EbBeptqm1XY"
      },
      "source": [
        "# Combine first and last names together to generate full_name\n"
      ],
      "execution_count": null,
      "outputs": []
    },
    {
      "cell_type": "code",
      "metadata": {
        "id": "gD3H86PLm3FO"
      },
      "source": [
        ""
      ],
      "execution_count": null,
      "outputs": []
    },
    {
      "cell_type": "code",
      "metadata": {
        "id": "cjLRTZfcm5_I"
      },
      "source": [
        ""
      ],
      "execution_count": null,
      "outputs": []
    },
    {
      "cell_type": "code",
      "metadata": {
        "id": "wTXefzJAm6Wv"
      },
      "source": [
        ""
      ],
      "execution_count": null,
      "outputs": []
    },
    {
      "cell_type": "markdown",
      "metadata": {
        "id": "fxYxNeqJxEmR"
      },
      "source": [
        "**MINI CHALLENGE #2:**\n",
        "- **Read the CSV file entitled \"S&P500_Stock_data.csv\" and print out the heading**\n",
        "- **Print out the first 5 rows of data**\n"
      ]
    },
    {
      "cell_type": "code",
      "metadata": {
        "id": "yzmHo9AHxhff"
      },
      "source": [
        ""
      ],
      "execution_count": null,
      "outputs": []
    },
    {
      "cell_type": "code",
      "metadata": {
        "id": "5gflv-5oQSQg"
      },
      "source": [
        ""
      ],
      "execution_count": null,
      "outputs": []
    },
    {
      "cell_type": "code",
      "metadata": {
        "id": "um4wsztKQSSx"
      },
      "source": [
        ""
      ],
      "execution_count": null,
      "outputs": []
    },
    {
      "cell_type": "code",
      "metadata": {
        "id": "AvkJGqpPQSOi"
      },
      "source": [
        ""
      ],
      "execution_count": null,
      "outputs": []
    },
    {
      "cell_type": "code",
      "metadata": {
        "id": "HGXN70DvQt7k"
      },
      "source": [
        ""
      ],
      "execution_count": null,
      "outputs": []
    },
    {
      "cell_type": "markdown",
      "metadata": {
        "id": "1YIpbzx8wrYj"
      },
      "source": [
        "# EXCELLENT JOB!"
      ]
    },
    {
      "cell_type": "markdown",
      "metadata": {
        "id": "JOWd-_I8xlze"
      },
      "source": [
        "# MINI CHALLENGE SOLUTIONS:\n"
      ]
    },
    {
      "cell_type": "markdown",
      "metadata": {
        "id": "PiBxzSjVxr4u"
      },
      "source": [
        "**MINI CHALLENGE #1:**\n",
        "- **Read the file 'fruits_input.txt'**\n",
        "- **compare the text file content to the list my_fruits = [\"Apple\", \"Pepper\", \"Orange\", \"Watermelon\", \"Tomatoes\"]**"
      ]
    },
    {
      "cell_type": "code",
      "metadata": {
        "id": "45oMJBA2xvC5"
      },
      "source": [
        "my_fruits = [\"Apple\", \"Pepper\", \"Orange\", \"Watermelon\", \"Tomatoes\"]\n",
        "\n",
        "with open(\"/content/drive/My Drive/Colab Notebooks/Python & ML in Finance/Part 1. Python Programming Fundamentals/fruits_input.txt\", \"r\") as file:\n",
        "    all_fruits = file.readlines()\n",
        "\n",
        "all_fruits = [char.rstrip('\\n') for char in all_fruits]\n",
        "Selected_fruits = [i for i in all_fruits if i in my_fruits]\n",
        "\n",
        "print(Selected_fruits)\n"
      ],
      "execution_count": null,
      "outputs": []
    },
    {
      "cell_type": "markdown",
      "metadata": {
        "id": "E-Ab25tzxuQU"
      },
      "source": [
        "**MINI CHALLENGE #2:**\n",
        "- **Read the CSV file entitled \"S&P500_Stock_data.csv\" and print out the heading**\n",
        "- **Print out the first 5 rows of data**"
      ]
    },
    {
      "cell_type": "code",
      "metadata": {
        "id": "RKGDASZTxVYK"
      },
      "source": [
        "import csv\n",
        "with open(\"/content/drive/My Drive/Colab Notebooks/Python & ML in Finance/Part 1. Python Programming Fundamentals/S&P500_Stock_Data.csv\", \"r\") as csvfile:\n",
        "    readCSV = csv.reader(csvfile, delimiter=',')\n",
        "    stock = list(readCSV)\n",
        "    "
      ],
      "execution_count": null,
      "outputs": []
    },
    {
      "cell_type": "code",
      "metadata": {
        "id": "f38DGWN6xXz7"
      },
      "source": [
        "print(stock)"
      ],
      "execution_count": null,
      "outputs": []
    },
    {
      "cell_type": "code",
      "metadata": {
        "id": "H6wfbUS4xX2Y"
      },
      "source": [
        "print(stock[0])"
      ],
      "execution_count": null,
      "outputs": []
    },
    {
      "cell_type": "code",
      "metadata": {
        "id": "vPW5JHLExaJG"
      },
      "source": [
        "selected = []\n",
        "for row in stock[1:6]:\n",
        "    selected.append(row)"
      ],
      "execution_count": null,
      "outputs": []
    },
    {
      "cell_type": "code",
      "metadata": {
        "id": "X7R2RDmkxaLQ"
      },
      "source": [
        "selected"
      ],
      "execution_count": null,
      "outputs": []
    },
    {
      "cell_type": "code",
      "metadata": {
        "id": "yfrWoZwxwojy"
      },
      "source": [
        ""
      ],
      "execution_count": null,
      "outputs": []
    }
  ]
}
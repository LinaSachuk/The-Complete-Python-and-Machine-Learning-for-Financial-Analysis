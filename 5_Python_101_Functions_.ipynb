{
  "nbformat": 4,
  "nbformat_minor": 0,
  "metadata": {
    "colab": {
      "name": "5. Python 101 - Functions .ipynb",
      "provenance": [],
      "collapsed_sections": [],
      "include_colab_link": true
    },
    "kernelspec": {
      "name": "python3",
      "display_name": "Python 3"
    }
  },
  "cells": [
    {
      "cell_type": "markdown",
      "metadata": {
        "id": "view-in-github",
        "colab_type": "text"
      },
      "source": [
        "<a href=\"https://colab.research.google.com/github/LinaSachuk/The-Complete-Python-and-Machine-Learning-for-Financial-Analysis/blob/master/5_Python_101_Functions_.ipynb\" target=\"_parent\"><img src=\"https://colab.research.google.com/assets/colab-badge.svg\" alt=\"Open In Colab\"/></a>"
      ]
    },
    {
      "cell_type": "markdown",
      "metadata": {
        "id": "2qdHbV6LKCdn"
      },
      "source": [
        "# 1. BUILT-IN FUNCTIONS"
      ]
    },
    {
      "cell_type": "code",
      "metadata": {
        "id": "e027nLRtKclL"
      },
      "source": [
        "# There are many built-in functions that you can leverage directly \n",
        "# Let's define 2 lists x and y\n",
        "\n",
        "x = [4, 5, 1, 2, 8, 5]\n",
        "y = list(range(1,7))"
      ],
      "execution_count": 5,
      "outputs": []
    },
    {
      "cell_type": "code",
      "metadata": {
        "id": "B_q1ds-xKcnQ",
        "outputId": "fbd3cf71-fba8-4af7-b4c6-9a8519e81e78",
        "colab": {
          "base_uri": "https://localhost:8080/"
        }
      },
      "source": [
        "x"
      ],
      "execution_count": 6,
      "outputs": [
        {
          "output_type": "execute_result",
          "data": {
            "text/plain": [
              "[4, 5, 1, 2, 8, 5]"
            ]
          },
          "metadata": {
            "tags": []
          },
          "execution_count": 6
        }
      ]
    },
    {
      "cell_type": "code",
      "metadata": {
        "id": "wlYds_UIK3Uq",
        "outputId": "c8cbfb91-88ac-4265-e9a2-192e6b55b832",
        "colab": {
          "base_uri": "https://localhost:8080/"
        }
      },
      "source": [
        "y"
      ],
      "execution_count": 7,
      "outputs": [
        {
          "output_type": "execute_result",
          "data": {
            "text/plain": [
              "[1, 2, 3, 4, 5, 6]"
            ]
          },
          "metadata": {
            "tags": []
          },
          "execution_count": 7
        }
      ]
    },
    {
      "cell_type": "code",
      "metadata": {
        "id": "sOb6YyohK3XA",
        "outputId": "c023e07e-100f-445a-c854-a9f8c4ac7b53",
        "colab": {
          "base_uri": "https://localhost:8080/"
        }
      },
      "source": [
        "# Let's obtain the length of y\n",
        "\n",
        "len(y)"
      ],
      "execution_count": 8,
      "outputs": [
        {
          "output_type": "execute_result",
          "data": {
            "text/plain": [
              "6"
            ]
          },
          "metadata": {
            "tags": []
          },
          "execution_count": 8
        }
      ]
    },
    {
      "cell_type": "code",
      "metadata": {
        "id": "E2d-scjBK3f_",
        "outputId": "bc84deff-43e0-439e-8768-41bdd35e5a69",
        "colab": {
          "base_uri": "https://localhost:8080/"
        }
      },
      "source": [
        "# Let's obtain the minimum value \n",
        "\n",
        "min(x)"
      ],
      "execution_count": 9,
      "outputs": [
        {
          "output_type": "execute_result",
          "data": {
            "text/plain": [
              "1"
            ]
          },
          "metadata": {
            "tags": []
          },
          "execution_count": 9
        }
      ]
    },
    {
      "cell_type": "code",
      "metadata": {
        "id": "MPcUuoY6K3id",
        "outputId": "400b383e-e947-4a75-a9cb-d82e52377504",
        "colab": {
          "base_uri": "https://localhost:8080/"
        }
      },
      "source": [
        "# Let's obtain the maximum value\n",
        "\n",
        "max(x)"
      ],
      "execution_count": 10,
      "outputs": [
        {
          "output_type": "execute_result",
          "data": {
            "text/plain": [
              "8"
            ]
          },
          "metadata": {
            "tags": []
          },
          "execution_count": 10
        }
      ]
    },
    {
      "cell_type": "code",
      "metadata": {
        "id": "oo4EvfwgK3nQ"
      },
      "source": [
        "# Let's create a tuple out of the list\n",
        "\n",
        "z = tuple(x)"
      ],
      "execution_count": 11,
      "outputs": []
    },
    {
      "cell_type": "code",
      "metadata": {
        "id": "gbcSW9n5Lrf0",
        "outputId": "c4c057db-96be-4e45-edcb-3fd117f96280",
        "colab": {
          "base_uri": "https://localhost:8080/"
        }
      },
      "source": [
        "z"
      ],
      "execution_count": 12,
      "outputs": [
        {
          "output_type": "execute_result",
          "data": {
            "text/plain": [
              "(4, 5, 1, 2, 8, 5)"
            ]
          },
          "metadata": {
            "tags": []
          },
          "execution_count": 12
        }
      ]
    },
    {
      "cell_type": "code",
      "metadata": {
        "id": "S-BLWy_AK3lL",
        "outputId": "0f870d9e-33c1-4d72-b2e0-940e93f1e3cb",
        "colab": {
          "base_uri": "https://localhost:8080/"
        }
      },
      "source": [
        "type(z)"
      ],
      "execution_count": 13,
      "outputs": [
        {
          "output_type": "execute_result",
          "data": {
            "text/plain": [
              "tuple"
            ]
          },
          "metadata": {
            "tags": []
          },
          "execution_count": 13
        }
      ]
    },
    {
      "cell_type": "code",
      "metadata": {
        "id": "NYVetBn-Kcpk",
        "outputId": "87ba666e-fa4f-4bac-9c48-29f3dba1e0af",
        "colab": {
          "base_uri": "https://localhost:8080/"
        }
      },
      "source": [
        "# Let's obtain the sum of elements in x\n",
        "\n",
        "sum(x)"
      ],
      "execution_count": 14,
      "outputs": [
        {
          "output_type": "execute_result",
          "data": {
            "text/plain": [
              "25"
            ]
          },
          "metadata": {
            "tags": []
          },
          "execution_count": 14
        }
      ]
    },
    {
      "cell_type": "markdown",
      "metadata": {
        "id": "CvaYA-XocFOc"
      },
      "source": [
        "**MINI CHALLENGE #1:**\n",
        "- **Write a code that takes in 2 lists x = [-1 -4 -7] and y = [-3 7 4] and  calculates the absolute sum of all its elements |x+y|**\n"
      ]
    },
    {
      "cell_type": "code",
      "metadata": {
        "id": "DMYqI7CBekNI",
        "outputId": "4aaa104e-755a-4ae7-992c-528de461fe63",
        "colab": {
          "base_uri": "https://localhost:8080/"
        }
      },
      "source": [
        "x = [-1, -4, -7]\n",
        "y = [-3, 7, 4]\n",
        "\n",
        "\n",
        "z = abs(sum(x+y))\n",
        "z"
      ],
      "execution_count": 17,
      "outputs": [
        {
          "output_type": "execute_result",
          "data": {
            "text/plain": [
              "4"
            ]
          },
          "metadata": {
            "tags": []
          },
          "execution_count": 17
        }
      ]
    },
    {
      "cell_type": "markdown",
      "metadata": {
        "id": "AHrwK11xMArY"
      },
      "source": [
        "# 2. FUNCTIONS"
      ]
    },
    {
      "cell_type": "code",
      "metadata": {
        "id": "LhhFvM60MGrX"
      },
      "source": [
        "# Let's define a function named \"my_function\" that does not receive any arguments\n",
        "# The function simply prints out content and does not return anything\n",
        "\n",
        "def my_function():\n",
        "  print(\"Hello world!\")\n"
      ],
      "execution_count": 21,
      "outputs": []
    },
    {
      "cell_type": "code",
      "metadata": {
        "id": "-jJdkGlGMGwE",
        "outputId": "f07301fa-bae3-4b82-8acc-0be238c918c8",
        "colab": {
          "base_uri": "https://localhost:8080/"
        }
      },
      "source": [
        "# Function call\n",
        "\n",
        "my_function()"
      ],
      "execution_count": 22,
      "outputs": [
        {
          "output_type": "stream",
          "text": [
            "Hello world!\n"
          ],
          "name": "stdout"
        }
      ]
    },
    {
      "cell_type": "code",
      "metadata": {
        "id": "OSVyOu91MGuW"
      },
      "source": [
        "# Define a function that takes in argument x and return the squared value \n",
        "\n",
        "def squared(x):\n",
        "  return x**2\n"
      ],
      "execution_count": 24,
      "outputs": []
    },
    {
      "cell_type": "code",
      "metadata": {
        "id": "NVPrMz2_MPz1",
        "outputId": "d1b01f68-ea78-4c21-d2bf-e55580c04b60",
        "colab": {
          "base_uri": "https://localhost:8080/"
        }
      },
      "source": [
        "# Call the function\n",
        "\n",
        "squared(5)"
      ],
      "execution_count": 25,
      "outputs": [
        {
          "output_type": "execute_result",
          "data": {
            "text/plain": [
              "25"
            ]
          },
          "metadata": {
            "tags": []
          },
          "execution_count": 25
        }
      ]
    },
    {
      "cell_type": "code",
      "metadata": {
        "id": "6ET-hFiSMPxi",
        "outputId": "48a2b2cf-4301-4df9-a33e-e5861b53ca92",
        "colab": {
          "base_uri": "https://localhost:8080/"
        }
      },
      "source": [
        "# Define a function with default value \n",
        "\n",
        "def squared(x = 3):\n",
        "  return x ** 2\n",
        "\n",
        "squared()\n"
      ],
      "execution_count": 27,
      "outputs": [
        {
          "output_type": "execute_result",
          "data": {
            "text/plain": [
              "9"
            ]
          },
          "metadata": {
            "tags": []
          },
          "execution_count": 27
        }
      ]
    },
    {
      "cell_type": "code",
      "metadata": {
        "id": "-tiaDshNM48J",
        "outputId": "5ba61737-1ad4-43c6-99b2-d501e2b18089",
        "colab": {
          "base_uri": "https://localhost:8080/"
        }
      },
      "source": [
        "# If you pass an argument to the function, it overwrites the default value \n",
        "\n",
        "squared(9)"
      ],
      "execution_count": 28,
      "outputs": [
        {
          "output_type": "execute_result",
          "data": {
            "text/plain": [
              "81"
            ]
          },
          "metadata": {
            "tags": []
          },
          "execution_count": 28
        }
      ]
    },
    {
      "cell_type": "markdown",
      "metadata": {
        "id": "DB1zlBEEfDlA"
      },
      "source": [
        "**MINI CHALLENGE #2:** \n",
        "- **Write a code that takes in two inputs (number of shares and prices) from the user and calculate the total account balance**"
      ]
    },
    {
      "cell_type": "code",
      "metadata": {
        "id": "s7fbv5eApK97"
      },
      "source": [
        "\n",
        "def total(units, price):\n",
        "  amount = units * price\n",
        "  return amount\n",
        "\n"
      ],
      "execution_count": 29,
      "outputs": []
    },
    {
      "cell_type": "code",
      "metadata": {
        "id": "qOeh1TiHrBjZ",
        "outputId": "f3e61f8a-c2be-45a7-a643-f3a50edd7133",
        "colab": {
          "base_uri": "https://localhost:8080/"
        }
      },
      "source": [
        "number_of_shares = int(input('Enter the number of shares: '))\n",
        "price = int(input('Enter the price'))\n",
        "\n",
        "total(number_of_shares, price)"
      ],
      "execution_count": 30,
      "outputs": [
        {
          "output_type": "stream",
          "text": [
            "Enter the number of shares: 10\n",
            "Enter the price230\n"
          ],
          "name": "stdout"
        },
        {
          "output_type": "execute_result",
          "data": {
            "text/plain": [
              "2300"
            ]
          },
          "metadata": {
            "tags": []
          },
          "execution_count": 30
        }
      ]
    },
    {
      "cell_type": "markdown",
      "metadata": {
        "id": "lBj4QkQEpLkX"
      },
      "source": [
        "# 3. LAMBDA EXPRESSIONS "
      ]
    },
    {
      "cell_type": "code",
      "metadata": {
        "id": "YtkjNLEypRTb"
      },
      "source": [
        "# Lambda function is used to create a function without a name \n",
        "# Lambda functions are mainly used with filter() and map() [they will be discussed later on]. \n",
        "# Lambda function can receive any number of arguments, but can only have one expression."
      ],
      "execution_count": null,
      "outputs": []
    },
    {
      "cell_type": "code",
      "metadata": {
        "id": "FV5-hEWdpRdd"
      },
      "source": [
        "# let's see how to create a basic function that squares the input\n",
        "\n",
        "def my_function(x):\n",
        "  return x**2"
      ],
      "execution_count": 31,
      "outputs": []
    },
    {
      "cell_type": "code",
      "metadata": {
        "id": "cQZDrvwCpRa3",
        "outputId": "0aaa0425-265a-416f-abf2-5ed118c1dddb",
        "colab": {
          "base_uri": "https://localhost:8080/"
        }
      },
      "source": [
        "# Function call\n",
        "\n",
        "my_function(3)"
      ],
      "execution_count": 32,
      "outputs": [
        {
          "output_type": "execute_result",
          "data": {
            "text/plain": [
              "9"
            ]
          },
          "metadata": {
            "tags": []
          },
          "execution_count": 32
        }
      ]
    },
    {
      "cell_type": "code",
      "metadata": {
        "id": "r5u0-IOBpRZq"
      },
      "source": [
        "# We can do the same task using Lambda expression\n",
        "# Note that there is no function name\n",
        "\n",
        "y = lambda x: x**2\n"
      ],
      "execution_count": 33,
      "outputs": []
    },
    {
      "cell_type": "code",
      "metadata": {
        "id": "hLsuWg7apRW9",
        "outputId": "981668b5-a341-4956-a38b-9a3f5fc75012",
        "colab": {
          "base_uri": "https://localhost:8080/"
        }
      },
      "source": [
        "y(5)"
      ],
      "execution_count": 34,
      "outputs": [
        {
          "output_type": "execute_result",
          "data": {
            "text/plain": [
              "25"
            ]
          },
          "metadata": {
            "tags": []
          },
          "execution_count": 34
        }
      ]
    },
    {
      "cell_type": "code",
      "metadata": {
        "id": "OKcE7JHBuzTj"
      },
      "source": [
        "# Note that lambda expression can take in more than one argument \n",
        "# there is only one expression that could be performed\n",
        "\n",
        "def summation(x,y,z):\n",
        "  return x+y+z"
      ],
      "execution_count": 35,
      "outputs": []
    },
    {
      "cell_type": "code",
      "metadata": {
        "id": "VyEdRTwXuzQ4",
        "outputId": "5d2dc87e-6aea-41c1-9085-fb3890c7cea3",
        "colab": {
          "base_uri": "https://localhost:8080/"
        }
      },
      "source": [
        "summation(1,2,3)"
      ],
      "execution_count": 36,
      "outputs": [
        {
          "output_type": "execute_result",
          "data": {
            "text/plain": [
              "6"
            ]
          },
          "metadata": {
            "tags": []
          },
          "execution_count": 36
        }
      ]
    },
    {
      "cell_type": "code",
      "metadata": {
        "id": "kAuNql-zuzPE"
      },
      "source": [
        "result = lambda x,y,z: x+y+z"
      ],
      "execution_count": 37,
      "outputs": []
    },
    {
      "cell_type": "code",
      "metadata": {
        "id": "8PfLE79Lvuvg",
        "outputId": "cff67df8-c5b6-44ea-cda7-304864d8fac8",
        "colab": {
          "base_uri": "https://localhost:8080/"
        }
      },
      "source": [
        "result(1,2,3)"
      ],
      "execution_count": 38,
      "outputs": [
        {
          "output_type": "execute_result",
          "data": {
            "text/plain": [
              "6"
            ]
          },
          "metadata": {
            "tags": []
          },
          "execution_count": 38
        }
      ]
    },
    {
      "cell_type": "markdown",
      "metadata": {
        "id": "KTRBKK97fQGG"
      },
      "source": [
        "**MINI CHALLENGE #3:**\n",
        "- **Repeat mini challenge #2 (Write a code that takes in two inputs from the user and calculates the total) using lambda expressions instead**"
      ]
    },
    {
      "cell_type": "code",
      "metadata": {
        "id": "jz5bvTOmuHhG",
        "outputId": "c4eec14b-9c02-4929-de23-c006f722a557",
        "colab": {
          "base_uri": "https://localhost:8080/"
        }
      },
      "source": [
        "result = lambda units, price: units * price\n",
        "\n",
        "number_of_shares = int(input('Enter the number of shares: '))\n",
        "price = int(input('Enter the price'))\n",
        "\n",
        "result(number_of_shares, price)"
      ],
      "execution_count": 41,
      "outputs": [
        {
          "output_type": "stream",
          "text": [
            "Enter the number of shares: 34\n",
            "Enter the price200\n"
          ],
          "name": "stdout"
        },
        {
          "output_type": "execute_result",
          "data": {
            "text/plain": [
              "6800"
            ]
          },
          "metadata": {
            "tags": []
          },
          "execution_count": 41
        }
      ]
    },
    {
      "cell_type": "markdown",
      "metadata": {
        "id": "S8pekOcjKF6H"
      },
      "source": [
        "# 4. MAP "
      ]
    },
    {
      "cell_type": "code",
      "metadata": {
        "id": "-zx6IFX7KdKi"
      },
      "source": [
        "# The map() function takes in a function and a list.\n",
        "# map() performs an operation on the entire list and return the results in a new list.\n",
        "# Define two lists a and b\n",
        "\n",
        "a = [1, 2, 3, 4, 5]\n",
        "b = [1, 7, 9, 13, 6]\n"
      ],
      "execution_count": 43,
      "outputs": []
    },
    {
      "cell_type": "code",
      "metadata": {
        "id": "l4AEJ33iih46"
      },
      "source": [
        "# Let's define a function that adds two elements together\n",
        "\n",
        "def summation(a, b):\n",
        "  return a+b\n"
      ],
      "execution_count": 49,
      "outputs": []
    },
    {
      "cell_type": "code",
      "metadata": {
        "id": "8ZEm6BjIKdQ7",
        "outputId": "bab76958-c3da-4024-b177-9032269073be",
        "colab": {
          "base_uri": "https://localhost:8080/"
        }
      },
      "source": [
        "# You can now use map() to apply a function to the entire list and generate a new list\n",
        "\n",
        "c = list(map(summation, a, b))\n",
        "c"
      ],
      "execution_count": 50,
      "outputs": [
        {
          "output_type": "execute_result",
          "data": {
            "text/plain": [
              "[2, 9, 12, 17, 11]"
            ]
          },
          "metadata": {
            "tags": []
          },
          "execution_count": 50
        }
      ]
    },
    {
      "cell_type": "code",
      "metadata": {
        "id": "pc6LxQQFKdM2",
        "outputId": "df50babb-1001-4571-ebcd-dcc07029ae15",
        "colab": {
          "base_uri": "https://localhost:8080/"
        }
      },
      "source": [
        "# map could be used with Lambda as follows\n",
        "# lambda function is an anonymous function that take any number of arguments and can only have one expression\n",
        "\n",
        "input_list = [1, 2, 3, 4]\n",
        "\n",
        "out_list = list(map(lambda x: x ** 2, input_list))\n",
        "out_list"
      ],
      "execution_count": 52,
      "outputs": [
        {
          "output_type": "execute_result",
          "data": {
            "text/plain": [
              "[1, 4, 9, 16]"
            ]
          },
          "metadata": {
            "tags": []
          },
          "execution_count": 52
        }
      ]
    },
    {
      "cell_type": "markdown",
      "metadata": {
        "id": "Dj4Wcbr1gLo8"
      },
      "source": [
        "**MINI CHALLENGE #4:**\n",
        "- **Write a function that takes an argument and return its cubic value**\n",
        "- **Define a list of integers ranging from -10 to 10** \n",
        "- **Apply the function to the entire list and generate a new output list** \n"
      ]
    },
    {
      "cell_type": "code",
      "metadata": {
        "id": "pqXiuFVxvU18",
        "outputId": "254fa6aa-e540-4bac-da91-1ecad6fd98ab",
        "colab": {
          "base_uri": "https://localhost:8080/"
        }
      },
      "source": [
        "def cubic(x):\n",
        "  return x ** 3\n",
        "\n",
        "my_list = list(range(-10, 11))\n",
        "print(my_list)\n",
        "\n",
        "out_list = list(map(lambda x: cubic(x), my_list))\n",
        "print(out_list)"
      ],
      "execution_count": 59,
      "outputs": [
        {
          "output_type": "stream",
          "text": [
            "[-10, -9, -8, -7, -6, -5, -4, -3, -2, -1, 0, 1, 2, 3, 4, 5, 6, 7, 8, 9, 10]\n",
            "[-1000, -729, -512, -343, -216, -125, -64, -27, -8, -1, 0, 1, 8, 27, 64, 125, 216, 343, 512, 729, 1000]\n"
          ],
          "name": "stdout"
        }
      ]
    },
    {
      "cell_type": "markdown",
      "metadata": {
        "id": "BtAxpyeGKGA1"
      },
      "source": [
        "# 5. FILTER\n"
      ]
    },
    {
      "cell_type": "code",
      "metadata": {
        "id": "D5LVa00JKdz0",
        "outputId": "0b37afea-2ada-4a86-8aa2-8664c48eb14e",
        "colab": {
          "base_uri": "https://localhost:8080/"
        }
      },
      "source": [
        "# filter is used to create a list of elements for which a function returns \"True\".\n",
        "\n",
        "prices = [34, 36, 105, 598, 553, 225, 900]\n",
        "prices"
      ],
      "execution_count": 63,
      "outputs": [
        {
          "output_type": "execute_result",
          "data": {
            "text/plain": [
              "[34, 36, 105, 598, 553, 225, 900]"
            ]
          },
          "metadata": {
            "tags": []
          },
          "execution_count": 63
        }
      ]
    },
    {
      "cell_type": "code",
      "metadata": {
        "id": "cgQq4hlcKd4A",
        "outputId": "0859b5a8-9499-477d-c587-bfa12468ba82",
        "colab": {
          "base_uri": "https://localhost:8080/"
        }
      },
      "source": [
        "# return only even numbers\n",
        "\n",
        "out = list(filter( lambda x: (x % 2 == 0), prices))\n",
        "out"
      ],
      "execution_count": 64,
      "outputs": [
        {
          "output_type": "execute_result",
          "data": {
            "text/plain": [
              "[34, 36, 598, 900]"
            ]
          },
          "metadata": {
            "tags": []
          },
          "execution_count": 64
        }
      ]
    },
    {
      "cell_type": "code",
      "metadata": {
        "id": "shory4UpKd2Y",
        "outputId": "a3a536ed-37f0-4d01-bf4e-ad22307d943e",
        "colab": {
          "base_uri": "https://localhost:8080/"
        }
      },
      "source": [
        "# Return prices that are greater than or equal 100\n",
        "\n",
        "out = list( filter( lambda x: (x >= 100), prices))\n",
        "out"
      ],
      "execution_count": 65,
      "outputs": [
        {
          "output_type": "execute_result",
          "data": {
            "text/plain": [
              "[105, 598, 553, 225, 900]"
            ]
          },
          "metadata": {
            "tags": []
          },
          "execution_count": 65
        }
      ]
    },
    {
      "cell_type": "code",
      "metadata": {
        "id": "uQi17-h_hlSf",
        "outputId": "9f261f8d-ac73-4ddf-9c8d-7effcad6f63b",
        "colab": {
          "base_uri": "https://localhost:8080/"
        }
      },
      "source": [
        "# Return age between 200 and 250\n",
        "\n",
        "out = list( filter( lambda x: (x >= 200 and x<=250), prices))\n",
        "out"
      ],
      "execution_count": 66,
      "outputs": [
        {
          "output_type": "execute_result",
          "data": {
            "text/plain": [
              "[225]"
            ]
          },
          "metadata": {
            "tags": []
          },
          "execution_count": 66
        }
      ]
    },
    {
      "cell_type": "markdown",
      "metadata": {
        "id": "JZIiCmyvh7EW"
      },
      "source": [
        "**MINI CHALLENGE #5:**\n",
        "- **Write a code from the user that takes in a range (upper and lower bounds) and returns a list of positive and even numbers only** \n"
      ]
    },
    {
      "cell_type": "code",
      "metadata": {
        "id": "4JDq7Y04ve0S",
        "outputId": "43b2fdf7-1f07-4238-dae1-606d81a9c260",
        "colab": {
          "base_uri": "https://localhost:8080/"
        }
      },
      "source": [
        "min = int(input('Enter a number (lower bound) *must be negative* '))\n",
        "max = int(input(\"Enter a number (upper bound) \"))\n",
        "\n",
        "my_list = range(min, max)\n",
        "my_list\n",
        "\n",
        "even_grater_than_zero = list( filter( lambda x: (x>0 and x%2 == 0), my_list))\n",
        "even_grater_than_zero"
      ],
      "execution_count": 69,
      "outputs": [
        {
          "output_type": "stream",
          "text": [
            "Enter a number (lower bound) *must be negative* -12\n",
            "Enter a number (upper bound) 6\n"
          ],
          "name": "stdout"
        },
        {
          "output_type": "execute_result",
          "data": {
            "text/plain": [
              "[2, 4]"
            ]
          },
          "metadata": {
            "tags": []
          },
          "execution_count": 69
        }
      ]
    },
    {
      "cell_type": "markdown",
      "metadata": {
        "id": "BTLG7E2YeYIu"
      },
      "source": [
        "# MINI CHALLENGE SOLUTIONS"
      ]
    },
    {
      "cell_type": "markdown",
      "metadata": {
        "id": "Sr6wSsDGecLe"
      },
      "source": [
        "**MINI CHALLENGE #1 SOLUTION:**\n",
        "- **Write a code that takes in 2 lists x = [-1 -4 -7] and y = [-3 7 4] and  calculates the absolute sum of all its elements |x+y|**"
      ]
    },
    {
      "cell_type": "code",
      "metadata": {
        "id": "Ytdw0BKxKFRx",
        "outputId": "60213af7-fbf9-4732-df56-c6263267ef27",
        "colab": {
          "base_uri": "https://localhost:8080/",
          "height": 34
        }
      },
      "source": [
        "x = [-1, -4, -7]\n",
        "y = [-3, 7, 4]\n",
        "z = abs(sum(x+y))\n",
        "z"
      ],
      "execution_count": null,
      "outputs": [
        {
          "output_type": "execute_result",
          "data": {
            "text/plain": [
              "4"
            ]
          },
          "metadata": {
            "tags": []
          },
          "execution_count": 11
        }
      ]
    },
    {
      "cell_type": "markdown",
      "metadata": {
        "id": "YAh_RlMreu3V"
      },
      "source": [
        "**MINI CHALLENGE #2: SOLUTION** \n",
        "- **Write a code that takes in two inputs (number of units and prices) from the user and calculate the total account balance**"
      ]
    },
    {
      "cell_type": "code",
      "metadata": {
        "id": "7zwqjcIresGA"
      },
      "source": [
        "def total(units, price):\n",
        "    amount = units * price\n",
        "    return(amount)"
      ],
      "execution_count": null,
      "outputs": []
    },
    {
      "cell_type": "code",
      "metadata": {
        "id": "MjKWBisLet6b",
        "outputId": "65db3176-bed8-4829-f208-559309835034",
        "colab": {
          "base_uri": "https://localhost:8080/",
          "height": 67
        }
      },
      "source": [
        "num_shares = int(input(\"Enter the number of shares: \"))\n",
        "price = int(input(\"Enter the price per share: \"))\n",
        "account_balance = total(num_shares, price)\n",
        "\n",
        "print('Total account balance = {}'.format(account_balance))"
      ],
      "execution_count": null,
      "outputs": [
        {
          "output_type": "stream",
          "text": [
            "Enter the number of shares: 80\n",
            "Enter the price per share: 5\n",
            "Total account balance = 400\n"
          ],
          "name": "stdout"
        }
      ]
    },
    {
      "cell_type": "markdown",
      "metadata": {
        "id": "fCXG1j3qfipT"
      },
      "source": [
        "**MINI CHALLENGE #3 SOLUTION**\n",
        "- **Repeat mini challenge #2 (Write a code that takes in two inputs from the user and calculates the total) using lambda expressions instead**"
      ]
    },
    {
      "cell_type": "code",
      "metadata": {
        "id": "oYBrDfsTe-pI",
        "outputId": "cf9c2c4b-4710-4c88-8171-bd14e57b55d9",
        "colab": {
          "base_uri": "https://localhost:8080/",
          "height": 67
        }
      },
      "source": [
        "num_shares = int(input(\"Enter the number of shares: \"))\n",
        "price = int(input(\"Enter the price per share: \"))\n",
        "\n",
        "account_balance = lambda num_shares, price : num_shares * price\n",
        "print('Total = {}'.format(account_balance(num_shares, price)))\n"
      ],
      "execution_count": null,
      "outputs": [
        {
          "output_type": "stream",
          "text": [
            "Enter the number of shares: 80\n",
            "Enter the price per share: 5\n",
            "Total = 400\n"
          ],
          "name": "stdout"
        }
      ]
    },
    {
      "cell_type": "markdown",
      "metadata": {
        "id": "sAkiC9hYhHgX"
      },
      "source": [
        "**MINI CHALLENGE #4 SOLUTION:**\n",
        "- **Write a function that takes an argument and return its cubic value**\n",
        "- **Define a list of integers ranging from -10 to 10** \n",
        "- **Apply the function to the entire list and generate a new output list** "
      ]
    },
    {
      "cell_type": "code",
      "metadata": {
        "id": "hw2O6o4XhDLN"
      },
      "source": [
        "def cubic(x):\n",
        "    return (x*x*x)\n",
        "\n",
        "numbers = range(-10, 11)\n",
        "numbers_cubed = list(map(lambda x: cubic(x), numbers))\n",
        "print(list(numbers))\n",
        "print(numbers_cubed)"
      ],
      "execution_count": null,
      "outputs": []
    },
    {
      "cell_type": "markdown",
      "metadata": {
        "id": "WafFpX3zifYK"
      },
      "source": [
        "**MINI CHALLENGE #5 SOLUTION:**\n",
        "- **Write a code from the user that takes in a range (upper and lower bounds) and returns a list of positive and even numbers only** \n"
      ]
    },
    {
      "cell_type": "code",
      "metadata": {
        "id": "jbTis2cBib1x"
      },
      "source": [
        "min = int(input(\"Enter a number (lower bound) *must be negative* : \"))\n",
        "max = int(input(\"Enter a number (Upper bound:) \"))\n",
        "\n",
        "numbers = range(min, max)\n",
        "even_greater_than_zero = list(filter(lambda x: (x > 0 and x%2 == 0), numbers))\n",
        "print(even_greater_than_zero)\n"
      ],
      "execution_count": null,
      "outputs": []
    }
  ]
}
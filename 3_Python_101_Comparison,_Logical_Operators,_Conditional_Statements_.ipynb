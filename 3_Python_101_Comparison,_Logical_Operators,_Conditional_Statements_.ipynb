{
  "nbformat": 4,
  "nbformat_minor": 0,
  "metadata": {
    "colab": {
      "name": "3. Python 101 - Comparison, Logical Operators, Conditional Statements .ipynb",
      "provenance": [],
      "collapsed_sections": [],
      "include_colab_link": true
    },
    "kernelspec": {
      "name": "python3",
      "display_name": "Python 3"
    }
  },
  "cells": [
    {
      "cell_type": "markdown",
      "metadata": {
        "id": "view-in-github",
        "colab_type": "text"
      },
      "source": [
        "<a href=\"https://colab.research.google.com/github/LinaSachuk/The-Complete-Python-and-Machine-Learning-for-Financial-Analysis/blob/master/3_Python_101_Comparison%2C_Logical_Operators%2C_Conditional_Statements_.ipynb\" target=\"_parent\"><img src=\"https://colab.research.google.com/assets/colab-badge.svg\" alt=\"Open In Colab\"/></a>"
      ]
    },
    {
      "cell_type": "markdown",
      "metadata": {
        "id": "CV9YCHsGtAP5"
      },
      "source": [
        "# 1. COMPARISON OPERATORS\n"
      ]
    },
    {
      "cell_type": "code",
      "metadata": {
        "id": "o9VtOcrKtCc1",
        "outputId": "4df88eb3-efe6-4392-c7f9-491683a90d91",
        "colab": {
          "base_uri": "https://localhost:8080/"
        }
      },
      "source": [
        "# Comparison Operator output could be \"True\" or \"False\"\n",
        "# Let's cover equal '==' comparison operator first\n",
        "# It's simply a question: \"Is stock_1_price equals stock_2_price or not?\"\n",
        "# \"True\" output means condition is satisfied \n",
        "# \"False\" output means Condition is not satisfied (condition is not true) \n",
        "\n",
        "stock_1_price = 1000\n",
        "stock_2_price = 1000\n",
        "\n",
        "stock_1_price == stock_2_price\n"
      ],
      "execution_count": 2,
      "outputs": [
        {
          "output_type": "execute_result",
          "data": {
            "text/plain": [
              "True"
            ]
          },
          "metadata": {
            "tags": []
          },
          "execution_count": 2
        }
      ]
    },
    {
      "cell_type": "code",
      "metadata": {
        "id": "l48NWuCztX5G",
        "outputId": "203e1e8d-7df1-42af-e32f-87020bae5d18",
        "colab": {
          "base_uri": "https://localhost:8080/"
        }
      },
      "source": [
        "# Greater than or equal operator '>='\n",
        "\n",
        "stock_1_price >= stock_2_price"
      ],
      "execution_count": 3,
      "outputs": [
        {
          "output_type": "execute_result",
          "data": {
            "text/plain": [
              "True"
            ]
          },
          "metadata": {
            "tags": []
          },
          "execution_count": 3
        }
      ]
    },
    {
      "cell_type": "code",
      "metadata": {
        "id": "RmUrcn31tY0_"
      },
      "source": [
        "# Note that '==' is a comparison operator \n",
        "# Note that '=' is used for variable assignment (put 10 in stock_1_price)\n",
        "\n",
        "stock_1_price = 10"
      ],
      "execution_count": 4,
      "outputs": []
    },
    {
      "cell_type": "code",
      "metadata": {
        "id": "TttdgxEPtY3z",
        "outputId": "9c33ac73-4cb2-4503-fd4f-276bfd08f844",
        "colab": {
          "base_uri": "https://localhost:8080/"
        }
      },
      "source": [
        "stock_1_price"
      ],
      "execution_count": 5,
      "outputs": [
        {
          "output_type": "execute_result",
          "data": {
            "text/plain": [
              "10"
            ]
          },
          "metadata": {
            "tags": []
          },
          "execution_count": 5
        }
      ]
    },
    {
      "cell_type": "code",
      "metadata": {
        "id": "9fvPnQePtY9K",
        "outputId": "2364d974-c36c-47c1-eed3-6016bfee3aee",
        "colab": {
          "base_uri": "https://localhost:8080/"
        }
      },
      "source": [
        "# Comparison operators work with strings as well\n",
        "\n",
        "'hello' == 'Hello'"
      ],
      "execution_count": 6,
      "outputs": [
        {
          "output_type": "execute_result",
          "data": {
            "text/plain": [
              "False"
            ]
          },
          "metadata": {
            "tags": []
          },
          "execution_count": 6
        }
      ]
    },
    {
      "cell_type": "code",
      "metadata": {
        "id": "krIE9oTdtj-Q",
        "outputId": "c9db9e4b-902f-45d4-a8c9-e0d05c2e8bcb",
        "colab": {
          "base_uri": "https://localhost:8080/",
          "height": 34
        }
      },
      "source": [
        "# Both strings have to exactly match (lower case vs. upper case)\n"
      ],
      "execution_count": null,
      "outputs": [
        {
          "output_type": "execute_result",
          "data": {
            "text/plain": [
              "False"
            ]
          },
          "metadata": {
            "tags": []
          },
          "execution_count": 11
        }
      ]
    },
    {
      "cell_type": "code",
      "metadata": {
        "id": "WI6k596Xtlcc",
        "outputId": "03e254fd-cfb6-4e2e-d510-a856fc46c3df",
        "colab": {
          "base_uri": "https://localhost:8080/"
        }
      },
      "source": [
        "# Not equal comparison operator '!='\n",
        "\n",
        "'hello' != 'Hello'"
      ],
      "execution_count": 7,
      "outputs": [
        {
          "output_type": "execute_result",
          "data": {
            "text/plain": [
              "True"
            ]
          },
          "metadata": {
            "tags": []
          },
          "execution_count": 7
        }
      ]
    },
    {
      "cell_type": "markdown",
      "metadata": {
        "id": "eNyKRJob4Xlo"
      },
      "source": [
        "**MINI CHALLENGE #1:**\n",
        "- **Without executing the code cell, What will this code generate?**\n",
        "\n",
        "```\n",
        "stock_1_price = 15\n",
        "stock_2_price = 10\n",
        "\n",
        "print(stock_1_price == stock_2_price) \n",
        "print(stock_1_price != stock_2_price) \n",
        "print(stock_1_price > stock_2_price)\n",
        "print(stock_1_price < stock_2_price) \n",
        "```\n"
      ]
    },
    {
      "cell_type": "code",
      "metadata": {
        "id": "-vRyMcIhlVPg",
        "outputId": "3b92391b-aff0-4b25-dbbf-cad880f0341f",
        "colab": {
          "base_uri": "https://localhost:8080/"
        }
      },
      "source": [
        "stock_1_price = 15\n",
        "stock_2_price = 10\n",
        " \n",
        "print(stock_1_price == stock_2_price) \n",
        "print(stock_1_price != stock_2_price) \n",
        "print(stock_1_price > stock_2_price)\n",
        "print(stock_1_price < stock_2_price) "
      ],
      "execution_count": 8,
      "outputs": [
        {
          "output_type": "stream",
          "text": [
            "False\n",
            "True\n",
            "True\n",
            "False\n"
          ],
          "name": "stdout"
        }
      ]
    },
    {
      "cell_type": "markdown",
      "metadata": {
        "id": "4ElLliXmvffI"
      },
      "source": [
        "# 2. LOGICAL OPERATORS"
      ]
    },
    {
      "cell_type": "code",
      "metadata": {
        "id": "DZ4lIrr9viXb",
        "outputId": "1cd6238d-9494-47f3-ca88-0360cd84e74c",
        "colab": {
          "base_uri": "https://localhost:8080/"
        }
      },
      "source": [
        "# For \"and\" logical operators, both arguments must be \"True\" in order for the output to be \"True\" \n",
        "# (Note that this is the only case in which the 'and' logical operator generates a True output)\n",
        "# 1 and 1 = 1\n",
        "\n",
        "1 and 1 == 1"
      ],
      "execution_count": 10,
      "outputs": [
        {
          "output_type": "execute_result",
          "data": {
            "text/plain": [
              "True"
            ]
          },
          "metadata": {
            "tags": []
          },
          "execution_count": 10
        }
      ]
    },
    {
      "cell_type": "code",
      "metadata": {
        "id": "tBllQqO2vxPe",
        "outputId": "c171dd62-ec2e-47ce-cd6a-4c3838a0d4d7",
        "colab": {
          "base_uri": "https://localhost:8080/"
        }
      },
      "source": [
        " 0 and 1 == 0\n"
      ],
      "execution_count": 13,
      "outputs": [
        {
          "output_type": "execute_result",
          "data": {
            "text/plain": [
              "0"
            ]
          },
          "metadata": {
            "tags": []
          },
          "execution_count": 13
        }
      ]
    },
    {
      "cell_type": "code",
      "metadata": {
        "id": "ebgLEPrQvy1h",
        "outputId": "b56331e0-dae7-4084-e25e-3c9ef61888a2",
        "colab": {
          "base_uri": "https://localhost:8080/"
        }
      },
      "source": [
        " 0 and 0 == 0\n"
      ],
      "execution_count": 14,
      "outputs": [
        {
          "output_type": "execute_result",
          "data": {
            "text/plain": [
              "0"
            ]
          },
          "metadata": {
            "tags": []
          },
          "execution_count": 14
        }
      ]
    },
    {
      "cell_type": "code",
      "metadata": {
        "id": "Y_FB6C6yvzqb",
        "outputId": "74a28864-988f-4045-9433-c446e455a6a6",
        "colab": {
          "base_uri": "https://localhost:8080/"
        }
      },
      "source": [
        "# For \"or\" logical operators, if any one of the arguments is \"True\", the output will be \"True\" \n",
        "\n",
        " \n",
        "1 or 1 == 1"
      ],
      "execution_count": 19,
      "outputs": [
        {
          "output_type": "execute_result",
          "data": {
            "text/plain": [
              "1"
            ]
          },
          "metadata": {
            "tags": []
          },
          "execution_count": 19
        }
      ]
    },
    {
      "cell_type": "code",
      "metadata": {
        "id": "kiy1MhGrvzu9",
        "outputId": "519189af-44ed-415a-f794-72f7713f0428",
        "colab": {
          "base_uri": "https://localhost:8080/"
        }
      },
      "source": [
        "1 or 0 == 1\n"
      ],
      "execution_count": 28,
      "outputs": [
        {
          "output_type": "execute_result",
          "data": {
            "text/plain": [
              "1"
            ]
          },
          "metadata": {
            "tags": []
          },
          "execution_count": 28
        }
      ]
    },
    {
      "cell_type": "code",
      "metadata": {
        "id": "S9Zo0wWovz2j",
        "outputId": "25fc0a7f-f638-438b-a416-5b0b9caf3f64",
        "colab": {
          "base_uri": "https://localhost:8080/"
        }
      },
      "source": [
        "0 or 1 == 1\n"
      ],
      "execution_count": 22,
      "outputs": [
        {
          "output_type": "execute_result",
          "data": {
            "text/plain": [
              "True"
            ]
          },
          "metadata": {
            "tags": []
          },
          "execution_count": 22
        }
      ]
    },
    {
      "cell_type": "code",
      "metadata": {
        "id": "Tu1BB3FAvz8-",
        "outputId": "8f73432d-b0ef-465c-a5da-abf5779d3425",
        "colab": {
          "base_uri": "https://localhost:8080/"
        }
      },
      "source": [
        "# 0 or 0 = 0 (Note that this is the only case in which the 'or' logical operator generates a False output)\n",
        "\n",
        "False or False"
      ],
      "execution_count": 29,
      "outputs": [
        {
          "output_type": "execute_result",
          "data": {
            "text/plain": [
              "False"
            ]
          },
          "metadata": {
            "tags": []
          },
          "execution_count": 29
        }
      ]
    },
    {
      "cell_type": "code",
      "metadata": {
        "id": "KC9ArCvsvz7J",
        "outputId": "9c032a3b-18fc-4c08-90e3-7419bd4a543f",
        "colab": {
          "base_uri": "https://localhost:8080/"
        }
      },
      "source": [
        " True and False == False \n"
      ],
      "execution_count": 26,
      "outputs": [
        {
          "output_type": "execute_result",
          "data": {
            "text/plain": [
              "True"
            ]
          },
          "metadata": {
            "tags": []
          },
          "execution_count": 26
        }
      ]
    },
    {
      "cell_type": "code",
      "metadata": {
        "id": "1kVyRF3Avz5V",
        "outputId": "e19373a3-eb1a-43f3-ead9-d3240e348823",
        "colab": {
          "base_uri": "https://localhost:8080/"
        }
      },
      "source": [
        " True or False == True\n"
      ],
      "execution_count": 30,
      "outputs": [
        {
          "output_type": "execute_result",
          "data": {
            "text/plain": [
              "True"
            ]
          },
          "metadata": {
            "tags": []
          },
          "execution_count": 30
        }
      ]
    },
    {
      "cell_type": "markdown",
      "metadata": {
        "id": "vjvXsd7ezN4y"
      },
      "source": [
        "**MINI CHALLENGE #2:**\n",
        "- **Without executing the code cell, What will these two lines of code generate?**\n",
        "\n",
        "```\n",
        "print('FINANCE'!='FINANCE' and (10 > 3) and (20 == 20)) \n",
        "```\n",
        "\n",
        "```\n",
        "print('Finance'!='FINANCE' or (16 > 20) or (25 == 25)) \n",
        "```\n"
      ]
    },
    {
      "cell_type": "code",
      "metadata": {
        "id": "4u7cWLq15VZt",
        "outputId": "e00f255a-8f0d-4175-98e0-990667e088c7",
        "colab": {
          "base_uri": "https://localhost:8080/"
        }
      },
      "source": [
        "print('FINANCE'!='FINANCE' and (10 > 3) and (20 == 20)) \n",
        "print('Finance'!='FINANCE' or (16 > 20) or (25 == 25)) "
      ],
      "execution_count": 32,
      "outputs": [
        {
          "output_type": "stream",
          "text": [
            "False\n",
            "True\n"
          ],
          "name": "stdout"
        }
      ]
    },
    {
      "cell_type": "markdown",
      "metadata": {
        "id": "GVMXs0iZ0xJp"
      },
      "source": [
        "**MINI CHALLENGE #3:**\n",
        "- **Without executing the code cell, What will these two lines of code generate?**\n",
        "\n",
        "```\n",
        "a = 5\n",
        "b = 3.5\n",
        "\n",
        "print(a == b or a != b) \n",
        "print(a == b and a != b) \n",
        "```\n",
        "\n"
      ]
    },
    {
      "cell_type": "code",
      "metadata": {
        "id": "xA9pXas-5WJB",
        "outputId": "590dcf6b-fc2d-41c2-f642-0ab9c2b1d35d",
        "colab": {
          "base_uri": "https://localhost:8080/"
        }
      },
      "source": [
        "a = 5\n",
        "b = 3.5\n",
        " \n",
        "print(a == b or a != b) \n",
        "print(a == b and a != b) "
      ],
      "execution_count": 33,
      "outputs": [
        {
          "output_type": "stream",
          "text": [
            "True\n",
            "False\n"
          ],
          "name": "stdout"
        }
      ]
    },
    {
      "cell_type": "markdown",
      "metadata": {
        "id": "STR2UADaxtHC"
      },
      "source": [
        "# 3. CONDITIONAL STATEMENTS"
      ]
    },
    {
      "cell_type": "markdown",
      "metadata": {
        "id": "owrJExRxX--G"
      },
      "source": [
        "- A simple if-else statement is written in Python as follows:\n",
        "\n",
        "```\n",
        "if condition:\n",
        "  statement #1\n",
        "else:\n",
        "  statement #2\n",
        "```\n",
        "\n",
        "- If the condition is true, execute the first indented statement\n",
        "- if the condition is not true, then execute the else indented statements. \n",
        "- Note that Python uses indentation (whitespace) to indicate code sections and scope."
      ]
    },
    {
      "cell_type": "code",
      "metadata": {
        "id": "9iiHeyl_xvte",
        "outputId": "8d604b1b-5f8b-4a01-ef40-5fb0ae935d33",
        "colab": {
          "base_uri": "https://localhost:8080/"
        }
      },
      "source": [
        "if 10 > 9 :\n",
        "  print('If condition is True')\n",
        "else:\n",
        "  print(\"If condition is False\")"
      ],
      "execution_count": 35,
      "outputs": [
        {
          "output_type": "stream",
          "text": [
            "If condition is True\n"
          ],
          "name": "stdout"
        }
      ]
    },
    {
      "cell_type": "code",
      "metadata": {
        "id": "M05mmLIWxzCP",
        "outputId": "ffeae5e5-8533-4da8-d2f1-e65f6e2ca35f",
        "colab": {
          "base_uri": "https://localhost:8080/"
        }
      },
      "source": [
        "if 10 > 19 :\n",
        "  print('If condition is True')\n",
        "else:\n",
        "  print(\"If condition is False\")"
      ],
      "execution_count": 36,
      "outputs": [
        {
          "output_type": "stream",
          "text": [
            "If condition is False\n"
          ],
          "name": "stdout"
        }
      ]
    },
    {
      "cell_type": "code",
      "metadata": {
        "id": "4i8g3ORFxzFn",
        "outputId": "8f41e0c7-024b-4aa3-c07e-00f403888803",
        "colab": {
          "base_uri": "https://localhost:8080/"
        }
      },
      "source": [
        "if 5 == 10:\n",
        "  print('If condition is True')\n",
        "else:\n",
        "  print(\"If condition is False\")"
      ],
      "execution_count": 37,
      "outputs": [
        {
          "output_type": "stream",
          "text": [
            "If condition is False\n"
          ],
          "name": "stdout"
        }
      ]
    },
    {
      "cell_type": "code",
      "metadata": {
        "id": "cZKbXTtVxzAG",
        "outputId": "96dee135-8179-457a-fee7-e81b9f455fda",
        "colab": {
          "base_uri": "https://localhost:8080/"
        }
      },
      "source": [
        "if 10 > 19 :\n",
        "  print('If condition1 is True')\n",
        "elif 20 ==21:\n",
        "  print(\"If condition2 is True\")\n",
        "else:\n",
        "  print(\"Last statement is True\")"
      ],
      "execution_count": 39,
      "outputs": [
        {
          "output_type": "stream",
          "text": [
            "Last statement is True\n"
          ],
          "name": "stdout"
        }
      ]
    },
    {
      "cell_type": "code",
      "metadata": {
        "id": "qXCMo76Wxy95",
        "outputId": "fc1a176c-f7e0-41eb-a390-265739e84dd6",
        "colab": {
          "base_uri": "https://localhost:8080/"
        }
      },
      "source": [
        "# Let's take an input from the user and grant or deny access accordingly\n",
        "\n",
        "user_name = str(input('Enter your username: '))\n",
        "if user_name == 'Ryan':\n",
        "  print('Access granted')\n",
        "else:\n",
        "  print(\"Access denied.\")"
      ],
      "execution_count": 41,
      "outputs": [
        {
          "output_type": "stream",
          "text": [
            "Enter your username: Ryan\n",
            "Access granted\n"
          ],
          "name": "stdout"
        }
      ]
    },
    {
      "cell_type": "code",
      "metadata": {
        "id": "mgZaUUxhxy75",
        "outputId": "8e624e3f-a19f-4705-99a4-0571545f045c",
        "colab": {
          "base_uri": "https://localhost:8080/"
        }
      },
      "source": [
        "# Let's make the code more robust (case insensitive)\n",
        "\n",
        "user_name = str(input('Enter your username: '))\n",
        "if user_name.lower() == 'Ryan'.lower():\n",
        "  print('Access granted')\n",
        "else:\n",
        "  print(\"Access denied.\")\n"
      ],
      "execution_count": 43,
      "outputs": [
        {
          "output_type": "stream",
          "text": [
            "Enter your username: ryan\n",
            "Access granted\n"
          ],
          "name": "stdout"
        }
      ]
    },
    {
      "cell_type": "markdown",
      "metadata": {
        "id": "E9b_qCZ12Baz"
      },
      "source": [
        "**MINI CHALLENGE #4:**\n",
        "- **Write a code that takes a number from the user and indicates if it's positive or negative**"
      ]
    },
    {
      "cell_type": "code",
      "metadata": {
        "id": "I4-RpDvp2kHG",
        "outputId": "5438c3b5-2549-4a91-8daf-6a44cec0675a",
        "colab": {
          "base_uri": "https://localhost:8080/"
        }
      },
      "source": [
        "number = int(input('Enter your number: '))\n",
        "if number >0:\n",
        "  print(\"Positive\")\n",
        "elif number < 0:\n",
        "  print('Negative')\n",
        "else:\n",
        "  print('Number is zero')"
      ],
      "execution_count": 49,
      "outputs": [
        {
          "output_type": "stream",
          "text": [
            "Enter your number: 7\n",
            "Positive\n"
          ],
          "name": "stdout"
        }
      ]
    },
    {
      "cell_type": "markdown",
      "metadata": {
        "id": "OnJwHMUe2Ztp"
      },
      "source": [
        "**MINI CHALLENGE #5:**\n",
        "- **Write a code that takes a number from the user and checks if the number is divisible by 3 but is not a multiple of 7**"
      ]
    },
    {
      "cell_type": "code",
      "metadata": {
        "id": "KHv409N93OjP",
        "outputId": "54777416-e51b-4bf2-f1e1-7405ac182603",
        "colab": {
          "base_uri": "https://localhost:8080/"
        }
      },
      "source": [
        "number = int(input('Enter your number: '))\n",
        "if (number % 3 == 0) and (number % 7 != 0 ):\n",
        "  print('Number satisfies the requirements, number is divisible by 3 and not multiple of 7.')\n",
        "else:\n",
        "  print('Number does not satisfy the requirements.')\n"
      ],
      "execution_count": 51,
      "outputs": [
        {
          "output_type": "stream",
          "text": [
            "Enter your number: 9\n",
            "Number satisfies the requirements, number is divisible by 3 and not multiple of 7.\n"
          ],
          "name": "stdout"
        }
      ]
    },
    {
      "cell_type": "markdown",
      "metadata": {
        "id": "bMs3OKSo29_D"
      },
      "source": [
        "**MINI CHALLENGE #6:** \n",
        "- **Write a code that takes a number from the user and indicate if the number is even or odd**"
      ]
    },
    {
      "cell_type": "code",
      "metadata": {
        "id": "RaDyZQqC28Ya",
        "outputId": "818bac37-4738-477b-8d9d-b1e86b812874",
        "colab": {
          "base_uri": "https://localhost:8080/"
        }
      },
      "source": [
        "number = int(input('Enter your number: '))\n",
        "if number % 2 == 0:\n",
        "  print('Number is even')\n",
        "else:\n",
        "  print('Number is odd')"
      ],
      "execution_count": 52,
      "outputs": [
        {
          "output_type": "stream",
          "text": [
            "Enter your number: 5\n",
            "Number is odd\n"
          ],
          "name": "stdout"
        }
      ]
    },
    {
      "cell_type": "markdown",
      "metadata": {
        "id": "OHTSxeq90GFt"
      },
      "source": [
        "# MINI CHALLENGE SOLUTIONS"
      ]
    },
    {
      "cell_type": "markdown",
      "metadata": {
        "id": "_TkjGyHolLOh"
      },
      "source": [
        "**MINI CHALLENGE #1 SOLUTION:**\n",
        "- **Without executing the code cell, What will this code generate?**\n",
        "\n",
        "```\n",
        "stock_1_price = 15\n",
        "stock_2_price = 10\n",
        "\n",
        "print(stock_1_price == stock_2_price) \n",
        "print(stock_1_price != stock_2_price) \n",
        "print(stock_1_price > stock_2_price)\n",
        "print(stock_1_price < stock_2_price) \n",
        "```\n"
      ]
    },
    {
      "cell_type": "code",
      "metadata": {
        "id": "jI9I6Xv4lLOi",
        "outputId": "ce45f272-cf22-437b-db2f-54eedd5045f6",
        "colab": {
          "base_uri": "https://localhost:8080/",
          "height": 84
        }
      },
      "source": [
        "stock_1_price = 15\n",
        "stock_2_price = 10\n",
        "\n",
        "print(stock_1_price == stock_2_price) \n",
        "print(stock_1_price != stock_2_price) \n",
        "print(stock_1_price > stock_2_price)\n",
        "print(stock_1_price < stock_2_price) "
      ],
      "execution_count": null,
      "outputs": [
        {
          "output_type": "stream",
          "text": [
            "False\n",
            "True\n",
            "True\n",
            "False\n"
          ],
          "name": "stdout"
        }
      ]
    },
    {
      "cell_type": "markdown",
      "metadata": {
        "id": "vuw6vDPK0Jmd"
      },
      "source": [
        "**MINI CHALLENGE #2 SOLUTION:**\n",
        "- **Without executing the code cell, What will these two lines of code generate?**\n",
        "\n",
        "```\n",
        "print( 'Finance'!='FINANCE' and (10 > 3) and (20 == 20)) \n",
        "```\n",
        "\n",
        "```\n",
        "print( 'Finance'!='FINANCE' or (16 > 20) or (25 == 25)) \n",
        "```\n"
      ]
    },
    {
      "cell_type": "code",
      "metadata": {
        "id": "gYd-N11Y0NZC",
        "outputId": "a843dafa-d0d5-4ec4-c1a9-fc023604658a",
        "colab": {
          "base_uri": "https://localhost:8080/",
          "height": 34
        }
      },
      "source": [
        "# FALSE and TRUE and TRUE\n",
        "print('FINANCE'!='FINANCE' and (10 > 3) and (20 == 20)) "
      ],
      "execution_count": null,
      "outputs": [
        {
          "output_type": "stream",
          "text": [
            "False\n"
          ],
          "name": "stdout"
        }
      ]
    },
    {
      "cell_type": "code",
      "metadata": {
        "id": "CaWri1bQ0Pys",
        "outputId": "316520fa-847a-44b2-a027-ae71b2de898e",
        "colab": {
          "base_uri": "https://localhost:8080/",
          "height": 34
        }
      },
      "source": [
        "# TRUE or FALSE or TRUE\n",
        "print('Finance'!='FINANCE' or (16 > 20) or (25 == 25)) "
      ],
      "execution_count": null,
      "outputs": [
        {
          "output_type": "stream",
          "text": [
            "True\n"
          ],
          "name": "stdout"
        }
      ]
    },
    {
      "cell_type": "markdown",
      "metadata": {
        "id": "ckRo860a1YRo"
      },
      "source": [
        "**MINI CHALLENGE #3 SOLUTION:**\n",
        "- **Without executing the code cell, What will these two lines of code generate?**\n",
        "\n",
        "```\n",
        "a = 5\n",
        "b = 3.5\n",
        "\n",
        "print(a == b or a != b) \n",
        "print(a == b and a != b) \n",
        "```\n"
      ]
    },
    {
      "cell_type": "code",
      "metadata": {
        "id": "eFMOENhv1avh",
        "outputId": "016c2b13-1cb1-401e-8832-31258dac3a7c",
        "colab": {
          "base_uri": "https://localhost:8080/",
          "height": 50
        }
      },
      "source": [
        "a = 5\n",
        "b = 3.5\n",
        "\n",
        "print(a == b or a != b) # False or True = True \n",
        "print(a == b and a != b) # False and True = False"
      ],
      "execution_count": null,
      "outputs": [
        {
          "output_type": "stream",
          "text": [
            "True\n",
            "False\n"
          ],
          "name": "stdout"
        }
      ]
    },
    {
      "cell_type": "markdown",
      "metadata": {
        "id": "7Utj-SiU3UuK"
      },
      "source": [
        "**MINI CHALLENGE #4 SOLUTION:**\n",
        "- **Write a code that takes a number from the user and indicates if it's positive or negative or zero**"
      ]
    },
    {
      "cell_type": "code",
      "metadata": {
        "id": "JtX7pRr03Y7r",
        "outputId": "6a96004f-ee9e-4498-90cb-8e166716e890",
        "colab": {
          "base_uri": "https://localhost:8080/",
          "height": 50
        }
      },
      "source": [
        "x = int(input(\"Please enter an integer: \"))\n",
        "\n",
        "if x < 0:\n",
        "    print('Number is Negative')\n",
        "elif x > 0:\n",
        "    print('Number is Positive')\n",
        "else:    \n",
        "    print ('Number is zero')"
      ],
      "execution_count": null,
      "outputs": [
        {
          "output_type": "stream",
          "text": [
            "Please enter an integer: 9\n",
            "Number is Positive\n"
          ],
          "name": "stdout"
        }
      ]
    },
    {
      "cell_type": "markdown",
      "metadata": {
        "id": "4yvXX18Y3UuL"
      },
      "source": [
        "**MINI CHALLENGE #5 SOLUTION:**\n",
        "- **Write a code that takes a number from the user and checks if the number is divisible by 3 but is not a multiple of 7**"
      ]
    },
    {
      "cell_type": "code",
      "metadata": {
        "id": "mmyi-AFc3ZLd",
        "outputId": "58d90f3e-52d0-4c44-e9fd-7be93a43e2de",
        "colab": {
          "base_uri": "https://localhost:8080/",
          "height": 50
        }
      },
      "source": [
        "# Try 21\n",
        "\n",
        "i = int(input(\"Enter a number between 1 and 100:\"))\n",
        "\n",
        "if (i % 3 == 0) and (i % 7 !=0):\n",
        "    print(\"Number satisfies the requirement; The number is divisible by 3 and not multiple of 7\")\n",
        "else:\n",
        "    print(\"The number does not satisfy the requirements\")\n"
      ],
      "execution_count": null,
      "outputs": [
        {
          "output_type": "stream",
          "text": [
            "Enter a number between 1 and 100:21\n",
            "The number does not satisfy the requirements\n"
          ],
          "name": "stdout"
        }
      ]
    },
    {
      "cell_type": "markdown",
      "metadata": {
        "id": "Y-I6GMYA3UuM"
      },
      "source": [
        "**MINI CHALLENGE #6 SOLUTION:** \n",
        "- **Write a code that takes a number from the user and indicate if the number is even or odd**"
      ]
    },
    {
      "cell_type": "code",
      "metadata": {
        "id": "VNWzhMS03Z71",
        "outputId": "18804c8b-4b77-4b25-e79e-51c9aefa0fa9",
        "colab": {
          "base_uri": "https://localhost:8080/",
          "height": 50
        }
      },
      "source": [
        "x = int(input(\"Please enter an integer from 1 to 1000: \"))\n",
        "\n",
        "if x % 2==0:\n",
        "    print('Number is Even')\n",
        "else:\n",
        "    print('Number is odd')"
      ],
      "execution_count": null,
      "outputs": [
        {
          "output_type": "stream",
          "text": [
            "Please enter an integer from 1 to 1000: 50\n",
            "Number is Even\n"
          ],
          "name": "stdout"
        }
      ]
    }
  ]
}